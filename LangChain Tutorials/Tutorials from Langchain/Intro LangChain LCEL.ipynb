{
 "cells": [
  {
   "cell_type": "markdown",
   "id": "c6641e5aab937d1a",
   "metadata": {
    "collapsed": false
   },
   "source": [
    "# Introduction to LangChain LCEL\n",
    "### LangChain Expression Language (LCEL)\n",
    "\n",
    "Alejandro Ricciardi (Omegapy)  \n",
    "created date: 01/10/2024   \n",
    "[GitHub](https://github.com/Omegapy)  \n",
    "\n",
    "Credit: [LangChain](https://python.langchain.com/docs/expression_language/) "
   ]
  },
  {
   "cell_type": "markdown",
   "id": "b4802bbafc85fa8c",
   "metadata": {
    "collapsed": false
   },
   "source": [
    "Projects Description:  \n",
    "**LangChain** is a framework for developing applications powered by language models. It enables applications that:\n",
    "\n",
    "**In this project:**  I get started using LCEL.  \n",
    "\n",
    "<p></p>\n",
    "<b style=\"font-size:15;\">\n",
    "⚠️ This project requires an OpenAi key.\n",
    "</b>\n"
   ]
  },
  {
   "cell_type": "markdown",
   "id": "ea627a8a1b77809c",
   "metadata": {
    "collapsed": false
   },
   "source": [
    "Project map:\n",
    "- API Key\n",
    "- Getting started\n",
    "    - Basic example **```chain = prompt | model | output_parser```**\n",
    "        - Prompt (Human Message) **```prompt_value = prompt.invoke({\"topic\": \"ice cream\"})```**\n",
    "        - Model (AIMessage) **```message = model.invoke(prompt_value)```**\n",
    "                - ChatModel Output\n",
    "                - LLM Output\n",
    "        - Output parser (takes AIMessage or any string and converts it) **```output_parser.invoke(message)```**\n",
    "        - Entire Pipeline **```(prompt | model | output_parser).invoke({\"topic\": \"ice cream\"})```**\n",
    "- RAG Search **```chain = setup_and_retrieval | prompt | model | output_parser```**\n",
    "    - Example\n",
    "    - Example Explanation\n"
   ]
  },
  {
   "cell_type": "markdown",
   "id": "1b9291b67ba80e3d",
   "metadata": {
    "collapsed": false
   },
   "source": [
    "##### API Keys"
   ]
  },
  {
   "cell_type": "code",
   "execution_count": 1,
   "id": "5227e6746c0400ca",
   "metadata": {
    "ExecuteTime": {
     "end_time": "2024-01-19T00:30:30.442722200Z",
     "start_time": "2024-01-19T00:30:30.432349500Z"
    },
    "collapsed": false
   },
   "outputs": [],
   "source": [
    "import os\n",
    "from dotenv import load_dotenv,find_dotenv\n",
    "load_dotenv(find_dotenv())\n",
    "OPENAI_API_KEY = os.environ.get(\"OPEN_AI_KEY\")"
   ]
  },
  {
   "cell_type": "markdown",
   "id": "9f8a87af4746cb80",
   "metadata": {
    "collapsed": false
   },
   "source": [
    "## Getting started"
   ]
  },
  {
   "cell_type": "markdown",
   "id": "c35d5c7954c11b8d",
   "metadata": {
    "collapsed": false
   },
   "source": [
    "### Basic example: \n",
    "prompt + model + output parser"
   ]
  },
  {
   "cell_type": "code",
   "execution_count": 2,
   "id": "45d95e11e0d6b3a6",
   "metadata": {
    "ExecuteTime": {
     "end_time": "2024-01-19T00:30:30.856185700Z",
     "start_time": "2024-01-19T00:30:30.437739600Z"
    },
    "collapsed": false
   },
   "outputs": [],
   "source": [
    "from langchain_core.output_parsers import StrOutputParser #https://python.langchain.com/docs/modules/model_io/output_parsers/\n",
    "from langchain_core.prompts import ChatPromptTemplate\n",
    "from langchain_openai import ChatOpenAI"
   ]
  },
  {
   "cell_type": "code",
   "execution_count": 3,
   "id": "6bb98f8e57b0c18d",
   "metadata": {
    "ExecuteTime": {
     "end_time": "2024-01-19T00:30:32.685296700Z",
     "start_time": "2024-01-19T00:30:30.856185700Z"
    },
    "collapsed": false
   },
   "outputs": [
    {
     "data": {
      "text/plain": [
       "\"Why don't ice creams ever get invited to parties?\\n\\nBecause they always melt under pressure!\""
      ]
     },
     "execution_count": 3,
     "metadata": {},
     "output_type": "execute_result"
    }
   ],
   "source": [
    "prompt = ChatPromptTemplate.from_template(\"tell me a short joke about {topic}\")\n",
    "model = ChatOpenAI(model=\"gpt-4\")\n",
    "output_parser = StrOutputParser()\n",
    "\n",
    "chain = prompt | model | output_parser\n",
    "\n",
    "chain.invoke({\"topic\": \"ice cream\"})"
   ]
  },
  {
   "cell_type": "markdown",
   "id": "4ebcb086543c1239",
   "metadata": {
    "collapsed": false
   },
   "source": [
    " #### Prompt (Human Message)\n",
    "```prompt``` is a ```BasePromptTemplate```, which means it takes in a dictionary of template variables and produces a ```PromptValue```.   \n",
    "\n",
    "A ```PromptValue``` is a wrapper around a completed ```prompt``` that can be passed to either an ```LLM``` (which takes a string as input) or ```ChatModel``` (which takes a sequence of messages as input). \n",
    "It can work with either language model type because it defines logic both for producing BaseMessages and for producing a string."
   ]
  },
  {
   "cell_type": "code",
   "execution_count": 4,
   "id": "9a70eae173b0c034",
   "metadata": {
    "ExecuteTime": {
     "end_time": "2024-01-19T00:30:32.688600800Z",
     "start_time": "2024-01-19T00:30:32.682989100Z"
    },
    "collapsed": false
   },
   "outputs": [
    {
     "data": {
      "text/plain": [
       "ChatPromptValue(messages=[HumanMessage(content='tell me a short joke about ice cream')])"
      ]
     },
     "execution_count": 4,
     "metadata": {},
     "output_type": "execute_result"
    }
   ],
   "source": [
    "prompt_value = prompt.invoke({\"topic\": \"ice cream\"})\n",
    "prompt_value"
   ]
  },
  {
   "cell_type": "code",
   "execution_count": 5,
   "id": "796cfe4b935ded64",
   "metadata": {
    "ExecuteTime": {
     "end_time": "2024-01-19T00:30:32.700003100Z",
     "start_time": "2024-01-19T00:30:32.686607500Z"
    },
    "collapsed": false
   },
   "outputs": [
    {
     "data": {
      "text/plain": [
       "[HumanMessage(content='tell me a short joke about ice cream')]"
      ]
     },
     "execution_count": 5,
     "metadata": {},
     "output_type": "execute_result"
    }
   ],
   "source": [
    "prompt_value.to_messages()"
   ]
  },
  {
   "cell_type": "code",
   "execution_count": 6,
   "id": "eb8112bb32b94303",
   "metadata": {
    "ExecuteTime": {
     "end_time": "2024-01-19T00:30:32.838873200Z",
     "start_time": "2024-01-19T00:30:32.696015100Z"
    },
    "collapsed": false
   },
   "outputs": [
    {
     "data": {
      "text/plain": [
       "'Human: tell me a short joke about ice cream'"
      ]
     },
     "execution_count": 6,
     "metadata": {},
     "output_type": "execute_result"
    }
   ],
   "source": [
    "prompt_value.to_string()"
   ]
  },
  {
   "cell_type": "markdown",
   "id": "71dc01ecf5c75ff6",
   "metadata": {
    "collapsed": false
   },
   "source": [
    "#### Model (AIMessage)\n",
    "The ```PromptValue``` is then passed to ```model```. In this case our ```model``` is a ```ChatModel```, meaning it will output a ```BaseMessage```."
   ]
  },
  {
   "cell_type": "markdown",
   "id": "83ba2ac8e756ec2f",
   "metadata": {
    "collapsed": false
   },
   "source": [
    "##### ChatModel Output"
   ]
  },
  {
   "cell_type": "code",
   "execution_count": 7,
   "id": "b869174bc6381760",
   "metadata": {
    "ExecuteTime": {
     "end_time": "2024-01-19T00:30:34.319640200Z",
     "start_time": "2024-01-19T00:30:32.707000200Z"
    },
    "collapsed": false
   },
   "outputs": [
    {
     "data": {
      "text/plain": [
       "AIMessage(content=\"Why don't ice creams ever get in trouble?\\n\\nBecause they always stay cool!\")"
      ]
     },
     "execution_count": 7,
     "metadata": {},
     "output_type": "execute_result"
    }
   ],
   "source": [
    "message = model.invoke(prompt_value)\n",
    "message"
   ]
  },
  {
   "cell_type": "markdown",
   "id": "e24b7f7a5b52425e",
   "metadata": {
    "collapsed": false
   },
   "source": [
    "##### LLM Output"
   ]
  },
  {
   "cell_type": "code",
   "execution_count": 8,
   "id": "43a81fc85a2c8ea8",
   "metadata": {
    "ExecuteTime": {
     "end_time": "2024-01-19T00:30:35.239856500Z",
     "start_time": "2024-01-19T00:30:34.316650300Z"
    },
    "collapsed": false
   },
   "outputs": [
    {
     "data": {
      "text/plain": [
       "'\\n\\nRobot: Why did the ice cream go to the dentist? Because it had a sundae cavity!'"
      ]
     },
     "execution_count": 8,
     "metadata": {},
     "output_type": "execute_result"
    }
   ],
   "source": [
    "from langchain_openai.llms import OpenAI\n",
    "\n",
    "llm = OpenAI(model=\"gpt-3.5-turbo-instruct\")\n",
    "llm.invoke(prompt_value)"
   ]
  },
  {
   "cell_type": "markdown",
   "id": "aa27c59ad072de1",
   "metadata": {
    "collapsed": false
   },
   "source": [
    "#### Output parser (takes AIMessage or any string and converts it)\n",
    "And lastly we pass our ```model``` output to the ```output_parser```, which is a ```BaseOutputParser``` meaning it takes either a ```string``` or a ```BaseMessage``` as input. \n",
    "The ```StrOutputParser``` specifically simple converts any input into a ```string```."
   ]
  },
  {
   "cell_type": "code",
   "execution_count": 9,
   "id": "35993835db862d01",
   "metadata": {
    "ExecuteTime": {
     "end_time": "2024-01-19T00:30:35.240853100Z",
     "start_time": "2024-01-19T00:30:35.231804800Z"
    },
    "collapsed": false
   },
   "outputs": [
    {
     "data": {
      "text/plain": [
       "\"Why don't ice creams ever get in trouble?\\n\\nBecause they always stay cool!\""
      ]
     },
     "execution_count": 9,
     "metadata": {},
     "output_type": "execute_result"
    }
   ],
   "source": [
    "output_parser.invoke(message)"
   ]
  },
  {
   "cell_type": "markdown",
   "id": "f82ec572ae2dad8d",
   "metadata": {
    "collapsed": false
   },
   "source": [
    "#### Entire Pipeline\n",
    "**```(prompt | model | output_parser).invoke({\"topic\": \"ice cream\"})```**\n",
    "\n",
    "To follow the steps along:\n",
    "1. We pass in user input on the desired topic as ```{\"topic\": \"ice cream\"}```\n",
    "2. The ```prompt``` component takes the user input, which is then used to construct a ```PromptValue``` after using the ```topic``` to construct the prompt.\n",
    "3. The ```model``` component takes the generated ```prompt```, and passes into the ```OpenAI LLM model``` for evaluation. The generated output from the model is a ```ChatMessage``` object.\n",
    "4. Finally, the ```output_parser``` component takes in a ```ChatMessage```, and transforms this into a Python ```string```, which is returned from the ```invoke``` method.\n",
    "\n",
    "Note that if you’re curious about the output of any components, you can always test out a smaller version of the chain such as prompt or prompt | model to see the intermediate results:\n",
    "\n"
   ]
  },
  {
   "cell_type": "code",
   "execution_count": 10,
   "id": "be56025ac9c21bc3",
   "metadata": {
    "ExecuteTime": {
     "end_time": "2024-01-19T00:30:36.292618900Z",
     "start_time": "2024-01-19T00:30:35.234394500Z"
    },
    "collapsed": false
   },
   "outputs": [
    {
     "data": {
      "text/plain": [
       "\"Why don't ice creams ever get invited to parties?\\n\\nBecause they might have a meltdown!\""
      ]
     },
     "execution_count": 10,
     "metadata": {},
     "output_type": "execute_result"
    }
   ],
   "source": [
    "chain = prompt | model | output_parser\n",
    "\n",
    "(prompt | model | output_parser).invoke({\"topic\": \"ice cream\"})"
   ]
  },
  {
   "cell_type": "markdown",
   "id": "84305ebd3bcf7b9a",
   "metadata": {
    "collapsed": false
   },
   "source": [
    "## RAG Search"
   ]
  },
  {
   "cell_type": "markdown",
   "id": "3742569215a94c18",
   "metadata": {
    "collapsed": false
   },
   "source": [
    "### Example\n",
    "For our next example, we want to run a retrieval-augmented generation chain to add some context when responding to questions.\n",
    "\n",
    "To be error free this example requires:\n",
    "```\n",
    "pydantic==1.10.8 \n",
    "docarray==0.40.0 \n",
    "langchain docarray tiktoken\n",
    "```"
   ]
  },
  {
   "cell_type": "code",
   "execution_count": 11,
   "id": "a639ef9a297bde52",
   "metadata": {
    "ExecuteTime": {
     "end_time": "2024-01-19T00:30:36.304566600Z",
     "start_time": "2024-01-19T00:30:36.293615400Z"
    },
    "collapsed": false
   },
   "outputs": [],
   "source": [
    "from langchain_community.vectorstores import DocArrayInMemorySearch\n",
    "from langchain_core.output_parsers import StrOutputParser\n",
    "from langchain_core.prompts import ChatPromptTemplate\n",
    "from langchain_core.runnables import RunnableParallel, RunnablePassthrough\n",
    "from langchain_openai.chat_models import ChatOpenAI\n",
    "from langchain_openai.embeddings import OpenAIEmbeddings"
   ]
  },
  {
   "cell_type": "markdown",
   "id": "f49e1aefde2fce6f",
   "metadata": {
    "collapsed": false
   },
   "source": [
    "Embedding (OpenAI) - Vectorstore"
   ]
  },
  {
   "cell_type": "code",
   "execution_count": 12,
   "id": "e5bc61ab40969754",
   "metadata": {
    "ExecuteTime": {
     "end_time": "2024-01-19T00:30:37.301678400Z",
     "start_time": "2024-01-19T00:30:36.302573900Z"
    },
    "collapsed": false
   },
   "outputs": [],
   "source": [
    "vectorstore = DocArrayInMemorySearch.from_texts( # Text Doc in memory \n",
    "    [\"harrison worked at kensho\", \"bears like to eat honey\"], # Doc-text\n",
    "    embedding=OpenAIEmbeddings(), # embedding\n",
    ")\n",
    "retriever = vectorstore.as_retriever()"
   ]
  },
  {
   "cell_type": "code",
   "execution_count": 13,
   "id": "28a672a37c4a3223",
   "metadata": {
    "ExecuteTime": {
     "end_time": "2024-01-19T00:30:37.302679300Z",
     "start_time": "2024-01-19T00:30:37.300748400Z"
    },
    "collapsed": false
   },
   "outputs": [],
   "source": [
    "template = \"\"\"\n",
    "Answer the question based only on the following context: {context}\n",
    "\n",
    "Question: {question}\n",
    "\"\"\""
   ]
  },
  {
   "cell_type": "code",
   "execution_count": 14,
   "id": "d7b4d8a7336a6dfe",
   "metadata": {
    "ExecuteTime": {
     "end_time": "2024-01-19T00:30:37.642404600Z",
     "start_time": "2024-01-19T00:30:37.302679300Z"
    },
    "collapsed": false
   },
   "outputs": [],
   "source": [
    "prompt = ChatPromptTemplate.from_template(template)\n",
    "model = ChatOpenAI()\n",
    "output_parser = StrOutputParser()"
   ]
  },
  {
   "cell_type": "markdown",
   "id": "fbaa16a5a73483b",
   "metadata": {
    "collapsed": false
   },
   "source": [
    "##### RunnableParallel object"
   ]
  },
  {
   "cell_type": "code",
   "execution_count": 15,
   "id": "83aeebc5ab43f82d",
   "metadata": {
    "ExecuteTime": {
     "end_time": "2024-01-19T00:30:37.644402600Z",
     "start_time": "2024-01-19T00:30:37.640889Z"
    },
    "collapsed": false
   },
   "outputs": [],
   "source": [
    "setup_and_retrieval = RunnableParallel(\n",
    "    {\"context\": retriever, \"question\": RunnablePassthrough()}\n",
    ")"
   ]
  },
  {
   "cell_type": "code",
   "execution_count": 16,
   "id": "3d7d9e27789f71a2",
   "metadata": {
    "ExecuteTime": {
     "end_time": "2024-01-19T00:51:24.633442200Z",
     "start_time": "2024-01-19T00:51:22.502426600Z"
    },
    "collapsed": false
   },
   "outputs": [
    {
     "data": {
      "text/plain": [
       "'Harrison worked at Kensho.'"
      ]
     },
     "execution_count": 16,
     "metadata": {},
     "output_type": "execute_result"
    }
   ],
   "source": [
    "chain = setup_and_retrieval | prompt | model | output_parser\n",
    "chain.invoke(\"where did harrison work?\")"
   ]
  },
  {
   "cell_type": "markdown",
   "id": "650f582508cbff3c",
   "metadata": {
    "collapsed": false
   },
   "source": [
    "### Example Explanation\n",
    "\n",
    "To explain this, we first can see that the prompt template above takes in ``context`` and ```question``` as values to be substituted in the prompt. Before building the prompt template, we want to retrieve relevant documents to the search and include them as part of the context. \n",
    "**```setup_and_retrieval = RunnableParallel( {\"context\": retriever, \"question\": RunnablePassthrough()} )```**\n",
    "\n",
    "As a preliminary step, we’ve setup the retriever using an in memory store, which can retrieve documents based on a query. This is a runnable component as well that can be chained together with other components, but you can also try to run it separately:"
   ]
  },
  {
   "cell_type": "code",
   "execution_count": 17,
   "id": "ba306c4795f792b5",
   "metadata": {
    "ExecuteTime": {
     "end_time": "2024-01-19T00:43:04.609744700Z",
     "start_time": "2024-01-19T00:43:03.346509300Z"
    },
    "collapsed": false
   },
   "outputs": [
    {
     "data": {
      "text/plain": [
       "[Document(page_content='harrison worked at kensho'),\n",
       " Document(page_content='bears like to eat honey')]"
      ]
     },
     "execution_count": 17,
     "metadata": {},
     "output_type": "execute_result"
    }
   ],
   "source": [
    "retriever.invoke(\"where did harrison work?\")"
   ]
  },
  {
   "cell_type": "code",
   "execution_count": 18,
   "id": "3e686e882e771412",
   "metadata": {
    "ExecuteTime": {
     "end_time": "2024-01-19T00:46:10.987736400Z",
     "start_time": "2024-01-19T00:46:10.916198700Z"
    },
    "collapsed": false
   },
   "outputs": [
    {
     "data": {
      "text/plain": [
       "{\n",
       "  context: VectorStoreRetriever(tags=['DocArrayInMemorySearch'], vectorstore=<langchain_community.vectorstores.docarray.in_memory.DocArrayInMemorySearch object at 0x0000015F7CAE5580>),\n",
       "  question: RunnablePassthrough()\n",
       "}"
      ]
     },
     "execution_count": 18,
     "metadata": {},
     "output_type": "execute_result"
    }
   ],
   "source": [
    "setup_and_retrieval"
   ]
  },
  {
   "cell_type": "markdown",
   "id": "392450717f0219b6",
   "metadata": {
    "collapsed": false
   },
   "source": [
    "With the flow being:\n",
    "\n",
    "1. The first steps create a ```RunnableParallel``` object with two entries. \n",
    "- The first entry, ```context``` will include the document results fetched by the ```retriever```. \n",
    "- The second entry, question will contain the user’s original ```question```. To pass on the question, we use ```RunnablePassthrough``` to copy this entry.\n",
    "2. Feed the dictionary from the step above to the ```prompt``` component. It then takes the user input which is ```question``` as well as the ```retrieved document``` which is ```context``` to construct a prompt and output a ```PromptValue```.\n",
    "3. The ```model``` component takes the generated prompt, and passes into the ```OpenAI LLM``` model for evaluation. The generated output from the model is a ```ChatMessage``` object.\n",
    "4. Finally, the ```output_parser``` component takes in a ```ChatMessage```, and transforms this into a Python ```string```, which is returned from the invoke method."
   ]
  }
 ],
 "metadata": {
  "kernelspec": {
   "display_name": "Python 3",
   "language": "python",
   "name": "python3"
  },
  "language_info": {
   "codemirror_mode": {
    "name": "ipython",
    "version": 3
   },
   "file_extension": ".py",
   "mimetype": "text/x-python",
   "name": "python",
   "nbconvert_exporter": "python",
   "pygments_lexer": "ipython3",
   "version": "3.12.1"
  }
 },
 "nbformat": 4,
 "nbformat_minor": 5
}
