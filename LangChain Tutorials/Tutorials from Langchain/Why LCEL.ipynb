{
 "cells": [
  {
   "cell_type": "markdown",
   "source": [
    "# Why Use LCEL\n",
    "### LangChain Expression Language (LCEL)\n",
    "\n",
    "Alejandro Ricciardi (Omegapy)  \n",
    "created date: 01/10/2024   \n",
    "[GitHub](https://github.com/Omegapy)  \n",
    "\n",
    "Credit: [LangChain](https://python.langchain.com/docs/expression_language/) "
   ],
   "metadata": {
    "collapsed": false
   },
   "id": "12bad9c7fa3d1a1f"
  },
  {
   "cell_type": "markdown",
   "source": [
    "Projects Description:  \n",
    "**LangChain** is a framework for developing applications powered by language models. It enables applications that:\n",
    "\n",
    "**In this project:**  I compare using LCEL and using LangChain without LCEL.   \n",
    "LCEL makes it easier to build complex chains from basic components, and supports out of the box functionality such as streaming, parallelism, and logging\n",
    "<p></p>\n",
    "<b class=\"alert alert-block alert-info\" style=\"font-size:15;\">\n",
    "⚠️ This project requires an OpenAi key.\n",
    "</b>"
   ],
   "metadata": {
    "collapsed": false
   },
   "id": "b4026e7b25f8708e"
  },
  {
   "cell_type": "markdown",
   "source": [
    "**Why LCEL**\n",
    "\n",
    "**LangChain Expression Language**, or LCEL, is a declarative way to easily compose chains together. LCEL was designed from day 1 to **support putting prototypes in production, with no code changes,** from the simplest “prompt + LLM” chain to the most complex chains (we’ve seen folks successfully run LCEL chains with 100s of steps in production). To highlight a few of the reasons you might want to use LCEL:\n",
    "\n",
    "**Streaming support** When you build your chains with LCEL you get the best possible time-to-first-token (time elapsed until the first chunk of output comes out). For some chains this means eg. we stream tokens straight from an LLM to a streaming output parser, and you get back parsed, incremental chunks of output at the same rate as the LLM provider outputs the raw tokens.\n",
    "\n",
    "**Async support** Any chain built with LCEL can be called both with the synchronous API (eg. in your Jupyter notebook while prototyping) as well as with the asynchronous API (eg. in a [LangServe](https://python.langchain.com/docs/langsmith) server). This enables using the same code for prototypes and in production, with great performance, and the ability to handle many concurrent requests in the same server.\n",
    "\n",
    "**Optimized parallel execution** Whenever your LCEL chains have steps that can be executed in parallel (eg if you fetch documents from multiple retrievers) we automatically do it, both in the sync and the async interfaces, for the smallest possible latency.\n",
    "\n",
    "**Retries and fallbacks** Configure retries and fallbacks for any part of your LCEL chain. This is a great way to make your chains more reliable at scale. We’re currently working on adding streaming support for retries/fallbacks, so you can get the added reliability without any latency cost.\n",
    "\n",
    "**Access intermediate** results For more complex chains it’s often very useful to access the results of intermediate steps even before the final output is produced. This can be used to let end-users know something is happening, or even just to debug your chain. You can stream intermediate results, and it’s available on every [LangServe](https://python.langchain.com/docs/langsmith) server.\n",
    "\n",
    "**Input and output schemas** Input and output schemas give every LCEL chain Pydantic and JSONSchema schemas inferred from the structure of your chain. This can be used for validation of inputs and outputs, and is an integral part of LangServe.\n",
    "\n",
    "**Seamless LangSmith tracing integration** As your chains get more and more complex, it becomes increasingly important to understand what exactly is happening at every step. With LCEL, all steps are automatically logged to LangSmith for maximum observability and debuggability.\n",
    "\n",
    "**Seamless LangServe deployment integration** Any chain created with LCEL can be easily deployed using [LangServe](https://python.langchain.com/docs/langsmith).\n"
   ],
   "metadata": {
    "collapsed": false
   },
   "id": "160f1978221b051a"
  },
  {
   "cell_type": "markdown",
   "source": [
    "Project map:\n",
    "- API Key"
   ],
   "metadata": {
    "collapsed": false
   },
   "id": "4158c35cb57541ef"
  },
  {
   "cell_type": "code",
   "outputs": [],
   "source": [
    "import os\n",
    "from dotenv import load_dotenv,find_dotenv\n",
    "load_dotenv(find_dotenv())\n",
    "OPENAI_API_KEY = os.environ.get(\"OPEN_AI_KEY\")"
   ],
   "metadata": {
    "collapsed": false
   },
   "id": "e2ff73d4ffa2aea1"
  }
 ],
 "metadata": {
  "kernelspec": {
   "display_name": "Python 3",
   "language": "python",
   "name": "python3"
  },
  "language_info": {
   "codemirror_mode": {
    "name": "ipython",
    "version": 2
   },
   "file_extension": ".py",
   "mimetype": "text/x-python",
   "name": "python",
   "nbconvert_exporter": "python",
   "pygments_lexer": "ipython2",
   "version": "2.7.6"
  }
 },
 "nbformat": 4,
 "nbformat_minor": 5
}
