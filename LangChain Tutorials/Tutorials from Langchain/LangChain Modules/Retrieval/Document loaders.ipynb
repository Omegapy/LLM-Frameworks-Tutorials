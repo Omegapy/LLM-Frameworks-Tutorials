{
 "cells": [
  {
   "cell_type": "markdown",
   "source": [
    "# Document loaders\n",
    "\n",
    "---\n",
    "\n",
    "Alejandro Ricciardi (Omegapy)  \n",
    "created date: 01/23/2024   \n",
    "[GitHub](https://github.com/Omegapy)  \n",
    "\n",
    "Credit: [LangChain](https://python.langchain.com/docs/expression_language/)\n",
    "\n",
    "<br>\n",
    "\n",
    "--- "
   ],
   "metadata": {
    "collapsed": false
   },
   "id": "56c667153f33f793"
  },
  {
   "cell_type": "markdown",
   "source": [
    " \n",
    "Projects Description:  \n",
    "**LangChain** is a framework for developing applications powered by language models.  \n",
    "**In this project:** This project is a series of LangChain document loaders for LLMs tutorials on Jupyter Notebook.  \n",
    "The tutorials are a series LangChain Python code examples from the https://python.langchain.com/ website.\n",
    "\n",
    "Specifically from the section [Document loaders](https://python.langchain.com/docs/modules/data_connection/document_loaders/).\n",
    "\n",
    "⚠️ **Info**: Head to [Integrations]( https://python.langchain.com/docs/integrations/document_loaders/) for documentation on built-in document loader integrations with 3rd-party tools.\n",
    "\n",
    "Use document loaders to load data from a source as Document's. A ```Document``` is a piece of text and associated metadata. For example, there are document loaders for loading a simple ```.txt``` file, for loading the text contents of any web page, or even for loading a transcript of a YouTube video.\n",
    "\n",
    "Document loaders provide a \"load\" method for loading data as documents from a configured source. They optionally implement a \"lazy load\" as well for lazily loading data into memory.\n",
    "\n",
    "<p></p>\n",
    "<b style=\"font-size:15;\">\n",
    "⚠️ This project requires an OpenAI key.\n",
    "</b>\n"
   ],
   "metadata": {
    "collapsed": false
   },
   "id": "23d747506242aa53"
  },
  {
   "cell_type": "markdown",
   "source": [
    "##### Project Map  \n",
    "- [API Keys](#api-keys)  \n",
    "- [Getting started (.txt)](@getting-started)\n",
    "- [CSV](#csv)\n",
    "    - [Base Example](#base-example-csv)\n",
    "    - [Customizing the CSV parsing and loading](#customizing-the-csv-parsing-and-loading)\n",
    "    - [Specify a column to identify the document source](#specify-a-column-to-identify-the-document-source)\n",
    "- [File Directory](#file-directory)\n",
    "    - [Base Example](#base-example-file-directory)\n",
    "    - [Show a progress bar](#show-a-progress-bar)\n",
    "    - [Use multithreading](#use-multithreading)\n",
    "    - [Change loader class](#change-loader-class)\n",
    "        - [Base Example](#base-example-change-loader-class)\n",
    "        - [Load Python Source Code](#load-python-source-code)\n",
    "    - [Auto-detect file encodings with TextLoader](#auto-detect-file-encodings-with-textloader)\n",
    "        - [A. Default Behavior](#a-default-behavior)\n",
    "        - [B. Silent fail](#b-silent-fail)\n",
    "        - [C. Auto detect encodings](#c-auto-detect-encodings)\n",
    "- [HTML](#html)\n",
    "- [JSON](#json)\n",
    "    - [Base Example (JSON)](#base-example-json)\n",
    "    - [Using JSONLoader (Linux Only)](#using-jsonloader-linux-only)\n",
    "    - [Using JSONLoader for Windows()](#using-jsonloader-for-windows)\n",
    "- [Markdown](#markdown)\n",
    "- [Using PyPDF](#using-pypdf)\n",
    "- [Extracting images](#extracting-images)\n",
    "- [Using Unstructured](#using-unstructured)\n",
    "- [Using PyPDFium2](#using-pypdfium2)\n",
    "- [Using PDFMiner](#using-pdfminer)\n",
    "- [Using PDFMiner to generate HTML text](#using-pdfminer-to-generate-html-text)\n",
    "- [PyPDF Directory](#pypdf-directory)\n",
    "- [Using PDFPlumber](#using-pdfplumber)\n",
    "- [Using AmazonTextractPDFParser](#Using AmazonTextractPDFParser)\n",
    "\n",
    "<br>\n",
    "\n",
    "---\n"
   ],
   "metadata": {
    "collapsed": false
   },
   "id": "6d812a5237c2ffca"
  },
  {
   "cell_type": "markdown",
   "source": [
    "#### API Keys"
   ],
   "metadata": {
    "collapsed": false
   },
   "id": "4aadd2d6d518060f"
  },
  {
   "cell_type": "code",
   "outputs": [],
   "source": [
    "import os\n",
    "from dotenv import load_dotenv,find_dotenv\n",
    "load_dotenv(find_dotenv())\n",
    "OPENAI_API_KEY = os.environ.get(\"OPEN_AI_KEY\")"
   ],
   "metadata": {
    "collapsed": false,
    "ExecuteTime": {
     "end_time": "2024-02-02T14:58:29.894332600Z",
     "start_time": "2024-02-02T14:58:29.442714300Z"
    }
   },
   "id": "9f0bea1dbc415b2",
   "execution_count": 52
  },
  {
   "cell_type": "markdown",
   "source": [
    "---\n",
    "## Getting started\n",
    "\n",
    "\n",
    "<br>\n",
    "\n",
    "---"
   ],
   "metadata": {
    "collapsed": false
   },
   "id": "c0fc6fd5480d3b4d"
  },
  {
   "cell_type": "code",
   "outputs": [
    {
     "data": {
      "text/plain": "[Document(page_content=\"\\n\\n\\n\\nPortfolio: Solutions for a Business Enterprise-Wide Upgrade\\nAlejandro Ricciardi\\nColorado State University Global\\nCSC300: Operating Systems and Architecture\\nJoe Rangitsch\\nAugust 6, 2023\\n\\n\\n\\n      Portfolio: Solutions for a Business Enterprise-Wide Upgrade\\n      In a rapidly advancing technological landscape, to remain competitive, businesses need to adapt by modernizing their systems. In this portfolio essay, I take on the role of a consultant for a local business, that was asked to propose an enterprise-wide upgrade solution that includes operating systems, mass storage, virtualization, and security for a company. The company currently has a mix of operating systems, including several legacy machines. Additionally, the company does not currently use virtual machines but is strongly considering them. Furthermore, the company's core business is software testing, but it is considering offering a storage solution. In this paper, I outline the advantages for the company in upgrading to a single corporate operating system and list the benefits of upgrading from Windows 8.1 to Windows 10. I also list the benefits of implementing virtualization, recommend a Linux-based Network-Attached Storage (NAS) over a Windows-based NSA as a storage solution, and discuss the strategies to prevent, avoid, and recover from deadlocks. Additionally, I list several recommended security measures. I hope this proposal will not only improve the efficiency, security, and competitiveness of the company but also will create opportunities for the company to explore new business ventures.\\nUpgrading Corporate Operating Systems from Windows 8.1 to Windows 10\\n      The company currently has a mix of operating systems. Upgrading to a single, corporate operating system will allow employees to work in a more uniform environment, be more synchronized and add the same accountability and support. Furthermore, Microsoft added several new and improved features to Windows 10, and upgrading the existing systems from Windows 8.1 to Windows 10 can provide substantial benefits to the company. Below is a list of these new and improved features.\\n1. User Interface and Functionality: Windows 10 offers a more intuitive and user-friendly interface. For example, the Windows 8 Start Screen is replaced with an improved Start Menu feature. The Start Menu is located on the bottom-left corner of the screen, it lists the most-used programs down the left-hand side, along with a link to an A-Z listing of all installed apps (Collins, 2022). Additionally, Windows 10 provides new features, such as the digital assistant Cortana, Virtual Desktop, and Task View, which can greatly improve productivity.\\n2. Improved Security: Windows 10 has more robust security features than Windows 8.1. Such an improved feature is Secure Boot, allowing PC manufacturers to prevent users from disabling it. This prevents the user from having dual-boot Operating Systems (OSes). The dual-boot OSes feature in business machines will only ever boot into one OS. Additionally, this prevents almost any chance of malicious rootkits or other low-level malware infecting the boot process. For software testing purposes, virtual machines can be used to create different environments utilizing different operating systems. Additionally, the Windows Hello feature allows users to log onto their computers using fingerprint or facial recognition. Furthermore, Windows Defender, which is Windows anti-malware feature, has been significantly improved.\\n3. Support and Regular Updates: Microsoft ended support for Windows 8.1 on January 10, 2023 (Microsoft Support, n.d.). As a result, it will no longer receive updates or patches. Window 10, on the other hand, updates and patches are provided regularly allowing systems to stay updated. This can help prevent security incidents, where outdated software with known vulnerabilities can be exploited.\\n4. Enhanced Compatibility: Windows 10 supports more devices and hardware than Windows 8.1. Additionally, Windows 10 is compatible with Universal Windows Platform (UWP), which allows applications to run across personal computers, tablets, and phones (Microsoft Learn, 2023). \\nTherefore, upgrading to a single, corporate operating system, and upgrading the existing systems from Windows 8.1 to Windows 10 would be very beneficial to the company. A corporate operating system brings a more uniform environment to the company employees allowing them to be more productive. Additionally, Windows 10 brings a more intuitive and user-friendly interface, improved security, better support, regular updates and patches, and enhanced compatibility allowing the employees to be more efficient.\\nVirtualization and Security\\n      Virtualization or virtual machine (VM) is a technology that allows system hardware to be shared between multiple virtual environments (Amazon, n.d.). In other words, hardware can be shared by multiple virtual machines, allowing these machines to operate simultaneously on a physical system. It also allows OSes to run simulatability on one hardware system. Additionally, VM plays a substantial role by providing a wide range of benefits. Such as efficient resource utilization, security and isolation, ideal for development and testing, disaster recovery, scalability and flexibility, and support for legacy applications. The company's core business is software testing, and virtualization can provide an environment that is ideal for software testing. Thus, it is essential for the company to implement virtualization. This will optimize the cost and hardware resources. Below is a list of VM’s benefits.\\n1. Efficient Resource Utilization: By allowing multiple VMs to run on a single physical system, organizations can make optimal use of their hardware resources (Carklin, 2021). This improves efficiency and cost savings.\\n2. Security and Isolation: VMs operate in isolation from one another, even when running on the same physical host (Sheldon & Kirsch, 2023). For example, if a VM encounters an issue, such as a system crash or a security breach, the problem is confined to that VM and doesn't impact the other VMs running in the same system and the host system. \\n3. Ideal for Development and Testing: VMs offer an excellent environment for testing and development. They can be created, used, and deleted without any impact on the primary operating system. They also allow multiple OSes to run on the same hardware. This optimizes cost and hardware resources by removing the need to have several physical machines for each OSes that software may need to be tested on.\\n4. Disaster Recovery: VMs can be easily replicated and restored in the event of a disaster. They can also be migrated between different physical machines or locations, providing support for business continuity and disaster recovery.\\n5. Scalability and Flexibility: VMs are easy to create, delete, and migrate, they allow for a flexible and scalable system infrastructure. \\n6. Support for Legacy Applications: VMs can run different operating systems, which makes them ideal for running older applications that may not be compatible with newer systems. The company owns several legacy machines, that can be replaced by VMs, if it is a need to run legacy applications. This optimizes cost and hardware resources.\\nTherefore, the benefits of virtualization are efficient resource utilization, security and isolation. VM is also ideal for software testing which is the core business of the company, disaster recovery, scalability and flexibility, support for legacy applications, and optimizing cost and hardware resources.\\nLinux Preferred Operating System for Network-Attached Storage (NAS)\\n      The company is considering offering a storage solution. A solution for storage is Network-Attached Storage (NAS). “NAS is a dedicated file storage that enables multiple users and heterogeneous client devices to retrieve data from a centralized disk capacity. Users on a local area network (LAN) access the shared storage via a standard Ethernet connection” (Bigelow, S. J et al., 2022). Every NAS server comes from a vendor with an embedded OS (Vista Storage, n.d.). The company should consider the embedded OS when ordering a NAS server from the vendor. Even though the company's recommended corporate operating system is Windows 10, I recommend using a Linux-based OS over a Windows-based OS. It is a common misconception among some IT administrators that a Microsoft OS-based solution is necessary for a Windows environment. However, this assumption may not always hold true. Besides significant cost benefits, the open architecture of the Linux OS offers a level of flexibility that dedicated Microsoft products may not match. With features like native RAID functionality, heterogeneous client support, optimized file systems, and advanced diagnostics, Linux-based NAS solutions often emerge as the preferred choice for current and future network file-sharing requirements. Therefore, for the company storage solution, I recommended a Linux-based NAS storage.\\nPreventing and Recovering from Deadlocks\\n      Deadlock is a critical issue that can occur in multiprocessing systems when two or more processes or threads are running simultaneously, and each process needs access to a resource that another process is using (Zimmer, 2016). Deadlocks can cause a system to become unresponsive, waste system resources as processes are stuck waiting for resources that they can never acquire, and potentially result in system crashes (Prepbytes, 2023). Thus, it is crucial to implement strategies to prevent or avoid the occurrence of deadlocks. Such strategies are deadlock prevention and deadlock avoidance. Deadlock prevention limits access to resources or directly prevents the circular wait condition, to impede the occurrence of a deadlock. Deadlock avoidance, on the other hand, carefully manages resource allocation by having knowledge of future process requests, freeing process execution from any synchronization requirements, and having a fixed number of resources to allocate. Examples of deadlock prevention and avoidance However, both strategies come with trade-offs that need to be evaluated further in the context of the company's needs. Furthermore, deadlock is not always preventable or avoidable. Thus, strategies need to be in place for deadlock recovery. “Deadlock recovery involves breaking the deadlock by releasing the resources held by the processes” (Chakraborty, 2023, Conclusion). Examples of deadlock recovery methods are process termination, priority inversion, and rollback. Therefore, it is crucial to implement strategies to avoid, prevent, and recover from deadlocks, while also striking a balance between managing the deadlock issue, the company’s needs, and the trade-offs associated with these strategies.\\nSecurity\\n      In today's technological landscape, where information and computing play a critical role in the functionality and efficiency of virtually every business. Furthermore, various types of malware exist, and each can affect a system in uniquely destructive ways. From viruses that replicate themselves and ransomware that encrypts crucial data to spyware that monitors and steals sensitive information, it is essential for the company to understand and implement cybersecurity measures in the form of countermeasures to safeguard the company’s computer systems functionality and the integrity of the information stored in it. Below is a list of countermeasures that can be implemented.\\n1. Antivirus/Antimalware Software detects and neutralizes threats like viruses, worms, and spyware. They work by comparing files on a computer to a database of known threats.\\n2. Firewalls are a barrier between a trusted network and an untrusted network. They can block unauthorized access to a network. Furthermore, they can detect and block many types of attacks.\\n3. Intrusion Detection System (IDS) is a system that monitors network traffic and system activities for malicious activities or policy violations and generates an alert when such activity occurs (Lutkevich, 2021).\\n4. Intrusion Prevention System (IPS) is an IDS that detects potential threats but also takes actions to prevent them from causing harm.\\n5. Patch Management is the action to manage software or systems patches. It is important to regularly update and patch systems, it can help prevent security incidents.\\n6. Penetration Testing and Vulnerability Assessments. A vulnerability assessment identifies and measures security weaknesses in a system. A penetration test is a simulated cyber attack designed to identify vulnerabilities in an organization's security system (Escobar, 2021).\\n7. Security Awareness Training: Educating users about the signs of a security incident can prevent many attacks. Users should be trained in recognizing phishing attempts and malware behavior. \\n8. Access Controls and User Permissions, it is important to implement controls monitoring data and application access to only authorized users.\\n9. Encryption, which involves encoding sensitive data. Furthermore, the data should be only decrypted by authorized applications and users.\\n10. Systems Event Management (SIEM) is a security solution that helps organizations recognize and address potential security threats and vulnerabilities before they have a chance to disrupt business operations (IBM, n.d.).\\nTherefore, it is essential for the company to implement countermeasures or security controls to prevent security incidents. That is to prevent malware from accessing a computer system's functionality and data. The Federal Information Processing Standard (FIPS) defines security controls as “the management, operational, and technical controls (i.e., safeguards or, countermeasures) prescribed for an information system to protect the confidentiality, integrity, and availability of the system and its information” (FIPS 199, n.d.).\\n      Conclusion\\n      To summarize, upgrading to a single corporate operating system has the advantage of allowing employees to work in a more uniform environment, be more synchronized and add the same accountability and support. Upgrading from Windows 8.1 to Windows 10 has substantial benefits for the company. Microsoft added a vast number of new and improved features to Windows 10 boosting security and productivity. Implementing virtualization will provide substantial benefits for the company, such as efficient resource utilization, security and isolation. VM is also ideal for software testing which is the core business of the company, disaster recovery, scalability and flexibility, support for legacy applications, and optimizing cost and hardware resources. A storage solution for the company is NAS, with a Linux-based NAS environment.  Additionally, it is crucial for the company to implement strategies to avoid, prevent, and recover from deadlocks, while also striking a balance between managing the deadlock issue, the company’s needs, and the trade-offs associated with these strategies. Furthermore, it is essential for the company to implement countermeasures or security controls to prevent security incidents. Finally, implementing the previous suggestions could have a significant impact on the company's efficiency, security, and competitive edge in the rapidly advancing technological landscape. I hope these proposals can not only improve operational efficiency, security, and competitiveness but also create opportunities for the company to explore new business ventures.\\n\\n      \\n      \\n      \\n\\n\\n      \\nReferences\\nAmazon. (n.d.). What is virtualization? Amazon.com. https://aws.amazon.com/what-is/virtualization/#:~:text=Virtualization%20is%20a%20process%20that,%2C%20processing%20power%2C%20and%20storage.\\nCarklin, N. (2021, June 1). What are the benefits of virtual machines? Parallels Remote Application Server Blog - Application virtualization, mobility and VDI. https://www.parallels.com/blogs/ras/benefits-virtual-machines/\\nChakraborty, A. (2023, April 6). Deadlock detection and recovery. Tutorialspoint. https://www.tutorialspoint.com/deadlock-detection-and-recovery#:~:text=Deadlock%20recovery%20involves%20breaking%20the,%2C%20priority%20inversion%2C%20and%20rollback.\\nCollins, B. (2019, March 22). Windows 10 vs Windows 8.1: Which was the best operating system? ITPro. https://www.itpro.com/operating-systems/25123/windows-10-vs-windows-81-which-is-best-for-you-1.\\nBigelow, S. J., Lutkevich, B., & Kranz, G. (2022, September 30). What is network-attached storage (NAS)? A complete guide. TechTarget. https://www.techtarget.com/searchstorage/definition/network-attached-storage?Offer=abt_pubpro_AI-Insider\\nScobar, E. (2021, August 19). Vulnerability assessments versus penetration tests. Secureworks. https://www.secureworks.com/blog/vulnerability-assessments-versus-penetration-tests\\nFIPS 199, standards for security categorization of federal ... - NIST. (n.d.). National Institute of Standards and Technology. Retrieve from: https://nvlpubs.nist.gov/nistpubs/FIPS/NIST.FIPS.199.pdf\\nIBM (n.d.). What is Security Information and Event Management (SIEM)? Ibm.com. https://www.ibm.com/topics/siem\\nLutkevich, B. (2021, October 7). What is an intrusion detection system (IDS)? Techtarget.com. https://www.techtarget.com/searchsecurity/definition/intrusion-detection-system?Offer=abt_pubpro_AI-Insider\\nMicrosoft Learn. (2023, April 4). What’s a universal Windows platform (UWP) app? - UWP applications. https://learn.microsoft.com/en-us/windows/uwp/get-started/universal-application-platform-guide.\\nMicrosoft Support. (n.d.). Windows 8.1 support ended on January 10, 2023. Microsoft. https://support.microsoft.com/en-us/windows/windows-8-1-support-ended-on-january-10-2023-3cfd4cde-f611-496a-8057-923fba401e93.\\nPrepbytes (2023, January 31). Deadlock in OS. PrepBytes Blog. https://www.prepbytes.com/blog/operating-system/deadlock-in-os/#:~:text=Deadlock%20can%20cause%20a%20system,cause%20the%20system%20to%20crash\\nSheldon, R., & Kirsch, B. (2023, May 1). What is a virtual machine and how does it work?. IT Operations. https://www.techtarget.com/searchitoperations/definition/virtual-machine-VM?Offer=abt_pubpro_AI-Insider\\nVista Storage (n.d.). The advantage of Linux-based NAS over Windows-based NAS [PDF]. Premises Networks.com. Retrieved from: http://vertassets.blob.core.windows.net/download/df81caf2/df81caf2-9df9-4a7b-bbe0-5d20c0f3358f/vistastoragelinuxnas.pdf.\\nZimmer, S. (2016, May 1). Applied science: computer science. Salem Press.\\n\\n\\n\\n\\n\\n\", metadata={'source': './data/Portfolio Solutions for a Business Enterprise-Wide Upgrade.txt'})]"
     },
     "execution_count": 53,
     "metadata": {},
     "output_type": "execute_result"
    }
   ],
   "source": [
    "from langchain_community.document_loaders import TextLoader\n",
    "\n",
    "loader = TextLoader(\"./data/Portfolio Solutions for a Business Enterprise-Wide Upgrade.txt\")\n",
    "loader.load()"
   ],
   "metadata": {
    "collapsed": false,
    "ExecuteTime": {
     "end_time": "2024-02-02T14:58:29.947419700Z",
     "start_time": "2024-02-02T14:58:29.895332300Z"
    }
   },
   "id": "250f1704be50da56",
   "execution_count": 53
  },
  {
   "cell_type": "markdown",
   "source": [
    "[Project Map](#project-map)\n",
    "\n",
    "---"
   ],
   "metadata": {
    "collapsed": false
   },
   "id": "9c0f050905d2169f"
  },
  {
   "cell_type": "markdown",
   "source": [
    "---\n",
    "## CSV\n",
    "A comma-separated values (CSV) file is a delimited text file that uses a comma to separate values. Each line of the file is a data record. Each record consists of one or more fields, separated by commas.\n",
    "\n",
    "<br>\n",
    "\n",
    "---"
   ],
   "metadata": {
    "collapsed": false
   },
   "id": "ff58326b5f3797d4"
  },
  {
   "cell_type": "markdown",
   "source": [
    "### Base Example (CSV)"
   ],
   "metadata": {
    "collapsed": false
   },
   "id": "cbaa8a8863eba2f"
  },
  {
   "cell_type": "code",
   "outputs": [
    {
     "data": {
      "text/plain": "[Document(page_content='Team: Nationals\\n\"Payroll (millions)\": 81.34\\n\"Wins\": 98', metadata={'source': './data/mlb_teams_2012.csv', 'row': 0}),\n Document(page_content='Team: Reds\\n\"Payroll (millions)\": 82.20\\n\"Wins\": 97', metadata={'source': './data/mlb_teams_2012.csv', 'row': 1}),\n Document(page_content='Team: Yankees\\n\"Payroll (millions)\": 197.96\\n\"Wins\": 95', metadata={'source': './data/mlb_teams_2012.csv', 'row': 2}),\n Document(page_content='Team: Giants\\n\"Payroll (millions)\": 117.62\\n\"Wins\": 94', metadata={'source': './data/mlb_teams_2012.csv', 'row': 3}),\n Document(page_content='Team: Braves\\n\"Payroll (millions)\": 83.31\\n\"Wins\": 94', metadata={'source': './data/mlb_teams_2012.csv', 'row': 4}),\n Document(page_content='Team: Athletics\\n\"Payroll (millions)\": 55.37\\n\"Wins\": 94', metadata={'source': './data/mlb_teams_2012.csv', 'row': 5}),\n Document(page_content='Team: Rangers\\n\"Payroll (millions)\": 120.51\\n\"Wins\": 93', metadata={'source': './data/mlb_teams_2012.csv', 'row': 6}),\n Document(page_content='Team: Orioles\\n\"Payroll (millions)\": 81.43\\n\"Wins\": 93', metadata={'source': './data/mlb_teams_2012.csv', 'row': 7}),\n Document(page_content='Team: Rays\\n\"Payroll (millions)\": 64.17\\n\"Wins\": 90', metadata={'source': './data/mlb_teams_2012.csv', 'row': 8}),\n Document(page_content='Team: Angels\\n\"Payroll (millions)\": 154.49\\n\"Wins\": 89', metadata={'source': './data/mlb_teams_2012.csv', 'row': 9}),\n Document(page_content='Team: Tigers\\n\"Payroll (millions)\": 132.30\\n\"Wins\": 88', metadata={'source': './data/mlb_teams_2012.csv', 'row': 10}),\n Document(page_content='Team: Cardinals\\n\"Payroll (millions)\": 110.30\\n\"Wins\": 88', metadata={'source': './data/mlb_teams_2012.csv', 'row': 11}),\n Document(page_content='Team: Dodgers\\n\"Payroll (millions)\": 95.14\\n\"Wins\": 86', metadata={'source': './data/mlb_teams_2012.csv', 'row': 12}),\n Document(page_content='Team: White Sox\\n\"Payroll (millions)\": 96.92\\n\"Wins\": 85', metadata={'source': './data/mlb_teams_2012.csv', 'row': 13}),\n Document(page_content='Team: Brewers\\n\"Payroll (millions)\": 97.65\\n\"Wins\": 83', metadata={'source': './data/mlb_teams_2012.csv', 'row': 14}),\n Document(page_content='Team: Phillies\\n\"Payroll (millions)\": 174.54\\n\"Wins\": 81', metadata={'source': './data/mlb_teams_2012.csv', 'row': 15}),\n Document(page_content='Team: Diamondbacks\\n\"Payroll (millions)\": 74.28\\n\"Wins\": 81', metadata={'source': './data/mlb_teams_2012.csv', 'row': 16}),\n Document(page_content='Team: Pirates\\n\"Payroll (millions)\": 63.43\\n\"Wins\": 79', metadata={'source': './data/mlb_teams_2012.csv', 'row': 17}),\n Document(page_content='Team: Padres\\n\"Payroll (millions)\": 55.24\\n\"Wins\": 76', metadata={'source': './data/mlb_teams_2012.csv', 'row': 18}),\n Document(page_content='Team: Mariners\\n\"Payroll (millions)\": 81.97\\n\"Wins\": 75', metadata={'source': './data/mlb_teams_2012.csv', 'row': 19}),\n Document(page_content='Team: Mets\\n\"Payroll (millions)\": 93.35\\n\"Wins\": 74', metadata={'source': './data/mlb_teams_2012.csv', 'row': 20}),\n Document(page_content='Team: Blue Jays\\n\"Payroll (millions)\": 75.48\\n\"Wins\": 73', metadata={'source': './data/mlb_teams_2012.csv', 'row': 21}),\n Document(page_content='Team: Royals\\n\"Payroll (millions)\": 60.91\\n\"Wins\": 72', metadata={'source': './data/mlb_teams_2012.csv', 'row': 22}),\n Document(page_content='Team: Marlins\\n\"Payroll (millions)\": 118.07\\n\"Wins\": 69', metadata={'source': './data/mlb_teams_2012.csv', 'row': 23}),\n Document(page_content='Team: Red Sox\\n\"Payroll (millions)\": 173.18\\n\"Wins\": 69', metadata={'source': './data/mlb_teams_2012.csv', 'row': 24}),\n Document(page_content='Team: Indians\\n\"Payroll (millions)\": 78.43\\n\"Wins\": 68', metadata={'source': './data/mlb_teams_2012.csv', 'row': 25}),\n Document(page_content='Team: Twins\\n\"Payroll (millions)\": 94.08\\n\"Wins\": 66', metadata={'source': './data/mlb_teams_2012.csv', 'row': 26}),\n Document(page_content='Team: Rockies\\n\"Payroll (millions)\": 78.06\\n\"Wins\": 64', metadata={'source': './data/mlb_teams_2012.csv', 'row': 27}),\n Document(page_content='Team: Cubs\\n\"Payroll (millions)\": 88.19\\n\"Wins\": 61', metadata={'source': './data/mlb_teams_2012.csv', 'row': 28}),\n Document(page_content='Team: Astros\\n\"Payroll (millions)\": 60.65\\n\"Wins\": 55', metadata={'source': './data/mlb_teams_2012.csv', 'row': 29})]"
     },
     "execution_count": 54,
     "metadata": {},
     "output_type": "execute_result"
    }
   ],
   "source": [
    "from langchain_community.document_loaders.csv_loader import CSVLoader\n",
    "\n",
    "\n",
    "loader = CSVLoader(file_path='./data/mlb_teams_2012.csv')\n",
    "data = loader.load()\n",
    "data"
   ],
   "metadata": {
    "collapsed": false,
    "ExecuteTime": {
     "end_time": "2024-02-02T14:58:30.136240400Z",
     "start_time": "2024-02-02T14:58:29.946420400Z"
    }
   },
   "id": "12cb86e18aec4492",
   "execution_count": 54
  },
  {
   "cell_type": "markdown",
   "source": [
    "### Customizing the CSV parsing and loading\n",
    "\n",
    "See the [csv module](https://docs.python.org/3/library/csv.html) documentation for more information of what csv args are supported."
   ],
   "metadata": {
    "collapsed": false
   },
   "id": "ebfe54b1b18e8275"
  },
  {
   "cell_type": "code",
   "outputs": [
    {
     "data": {
      "text/plain": "[Document(page_content='MLB Team: Team\\nPayroll in millions: \"Payroll (millions)\"\\nWins: \"Wins\"', metadata={'source': './data/mlb_teams_2012.csv', 'row': 0}),\n Document(page_content='MLB Team: Nationals\\nPayroll in millions: 81.34\\nWins: 98', metadata={'source': './data/mlb_teams_2012.csv', 'row': 1}),\n Document(page_content='MLB Team: Reds\\nPayroll in millions: 82.20\\nWins: 97', metadata={'source': './data/mlb_teams_2012.csv', 'row': 2}),\n Document(page_content='MLB Team: Yankees\\nPayroll in millions: 197.96\\nWins: 95', metadata={'source': './data/mlb_teams_2012.csv', 'row': 3}),\n Document(page_content='MLB Team: Giants\\nPayroll in millions: 117.62\\nWins: 94', metadata={'source': './data/mlb_teams_2012.csv', 'row': 4}),\n Document(page_content='MLB Team: Braves\\nPayroll in millions: 83.31\\nWins: 94', metadata={'source': './data/mlb_teams_2012.csv', 'row': 5}),\n Document(page_content='MLB Team: Athletics\\nPayroll in millions: 55.37\\nWins: 94', metadata={'source': './data/mlb_teams_2012.csv', 'row': 6}),\n Document(page_content='MLB Team: Rangers\\nPayroll in millions: 120.51\\nWins: 93', metadata={'source': './data/mlb_teams_2012.csv', 'row': 7}),\n Document(page_content='MLB Team: Orioles\\nPayroll in millions: 81.43\\nWins: 93', metadata={'source': './data/mlb_teams_2012.csv', 'row': 8}),\n Document(page_content='MLB Team: Rays\\nPayroll in millions: 64.17\\nWins: 90', metadata={'source': './data/mlb_teams_2012.csv', 'row': 9}),\n Document(page_content='MLB Team: Angels\\nPayroll in millions: 154.49\\nWins: 89', metadata={'source': './data/mlb_teams_2012.csv', 'row': 10}),\n Document(page_content='MLB Team: Tigers\\nPayroll in millions: 132.30\\nWins: 88', metadata={'source': './data/mlb_teams_2012.csv', 'row': 11}),\n Document(page_content='MLB Team: Cardinals\\nPayroll in millions: 110.30\\nWins: 88', metadata={'source': './data/mlb_teams_2012.csv', 'row': 12}),\n Document(page_content='MLB Team: Dodgers\\nPayroll in millions: 95.14\\nWins: 86', metadata={'source': './data/mlb_teams_2012.csv', 'row': 13}),\n Document(page_content='MLB Team: White Sox\\nPayroll in millions: 96.92\\nWins: 85', metadata={'source': './data/mlb_teams_2012.csv', 'row': 14}),\n Document(page_content='MLB Team: Brewers\\nPayroll in millions: 97.65\\nWins: 83', metadata={'source': './data/mlb_teams_2012.csv', 'row': 15}),\n Document(page_content='MLB Team: Phillies\\nPayroll in millions: 174.54\\nWins: 81', metadata={'source': './data/mlb_teams_2012.csv', 'row': 16}),\n Document(page_content='MLB Team: Diamondbacks\\nPayroll in millions: 74.28\\nWins: 81', metadata={'source': './data/mlb_teams_2012.csv', 'row': 17}),\n Document(page_content='MLB Team: Pirates\\nPayroll in millions: 63.43\\nWins: 79', metadata={'source': './data/mlb_teams_2012.csv', 'row': 18}),\n Document(page_content='MLB Team: Padres\\nPayroll in millions: 55.24\\nWins: 76', metadata={'source': './data/mlb_teams_2012.csv', 'row': 19}),\n Document(page_content='MLB Team: Mariners\\nPayroll in millions: 81.97\\nWins: 75', metadata={'source': './data/mlb_teams_2012.csv', 'row': 20}),\n Document(page_content='MLB Team: Mets\\nPayroll in millions: 93.35\\nWins: 74', metadata={'source': './data/mlb_teams_2012.csv', 'row': 21}),\n Document(page_content='MLB Team: Blue Jays\\nPayroll in millions: 75.48\\nWins: 73', metadata={'source': './data/mlb_teams_2012.csv', 'row': 22}),\n Document(page_content='MLB Team: Royals\\nPayroll in millions: 60.91\\nWins: 72', metadata={'source': './data/mlb_teams_2012.csv', 'row': 23}),\n Document(page_content='MLB Team: Marlins\\nPayroll in millions: 118.07\\nWins: 69', metadata={'source': './data/mlb_teams_2012.csv', 'row': 24}),\n Document(page_content='MLB Team: Red Sox\\nPayroll in millions: 173.18\\nWins: 69', metadata={'source': './data/mlb_teams_2012.csv', 'row': 25}),\n Document(page_content='MLB Team: Indians\\nPayroll in millions: 78.43\\nWins: 68', metadata={'source': './data/mlb_teams_2012.csv', 'row': 26}),\n Document(page_content='MLB Team: Twins\\nPayroll in millions: 94.08\\nWins: 66', metadata={'source': './data/mlb_teams_2012.csv', 'row': 27}),\n Document(page_content='MLB Team: Rockies\\nPayroll in millions: 78.06\\nWins: 64', metadata={'source': './data/mlb_teams_2012.csv', 'row': 28}),\n Document(page_content='MLB Team: Cubs\\nPayroll in millions: 88.19\\nWins: 61', metadata={'source': './data/mlb_teams_2012.csv', 'row': 29}),\n Document(page_content='MLB Team: Astros\\nPayroll in millions: 60.65\\nWins: 55', metadata={'source': './data/mlb_teams_2012.csv', 'row': 30})]"
     },
     "execution_count": 55,
     "metadata": {},
     "output_type": "execute_result"
    }
   ],
   "source": [
    "loader = CSVLoader(file_path='./data/mlb_teams_2012.csv', csv_args={\n",
    "    'delimiter': ',',\n",
    "    'quotechar': '\"',\n",
    "    'fieldnames': ['MLB Team', 'Payroll in millions', 'Wins']\n",
    "})\n",
    "\n",
    "data = loader.load()\n",
    "data\n"
   ],
   "metadata": {
    "collapsed": false,
    "ExecuteTime": {
     "end_time": "2024-02-02T14:58:30.176238800Z",
     "start_time": "2024-02-02T14:58:30.076045Z"
    }
   },
   "id": "abfe0dde4b6dccff",
   "execution_count": 55
  },
  {
   "cell_type": "markdown",
   "source": [
    "### Specify a column to identify the document source\n",
    "Use the ```source_column``` argument to specify a source for the document created from each row. Otherwise file_path will be used as the source for all documents created from the CSV file.\n",
    "\n",
    "This is useful when using documents loaded from CSV files for chains that answer questions using sources."
   ],
   "metadata": {
    "collapsed": false
   },
   "id": "5b4c077996d58c53"
  },
  {
   "cell_type": "code",
   "outputs": [
    {
     "data": {
      "text/plain": "[Document(page_content='Team: Nationals\\n\"Payroll (millions)\": 81.34\\n\"Wins\": 98', metadata={'source': 'Nationals', 'row': 0}),\n Document(page_content='Team: Reds\\n\"Payroll (millions)\": 82.20\\n\"Wins\": 97', metadata={'source': 'Reds', 'row': 1}),\n Document(page_content='Team: Yankees\\n\"Payroll (millions)\": 197.96\\n\"Wins\": 95', metadata={'source': 'Yankees', 'row': 2}),\n Document(page_content='Team: Giants\\n\"Payroll (millions)\": 117.62\\n\"Wins\": 94', metadata={'source': 'Giants', 'row': 3}),\n Document(page_content='Team: Braves\\n\"Payroll (millions)\": 83.31\\n\"Wins\": 94', metadata={'source': 'Braves', 'row': 4}),\n Document(page_content='Team: Athletics\\n\"Payroll (millions)\": 55.37\\n\"Wins\": 94', metadata={'source': 'Athletics', 'row': 5}),\n Document(page_content='Team: Rangers\\n\"Payroll (millions)\": 120.51\\n\"Wins\": 93', metadata={'source': 'Rangers', 'row': 6}),\n Document(page_content='Team: Orioles\\n\"Payroll (millions)\": 81.43\\n\"Wins\": 93', metadata={'source': 'Orioles', 'row': 7}),\n Document(page_content='Team: Rays\\n\"Payroll (millions)\": 64.17\\n\"Wins\": 90', metadata={'source': 'Rays', 'row': 8}),\n Document(page_content='Team: Angels\\n\"Payroll (millions)\": 154.49\\n\"Wins\": 89', metadata={'source': 'Angels', 'row': 9}),\n Document(page_content='Team: Tigers\\n\"Payroll (millions)\": 132.30\\n\"Wins\": 88', metadata={'source': 'Tigers', 'row': 10}),\n Document(page_content='Team: Cardinals\\n\"Payroll (millions)\": 110.30\\n\"Wins\": 88', metadata={'source': 'Cardinals', 'row': 11}),\n Document(page_content='Team: Dodgers\\n\"Payroll (millions)\": 95.14\\n\"Wins\": 86', metadata={'source': 'Dodgers', 'row': 12}),\n Document(page_content='Team: White Sox\\n\"Payroll (millions)\": 96.92\\n\"Wins\": 85', metadata={'source': 'White Sox', 'row': 13}),\n Document(page_content='Team: Brewers\\n\"Payroll (millions)\": 97.65\\n\"Wins\": 83', metadata={'source': 'Brewers', 'row': 14}),\n Document(page_content='Team: Phillies\\n\"Payroll (millions)\": 174.54\\n\"Wins\": 81', metadata={'source': 'Phillies', 'row': 15}),\n Document(page_content='Team: Diamondbacks\\n\"Payroll (millions)\": 74.28\\n\"Wins\": 81', metadata={'source': 'Diamondbacks', 'row': 16}),\n Document(page_content='Team: Pirates\\n\"Payroll (millions)\": 63.43\\n\"Wins\": 79', metadata={'source': 'Pirates', 'row': 17}),\n Document(page_content='Team: Padres\\n\"Payroll (millions)\": 55.24\\n\"Wins\": 76', metadata={'source': 'Padres', 'row': 18}),\n Document(page_content='Team: Mariners\\n\"Payroll (millions)\": 81.97\\n\"Wins\": 75', metadata={'source': 'Mariners', 'row': 19}),\n Document(page_content='Team: Mets\\n\"Payroll (millions)\": 93.35\\n\"Wins\": 74', metadata={'source': 'Mets', 'row': 20}),\n Document(page_content='Team: Blue Jays\\n\"Payroll (millions)\": 75.48\\n\"Wins\": 73', metadata={'source': 'Blue Jays', 'row': 21}),\n Document(page_content='Team: Royals\\n\"Payroll (millions)\": 60.91\\n\"Wins\": 72', metadata={'source': 'Royals', 'row': 22}),\n Document(page_content='Team: Marlins\\n\"Payroll (millions)\": 118.07\\n\"Wins\": 69', metadata={'source': 'Marlins', 'row': 23}),\n Document(page_content='Team: Red Sox\\n\"Payroll (millions)\": 173.18\\n\"Wins\": 69', metadata={'source': 'Red Sox', 'row': 24}),\n Document(page_content='Team: Indians\\n\"Payroll (millions)\": 78.43\\n\"Wins\": 68', metadata={'source': 'Indians', 'row': 25}),\n Document(page_content='Team: Twins\\n\"Payroll (millions)\": 94.08\\n\"Wins\": 66', metadata={'source': 'Twins', 'row': 26}),\n Document(page_content='Team: Rockies\\n\"Payroll (millions)\": 78.06\\n\"Wins\": 64', metadata={'source': 'Rockies', 'row': 27}),\n Document(page_content='Team: Cubs\\n\"Payroll (millions)\": 88.19\\n\"Wins\": 61', metadata={'source': 'Cubs', 'row': 28}),\n Document(page_content='Team: Astros\\n\"Payroll (millions)\": 60.65\\n\"Wins\": 55', metadata={'source': 'Astros', 'row': 29})]"
     },
     "execution_count": 56,
     "metadata": {},
     "output_type": "execute_result"
    }
   ],
   "source": [
    "loader = CSVLoader(file_path='./data/mlb_teams_2012.csv', source_column=\"Team\")\n",
    "\n",
    "data = loader.load()\n",
    "data"
   ],
   "metadata": {
    "collapsed": false,
    "ExecuteTime": {
     "end_time": "2024-02-02T14:58:30.323652100Z",
     "start_time": "2024-02-02T14:58:30.177239500Z"
    }
   },
   "id": "f8bf13567cb851e7",
   "execution_count": 56
  },
  {
   "cell_type": "markdown",
   "source": [
    "[Project Map](#project-map)\n",
    "\n",
    "---"
   ],
   "metadata": {
    "collapsed": false
   },
   "id": "1281fe38e2dc90d7"
  },
  {
   "cell_type": "markdown",
   "source": [
    "---\n",
    "## File Directory\n",
    "This covers how to load all documents in a directory.\n",
    "\n",
    "Under the hood, by default this uses the [UnstructuredLoader](https://python.langchain.com/docs/integrations/document_loaders/unstructured_file).\n",
    "\n",
    "<br>\n",
    "\n",
    "---"
   ],
   "metadata": {
    "collapsed": false
   },
   "id": "a54f10b49a354e22"
  },
  {
   "cell_type": "markdown",
   "source": [
    "### Base Example (File Directory)"
   ],
   "metadata": {
    "collapsed": false
   },
   "id": "d6818856ed429a16"
  },
  {
   "cell_type": "code",
   "outputs": [],
   "source": [
    "from langchain_community.document_loaders import DirectoryLoader"
   ],
   "metadata": {
    "collapsed": false,
    "ExecuteTime": {
     "end_time": "2024-02-02T14:58:30.384652500Z",
     "start_time": "2024-02-02T14:58:30.284649100Z"
    }
   },
   "id": "bf9f77f70e549d71",
   "execution_count": 57
  },
  {
   "cell_type": "markdown",
   "source": [
    "We can use the ```glob``` parameter to control which files to load. \n",
    "Note that here it doesn't load the ```.rst``` file or the .```html``` files."
   ],
   "metadata": {
    "collapsed": false
   },
   "id": "a94f781452ea3ad1"
  },
  {
   "cell_type": "code",
   "outputs": [
    {
     "ename": "ImportError",
     "evalue": "cannot import name 'open_filename' from 'pdfminer.utils' (p:\\Projects\\LLM-Frameworks-Tutorials\\LangChain Tutorials\\Tutorials from Langchain\\.venv\\Lib\\site-packages\\pdfminer\\utils.py)",
     "output_type": "error",
     "traceback": [
      "\u001B[1;31m---------------------------------------------------------------------------\u001B[0m",
      "\u001B[1;31mImportError\u001B[0m                               Traceback (most recent call last)",
      "Cell \u001B[1;32mIn[58], line 3\u001B[0m\n\u001B[0;32m      1\u001B[0m loader \u001B[38;5;241m=\u001B[39m DirectoryLoader(\u001B[38;5;124m'\u001B[39m\u001B[38;5;124m../\u001B[39m\u001B[38;5;124m'\u001B[39m, glob\u001B[38;5;241m=\u001B[39m\u001B[38;5;124m\"\u001B[39m\u001B[38;5;124m**/*.txt\u001B[39m\u001B[38;5;124m\"\u001B[39m) \n\u001B[1;32m----> 3\u001B[0m docs \u001B[38;5;241m=\u001B[39m \u001B[43mloader\u001B[49m\u001B[38;5;241;43m.\u001B[39;49m\u001B[43mload\u001B[49m\u001B[43m(\u001B[49m\u001B[43m)\u001B[49m \u001B[38;5;66;03m# pip install unstructured, note pip install \"unstructured[md]\" not available on Window Pro PC\u001B[39;00m\n\u001B[0;32m      5\u001B[0m \u001B[38;5;28mlen\u001B[39m(docs)\n",
      "File \u001B[1;32mp:\\Projects\\LLM-Frameworks-Tutorials\\LangChain Tutorials\\Tutorials from Langchain\\.venv\\Lib\\site-packages\\langchain_community\\document_loaders\\directory.py:157\u001B[0m, in \u001B[0;36mDirectoryLoader.load\u001B[1;34m(self)\u001B[0m\n\u001B[0;32m    155\u001B[0m \u001B[38;5;28;01melse\u001B[39;00m:\n\u001B[0;32m    156\u001B[0m     \u001B[38;5;28;01mfor\u001B[39;00m i \u001B[38;5;129;01min\u001B[39;00m items:\n\u001B[1;32m--> 157\u001B[0m         \u001B[38;5;28;43mself\u001B[39;49m\u001B[38;5;241;43m.\u001B[39;49m\u001B[43mload_file\u001B[49m\u001B[43m(\u001B[49m\u001B[43mi\u001B[49m\u001B[43m,\u001B[49m\u001B[43m \u001B[49m\u001B[43mp\u001B[49m\u001B[43m,\u001B[49m\u001B[43m \u001B[49m\u001B[43mdocs\u001B[49m\u001B[43m,\u001B[49m\u001B[43m \u001B[49m\u001B[43mpbar\u001B[49m\u001B[43m)\u001B[49m\n\u001B[0;32m    159\u001B[0m \u001B[38;5;28;01mif\u001B[39;00m pbar:\n\u001B[0;32m    160\u001B[0m     pbar\u001B[38;5;241m.\u001B[39mclose()\n",
      "File \u001B[1;32mp:\\Projects\\LLM-Frameworks-Tutorials\\LangChain Tutorials\\Tutorials from Langchain\\.venv\\Lib\\site-packages\\langchain_community\\document_loaders\\directory.py:106\u001B[0m, in \u001B[0;36mDirectoryLoader.load_file\u001B[1;34m(self, item, path, docs, pbar)\u001B[0m\n\u001B[0;32m    104\u001B[0m         logger\u001B[38;5;241m.\u001B[39mwarning(\u001B[38;5;124mf\u001B[39m\u001B[38;5;124m\"\u001B[39m\u001B[38;5;124mError loading file \u001B[39m\u001B[38;5;132;01m{\u001B[39;00m\u001B[38;5;28mstr\u001B[39m(item)\u001B[38;5;132;01m}\u001B[39;00m\u001B[38;5;124m: \u001B[39m\u001B[38;5;132;01m{\u001B[39;00me\u001B[38;5;132;01m}\u001B[39;00m\u001B[38;5;124m\"\u001B[39m)\n\u001B[0;32m    105\u001B[0m     \u001B[38;5;28;01melse\u001B[39;00m:\n\u001B[1;32m--> 106\u001B[0m         \u001B[38;5;28;01mraise\u001B[39;00m e\n\u001B[0;32m    107\u001B[0m \u001B[38;5;28;01mfinally\u001B[39;00m:\n\u001B[0;32m    108\u001B[0m     \u001B[38;5;28;01mif\u001B[39;00m pbar:\n",
      "File \u001B[1;32mp:\\Projects\\LLM-Frameworks-Tutorials\\LangChain Tutorials\\Tutorials from Langchain\\.venv\\Lib\\site-packages\\langchain_community\\document_loaders\\directory.py:100\u001B[0m, in \u001B[0;36mDirectoryLoader.load_file\u001B[1;34m(self, item, path, docs, pbar)\u001B[0m\n\u001B[0;32m     98\u001B[0m \u001B[38;5;28;01mtry\u001B[39;00m:\n\u001B[0;32m     99\u001B[0m     logger\u001B[38;5;241m.\u001B[39mdebug(\u001B[38;5;124mf\u001B[39m\u001B[38;5;124m\"\u001B[39m\u001B[38;5;124mProcessing file: \u001B[39m\u001B[38;5;132;01m{\u001B[39;00m\u001B[38;5;28mstr\u001B[39m(item)\u001B[38;5;132;01m}\u001B[39;00m\u001B[38;5;124m\"\u001B[39m)\n\u001B[1;32m--> 100\u001B[0m     sub_docs \u001B[38;5;241m=\u001B[39m \u001B[38;5;28;43mself\u001B[39;49m\u001B[38;5;241;43m.\u001B[39;49m\u001B[43mloader_cls\u001B[49m\u001B[43m(\u001B[49m\u001B[38;5;28;43mstr\u001B[39;49m\u001B[43m(\u001B[49m\u001B[43mitem\u001B[49m\u001B[43m)\u001B[49m\u001B[43m,\u001B[49m\u001B[43m \u001B[49m\u001B[38;5;241;43m*\u001B[39;49m\u001B[38;5;241;43m*\u001B[39;49m\u001B[38;5;28;43mself\u001B[39;49m\u001B[38;5;241;43m.\u001B[39;49m\u001B[43mloader_kwargs\u001B[49m\u001B[43m)\u001B[49m\u001B[38;5;241;43m.\u001B[39;49m\u001B[43mload\u001B[49m\u001B[43m(\u001B[49m\u001B[43m)\u001B[49m\n\u001B[0;32m    101\u001B[0m     docs\u001B[38;5;241m.\u001B[39mextend(sub_docs)\n\u001B[0;32m    102\u001B[0m \u001B[38;5;28;01mexcept\u001B[39;00m \u001B[38;5;167;01mException\u001B[39;00m \u001B[38;5;28;01mas\u001B[39;00m e:\n",
      "File \u001B[1;32mp:\\Projects\\LLM-Frameworks-Tutorials\\LangChain Tutorials\\Tutorials from Langchain\\.venv\\Lib\\site-packages\\langchain_community\\document_loaders\\unstructured.py:87\u001B[0m, in \u001B[0;36mUnstructuredBaseLoader.load\u001B[1;34m(self)\u001B[0m\n\u001B[0;32m     85\u001B[0m \u001B[38;5;28;01mdef\u001B[39;00m \u001B[38;5;21mload\u001B[39m(\u001B[38;5;28mself\u001B[39m) \u001B[38;5;241m-\u001B[39m\u001B[38;5;241m>\u001B[39m List[Document]:\n\u001B[0;32m     86\u001B[0m \u001B[38;5;250m    \u001B[39m\u001B[38;5;124;03m\"\"\"Load file.\"\"\"\u001B[39;00m\n\u001B[1;32m---> 87\u001B[0m     elements \u001B[38;5;241m=\u001B[39m \u001B[38;5;28;43mself\u001B[39;49m\u001B[38;5;241;43m.\u001B[39;49m\u001B[43m_get_elements\u001B[49m\u001B[43m(\u001B[49m\u001B[43m)\u001B[49m\n\u001B[0;32m     88\u001B[0m     \u001B[38;5;28mself\u001B[39m\u001B[38;5;241m.\u001B[39m_post_process_elements(elements)\n\u001B[0;32m     89\u001B[0m     \u001B[38;5;28;01mif\u001B[39;00m \u001B[38;5;28mself\u001B[39m\u001B[38;5;241m.\u001B[39mmode \u001B[38;5;241m==\u001B[39m \u001B[38;5;124m\"\u001B[39m\u001B[38;5;124melements\u001B[39m\u001B[38;5;124m\"\u001B[39m:\n",
      "File \u001B[1;32mp:\\Projects\\LLM-Frameworks-Tutorials\\LangChain Tutorials\\Tutorials from Langchain\\.venv\\Lib\\site-packages\\langchain_community\\document_loaders\\unstructured.py:171\u001B[0m, in \u001B[0;36mUnstructuredFileLoader._get_elements\u001B[1;34m(self)\u001B[0m\n\u001B[0;32m    170\u001B[0m \u001B[38;5;28;01mdef\u001B[39;00m \u001B[38;5;21m_get_elements\u001B[39m(\u001B[38;5;28mself\u001B[39m) \u001B[38;5;241m-\u001B[39m\u001B[38;5;241m>\u001B[39m List:\n\u001B[1;32m--> 171\u001B[0m     \u001B[38;5;28;01mfrom\u001B[39;00m \u001B[38;5;21;01munstructured\u001B[39;00m\u001B[38;5;21;01m.\u001B[39;00m\u001B[38;5;21;01mpartition\u001B[39;00m\u001B[38;5;21;01m.\u001B[39;00m\u001B[38;5;21;01mauto\u001B[39;00m \u001B[38;5;28;01mimport\u001B[39;00m partition\n\u001B[0;32m    173\u001B[0m     \u001B[38;5;28;01mreturn\u001B[39;00m partition(filename\u001B[38;5;241m=\u001B[39m\u001B[38;5;28mself\u001B[39m\u001B[38;5;241m.\u001B[39mfile_path, \u001B[38;5;241m*\u001B[39m\u001B[38;5;241m*\u001B[39m\u001B[38;5;28mself\u001B[39m\u001B[38;5;241m.\u001B[39munstructured_kwargs)\n",
      "File \u001B[1;32mp:\\Projects\\LLM-Frameworks-Tutorials\\LangChain Tutorials\\Tutorials from Langchain\\.venv\\Lib\\site-packages\\unstructured\\partition\\auto.py:81\u001B[0m\n\u001B[0;32m     79\u001B[0m pdf_imports \u001B[38;5;241m=\u001B[39m [\u001B[38;5;124m\"\u001B[39m\u001B[38;5;124mpdf2image\u001B[39m\u001B[38;5;124m\"\u001B[39m, \u001B[38;5;124m\"\u001B[39m\u001B[38;5;124mpdfminer\u001B[39m\u001B[38;5;124m\"\u001B[39m, \u001B[38;5;124m\"\u001B[39m\u001B[38;5;124mPIL\u001B[39m\u001B[38;5;124m\"\u001B[39m]\n\u001B[0;32m     80\u001B[0m \u001B[38;5;28;01mif\u001B[39;00m \u001B[38;5;28mall\u001B[39m(dependency_exists(dep) \u001B[38;5;28;01mfor\u001B[39;00m dep \u001B[38;5;129;01min\u001B[39;00m pdf_imports):\n\u001B[1;32m---> 81\u001B[0m     \u001B[38;5;28;01mfrom\u001B[39;00m \u001B[38;5;21;01munstructured\u001B[39;00m\u001B[38;5;21;01m.\u001B[39;00m\u001B[38;5;21;01mpartition\u001B[39;00m\u001B[38;5;21;01m.\u001B[39;00m\u001B[38;5;21;01mpdf\u001B[39;00m \u001B[38;5;28;01mimport\u001B[39;00m partition_pdf\n\u001B[0;32m     83\u001B[0m     PARTITION_WITH_EXTRAS_MAP[\u001B[38;5;124m\"\u001B[39m\u001B[38;5;124mpdf\u001B[39m\u001B[38;5;124m\"\u001B[39m] \u001B[38;5;241m=\u001B[39m partition_pdf\n\u001B[0;32m     86\u001B[0m \u001B[38;5;28;01mif\u001B[39;00m dependency_exists(\u001B[38;5;124m\"\u001B[39m\u001B[38;5;124munstructured_inference\u001B[39m\u001B[38;5;124m\"\u001B[39m):\n",
      "File \u001B[1;32mp:\\Projects\\LLM-Frameworks-Tutorials\\LangChain Tutorials\\Tutorials from Langchain\\.venv\\Lib\\site-packages\\unstructured\\partition\\pdf.py:36\u001B[0m\n\u001B[0;32m     28\u001B[0m \u001B[38;5;28;01mfrom\u001B[39;00m \u001B[38;5;21;01mpdfminer\u001B[39;00m\u001B[38;5;21;01m.\u001B[39;00m\u001B[38;5;21;01mlayout\u001B[39;00m \u001B[38;5;28;01mimport\u001B[39;00m (\n\u001B[0;32m     29\u001B[0m     LTChar,\n\u001B[0;32m     30\u001B[0m     LTContainer,\n\u001B[1;32m   (...)\u001B[0m\n\u001B[0;32m     33\u001B[0m     LTTextBox,\n\u001B[0;32m     34\u001B[0m )\n\u001B[0;32m     35\u001B[0m \u001B[38;5;28;01mfrom\u001B[39;00m \u001B[38;5;21;01mpdfminer\u001B[39;00m\u001B[38;5;21;01m.\u001B[39;00m\u001B[38;5;21;01mpdftypes\u001B[39;00m \u001B[38;5;28;01mimport\u001B[39;00m PDFObjRef\n\u001B[1;32m---> 36\u001B[0m \u001B[38;5;28;01mfrom\u001B[39;00m \u001B[38;5;21;01mpdfminer\u001B[39;00m\u001B[38;5;21;01m.\u001B[39;00m\u001B[38;5;21;01mutils\u001B[39;00m \u001B[38;5;28;01mimport\u001B[39;00m open_filename\n\u001B[0;32m     37\u001B[0m \u001B[38;5;28;01mfrom\u001B[39;00m \u001B[38;5;21;01mPIL\u001B[39;00m \u001B[38;5;28;01mimport\u001B[39;00m Image \u001B[38;5;28;01mas\u001B[39;00m PILImage\n\u001B[0;32m     39\u001B[0m \u001B[38;5;28;01mfrom\u001B[39;00m \u001B[38;5;21;01munstructured\u001B[39;00m\u001B[38;5;21;01m.\u001B[39;00m\u001B[38;5;21;01mchunking\u001B[39;00m \u001B[38;5;28;01mimport\u001B[39;00m add_chunking_strategy\n",
      "\u001B[1;31mImportError\u001B[0m: cannot import name 'open_filename' from 'pdfminer.utils' (p:\\Projects\\LLM-Frameworks-Tutorials\\LangChain Tutorials\\Tutorials from Langchain\\.venv\\Lib\\site-packages\\pdfminer\\utils.py)"
     ]
    }
   ],
   "source": [
    "loader = DirectoryLoader('../', glob=\"**/*.txt\") \n",
    "\n",
    "docs = loader.load() # pip install unstructured, note pip install \"unstructured[md]\" not available on Window Pro PC\n",
    "\n",
    "len(docs)"
   ],
   "metadata": {
    "collapsed": false,
    "ExecuteTime": {
     "end_time": "2024-02-02T14:58:30.561725600Z",
     "start_time": "2024-02-02T14:58:30.385654Z"
    }
   },
   "id": "591358a0424557f7",
   "execution_count": 58
  },
  {
   "cell_type": "markdown",
   "source": [
    "[Project Map](#project-map)\n",
    "\n",
    "---"
   ],
   "metadata": {
    "collapsed": false
   },
   "id": "ab31aa832d297491"
  },
  {
   "cell_type": "markdown",
   "source": [
    "### Show a progress bar\n",
    "\n",
    "**By default a progress bar will not be shown.** \n",
    "To show a progress bar, install the tqdm library (e.g. ```pip install tqdm```), and set the show_progress parameter to ```True```."
   ],
   "metadata": {
    "collapsed": false
   },
   "id": "78aaf74567dab65"
  },
  {
   "cell_type": "code",
   "outputs": [
    {
     "name": "stderr",
     "output_type": "stream",
     "text": [
      "  0%|          | 0/5 [00:00<?, ?it/s]"
     ]
    },
    {
     "ename": "ImportError",
     "evalue": "cannot import name 'open_filename' from 'pdfminer.utils' (p:\\Projects\\LLM-Frameworks-Tutorials\\LangChain Tutorials\\Tutorials from Langchain\\.venv\\Lib\\site-packages\\pdfminer\\utils.py)",
     "output_type": "error",
     "traceback": [
      "\u001B[1;31m---------------------------------------------------------------------------\u001B[0m",
      "\u001B[1;31mImportError\u001B[0m                               Traceback (most recent call last)",
      "Cell \u001B[1;32mIn[59], line 2\u001B[0m\n\u001B[0;32m      1\u001B[0m loader \u001B[38;5;241m=\u001B[39m DirectoryLoader(\u001B[38;5;124m'\u001B[39m\u001B[38;5;124m../\u001B[39m\u001B[38;5;124m'\u001B[39m, glob\u001B[38;5;241m=\u001B[39m\u001B[38;5;124m\"\u001B[39m\u001B[38;5;124m**/*.txt\u001B[39m\u001B[38;5;124m\"\u001B[39m, show_progress\u001B[38;5;241m=\u001B[39m\u001B[38;5;28;01mTrue\u001B[39;00m)\n\u001B[1;32m----> 2\u001B[0m docs \u001B[38;5;241m=\u001B[39m \u001B[43mloader\u001B[49m\u001B[38;5;241;43m.\u001B[39;49m\u001B[43mload\u001B[49m\u001B[43m(\u001B[49m\u001B[43m)\u001B[49m\n",
      "File \u001B[1;32mp:\\Projects\\LLM-Frameworks-Tutorials\\LangChain Tutorials\\Tutorials from Langchain\\.venv\\Lib\\site-packages\\langchain_community\\document_loaders\\directory.py:157\u001B[0m, in \u001B[0;36mDirectoryLoader.load\u001B[1;34m(self)\u001B[0m\n\u001B[0;32m    155\u001B[0m \u001B[38;5;28;01melse\u001B[39;00m:\n\u001B[0;32m    156\u001B[0m     \u001B[38;5;28;01mfor\u001B[39;00m i \u001B[38;5;129;01min\u001B[39;00m items:\n\u001B[1;32m--> 157\u001B[0m         \u001B[38;5;28;43mself\u001B[39;49m\u001B[38;5;241;43m.\u001B[39;49m\u001B[43mload_file\u001B[49m\u001B[43m(\u001B[49m\u001B[43mi\u001B[49m\u001B[43m,\u001B[49m\u001B[43m \u001B[49m\u001B[43mp\u001B[49m\u001B[43m,\u001B[49m\u001B[43m \u001B[49m\u001B[43mdocs\u001B[49m\u001B[43m,\u001B[49m\u001B[43m \u001B[49m\u001B[43mpbar\u001B[49m\u001B[43m)\u001B[49m\n\u001B[0;32m    159\u001B[0m \u001B[38;5;28;01mif\u001B[39;00m pbar:\n\u001B[0;32m    160\u001B[0m     pbar\u001B[38;5;241m.\u001B[39mclose()\n",
      "File \u001B[1;32mp:\\Projects\\LLM-Frameworks-Tutorials\\LangChain Tutorials\\Tutorials from Langchain\\.venv\\Lib\\site-packages\\langchain_community\\document_loaders\\directory.py:106\u001B[0m, in \u001B[0;36mDirectoryLoader.load_file\u001B[1;34m(self, item, path, docs, pbar)\u001B[0m\n\u001B[0;32m    104\u001B[0m         logger\u001B[38;5;241m.\u001B[39mwarning(\u001B[38;5;124mf\u001B[39m\u001B[38;5;124m\"\u001B[39m\u001B[38;5;124mError loading file \u001B[39m\u001B[38;5;132;01m{\u001B[39;00m\u001B[38;5;28mstr\u001B[39m(item)\u001B[38;5;132;01m}\u001B[39;00m\u001B[38;5;124m: \u001B[39m\u001B[38;5;132;01m{\u001B[39;00me\u001B[38;5;132;01m}\u001B[39;00m\u001B[38;5;124m\"\u001B[39m)\n\u001B[0;32m    105\u001B[0m     \u001B[38;5;28;01melse\u001B[39;00m:\n\u001B[1;32m--> 106\u001B[0m         \u001B[38;5;28;01mraise\u001B[39;00m e\n\u001B[0;32m    107\u001B[0m \u001B[38;5;28;01mfinally\u001B[39;00m:\n\u001B[0;32m    108\u001B[0m     \u001B[38;5;28;01mif\u001B[39;00m pbar:\n",
      "File \u001B[1;32mp:\\Projects\\LLM-Frameworks-Tutorials\\LangChain Tutorials\\Tutorials from Langchain\\.venv\\Lib\\site-packages\\langchain_community\\document_loaders\\directory.py:100\u001B[0m, in \u001B[0;36mDirectoryLoader.load_file\u001B[1;34m(self, item, path, docs, pbar)\u001B[0m\n\u001B[0;32m     98\u001B[0m \u001B[38;5;28;01mtry\u001B[39;00m:\n\u001B[0;32m     99\u001B[0m     logger\u001B[38;5;241m.\u001B[39mdebug(\u001B[38;5;124mf\u001B[39m\u001B[38;5;124m\"\u001B[39m\u001B[38;5;124mProcessing file: \u001B[39m\u001B[38;5;132;01m{\u001B[39;00m\u001B[38;5;28mstr\u001B[39m(item)\u001B[38;5;132;01m}\u001B[39;00m\u001B[38;5;124m\"\u001B[39m)\n\u001B[1;32m--> 100\u001B[0m     sub_docs \u001B[38;5;241m=\u001B[39m \u001B[38;5;28;43mself\u001B[39;49m\u001B[38;5;241;43m.\u001B[39;49m\u001B[43mloader_cls\u001B[49m\u001B[43m(\u001B[49m\u001B[38;5;28;43mstr\u001B[39;49m\u001B[43m(\u001B[49m\u001B[43mitem\u001B[49m\u001B[43m)\u001B[49m\u001B[43m,\u001B[49m\u001B[43m \u001B[49m\u001B[38;5;241;43m*\u001B[39;49m\u001B[38;5;241;43m*\u001B[39;49m\u001B[38;5;28;43mself\u001B[39;49m\u001B[38;5;241;43m.\u001B[39;49m\u001B[43mloader_kwargs\u001B[49m\u001B[43m)\u001B[49m\u001B[38;5;241;43m.\u001B[39;49m\u001B[43mload\u001B[49m\u001B[43m(\u001B[49m\u001B[43m)\u001B[49m\n\u001B[0;32m    101\u001B[0m     docs\u001B[38;5;241m.\u001B[39mextend(sub_docs)\n\u001B[0;32m    102\u001B[0m \u001B[38;5;28;01mexcept\u001B[39;00m \u001B[38;5;167;01mException\u001B[39;00m \u001B[38;5;28;01mas\u001B[39;00m e:\n",
      "File \u001B[1;32mp:\\Projects\\LLM-Frameworks-Tutorials\\LangChain Tutorials\\Tutorials from Langchain\\.venv\\Lib\\site-packages\\langchain_community\\document_loaders\\unstructured.py:87\u001B[0m, in \u001B[0;36mUnstructuredBaseLoader.load\u001B[1;34m(self)\u001B[0m\n\u001B[0;32m     85\u001B[0m \u001B[38;5;28;01mdef\u001B[39;00m \u001B[38;5;21mload\u001B[39m(\u001B[38;5;28mself\u001B[39m) \u001B[38;5;241m-\u001B[39m\u001B[38;5;241m>\u001B[39m List[Document]:\n\u001B[0;32m     86\u001B[0m \u001B[38;5;250m    \u001B[39m\u001B[38;5;124;03m\"\"\"Load file.\"\"\"\u001B[39;00m\n\u001B[1;32m---> 87\u001B[0m     elements \u001B[38;5;241m=\u001B[39m \u001B[38;5;28;43mself\u001B[39;49m\u001B[38;5;241;43m.\u001B[39;49m\u001B[43m_get_elements\u001B[49m\u001B[43m(\u001B[49m\u001B[43m)\u001B[49m\n\u001B[0;32m     88\u001B[0m     \u001B[38;5;28mself\u001B[39m\u001B[38;5;241m.\u001B[39m_post_process_elements(elements)\n\u001B[0;32m     89\u001B[0m     \u001B[38;5;28;01mif\u001B[39;00m \u001B[38;5;28mself\u001B[39m\u001B[38;5;241m.\u001B[39mmode \u001B[38;5;241m==\u001B[39m \u001B[38;5;124m\"\u001B[39m\u001B[38;5;124melements\u001B[39m\u001B[38;5;124m\"\u001B[39m:\n",
      "File \u001B[1;32mp:\\Projects\\LLM-Frameworks-Tutorials\\LangChain Tutorials\\Tutorials from Langchain\\.venv\\Lib\\site-packages\\langchain_community\\document_loaders\\unstructured.py:171\u001B[0m, in \u001B[0;36mUnstructuredFileLoader._get_elements\u001B[1;34m(self)\u001B[0m\n\u001B[0;32m    170\u001B[0m \u001B[38;5;28;01mdef\u001B[39;00m \u001B[38;5;21m_get_elements\u001B[39m(\u001B[38;5;28mself\u001B[39m) \u001B[38;5;241m-\u001B[39m\u001B[38;5;241m>\u001B[39m List:\n\u001B[1;32m--> 171\u001B[0m     \u001B[38;5;28;01mfrom\u001B[39;00m \u001B[38;5;21;01munstructured\u001B[39;00m\u001B[38;5;21;01m.\u001B[39;00m\u001B[38;5;21;01mpartition\u001B[39;00m\u001B[38;5;21;01m.\u001B[39;00m\u001B[38;5;21;01mauto\u001B[39;00m \u001B[38;5;28;01mimport\u001B[39;00m partition\n\u001B[0;32m    173\u001B[0m     \u001B[38;5;28;01mreturn\u001B[39;00m partition(filename\u001B[38;5;241m=\u001B[39m\u001B[38;5;28mself\u001B[39m\u001B[38;5;241m.\u001B[39mfile_path, \u001B[38;5;241m*\u001B[39m\u001B[38;5;241m*\u001B[39m\u001B[38;5;28mself\u001B[39m\u001B[38;5;241m.\u001B[39munstructured_kwargs)\n",
      "File \u001B[1;32mp:\\Projects\\LLM-Frameworks-Tutorials\\LangChain Tutorials\\Tutorials from Langchain\\.venv\\Lib\\site-packages\\unstructured\\partition\\auto.py:81\u001B[0m\n\u001B[0;32m     79\u001B[0m pdf_imports \u001B[38;5;241m=\u001B[39m [\u001B[38;5;124m\"\u001B[39m\u001B[38;5;124mpdf2image\u001B[39m\u001B[38;5;124m\"\u001B[39m, \u001B[38;5;124m\"\u001B[39m\u001B[38;5;124mpdfminer\u001B[39m\u001B[38;5;124m\"\u001B[39m, \u001B[38;5;124m\"\u001B[39m\u001B[38;5;124mPIL\u001B[39m\u001B[38;5;124m\"\u001B[39m]\n\u001B[0;32m     80\u001B[0m \u001B[38;5;28;01mif\u001B[39;00m \u001B[38;5;28mall\u001B[39m(dependency_exists(dep) \u001B[38;5;28;01mfor\u001B[39;00m dep \u001B[38;5;129;01min\u001B[39;00m pdf_imports):\n\u001B[1;32m---> 81\u001B[0m     \u001B[38;5;28;01mfrom\u001B[39;00m \u001B[38;5;21;01munstructured\u001B[39;00m\u001B[38;5;21;01m.\u001B[39;00m\u001B[38;5;21;01mpartition\u001B[39;00m\u001B[38;5;21;01m.\u001B[39;00m\u001B[38;5;21;01mpdf\u001B[39;00m \u001B[38;5;28;01mimport\u001B[39;00m partition_pdf\n\u001B[0;32m     83\u001B[0m     PARTITION_WITH_EXTRAS_MAP[\u001B[38;5;124m\"\u001B[39m\u001B[38;5;124mpdf\u001B[39m\u001B[38;5;124m\"\u001B[39m] \u001B[38;5;241m=\u001B[39m partition_pdf\n\u001B[0;32m     86\u001B[0m \u001B[38;5;28;01mif\u001B[39;00m dependency_exists(\u001B[38;5;124m\"\u001B[39m\u001B[38;5;124munstructured_inference\u001B[39m\u001B[38;5;124m\"\u001B[39m):\n",
      "File \u001B[1;32mp:\\Projects\\LLM-Frameworks-Tutorials\\LangChain Tutorials\\Tutorials from Langchain\\.venv\\Lib\\site-packages\\unstructured\\partition\\pdf.py:36\u001B[0m\n\u001B[0;32m     28\u001B[0m \u001B[38;5;28;01mfrom\u001B[39;00m \u001B[38;5;21;01mpdfminer\u001B[39;00m\u001B[38;5;21;01m.\u001B[39;00m\u001B[38;5;21;01mlayout\u001B[39;00m \u001B[38;5;28;01mimport\u001B[39;00m (\n\u001B[0;32m     29\u001B[0m     LTChar,\n\u001B[0;32m     30\u001B[0m     LTContainer,\n\u001B[1;32m   (...)\u001B[0m\n\u001B[0;32m     33\u001B[0m     LTTextBox,\n\u001B[0;32m     34\u001B[0m )\n\u001B[0;32m     35\u001B[0m \u001B[38;5;28;01mfrom\u001B[39;00m \u001B[38;5;21;01mpdfminer\u001B[39;00m\u001B[38;5;21;01m.\u001B[39;00m\u001B[38;5;21;01mpdftypes\u001B[39;00m \u001B[38;5;28;01mimport\u001B[39;00m PDFObjRef\n\u001B[1;32m---> 36\u001B[0m \u001B[38;5;28;01mfrom\u001B[39;00m \u001B[38;5;21;01mpdfminer\u001B[39;00m\u001B[38;5;21;01m.\u001B[39;00m\u001B[38;5;21;01mutils\u001B[39;00m \u001B[38;5;28;01mimport\u001B[39;00m open_filename\n\u001B[0;32m     37\u001B[0m \u001B[38;5;28;01mfrom\u001B[39;00m \u001B[38;5;21;01mPIL\u001B[39;00m \u001B[38;5;28;01mimport\u001B[39;00m Image \u001B[38;5;28;01mas\u001B[39;00m PILImage\n\u001B[0;32m     39\u001B[0m \u001B[38;5;28;01mfrom\u001B[39;00m \u001B[38;5;21;01munstructured\u001B[39;00m\u001B[38;5;21;01m.\u001B[39;00m\u001B[38;5;21;01mchunking\u001B[39;00m \u001B[38;5;28;01mimport\u001B[39;00m add_chunking_strategy\n",
      "\u001B[1;31mImportError\u001B[0m: cannot import name 'open_filename' from 'pdfminer.utils' (p:\\Projects\\LLM-Frameworks-Tutorials\\LangChain Tutorials\\Tutorials from Langchain\\.venv\\Lib\\site-packages\\pdfminer\\utils.py)"
     ]
    }
   ],
   "source": [
    "loader = DirectoryLoader('../', glob=\"**/*.txt\", show_progress=True)\n",
    "docs = loader.load()"
   ],
   "metadata": {
    "collapsed": false,
    "ExecuteTime": {
     "start_time": "2024-02-02T14:58:30.490726300Z"
    }
   },
   "id": "fbaf11c58d96340f",
   "execution_count": 59
  },
  {
   "cell_type": "markdown",
   "source": [
    "[Project Map](#project-map)\n",
    "\n",
    "---"
   ],
   "metadata": {
    "collapsed": false
   },
   "id": "eec0f8d92f47f907"
  },
  {
   "cell_type": "markdown",
   "source": [
    "### Use multithreading\n",
    "\n",
    "By default the loading happens in one thread. In order to utilize several threads set the ```use_multithreading``` flag to ```true```."
   ],
   "metadata": {
    "collapsed": false
   },
   "id": "60950b06e0f7445e"
  },
  {
   "cell_type": "markdown",
   "source": [
    "No multithreading"
   ],
   "metadata": {
    "collapsed": false
   },
   "id": "7b6bb0aa8dc3c583"
  },
  {
   "cell_type": "code",
   "outputs": [
    {
     "ename": "ImportError",
     "evalue": "cannot import name 'open_filename' from 'pdfminer.utils' (p:\\Projects\\LLM-Frameworks-Tutorials\\LangChain Tutorials\\Tutorials from Langchain\\.venv\\Lib\\site-packages\\pdfminer\\utils.py)",
     "output_type": "error",
     "traceback": [
      "\u001B[1;31m---------------------------------------------------------------------------\u001B[0m",
      "\u001B[1;31mImportError\u001B[0m                               Traceback (most recent call last)",
      "Cell \u001B[1;32mIn[62], line 1\u001B[0m\n\u001B[1;32m----> 1\u001B[0m \u001B[43mget_ipython\u001B[49m\u001B[43m(\u001B[49m\u001B[43m)\u001B[49m\u001B[38;5;241;43m.\u001B[39;49m\u001B[43mrun_cell_magic\u001B[49m\u001B[43m(\u001B[49m\u001B[38;5;124;43m'\u001B[39;49m\u001B[38;5;124;43mtimeit\u001B[39;49m\u001B[38;5;124;43m'\u001B[39;49m\u001B[43m,\u001B[49m\u001B[43m \u001B[49m\u001B[38;5;124;43m'\u001B[39;49m\u001B[38;5;124;43m'\u001B[39;49m\u001B[43m,\u001B[49m\u001B[43m \u001B[49m\u001B[38;5;124;43m'\u001B[39;49m\u001B[38;5;124;43mloader = DirectoryLoader(\u001B[39;49m\u001B[38;5;130;43;01m\\'\u001B[39;49;00m\u001B[38;5;124;43m../\u001B[39;49m\u001B[38;5;130;43;01m\\'\u001B[39;49;00m\u001B[38;5;124;43m, glob=\u001B[39;49m\u001B[38;5;124;43m\"\u001B[39;49m\u001B[38;5;124;43m**/*.txt\u001B[39;49m\u001B[38;5;124;43m\"\u001B[39;49m\u001B[38;5;124;43m)\u001B[39;49m\u001B[38;5;130;43;01m\\n\u001B[39;49;00m\u001B[38;5;124;43mdocs = loader.load()\u001B[39;49m\u001B[38;5;130;43;01m\\n\u001B[39;49;00m\u001B[38;5;124;43m'\u001B[39;49m\u001B[43m)\u001B[49m\n",
      "File \u001B[1;32mp:\\Projects\\LLM-Frameworks-Tutorials\\LangChain Tutorials\\Tutorials from Langchain\\.venv\\Lib\\site-packages\\IPython\\core\\interactiveshell.py:2517\u001B[0m, in \u001B[0;36mInteractiveShell.run_cell_magic\u001B[1;34m(self, magic_name, line, cell)\u001B[0m\n\u001B[0;32m   2515\u001B[0m \u001B[38;5;28;01mwith\u001B[39;00m \u001B[38;5;28mself\u001B[39m\u001B[38;5;241m.\u001B[39mbuiltin_trap:\n\u001B[0;32m   2516\u001B[0m     args \u001B[38;5;241m=\u001B[39m (magic_arg_s, cell)\n\u001B[1;32m-> 2517\u001B[0m     result \u001B[38;5;241m=\u001B[39m \u001B[43mfn\u001B[49m\u001B[43m(\u001B[49m\u001B[38;5;241;43m*\u001B[39;49m\u001B[43margs\u001B[49m\u001B[43m,\u001B[49m\u001B[43m \u001B[49m\u001B[38;5;241;43m*\u001B[39;49m\u001B[38;5;241;43m*\u001B[39;49m\u001B[43mkwargs\u001B[49m\u001B[43m)\u001B[49m\n\u001B[0;32m   2519\u001B[0m \u001B[38;5;66;03m# The code below prevents the output from being displayed\u001B[39;00m\n\u001B[0;32m   2520\u001B[0m \u001B[38;5;66;03m# when using magics with decorator @output_can_be_silenced\u001B[39;00m\n\u001B[0;32m   2521\u001B[0m \u001B[38;5;66;03m# when the last Python token in the expression is a ';'.\u001B[39;00m\n\u001B[0;32m   2522\u001B[0m \u001B[38;5;28;01mif\u001B[39;00m \u001B[38;5;28mgetattr\u001B[39m(fn, magic\u001B[38;5;241m.\u001B[39mMAGIC_OUTPUT_CAN_BE_SILENCED, \u001B[38;5;28;01mFalse\u001B[39;00m):\n",
      "File \u001B[1;32mp:\\Projects\\LLM-Frameworks-Tutorials\\LangChain Tutorials\\Tutorials from Langchain\\.venv\\Lib\\site-packages\\IPython\\core\\magics\\execution.py:1185\u001B[0m, in \u001B[0;36mExecutionMagics.timeit\u001B[1;34m(self, line, cell, local_ns)\u001B[0m\n\u001B[0;32m   1183\u001B[0m \u001B[38;5;28;01mfor\u001B[39;00m index \u001B[38;5;129;01min\u001B[39;00m \u001B[38;5;28mrange\u001B[39m(\u001B[38;5;241m0\u001B[39m, \u001B[38;5;241m10\u001B[39m):\n\u001B[0;32m   1184\u001B[0m     number \u001B[38;5;241m=\u001B[39m \u001B[38;5;241m10\u001B[39m \u001B[38;5;241m*\u001B[39m\u001B[38;5;241m*\u001B[39m index\n\u001B[1;32m-> 1185\u001B[0m     time_number \u001B[38;5;241m=\u001B[39m \u001B[43mtimer\u001B[49m\u001B[38;5;241;43m.\u001B[39;49m\u001B[43mtimeit\u001B[49m\u001B[43m(\u001B[49m\u001B[43mnumber\u001B[49m\u001B[43m)\u001B[49m\n\u001B[0;32m   1186\u001B[0m     \u001B[38;5;28;01mif\u001B[39;00m time_number \u001B[38;5;241m>\u001B[39m\u001B[38;5;241m=\u001B[39m \u001B[38;5;241m0.2\u001B[39m:\n\u001B[0;32m   1187\u001B[0m         \u001B[38;5;28;01mbreak\u001B[39;00m\n",
      "File \u001B[1;32mp:\\Projects\\LLM-Frameworks-Tutorials\\LangChain Tutorials\\Tutorials from Langchain\\.venv\\Lib\\site-packages\\IPython\\core\\magics\\execution.py:173\u001B[0m, in \u001B[0;36mTimer.timeit\u001B[1;34m(self, number)\u001B[0m\n\u001B[0;32m    171\u001B[0m gc\u001B[38;5;241m.\u001B[39mdisable()\n\u001B[0;32m    172\u001B[0m \u001B[38;5;28;01mtry\u001B[39;00m:\n\u001B[1;32m--> 173\u001B[0m     timing \u001B[38;5;241m=\u001B[39m \u001B[38;5;28;43mself\u001B[39;49m\u001B[38;5;241;43m.\u001B[39;49m\u001B[43minner\u001B[49m\u001B[43m(\u001B[49m\u001B[43mit\u001B[49m\u001B[43m,\u001B[49m\u001B[43m \u001B[49m\u001B[38;5;28;43mself\u001B[39;49m\u001B[38;5;241;43m.\u001B[39;49m\u001B[43mtimer\u001B[49m\u001B[43m)\u001B[49m\n\u001B[0;32m    174\u001B[0m \u001B[38;5;28;01mfinally\u001B[39;00m:\n\u001B[0;32m    175\u001B[0m     \u001B[38;5;28;01mif\u001B[39;00m gcold:\n",
      "File \u001B[1;32m<magic-timeit>:2\u001B[0m, in \u001B[0;36minner\u001B[1;34m(_it, _timer)\u001B[0m\n",
      "File \u001B[1;32mp:\\Projects\\LLM-Frameworks-Tutorials\\LangChain Tutorials\\Tutorials from Langchain\\.venv\\Lib\\site-packages\\langchain_community\\document_loaders\\directory.py:157\u001B[0m, in \u001B[0;36mDirectoryLoader.load\u001B[1;34m(self)\u001B[0m\n\u001B[0;32m    155\u001B[0m \u001B[38;5;28;01melse\u001B[39;00m:\n\u001B[0;32m    156\u001B[0m     \u001B[38;5;28;01mfor\u001B[39;00m i \u001B[38;5;129;01min\u001B[39;00m items:\n\u001B[1;32m--> 157\u001B[0m         \u001B[38;5;28;43mself\u001B[39;49m\u001B[38;5;241;43m.\u001B[39;49m\u001B[43mload_file\u001B[49m\u001B[43m(\u001B[49m\u001B[43mi\u001B[49m\u001B[43m,\u001B[49m\u001B[43m \u001B[49m\u001B[43mp\u001B[49m\u001B[43m,\u001B[49m\u001B[43m \u001B[49m\u001B[43mdocs\u001B[49m\u001B[43m,\u001B[49m\u001B[43m \u001B[49m\u001B[43mpbar\u001B[49m\u001B[43m)\u001B[49m\n\u001B[0;32m    159\u001B[0m \u001B[38;5;28;01mif\u001B[39;00m pbar:\n\u001B[0;32m    160\u001B[0m     pbar\u001B[38;5;241m.\u001B[39mclose()\n",
      "File \u001B[1;32mp:\\Projects\\LLM-Frameworks-Tutorials\\LangChain Tutorials\\Tutorials from Langchain\\.venv\\Lib\\site-packages\\langchain_community\\document_loaders\\directory.py:106\u001B[0m, in \u001B[0;36mDirectoryLoader.load_file\u001B[1;34m(self, item, path, docs, pbar)\u001B[0m\n\u001B[0;32m    104\u001B[0m         logger\u001B[38;5;241m.\u001B[39mwarning(\u001B[38;5;124mf\u001B[39m\u001B[38;5;124m\"\u001B[39m\u001B[38;5;124mError loading file \u001B[39m\u001B[38;5;132;01m{\u001B[39;00m\u001B[38;5;28mstr\u001B[39m(item)\u001B[38;5;132;01m}\u001B[39;00m\u001B[38;5;124m: \u001B[39m\u001B[38;5;132;01m{\u001B[39;00me\u001B[38;5;132;01m}\u001B[39;00m\u001B[38;5;124m\"\u001B[39m)\n\u001B[0;32m    105\u001B[0m     \u001B[38;5;28;01melse\u001B[39;00m:\n\u001B[1;32m--> 106\u001B[0m         \u001B[38;5;28;01mraise\u001B[39;00m e\n\u001B[0;32m    107\u001B[0m \u001B[38;5;28;01mfinally\u001B[39;00m:\n\u001B[0;32m    108\u001B[0m     \u001B[38;5;28;01mif\u001B[39;00m pbar:\n",
      "File \u001B[1;32mp:\\Projects\\LLM-Frameworks-Tutorials\\LangChain Tutorials\\Tutorials from Langchain\\.venv\\Lib\\site-packages\\langchain_community\\document_loaders\\directory.py:100\u001B[0m, in \u001B[0;36mDirectoryLoader.load_file\u001B[1;34m(self, item, path, docs, pbar)\u001B[0m\n\u001B[0;32m     98\u001B[0m \u001B[38;5;28;01mtry\u001B[39;00m:\n\u001B[0;32m     99\u001B[0m     logger\u001B[38;5;241m.\u001B[39mdebug(\u001B[38;5;124mf\u001B[39m\u001B[38;5;124m\"\u001B[39m\u001B[38;5;124mProcessing file: \u001B[39m\u001B[38;5;132;01m{\u001B[39;00m\u001B[38;5;28mstr\u001B[39m(item)\u001B[38;5;132;01m}\u001B[39;00m\u001B[38;5;124m\"\u001B[39m)\n\u001B[1;32m--> 100\u001B[0m     sub_docs \u001B[38;5;241m=\u001B[39m \u001B[38;5;28;43mself\u001B[39;49m\u001B[38;5;241;43m.\u001B[39;49m\u001B[43mloader_cls\u001B[49m\u001B[43m(\u001B[49m\u001B[38;5;28;43mstr\u001B[39;49m\u001B[43m(\u001B[49m\u001B[43mitem\u001B[49m\u001B[43m)\u001B[49m\u001B[43m,\u001B[49m\u001B[43m \u001B[49m\u001B[38;5;241;43m*\u001B[39;49m\u001B[38;5;241;43m*\u001B[39;49m\u001B[38;5;28;43mself\u001B[39;49m\u001B[38;5;241;43m.\u001B[39;49m\u001B[43mloader_kwargs\u001B[49m\u001B[43m)\u001B[49m\u001B[38;5;241;43m.\u001B[39;49m\u001B[43mload\u001B[49m\u001B[43m(\u001B[49m\u001B[43m)\u001B[49m\n\u001B[0;32m    101\u001B[0m     docs\u001B[38;5;241m.\u001B[39mextend(sub_docs)\n\u001B[0;32m    102\u001B[0m \u001B[38;5;28;01mexcept\u001B[39;00m \u001B[38;5;167;01mException\u001B[39;00m \u001B[38;5;28;01mas\u001B[39;00m e:\n",
      "File \u001B[1;32mp:\\Projects\\LLM-Frameworks-Tutorials\\LangChain Tutorials\\Tutorials from Langchain\\.venv\\Lib\\site-packages\\langchain_community\\document_loaders\\unstructured.py:87\u001B[0m, in \u001B[0;36mUnstructuredBaseLoader.load\u001B[1;34m(self)\u001B[0m\n\u001B[0;32m     85\u001B[0m \u001B[38;5;28;01mdef\u001B[39;00m \u001B[38;5;21mload\u001B[39m(\u001B[38;5;28mself\u001B[39m) \u001B[38;5;241m-\u001B[39m\u001B[38;5;241m>\u001B[39m List[Document]:\n\u001B[0;32m     86\u001B[0m \u001B[38;5;250m    \u001B[39m\u001B[38;5;124;03m\"\"\"Load file.\"\"\"\u001B[39;00m\n\u001B[1;32m---> 87\u001B[0m     elements \u001B[38;5;241m=\u001B[39m \u001B[38;5;28;43mself\u001B[39;49m\u001B[38;5;241;43m.\u001B[39;49m\u001B[43m_get_elements\u001B[49m\u001B[43m(\u001B[49m\u001B[43m)\u001B[49m\n\u001B[0;32m     88\u001B[0m     \u001B[38;5;28mself\u001B[39m\u001B[38;5;241m.\u001B[39m_post_process_elements(elements)\n\u001B[0;32m     89\u001B[0m     \u001B[38;5;28;01mif\u001B[39;00m \u001B[38;5;28mself\u001B[39m\u001B[38;5;241m.\u001B[39mmode \u001B[38;5;241m==\u001B[39m \u001B[38;5;124m\"\u001B[39m\u001B[38;5;124melements\u001B[39m\u001B[38;5;124m\"\u001B[39m:\n",
      "File \u001B[1;32mp:\\Projects\\LLM-Frameworks-Tutorials\\LangChain Tutorials\\Tutorials from Langchain\\.venv\\Lib\\site-packages\\langchain_community\\document_loaders\\unstructured.py:171\u001B[0m, in \u001B[0;36mUnstructuredFileLoader._get_elements\u001B[1;34m(self)\u001B[0m\n\u001B[0;32m    170\u001B[0m \u001B[38;5;28;01mdef\u001B[39;00m \u001B[38;5;21m_get_elements\u001B[39m(\u001B[38;5;28mself\u001B[39m) \u001B[38;5;241m-\u001B[39m\u001B[38;5;241m>\u001B[39m List:\n\u001B[1;32m--> 171\u001B[0m     \u001B[38;5;28;01mfrom\u001B[39;00m \u001B[38;5;21;01munstructured\u001B[39;00m\u001B[38;5;21;01m.\u001B[39;00m\u001B[38;5;21;01mpartition\u001B[39;00m\u001B[38;5;21;01m.\u001B[39;00m\u001B[38;5;21;01mauto\u001B[39;00m \u001B[38;5;28;01mimport\u001B[39;00m partition\n\u001B[0;32m    173\u001B[0m     \u001B[38;5;28;01mreturn\u001B[39;00m partition(filename\u001B[38;5;241m=\u001B[39m\u001B[38;5;28mself\u001B[39m\u001B[38;5;241m.\u001B[39mfile_path, \u001B[38;5;241m*\u001B[39m\u001B[38;5;241m*\u001B[39m\u001B[38;5;28mself\u001B[39m\u001B[38;5;241m.\u001B[39munstructured_kwargs)\n",
      "File \u001B[1;32mp:\\Projects\\LLM-Frameworks-Tutorials\\LangChain Tutorials\\Tutorials from Langchain\\.venv\\Lib\\site-packages\\unstructured\\partition\\auto.py:81\u001B[0m\n\u001B[0;32m     79\u001B[0m pdf_imports \u001B[38;5;241m=\u001B[39m [\u001B[38;5;124m\"\u001B[39m\u001B[38;5;124mpdf2image\u001B[39m\u001B[38;5;124m\"\u001B[39m, \u001B[38;5;124m\"\u001B[39m\u001B[38;5;124mpdfminer\u001B[39m\u001B[38;5;124m\"\u001B[39m, \u001B[38;5;124m\"\u001B[39m\u001B[38;5;124mPIL\u001B[39m\u001B[38;5;124m\"\u001B[39m]\n\u001B[0;32m     80\u001B[0m \u001B[38;5;28;01mif\u001B[39;00m \u001B[38;5;28mall\u001B[39m(dependency_exists(dep) \u001B[38;5;28;01mfor\u001B[39;00m dep \u001B[38;5;129;01min\u001B[39;00m pdf_imports):\n\u001B[1;32m---> 81\u001B[0m     \u001B[38;5;28;01mfrom\u001B[39;00m \u001B[38;5;21;01munstructured\u001B[39;00m\u001B[38;5;21;01m.\u001B[39;00m\u001B[38;5;21;01mpartition\u001B[39;00m\u001B[38;5;21;01m.\u001B[39;00m\u001B[38;5;21;01mpdf\u001B[39;00m \u001B[38;5;28;01mimport\u001B[39;00m partition_pdf\n\u001B[0;32m     83\u001B[0m     PARTITION_WITH_EXTRAS_MAP[\u001B[38;5;124m\"\u001B[39m\u001B[38;5;124mpdf\u001B[39m\u001B[38;5;124m\"\u001B[39m] \u001B[38;5;241m=\u001B[39m partition_pdf\n\u001B[0;32m     86\u001B[0m \u001B[38;5;28;01mif\u001B[39;00m dependency_exists(\u001B[38;5;124m\"\u001B[39m\u001B[38;5;124munstructured_inference\u001B[39m\u001B[38;5;124m\"\u001B[39m):\n",
      "File \u001B[1;32mp:\\Projects\\LLM-Frameworks-Tutorials\\LangChain Tutorials\\Tutorials from Langchain\\.venv\\Lib\\site-packages\\unstructured\\partition\\pdf.py:36\u001B[0m\n\u001B[0;32m     28\u001B[0m \u001B[38;5;28;01mfrom\u001B[39;00m \u001B[38;5;21;01mpdfminer\u001B[39;00m\u001B[38;5;21;01m.\u001B[39;00m\u001B[38;5;21;01mlayout\u001B[39;00m \u001B[38;5;28;01mimport\u001B[39;00m (\n\u001B[0;32m     29\u001B[0m     LTChar,\n\u001B[0;32m     30\u001B[0m     LTContainer,\n\u001B[1;32m   (...)\u001B[0m\n\u001B[0;32m     33\u001B[0m     LTTextBox,\n\u001B[0;32m     34\u001B[0m )\n\u001B[0;32m     35\u001B[0m \u001B[38;5;28;01mfrom\u001B[39;00m \u001B[38;5;21;01mpdfminer\u001B[39;00m\u001B[38;5;21;01m.\u001B[39;00m\u001B[38;5;21;01mpdftypes\u001B[39;00m \u001B[38;5;28;01mimport\u001B[39;00m PDFObjRef\n\u001B[1;32m---> 36\u001B[0m \u001B[38;5;28;01mfrom\u001B[39;00m \u001B[38;5;21;01mpdfminer\u001B[39;00m\u001B[38;5;21;01m.\u001B[39;00m\u001B[38;5;21;01mutils\u001B[39;00m \u001B[38;5;28;01mimport\u001B[39;00m open_filename\n\u001B[0;32m     37\u001B[0m \u001B[38;5;28;01mfrom\u001B[39;00m \u001B[38;5;21;01mPIL\u001B[39;00m \u001B[38;5;28;01mimport\u001B[39;00m Image \u001B[38;5;28;01mas\u001B[39;00m PILImage\n\u001B[0;32m     39\u001B[0m \u001B[38;5;28;01mfrom\u001B[39;00m \u001B[38;5;21;01munstructured\u001B[39;00m\u001B[38;5;21;01m.\u001B[39;00m\u001B[38;5;21;01mchunking\u001B[39;00m \u001B[38;5;28;01mimport\u001B[39;00m add_chunking_strategy\n",
      "\u001B[1;31mImportError\u001B[0m: cannot import name 'open_filename' from 'pdfminer.utils' (p:\\Projects\\LLM-Frameworks-Tutorials\\LangChain Tutorials\\Tutorials from Langchain\\.venv\\Lib\\site-packages\\pdfminer\\utils.py)"
     ]
    }
   ],
   "source": [
    "%%timeit\n",
    "loader = DirectoryLoader('../', glob=\"**/*.txt\")\n",
    "docs = loader.load()"
   ],
   "metadata": {
    "collapsed": false,
    "ExecuteTime": {
     "end_time": "2024-02-02T14:58:56.860042500Z",
     "start_time": "2024-02-02T14:58:56.719221500Z"
    }
   },
   "id": "cea6640b411d86af",
   "execution_count": 62
  },
  {
   "cell_type": "markdown",
   "source": [
    " Multithreading"
   ],
   "metadata": {
    "collapsed": false
   },
   "id": "2c8c6435679aec23"
  },
  {
   "cell_type": "code",
   "outputs": [
    {
     "name": "stdout",
     "output_type": "stream",
     "text": [
      "9.51 ms ± 838 µs per loop (mean ± std. dev. of 7 runs, 100 loops each)\n"
     ]
    }
   ],
   "source": [
    "%%timeit\n",
    "loader = DirectoryLoader('../', glob=\"**/*.txt\", use_multithreading=True)\n",
    "docs = loader.load()"
   ],
   "metadata": {
    "collapsed": false,
    "ExecuteTime": {
     "end_time": "2024-02-02T14:58:38.641283700Z",
     "start_time": "2024-02-02T14:58:30.763545700Z"
    }
   },
   "id": "7c0bf6e9cda61903",
   "execution_count": 60
  },
  {
   "cell_type": "markdown",
   "source": [
    "[Project Map](#project-map)\n",
    "\n",
    "---"
   ],
   "metadata": {
    "collapsed": false
   },
   "id": "f9d6abd31e13d7a5"
  },
  {
   "cell_type": "markdown",
   "source": [
    "### Change loader class\n",
    "By default this uses the ```UnstructuredLoader``` class. However, you can change up the type of loader pretty easily."
   ],
   "metadata": {
    "collapsed": false
   },
   "id": "53c1b20a7a9594fd"
  },
  {
   "cell_type": "markdown",
   "source": [
    "##### Base Example (Change loader class)"
   ],
   "metadata": {
    "collapsed": false
   },
   "id": "6f1dc1330b53bdc8"
  },
  {
   "cell_type": "code",
   "outputs": [
    {
     "ename": "RuntimeError",
     "evalue": "Error loading ..\\Retrieval\\data\\example-non-utf8.txt",
     "output_type": "error",
     "traceback": [
      "\u001B[1;31m---------------------------------------------------------------------------\u001B[0m",
      "\u001B[1;31mUnicodeDecodeError\u001B[0m                        Traceback (most recent call last)",
      "File \u001B[1;32mp:\\Projects\\LLM-Frameworks-Tutorials\\LangChain Tutorials\\Tutorials from Langchain\\.venv\\Lib\\site-packages\\langchain_community\\document_loaders\\text.py:42\u001B[0m, in \u001B[0;36mTextLoader.load\u001B[1;34m(self)\u001B[0m\n\u001B[0;32m     41\u001B[0m     \u001B[38;5;28;01mwith\u001B[39;00m \u001B[38;5;28mopen\u001B[39m(\u001B[38;5;28mself\u001B[39m\u001B[38;5;241m.\u001B[39mfile_path, encoding\u001B[38;5;241m=\u001B[39m\u001B[38;5;28mself\u001B[39m\u001B[38;5;241m.\u001B[39mencoding) \u001B[38;5;28;01mas\u001B[39;00m f:\n\u001B[1;32m---> 42\u001B[0m         text \u001B[38;5;241m=\u001B[39m \u001B[43mf\u001B[49m\u001B[38;5;241;43m.\u001B[39;49m\u001B[43mread\u001B[49m\u001B[43m(\u001B[49m\u001B[43m)\u001B[49m\n\u001B[0;32m     43\u001B[0m \u001B[38;5;28;01mexcept\u001B[39;00m \u001B[38;5;167;01mUnicodeDecodeError\u001B[39;00m \u001B[38;5;28;01mas\u001B[39;00m e:\n",
      "File \u001B[1;32m~\\AppData\\Local\\Programs\\Python\\Python312\\Lib\\encodings\\cp1252.py:23\u001B[0m, in \u001B[0;36mIncrementalDecoder.decode\u001B[1;34m(self, input, final)\u001B[0m\n\u001B[0;32m     22\u001B[0m \u001B[38;5;28;01mdef\u001B[39;00m \u001B[38;5;21mdecode\u001B[39m(\u001B[38;5;28mself\u001B[39m, \u001B[38;5;28minput\u001B[39m, final\u001B[38;5;241m=\u001B[39m\u001B[38;5;28;01mFalse\u001B[39;00m):\n\u001B[1;32m---> 23\u001B[0m     \u001B[38;5;28;01mreturn\u001B[39;00m \u001B[43mcodecs\u001B[49m\u001B[38;5;241;43m.\u001B[39;49m\u001B[43mcharmap_decode\u001B[49m\u001B[43m(\u001B[49m\u001B[38;5;28;43minput\u001B[39;49m\u001B[43m,\u001B[49m\u001B[38;5;28;43mself\u001B[39;49m\u001B[38;5;241;43m.\u001B[39;49m\u001B[43merrors\u001B[49m\u001B[43m,\u001B[49m\u001B[43mdecoding_table\u001B[49m\u001B[43m)\u001B[49m[\u001B[38;5;241m0\u001B[39m]\n",
      "\u001B[1;31mUnicodeDecodeError\u001B[0m: 'charmap' codec can't decode byte 0x90 in position 4362: character maps to <undefined>",
      "\nThe above exception was the direct cause of the following exception:\n",
      "\u001B[1;31mRuntimeError\u001B[0m                              Traceback (most recent call last)",
      "Cell \u001B[1;32mIn[61], line 5\u001B[0m\n\u001B[0;32m      1\u001B[0m \u001B[38;5;28;01mfrom\u001B[39;00m \u001B[38;5;21;01mlangchain_community\u001B[39;00m\u001B[38;5;21;01m.\u001B[39;00m\u001B[38;5;21;01mdocument_loaders\u001B[39;00m \u001B[38;5;28;01mimport\u001B[39;00m TextLoader\n\u001B[0;32m      3\u001B[0m loader \u001B[38;5;241m=\u001B[39m DirectoryLoader(\u001B[38;5;124m'\u001B[39m\u001B[38;5;124m../\u001B[39m\u001B[38;5;124m'\u001B[39m, glob\u001B[38;5;241m=\u001B[39m\u001B[38;5;124m\"\u001B[39m\u001B[38;5;124m**/*.txt\u001B[39m\u001B[38;5;124m\"\u001B[39m, loader_cls\u001B[38;5;241m=\u001B[39mTextLoader)\n\u001B[1;32m----> 5\u001B[0m docs \u001B[38;5;241m=\u001B[39m \u001B[43mloader\u001B[49m\u001B[38;5;241;43m.\u001B[39;49m\u001B[43mload\u001B[49m\u001B[43m(\u001B[49m\u001B[43m)\u001B[49m\n\u001B[0;32m      7\u001B[0m \u001B[38;5;28mlen\u001B[39m(docs)\n",
      "File \u001B[1;32mp:\\Projects\\LLM-Frameworks-Tutorials\\LangChain Tutorials\\Tutorials from Langchain\\.venv\\Lib\\site-packages\\langchain_community\\document_loaders\\directory.py:157\u001B[0m, in \u001B[0;36mDirectoryLoader.load\u001B[1;34m(self)\u001B[0m\n\u001B[0;32m    155\u001B[0m \u001B[38;5;28;01melse\u001B[39;00m:\n\u001B[0;32m    156\u001B[0m     \u001B[38;5;28;01mfor\u001B[39;00m i \u001B[38;5;129;01min\u001B[39;00m items:\n\u001B[1;32m--> 157\u001B[0m         \u001B[38;5;28;43mself\u001B[39;49m\u001B[38;5;241;43m.\u001B[39;49m\u001B[43mload_file\u001B[49m\u001B[43m(\u001B[49m\u001B[43mi\u001B[49m\u001B[43m,\u001B[49m\u001B[43m \u001B[49m\u001B[43mp\u001B[49m\u001B[43m,\u001B[49m\u001B[43m \u001B[49m\u001B[43mdocs\u001B[49m\u001B[43m,\u001B[49m\u001B[43m \u001B[49m\u001B[43mpbar\u001B[49m\u001B[43m)\u001B[49m\n\u001B[0;32m    159\u001B[0m \u001B[38;5;28;01mif\u001B[39;00m pbar:\n\u001B[0;32m    160\u001B[0m     pbar\u001B[38;5;241m.\u001B[39mclose()\n",
      "File \u001B[1;32mp:\\Projects\\LLM-Frameworks-Tutorials\\LangChain Tutorials\\Tutorials from Langchain\\.venv\\Lib\\site-packages\\langchain_community\\document_loaders\\directory.py:106\u001B[0m, in \u001B[0;36mDirectoryLoader.load_file\u001B[1;34m(self, item, path, docs, pbar)\u001B[0m\n\u001B[0;32m    104\u001B[0m         logger\u001B[38;5;241m.\u001B[39mwarning(\u001B[38;5;124mf\u001B[39m\u001B[38;5;124m\"\u001B[39m\u001B[38;5;124mError loading file \u001B[39m\u001B[38;5;132;01m{\u001B[39;00m\u001B[38;5;28mstr\u001B[39m(item)\u001B[38;5;132;01m}\u001B[39;00m\u001B[38;5;124m: \u001B[39m\u001B[38;5;132;01m{\u001B[39;00me\u001B[38;5;132;01m}\u001B[39;00m\u001B[38;5;124m\"\u001B[39m)\n\u001B[0;32m    105\u001B[0m     \u001B[38;5;28;01melse\u001B[39;00m:\n\u001B[1;32m--> 106\u001B[0m         \u001B[38;5;28;01mraise\u001B[39;00m e\n\u001B[0;32m    107\u001B[0m \u001B[38;5;28;01mfinally\u001B[39;00m:\n\u001B[0;32m    108\u001B[0m     \u001B[38;5;28;01mif\u001B[39;00m pbar:\n",
      "File \u001B[1;32mp:\\Projects\\LLM-Frameworks-Tutorials\\LangChain Tutorials\\Tutorials from Langchain\\.venv\\Lib\\site-packages\\langchain_community\\document_loaders\\directory.py:100\u001B[0m, in \u001B[0;36mDirectoryLoader.load_file\u001B[1;34m(self, item, path, docs, pbar)\u001B[0m\n\u001B[0;32m     98\u001B[0m \u001B[38;5;28;01mtry\u001B[39;00m:\n\u001B[0;32m     99\u001B[0m     logger\u001B[38;5;241m.\u001B[39mdebug(\u001B[38;5;124mf\u001B[39m\u001B[38;5;124m\"\u001B[39m\u001B[38;5;124mProcessing file: \u001B[39m\u001B[38;5;132;01m{\u001B[39;00m\u001B[38;5;28mstr\u001B[39m(item)\u001B[38;5;132;01m}\u001B[39;00m\u001B[38;5;124m\"\u001B[39m)\n\u001B[1;32m--> 100\u001B[0m     sub_docs \u001B[38;5;241m=\u001B[39m \u001B[38;5;28;43mself\u001B[39;49m\u001B[38;5;241;43m.\u001B[39;49m\u001B[43mloader_cls\u001B[49m\u001B[43m(\u001B[49m\u001B[38;5;28;43mstr\u001B[39;49m\u001B[43m(\u001B[49m\u001B[43mitem\u001B[49m\u001B[43m)\u001B[49m\u001B[43m,\u001B[49m\u001B[43m \u001B[49m\u001B[38;5;241;43m*\u001B[39;49m\u001B[38;5;241;43m*\u001B[39;49m\u001B[38;5;28;43mself\u001B[39;49m\u001B[38;5;241;43m.\u001B[39;49m\u001B[43mloader_kwargs\u001B[49m\u001B[43m)\u001B[49m\u001B[38;5;241;43m.\u001B[39;49m\u001B[43mload\u001B[49m\u001B[43m(\u001B[49m\u001B[43m)\u001B[49m\n\u001B[0;32m    101\u001B[0m     docs\u001B[38;5;241m.\u001B[39mextend(sub_docs)\n\u001B[0;32m    102\u001B[0m \u001B[38;5;28;01mexcept\u001B[39;00m \u001B[38;5;167;01mException\u001B[39;00m \u001B[38;5;28;01mas\u001B[39;00m e:\n",
      "File \u001B[1;32mp:\\Projects\\LLM-Frameworks-Tutorials\\LangChain Tutorials\\Tutorials from Langchain\\.venv\\Lib\\site-packages\\langchain_community\\document_loaders\\text.py:55\u001B[0m, in \u001B[0;36mTextLoader.load\u001B[1;34m(self)\u001B[0m\n\u001B[0;32m     53\u001B[0m                 \u001B[38;5;28;01mcontinue\u001B[39;00m\n\u001B[0;32m     54\u001B[0m     \u001B[38;5;28;01melse\u001B[39;00m:\n\u001B[1;32m---> 55\u001B[0m         \u001B[38;5;28;01mraise\u001B[39;00m \u001B[38;5;167;01mRuntimeError\u001B[39;00m(\u001B[38;5;124mf\u001B[39m\u001B[38;5;124m\"\u001B[39m\u001B[38;5;124mError loading \u001B[39m\u001B[38;5;132;01m{\u001B[39;00m\u001B[38;5;28mself\u001B[39m\u001B[38;5;241m.\u001B[39mfile_path\u001B[38;5;132;01m}\u001B[39;00m\u001B[38;5;124m\"\u001B[39m) \u001B[38;5;28;01mfrom\u001B[39;00m \u001B[38;5;21;01me\u001B[39;00m\n\u001B[0;32m     56\u001B[0m \u001B[38;5;28;01mexcept\u001B[39;00m \u001B[38;5;167;01mException\u001B[39;00m \u001B[38;5;28;01mas\u001B[39;00m e:\n\u001B[0;32m     57\u001B[0m     \u001B[38;5;28;01mraise\u001B[39;00m \u001B[38;5;167;01mRuntimeError\u001B[39;00m(\u001B[38;5;124mf\u001B[39m\u001B[38;5;124m\"\u001B[39m\u001B[38;5;124mError loading \u001B[39m\u001B[38;5;132;01m{\u001B[39;00m\u001B[38;5;28mself\u001B[39m\u001B[38;5;241m.\u001B[39mfile_path\u001B[38;5;132;01m}\u001B[39;00m\u001B[38;5;124m\"\u001B[39m) \u001B[38;5;28;01mfrom\u001B[39;00m \u001B[38;5;21;01me\u001B[39;00m\n",
      "\u001B[1;31mRuntimeError\u001B[0m: Error loading ..\\Retrieval\\data\\example-non-utf8.txt"
     ]
    }
   ],
   "source": [
    "from langchain_community.document_loaders import TextLoader\n",
    "\n",
    "loader = DirectoryLoader('../', glob=\"**/*.txt\", loader_cls=TextLoader)\n",
    "\n",
    "docs = loader.load()\n",
    "\n",
    "len(docs)"
   ],
   "metadata": {
    "collapsed": false,
    "ExecuteTime": {
     "end_time": "2024-02-02T14:58:38.727711400Z",
     "start_time": "2024-02-02T14:58:38.641283700Z"
    }
   },
   "id": "6d0fbc37c3985af5",
   "execution_count": 61
  },
  {
   "cell_type": "markdown",
   "source": [
    "##### Load Python Source Code\n",
    "If you need to load Python source code files, use the ```PythonLoader```."
   ],
   "metadata": {
    "collapsed": false
   },
   "id": "d23c32ac3f54f103"
  },
  {
   "cell_type": "code",
   "outputs": [
    {
     "data": {
      "text/plain": "15"
     },
     "execution_count": 63,
     "metadata": {},
     "output_type": "execute_result"
    }
   ],
   "source": [
    "from langchain_community.document_loaders import PythonLoader\n",
    "\n",
    "loader = DirectoryLoader('../../../../../', glob=\"**/*.py\", loader_cls=PythonLoader)\n",
    "\n",
    "docs = loader.load()\n",
    "\n",
    "len(docs)"
   ],
   "metadata": {
    "collapsed": false,
    "ExecuteTime": {
     "end_time": "2024-02-02T14:59:04.381453700Z",
     "start_time": "2024-02-02T14:59:03.391610300Z"
    }
   },
   "id": "50a25eb1edcea980",
   "execution_count": 63
  },
  {
   "cell_type": "markdown",
   "source": [
    "[Project Map](#project-map)\n",
    "\n",
    "---"
   ],
   "metadata": {
    "collapsed": false
   },
   "id": "3891047355a6f783"
  },
  {
   "cell_type": "markdown",
   "source": [
    "### Auto-detect file encodings with TextLoader\n",
    "\n",
    "In this example we will see some strategies that can be useful when loading a large list of arbitrary files from a directory using the ```TextLoader``` class.\n",
    "\n",
    "First to illustrate the problem, let's try to load multiple texts with arbitrary encodings."
   ],
   "metadata": {
    "collapsed": false
   },
   "id": "97aefcc59664f0d5"
  },
  {
   "cell_type": "code",
   "outputs": [],
   "source": [
    "path = './data'\n",
    "loader = DirectoryLoader(path, glob=\"**/*.txt\", loader_cls=TextLoader)"
   ],
   "metadata": {
    "collapsed": false,
    "ExecuteTime": {
     "end_time": "2024-02-02T14:59:04.515486100Z",
     "start_time": "2024-02-02T14:59:04.494975800Z"
    }
   },
   "id": "cda2d9bda63c388d",
   "execution_count": 64
  },
  {
   "cell_type": "markdown",
   "source": [
    "##### A. Default Behavior"
   ],
   "metadata": {
    "collapsed": false
   },
   "id": "7651acb0a4a885e5"
  },
  {
   "cell_type": "code",
   "outputs": [
    {
     "ename": "RuntimeError",
     "evalue": "Error loading data\\example-non-utf8.txt",
     "output_type": "error",
     "traceback": [
      "\u001B[1;31m---------------------------------------------------------------------------\u001B[0m",
      "\u001B[1;31mUnicodeDecodeError\u001B[0m                        Traceback (most recent call last)",
      "File \u001B[1;32mp:\\Projects\\LLM-Frameworks-Tutorials\\LangChain Tutorials\\Tutorials from Langchain\\.venv\\Lib\\site-packages\\langchain_community\\document_loaders\\text.py:42\u001B[0m, in \u001B[0;36mTextLoader.load\u001B[1;34m(self)\u001B[0m\n\u001B[0;32m     41\u001B[0m     \u001B[38;5;28;01mwith\u001B[39;00m \u001B[38;5;28mopen\u001B[39m(\u001B[38;5;28mself\u001B[39m\u001B[38;5;241m.\u001B[39mfile_path, encoding\u001B[38;5;241m=\u001B[39m\u001B[38;5;28mself\u001B[39m\u001B[38;5;241m.\u001B[39mencoding) \u001B[38;5;28;01mas\u001B[39;00m f:\n\u001B[1;32m---> 42\u001B[0m         text \u001B[38;5;241m=\u001B[39m \u001B[43mf\u001B[49m\u001B[38;5;241;43m.\u001B[39;49m\u001B[43mread\u001B[49m\u001B[43m(\u001B[49m\u001B[43m)\u001B[49m\n\u001B[0;32m     43\u001B[0m \u001B[38;5;28;01mexcept\u001B[39;00m \u001B[38;5;167;01mUnicodeDecodeError\u001B[39;00m \u001B[38;5;28;01mas\u001B[39;00m e:\n",
      "File \u001B[1;32m~\\AppData\\Local\\Programs\\Python\\Python312\\Lib\\encodings\\cp1252.py:23\u001B[0m, in \u001B[0;36mIncrementalDecoder.decode\u001B[1;34m(self, input, final)\u001B[0m\n\u001B[0;32m     22\u001B[0m \u001B[38;5;28;01mdef\u001B[39;00m \u001B[38;5;21mdecode\u001B[39m(\u001B[38;5;28mself\u001B[39m, \u001B[38;5;28minput\u001B[39m, final\u001B[38;5;241m=\u001B[39m\u001B[38;5;28;01mFalse\u001B[39;00m):\n\u001B[1;32m---> 23\u001B[0m     \u001B[38;5;28;01mreturn\u001B[39;00m \u001B[43mcodecs\u001B[49m\u001B[38;5;241;43m.\u001B[39;49m\u001B[43mcharmap_decode\u001B[49m\u001B[43m(\u001B[49m\u001B[38;5;28;43minput\u001B[39;49m\u001B[43m,\u001B[49m\u001B[38;5;28;43mself\u001B[39;49m\u001B[38;5;241;43m.\u001B[39;49m\u001B[43merrors\u001B[49m\u001B[43m,\u001B[49m\u001B[43mdecoding_table\u001B[49m\u001B[43m)\u001B[49m[\u001B[38;5;241m0\u001B[39m]\n",
      "\u001B[1;31mUnicodeDecodeError\u001B[0m: 'charmap' codec can't decode byte 0x90 in position 4362: character maps to <undefined>",
      "\nThe above exception was the direct cause of the following exception:\n",
      "\u001B[1;31mRuntimeError\u001B[0m                              Traceback (most recent call last)",
      "Cell \u001B[1;32mIn[65], line 1\u001B[0m\n\u001B[1;32m----> 1\u001B[0m \u001B[43mloader\u001B[49m\u001B[38;5;241;43m.\u001B[39;49m\u001B[43mload\u001B[49m\u001B[43m(\u001B[49m\u001B[43m)\u001B[49m\n",
      "File \u001B[1;32mp:\\Projects\\LLM-Frameworks-Tutorials\\LangChain Tutorials\\Tutorials from Langchain\\.venv\\Lib\\site-packages\\langchain_community\\document_loaders\\directory.py:157\u001B[0m, in \u001B[0;36mDirectoryLoader.load\u001B[1;34m(self)\u001B[0m\n\u001B[0;32m    155\u001B[0m \u001B[38;5;28;01melse\u001B[39;00m:\n\u001B[0;32m    156\u001B[0m     \u001B[38;5;28;01mfor\u001B[39;00m i \u001B[38;5;129;01min\u001B[39;00m items:\n\u001B[1;32m--> 157\u001B[0m         \u001B[38;5;28;43mself\u001B[39;49m\u001B[38;5;241;43m.\u001B[39;49m\u001B[43mload_file\u001B[49m\u001B[43m(\u001B[49m\u001B[43mi\u001B[49m\u001B[43m,\u001B[49m\u001B[43m \u001B[49m\u001B[43mp\u001B[49m\u001B[43m,\u001B[49m\u001B[43m \u001B[49m\u001B[43mdocs\u001B[49m\u001B[43m,\u001B[49m\u001B[43m \u001B[49m\u001B[43mpbar\u001B[49m\u001B[43m)\u001B[49m\n\u001B[0;32m    159\u001B[0m \u001B[38;5;28;01mif\u001B[39;00m pbar:\n\u001B[0;32m    160\u001B[0m     pbar\u001B[38;5;241m.\u001B[39mclose()\n",
      "File \u001B[1;32mp:\\Projects\\LLM-Frameworks-Tutorials\\LangChain Tutorials\\Tutorials from Langchain\\.venv\\Lib\\site-packages\\langchain_community\\document_loaders\\directory.py:106\u001B[0m, in \u001B[0;36mDirectoryLoader.load_file\u001B[1;34m(self, item, path, docs, pbar)\u001B[0m\n\u001B[0;32m    104\u001B[0m         logger\u001B[38;5;241m.\u001B[39mwarning(\u001B[38;5;124mf\u001B[39m\u001B[38;5;124m\"\u001B[39m\u001B[38;5;124mError loading file \u001B[39m\u001B[38;5;132;01m{\u001B[39;00m\u001B[38;5;28mstr\u001B[39m(item)\u001B[38;5;132;01m}\u001B[39;00m\u001B[38;5;124m: \u001B[39m\u001B[38;5;132;01m{\u001B[39;00me\u001B[38;5;132;01m}\u001B[39;00m\u001B[38;5;124m\"\u001B[39m)\n\u001B[0;32m    105\u001B[0m     \u001B[38;5;28;01melse\u001B[39;00m:\n\u001B[1;32m--> 106\u001B[0m         \u001B[38;5;28;01mraise\u001B[39;00m e\n\u001B[0;32m    107\u001B[0m \u001B[38;5;28;01mfinally\u001B[39;00m:\n\u001B[0;32m    108\u001B[0m     \u001B[38;5;28;01mif\u001B[39;00m pbar:\n",
      "File \u001B[1;32mp:\\Projects\\LLM-Frameworks-Tutorials\\LangChain Tutorials\\Tutorials from Langchain\\.venv\\Lib\\site-packages\\langchain_community\\document_loaders\\directory.py:100\u001B[0m, in \u001B[0;36mDirectoryLoader.load_file\u001B[1;34m(self, item, path, docs, pbar)\u001B[0m\n\u001B[0;32m     98\u001B[0m \u001B[38;5;28;01mtry\u001B[39;00m:\n\u001B[0;32m     99\u001B[0m     logger\u001B[38;5;241m.\u001B[39mdebug(\u001B[38;5;124mf\u001B[39m\u001B[38;5;124m\"\u001B[39m\u001B[38;5;124mProcessing file: \u001B[39m\u001B[38;5;132;01m{\u001B[39;00m\u001B[38;5;28mstr\u001B[39m(item)\u001B[38;5;132;01m}\u001B[39;00m\u001B[38;5;124m\"\u001B[39m)\n\u001B[1;32m--> 100\u001B[0m     sub_docs \u001B[38;5;241m=\u001B[39m \u001B[38;5;28;43mself\u001B[39;49m\u001B[38;5;241;43m.\u001B[39;49m\u001B[43mloader_cls\u001B[49m\u001B[43m(\u001B[49m\u001B[38;5;28;43mstr\u001B[39;49m\u001B[43m(\u001B[49m\u001B[43mitem\u001B[49m\u001B[43m)\u001B[49m\u001B[43m,\u001B[49m\u001B[43m \u001B[49m\u001B[38;5;241;43m*\u001B[39;49m\u001B[38;5;241;43m*\u001B[39;49m\u001B[38;5;28;43mself\u001B[39;49m\u001B[38;5;241;43m.\u001B[39;49m\u001B[43mloader_kwargs\u001B[49m\u001B[43m)\u001B[49m\u001B[38;5;241;43m.\u001B[39;49m\u001B[43mload\u001B[49m\u001B[43m(\u001B[49m\u001B[43m)\u001B[49m\n\u001B[0;32m    101\u001B[0m     docs\u001B[38;5;241m.\u001B[39mextend(sub_docs)\n\u001B[0;32m    102\u001B[0m \u001B[38;5;28;01mexcept\u001B[39;00m \u001B[38;5;167;01mException\u001B[39;00m \u001B[38;5;28;01mas\u001B[39;00m e:\n",
      "File \u001B[1;32mp:\\Projects\\LLM-Frameworks-Tutorials\\LangChain Tutorials\\Tutorials from Langchain\\.venv\\Lib\\site-packages\\langchain_community\\document_loaders\\text.py:55\u001B[0m, in \u001B[0;36mTextLoader.load\u001B[1;34m(self)\u001B[0m\n\u001B[0;32m     53\u001B[0m                 \u001B[38;5;28;01mcontinue\u001B[39;00m\n\u001B[0;32m     54\u001B[0m     \u001B[38;5;28;01melse\u001B[39;00m:\n\u001B[1;32m---> 55\u001B[0m         \u001B[38;5;28;01mraise\u001B[39;00m \u001B[38;5;167;01mRuntimeError\u001B[39;00m(\u001B[38;5;124mf\u001B[39m\u001B[38;5;124m\"\u001B[39m\u001B[38;5;124mError loading \u001B[39m\u001B[38;5;132;01m{\u001B[39;00m\u001B[38;5;28mself\u001B[39m\u001B[38;5;241m.\u001B[39mfile_path\u001B[38;5;132;01m}\u001B[39;00m\u001B[38;5;124m\"\u001B[39m) \u001B[38;5;28;01mfrom\u001B[39;00m \u001B[38;5;21;01me\u001B[39;00m\n\u001B[0;32m     56\u001B[0m \u001B[38;5;28;01mexcept\u001B[39;00m \u001B[38;5;167;01mException\u001B[39;00m \u001B[38;5;28;01mas\u001B[39;00m e:\n\u001B[0;32m     57\u001B[0m     \u001B[38;5;28;01mraise\u001B[39;00m \u001B[38;5;167;01mRuntimeError\u001B[39;00m(\u001B[38;5;124mf\u001B[39m\u001B[38;5;124m\"\u001B[39m\u001B[38;5;124mError loading \u001B[39m\u001B[38;5;132;01m{\u001B[39;00m\u001B[38;5;28mself\u001B[39m\u001B[38;5;241m.\u001B[39mfile_path\u001B[38;5;132;01m}\u001B[39;00m\u001B[38;5;124m\"\u001B[39m) \u001B[38;5;28;01mfrom\u001B[39;00m \u001B[38;5;21;01me\u001B[39;00m\n",
      "\u001B[1;31mRuntimeError\u001B[0m: Error loading data\\example-non-utf8.txt"
     ]
    }
   ],
   "source": [
    "loader.load()"
   ],
   "metadata": {
    "collapsed": false,
    "ExecuteTime": {
     "end_time": "2024-02-02T14:59:04.951299700Z",
     "start_time": "2024-02-02T14:59:04.899556900Z"
    }
   },
   "id": "62282ab16f343a1b",
   "execution_count": 65
  },
  {
   "cell_type": "markdown",
   "source": [
    "The file example-non-utf8.txt uses a different encoding, so the load() function fails with a helpful message indicating which file failed decoding.\n",
    "\n",
    "With the default behavior of TextLoader any failure to load any of the documents will fail the whole loading process and no documents are loaded."
   ],
   "metadata": {
    "collapsed": false
   },
   "id": "c8ffc2c8a47f8621"
  },
  {
   "cell_type": "markdown",
   "source": [
    "##### B. Silent fail\n",
    "We can pass the parameter ```silent_errors``` to the ```DirectoryLoader``` to skip the files which could not be loaded and continue the load process.\n",
    "\n",
    "The example-non-utf8.txt will not be loaded in docs"
   ],
   "metadata": {
    "collapsed": false
   },
   "id": "12e778a264c60c41"
  },
  {
   "cell_type": "code",
   "outputs": [
    {
     "name": "stderr",
     "output_type": "stream",
     "text": [
      "Error loading file data\\example-non-utf8.txt: Error loading data\\example-non-utf8.txt\n"
     ]
    }
   ],
   "source": [
    "loader = DirectoryLoader(path, glob=\"**/*.txt\", loader_cls=TextLoader, silent_errors=True)\n",
    "docs = loader.load()\n",
    "\n",
    "# the example-non-utf8.txt will not be loaded in docs"
   ],
   "metadata": {
    "collapsed": false,
    "ExecuteTime": {
     "end_time": "2024-02-02T14:59:05.464471400Z",
     "start_time": "2024-02-02T14:59:05.446064Z"
    }
   },
   "id": "f362b43c04681e54",
   "execution_count": 66
  },
  {
   "cell_type": "code",
   "outputs": [
    {
     "data": {
      "text/plain": "['data\\\\An Overview of Thread Implementation in Multi-Threaded Computer Systems.txt',\n 'data\\\\Portfolio Solutions for a Business Enterprise-Wide Upgrade.txt',\n 'data\\\\whatsapp_chat.txt',\n 'data\\\\fake_discord_data\\\\output.txt']"
     },
     "execution_count": 67,
     "metadata": {},
     "output_type": "execute_result"
    }
   ],
   "source": [
    "doc_sources = [doc.metadata['source']  for doc in docs]\n",
    "doc_sources"
   ],
   "metadata": {
    "collapsed": false,
    "ExecuteTime": {
     "end_time": "2024-02-02T14:59:05.674785100Z",
     "start_time": "2024-02-02T14:59:05.648256Z"
    }
   },
   "id": "37db042ff73c5dca",
   "execution_count": 67
  },
  {
   "cell_type": "markdown",
   "source": [
    "[Project Map](#project-map)\n",
    "\n",
    "---"
   ],
   "metadata": {
    "collapsed": false
   },
   "id": "f3d7a31637967f67"
  },
  {
   "cell_type": "markdown",
   "source": [
    "##### C. Auto detect encodings\n",
    "We can also ask ```TextLoader``` to auto detect the file encoding before failing, by passing the ```autodetect_encoding``` to the loader class.\n",
    "\n",
    "This will load example-non-utf8.txt without generating an error"
   ],
   "metadata": {
    "collapsed": false
   },
   "id": "b7449e296370a40"
  },
  {
   "cell_type": "code",
   "outputs": [],
   "source": [
    "text_loader_kwargs={'autodetect_encoding': True}\n",
    "loader = DirectoryLoader(path, glob=\"**/*.txt\", loader_cls=TextLoader, loader_kwargs=text_loader_kwargs)\n",
    "docs = loader.load()"
   ],
   "metadata": {
    "collapsed": false,
    "ExecuteTime": {
     "end_time": "2024-02-02T14:59:06.270936300Z",
     "start_time": "2024-02-02T14:59:06.220888400Z"
    }
   },
   "id": "e6c5e5017a77e8f5",
   "execution_count": 68
  },
  {
   "cell_type": "code",
   "outputs": [
    {
     "data": {
      "text/plain": "['data\\\\An Overview of Thread Implementation in Multi-Threaded Computer Systems.txt',\n 'data\\\\example-non-utf8.txt',\n 'data\\\\Portfolio Solutions for a Business Enterprise-Wide Upgrade.txt',\n 'data\\\\whatsapp_chat.txt',\n 'data\\\\fake_discord_data\\\\output.txt']"
     },
     "execution_count": 69,
     "metadata": {},
     "output_type": "execute_result"
    }
   ],
   "source": [
    "doc_sources = [doc.metadata['source']  for doc in docs]\n",
    "doc_sources"
   ],
   "metadata": {
    "collapsed": false,
    "ExecuteTime": {
     "end_time": "2024-02-02T14:59:06.475504300Z",
     "start_time": "2024-02-02T14:59:06.433120100Z"
    }
   },
   "id": "825fbc4428703826",
   "execution_count": 69
  },
  {
   "cell_type": "markdown",
   "source": [
    "[Project Map](#project-map)\n",
    "\n",
    "---"
   ],
   "metadata": {
    "collapsed": false
   },
   "id": "2ad5d4052e512cfe"
  },
  {
   "cell_type": "markdown",
   "source": [
    "---\n",
    "## HTML\n",
    "The HyperText Markup Language or HTML is the standard markup language for documents designed to be displayed in a web browser.\n",
    "\n",
    "This covers how to load HTML documents into a document format that we can use downstream.\n",
    "\n",
    "<br>\n",
    "\n",
    "---"
   ],
   "metadata": {
    "collapsed": false
   },
   "id": "3426e784fedde5a4"
  },
  {
   "cell_type": "markdown",
   "source": [
    "### Base Example (HTML)"
   ],
   "metadata": {
    "collapsed": false
   },
   "id": "431021229f26f3b6"
  },
  {
   "cell_type": "code",
   "outputs": [
    {
     "name": "stderr",
     "output_type": "stream",
     "text": [
      " 20%|██        | 1/5 [00:36<02:27, 36.95s/it]\n"
     ]
    },
    {
     "data": {
      "text/plain": "[Document(page_content='My First Heading\\n\\nMy first paragraph.', metadata={'source': 'data/fake-content.html'})]"
     },
     "execution_count": 70,
     "metadata": {},
     "output_type": "execute_result"
    }
   ],
   "source": [
    "from langchain_community.document_loaders import UnstructuredHTMLLoader\n",
    "\n",
    "loader = UnstructuredHTMLLoader(\"data/fake-content.html\")\n",
    "data = loader.load()\n",
    "\n",
    "data"
   ],
   "metadata": {
    "collapsed": false,
    "ExecuteTime": {
     "end_time": "2024-02-02T14:59:07.567931800Z",
     "start_time": "2024-02-02T14:59:07.300676300Z"
    }
   },
   "id": "4a5fa09478d81c35",
   "execution_count": 70
  },
  {
   "cell_type": "markdown",
   "source": [
    "### Loading HTML with BeautifulSoup4\n",
    "\n",
    "We can also use ```BeautifulSoup4``` to load HTML documents using the ```BSHTMLLoader```. This will extract the text from the HTML ```into page_content```, and the ```page title``` as title ```into metadata```."
   ],
   "metadata": {
    "collapsed": false
   },
   "id": "3d275c6385744673"
  },
  {
   "cell_type": "code",
   "outputs": [
    {
     "data": {
      "text/plain": "[Document(page_content='\\nTest Title\\n\\n\\nMy First Heading\\nMy first paragraph.\\n\\n\\n', metadata={'source': 'data/fake-content.html', 'title': 'Test Title'})]"
     },
     "execution_count": 71,
     "metadata": {},
     "output_type": "execute_result"
    }
   ],
   "source": [
    "from langchain_community.document_loaders import BSHTMLLoader\n",
    "\n",
    "loader = BSHTMLLoader(\"data/fake-content.html\")\n",
    "data = loader.load()\n",
    "data"
   ],
   "metadata": {
    "collapsed": false,
    "ExecuteTime": {
     "end_time": "2024-02-02T14:59:07.829881700Z",
     "start_time": "2024-02-02T14:59:07.765417800Z"
    }
   },
   "id": "32f8cb47af0164dd",
   "execution_count": 71
  },
  {
   "cell_type": "markdown",
   "source": [
    "[Project Map](#project-map)\n",
    "\n",
    "---"
   ],
   "metadata": {
    "collapsed": false
   },
   "id": "87daae9822b1da38"
  },
  {
   "cell_type": "markdown",
   "source": [
    "---\n",
    "## JSON\n",
    "[JSON](https://en.wikipedia.org/wiki/JSON) (JavaScript Object Notation) is an open standard file format and data interchange format that uses human-readable text to store and transmit data objects consisting of attribute–value pairs and arrays (or other serializable values).\n",
    "\n",
    "[JSON Lines](https://jsonlines.org/) is a file format where each line is a valid JSON value.\n",
    "\n",
    "The ```JSONLoader``` uses a specified [jq schema](https://en.wikipedia.org/wiki/Jq_(programming_language)) to parse the JSON files. It uses the jq python package `(Only for Linux OSes)`. Check this [manual](https://jqlang.github.io/jq/manual/) for a detailed documentation of the ```jq``` syntax.This covers how to load HTML documents into a document format that we can use downstream.\n",
    "\n",
    "<br>\n",
    "\n",
    "---\n",
    "\n"
   ],
   "metadata": {
    "collapsed": false
   },
   "id": "a0a5a94fc94c1793"
  },
  {
   "cell_type": "markdown",
   "source": [
    "### Base Example (JSON)"
   ],
   "metadata": {
    "collapsed": false
   },
   "id": "46bbd08f739244d9"
  },
  {
   "cell_type": "code",
   "outputs": [],
   "source": [
    "# jq works only with linux OSes\n",
    "#!pip install jq"
   ],
   "metadata": {
    "collapsed": false,
    "ExecuteTime": {
     "end_time": "2024-02-02T14:59:09.188977900Z",
     "start_time": "2024-02-02T14:59:09.172471Z"
    }
   },
   "id": "b4ba64b8c6954e60",
   "execution_count": 72
  },
  {
   "cell_type": "code",
   "outputs": [
    {
     "name": "stdout",
     "output_type": "stream",
     "text": [
      "{'image': {'creation_timestamp': 1675549016, 'uri': 'image_of_the_chat.jpg'},\n",
      " 'is_still_participant': True,\n",
      " 'joinable_mode': {'link': '', 'mode': 1},\n",
      " 'magic_words': [],\n",
      " 'messages': [{'content': 'Bye!',\n",
      "               'sender_name': 'User 2',\n",
      "               'timestamp_ms': 1675597571851},\n",
      "              {'content': 'Oh no worries! Bye',\n",
      "               'sender_name': 'User 1',\n",
      "               'timestamp_ms': 1675597435669},\n",
      "              {'content': 'No Im sorry it was my mistake, the blue one is not '\n",
      "                          'for sale',\n",
      "               'sender_name': 'User 2',\n",
      "               'timestamp_ms': 1675596277579},\n",
      "              {'content': 'I thought you were selling the blue one!',\n",
      "               'sender_name': 'User 1',\n",
      "               'timestamp_ms': 1675595140251},\n",
      "              {'content': 'Im not interested in this bag. Im interested in the '\n",
      "                          'blue one!',\n",
      "               'sender_name': 'User 1',\n",
      "               'timestamp_ms': 1675595109305},\n",
      "              {'content': 'Here is $129',\n",
      "               'sender_name': 'User 2',\n",
      "               'timestamp_ms': 1675595068468},\n",
      "              {'photos': [{'creation_timestamp': 1675595059,\n",
      "                           'uri': 'url_of_some_picture.jpg'}],\n",
      "               'sender_name': 'User 2',\n",
      "               'timestamp_ms': 1675595060730},\n",
      "              {'content': 'Online is at least $100',\n",
      "               'sender_name': 'User 2',\n",
      "               'timestamp_ms': 1675595045152},\n",
      "              {'content': 'How much do you want?',\n",
      "               'sender_name': 'User 1',\n",
      "               'timestamp_ms': 1675594799696},\n",
      "              {'content': 'Goodmorning! $50 is too low.',\n",
      "               'sender_name': 'User 2',\n",
      "               'timestamp_ms': 1675577876645},\n",
      "              {'content': 'Hi! Im interested in your bag. Im offering $50. Let '\n",
      "                          'me know if you are interested. Thanks!',\n",
      "               'sender_name': 'User 1',\n",
      "               'timestamp_ms': 1675549022673}],\n",
      " 'participants': [{'name': 'User 1'}, {'name': 'User 2'}],\n",
      " 'thread_path': 'inbox/User 1 and User 2 chat',\n",
      " 'title': 'User 1 and User 2 chat'}\n"
     ]
    }
   ],
   "source": [
    "import json\n",
    "from pathlib import Path\n",
    "from pprint import pprint\n",
    "\n",
    "\n",
    "file_path='data/facebook_chat.json'\n",
    "data = json.loads(Path(file_path).read_text())\n",
    "\n",
    "pprint(data)"
   ],
   "metadata": {
    "collapsed": false,
    "ExecuteTime": {
     "end_time": "2024-02-02T14:59:09.959635400Z",
     "start_time": "2024-02-02T14:59:09.942888300Z"
    }
   },
   "id": "4f201e2a18729694",
   "execution_count": 73
  },
  {
   "cell_type": "markdown",
   "source": [
    "### Using JSONLoader (Linux Only)\n",
    "\n",
    "Suppose we are interested in extracting the values under the ```content``` field within the ```messages``` key of the JSON data. This can easily be done through the ```JSONLoader``` as shown below."
   ],
   "metadata": {
    "collapsed": false
   },
   "id": "8749fbb596677d22"
  },
  {
   "cell_type": "code",
   "outputs": [
    {
     "ename": "ImportError",
     "evalue": "jq package not found, please install it with `pip install jq`",
     "output_type": "error",
     "traceback": [
      "\u001B[1;31m---------------------------------------------------------------------------\u001B[0m",
      "\u001B[1;31mModuleNotFoundError\u001B[0m                       Traceback (most recent call last)",
      "File \u001B[1;32mp:\\Projects\\LLM-Frameworks-Tutorials\\LangChain Tutorials\\Tutorials from Langchain\\.venv\\Lib\\site-packages\\langchain_community\\document_loaders\\json_loader.py:45\u001B[0m, in \u001B[0;36mJSONLoader.__init__\u001B[1;34m(self, file_path, jq_schema, content_key, metadata_func, text_content, json_lines)\u001B[0m\n\u001B[0;32m     44\u001B[0m \u001B[38;5;28;01mtry\u001B[39;00m:\n\u001B[1;32m---> 45\u001B[0m     \u001B[38;5;28;01mimport\u001B[39;00m \u001B[38;5;21;01mjq\u001B[39;00m  \u001B[38;5;66;03m# noqa:F401\u001B[39;00m\n\u001B[0;32m     46\u001B[0m \u001B[38;5;28;01mexcept\u001B[39;00m \u001B[38;5;167;01mImportError\u001B[39;00m:\n",
      "\u001B[1;31mModuleNotFoundError\u001B[0m: No module named 'jq'",
      "\nDuring handling of the above exception, another exception occurred:\n",
      "\u001B[1;31mImportError\u001B[0m                               Traceback (most recent call last)",
      "Cell \u001B[1;32mIn[74], line 3\u001B[0m\n\u001B[0;32m      1\u001B[0m \u001B[38;5;28;01mfrom\u001B[39;00m \u001B[38;5;21;01mlangchain_community\u001B[39;00m\u001B[38;5;21;01m.\u001B[39;00m\u001B[38;5;21;01mdocument_loaders\u001B[39;00m \u001B[38;5;28;01mimport\u001B[39;00m JSONLoader\n\u001B[1;32m----> 3\u001B[0m loader \u001B[38;5;241m=\u001B[39m \u001B[43mJSONLoader\u001B[49m\u001B[43m(\u001B[49m\n\u001B[0;32m      4\u001B[0m \u001B[43m    \u001B[49m\u001B[43mfile_path\u001B[49m\u001B[38;5;241;43m=\u001B[39;49m\u001B[38;5;124;43m'\u001B[39;49m\u001B[38;5;124;43mdata/facebook_chat.json\u001B[39;49m\u001B[38;5;124;43m'\u001B[39;49m\u001B[43m,\u001B[49m\n\u001B[0;32m      5\u001B[0m \u001B[43m    \u001B[49m\u001B[43mjq_schema\u001B[49m\u001B[38;5;241;43m=\u001B[39;49m\u001B[38;5;124;43m'\u001B[39;49m\u001B[38;5;124;43m.messages[].content\u001B[39;49m\u001B[38;5;124;43m'\u001B[39;49m\u001B[43m,\u001B[49m\n\u001B[0;32m      6\u001B[0m \u001B[43m    \u001B[49m\u001B[43mtext_content\u001B[49m\u001B[38;5;241;43m=\u001B[39;49m\u001B[38;5;28;43;01mFalse\u001B[39;49;00m\u001B[43m)\u001B[49m\n\u001B[0;32m      8\u001B[0m data \u001B[38;5;241m=\u001B[39m loader\u001B[38;5;241m.\u001B[39mload()\n\u001B[0;32m     10\u001B[0m pprint(data)\n",
      "File \u001B[1;32mp:\\Projects\\LLM-Frameworks-Tutorials\\LangChain Tutorials\\Tutorials from Langchain\\.venv\\Lib\\site-packages\\langchain_community\\document_loaders\\json_loader.py:47\u001B[0m, in \u001B[0;36mJSONLoader.__init__\u001B[1;34m(self, file_path, jq_schema, content_key, metadata_func, text_content, json_lines)\u001B[0m\n\u001B[0;32m     45\u001B[0m     \u001B[38;5;28;01mimport\u001B[39;00m \u001B[38;5;21;01mjq\u001B[39;00m  \u001B[38;5;66;03m# noqa:F401\u001B[39;00m\n\u001B[0;32m     46\u001B[0m \u001B[38;5;28;01mexcept\u001B[39;00m \u001B[38;5;167;01mImportError\u001B[39;00m:\n\u001B[1;32m---> 47\u001B[0m     \u001B[38;5;28;01mraise\u001B[39;00m \u001B[38;5;167;01mImportError\u001B[39;00m(\n\u001B[0;32m     48\u001B[0m         \u001B[38;5;124m\"\u001B[39m\u001B[38;5;124mjq package not found, please install it with `pip install jq`\u001B[39m\u001B[38;5;124m\"\u001B[39m\n\u001B[0;32m     49\u001B[0m     )\n\u001B[0;32m     51\u001B[0m \u001B[38;5;28mself\u001B[39m\u001B[38;5;241m.\u001B[39mfile_path \u001B[38;5;241m=\u001B[39m Path(file_path)\u001B[38;5;241m.\u001B[39mresolve()\n\u001B[0;32m     52\u001B[0m \u001B[38;5;28mself\u001B[39m\u001B[38;5;241m.\u001B[39m_jq_schema \u001B[38;5;241m=\u001B[39m jq\u001B[38;5;241m.\u001B[39mcompile(jq_schema)\n",
      "\u001B[1;31mImportError\u001B[0m: jq package not found, please install it with `pip install jq`"
     ]
    }
   ],
   "source": [
    "from langchain_community.document_loaders import JSONLoader\n",
    "\n",
    "loader = JSONLoader(\n",
    "    file_path='data/facebook_chat.json',\n",
    "    jq_schema='.messages[].content',\n",
    "    text_content=False)\n",
    "\n",
    "data = loader.load()\n",
    "\n",
    "pprint(data)"
   ],
   "metadata": {
    "collapsed": false,
    "ExecuteTime": {
     "end_time": "2024-02-02T14:59:10.805727800Z",
     "start_time": "2024-02-02T14:59:10.747509700Z"
    }
   },
   "id": "238cf47c28df6fb3",
   "execution_count": 74
  },
  {
   "cell_type": "markdown",
   "source": [
    "### Using JSONLoader for Windows\n",
    "\n",
    "credit: [ddematheu](https://github.com/langchain-ai/langchain/issues/4396)"
   ],
   "metadata": {
    "collapsed": false
   },
   "id": "9b0136fe22966f85"
  },
  {
   "cell_type": "code",
   "outputs": [],
   "source": [
    "import json\n",
    "from pathlib import Path\n",
    "from typing import List, Optional, Union\n",
    "\n",
    "from langchain.docstore.document import Document\n",
    "from langchain.document_loaders.base import BaseLoader\n",
    "\n",
    "class JSONLoader(BaseLoader):\n",
    "    def __init__(\n",
    "        self,\n",
    "        file_path: Union[str, Path],\n",
    "        content_key: Optional[str] = None,\n",
    "        ):\n",
    "        self.file_path = Path(file_path).resolve()\n",
    "        self._content_key = content_key\n",
    "        \n",
    "    def create_documents(self, processed_data):\n",
    "        documents = []\n",
    "        for item in processed_data:\n",
    "            content = ''.join(item)\n",
    "            document = Document(page_content=content, metadata={})\n",
    "            documents.append(document)\n",
    "        return documents\n",
    "    \n",
    "    def process_item(self, item, prefix=\"\"):\n",
    "        if isinstance(item, dict):\n",
    "            result = []\n",
    "            for key, value in item.items():\n",
    "                new_prefix = f\"{prefix}.{key}\" if prefix else key\n",
    "                result.extend(self.process_item(value, new_prefix))\n",
    "            return result\n",
    "        elif isinstance(item, list):\n",
    "            result = []\n",
    "            for value in item:\n",
    "                result.extend(self.process_item(value, prefix))\n",
    "            return result\n",
    "        else:\n",
    "            return [f\"{prefix}: {item}\"]\n",
    "\n",
    "    def process_json(self,data):\n",
    "        if isinstance(data, list):\n",
    "            processed_data = []\n",
    "            for item in data:\n",
    "                processed_data.extend(self.process_item(item))\n",
    "            return processed_data\n",
    "        elif isinstance(data, dict):\n",
    "            return self.process_item(data)\n",
    "        else:\n",
    "            return []\n",
    "\n",
    "    def load(self) -> List[Document]:\n",
    "        \"\"\"Load and return documents from the JSON file.\"\"\"\n",
    "\n",
    "        docs=[]\n",
    "        with open(self.file_path, 'r') as json_file:\n",
    "            try:\n",
    "                data = json.load(json_file)\n",
    "                processed_json = self.process_json(data)\n",
    "                docs = self.create_documents(processed_json)\n",
    "            except json.JSONDecodeError:\n",
    "                print(\"Error: Invalid JSON format in the file.\")\n",
    "        return docs"
   ],
   "metadata": {
    "collapsed": false,
    "ExecuteTime": {
     "end_time": "2024-02-02T14:59:11.576082Z",
     "start_time": "2024-02-02T14:59:11.472926900Z"
    }
   },
   "id": "741f586549341562",
   "execution_count": 75
  },
  {
   "cell_type": "code",
   "outputs": [
    {
     "name": "stdout",
     "output_type": "stream",
     "text": [
      "{'image': {'creation_timestamp': 1675549016, 'uri': 'image_of_the_chat.jpg'},\n",
      " 'is_still_participant': True,\n",
      " 'joinable_mode': {'link': '', 'mode': 1},\n",
      " 'magic_words': [],\n",
      " 'messages': [{'content': 'Bye!',\n",
      "               'sender_name': 'User 2',\n",
      "               'timestamp_ms': 1675597571851},\n",
      "              {'content': 'Oh no worries! Bye',\n",
      "               'sender_name': 'User 1',\n",
      "               'timestamp_ms': 1675597435669},\n",
      "              {'content': 'No Im sorry it was my mistake, the blue one is not '\n",
      "                          'for sale',\n",
      "               'sender_name': 'User 2',\n",
      "               'timestamp_ms': 1675596277579},\n",
      "              {'content': 'I thought you were selling the blue one!',\n",
      "               'sender_name': 'User 1',\n",
      "               'timestamp_ms': 1675595140251},\n",
      "              {'content': 'Im not interested in this bag. Im interested in the '\n",
      "                          'blue one!',\n",
      "               'sender_name': 'User 1',\n",
      "               'timestamp_ms': 1675595109305},\n",
      "              {'content': 'Here is $129',\n",
      "               'sender_name': 'User 2',\n",
      "               'timestamp_ms': 1675595068468},\n",
      "              {'photos': [{'creation_timestamp': 1675595059,\n",
      "                           'uri': 'url_of_some_picture.jpg'}],\n",
      "               'sender_name': 'User 2',\n",
      "               'timestamp_ms': 1675595060730},\n",
      "              {'content': 'Online is at least $100',\n",
      "               'sender_name': 'User 2',\n",
      "               'timestamp_ms': 1675595045152},\n",
      "              {'content': 'How much do you want?',\n",
      "               'sender_name': 'User 1',\n",
      "               'timestamp_ms': 1675594799696},\n",
      "              {'content': 'Goodmorning! $50 is too low.',\n",
      "               'sender_name': 'User 2',\n",
      "               'timestamp_ms': 1675577876645},\n",
      "              {'content': 'Hi! Im interested in your bag. Im offering $50. Let '\n",
      "                          'me know if you are interested. Thanks!',\n",
      "               'sender_name': 'User 1',\n",
      "               'timestamp_ms': 1675549022673}],\n",
      " 'participants': [{'name': 'User 1'}, {'name': 'User 2'}],\n",
      " 'thread_path': 'inbox/User 1 and User 2 chat',\n",
      " 'title': 'User 1 and User 2 chat'}\n"
     ]
    }
   ],
   "source": [
    "loader = JSONLoader('data/facebook_chat.json')\n",
    "loader.load()\n",
    "\n",
    "pprint(data)"
   ],
   "metadata": {
    "collapsed": false,
    "ExecuteTime": {
     "end_time": "2024-02-02T14:59:12.198580Z",
     "start_time": "2024-02-02T14:59:12.138709600Z"
    }
   },
   "id": "d4ca4dbc34513262",
   "execution_count": 76
  },
  {
   "cell_type": "markdown",
   "source": [
    "[Project Map](#project-map)\n",
    "\n",
    "---"
   ],
   "metadata": {
    "collapsed": false
   },
   "id": "8a0e60a4e8a41afb"
  },
  {
   "cell_type": "markdown",
   "source": [
    "---\n",
    "## Markdown\n",
    "[Markdown](https://en.wikipedia.org/wiki/Markdown) is a lightweight markup language for creating formatted text using a plain-text editor.\n",
    "\n",
    "This covers how to load Markdown documents into a document format that we can use downstream.\n",
    "\n",
    "<br>\n",
    "\n",
    "---\n",
    "\n"
   ],
   "metadata": {
    "collapsed": false
   },
   "id": "3933aa562f998491"
  },
  {
   "cell_type": "code",
   "outputs": [
    {
     "name": "stderr",
     "output_type": "stream",
     "text": [
      "The system cannot find the path specified.\n"
     ]
    }
   ],
   "source": [
    "!pip install unstructured > /dev/null"
   ],
   "metadata": {
    "collapsed": false,
    "ExecuteTime": {
     "end_time": "2024-02-02T14:59:13.125061400Z",
     "start_time": "2024-02-02T14:59:13.108311300Z"
    }
   },
   "id": "5bc99d0656ef9828",
   "execution_count": 77
  },
  {
   "cell_type": "code",
   "outputs": [
    {
     "data": {
      "text/plain": "[Document(page_content='\\ufeff-----------------------------------------------------------------------------------------------------------------------------\\n\\nRetrieval\\n\\nAlejandro Ricciardi (Omegapy)\\n\\ncreated date: 01/23/2024\\n\\nProjects Description:\\n\\nThis project is a series of LangChain data retrieval for LLMs tutorials on Jupyter Notebook.\\n\\nThe tutorials are a series LangChain Python code examples from the https://python.langchain.com/ website\\n\\nSpecifically from the section Retrieval\\n\\n⚠️ This project requires an OpenAI key.\\n\\nRequirements:\\n\\nPython\\n\\nJupyter Notebook\\n\\nLangChain \\n-\\n\\nOpenAI API Key\\n\\nMy Links:\\n\\nGitHub\\n\\nFacebook\\n\\nTwitter\\n\\nInstagram\\n\\nRetrieval\\n\\nMany LLM applications require user-specific data that is not part of the model\\'s training set. The primary way of accomplishing this is through Retrieval Augmented Generation (RAG). In this process, external data is retrieved and then passed to the LLM when doing the generation step.\\n\\nLangChain provides all the building blocks for RAG applications - from simple to complex. This section of the documentation covers everything related to the retrieval step - e.g. the fetching of the data. Although this sounds simple, it can be subtly complex. This encompasses several key modules.\\n\\nDocument loaders\\n\\nDocument loaders load documents from many different sources. LangChain provides over 100 different document loaders as well as integrations with other major providers in the space, like AirByte and Unstructured. LangChain provides integrations to load all types of documents (HTML, PDF, code) from all types of locations (private S3 buckets, public websites).\\n\\nText Splitting\\n\\nA key part of retrieval is fetching only the relevant parts of documents. This involves several transformation steps to prepare the documents for retrieval. One of the primary ones here is splitting (or chunking) a large document into smaller chunks. LangChain provides several transformation algorithms for doing this, as well as logic optimized for specific document types (code, markdown, etc).\\n\\nText embedding models\\n\\nAnother key part of retrieval is creating embeddings for documents. Embeddings capture the semantic meaning of the text, allowing you to quickly and efficiently find other pieces of a text that are similar. LangChain provides integrations with over 25 different embedding providers and methods, from open-source to proprietary API, allowing you to choose the one best suited for your needs. LangChain provides a standard interface, allowing you to easily swap between models.\\n\\nVector stores\\n\\nWith the rise of embeddings, there has emerged a need for databases to support efficient storage and searching of these embeddings. LangChain provides integrations with over 50 different vectorstores, from open-source local ones to cloud-hosted proprietary ones, allowing you to choose the one best suited for your needs. LangChain exposes a standard interface, allowing you to easily swap between vector stores.\\n\\nRetrievers\\n\\nOnce the data is in the database, you still need to retrieve it. LangChain supports many different retrieval algorithms and is one of the places where we add the most value. LangChain supports basic methods that are easy to get started - namely simple semantic search. However, we have also added a collection of algorithms on top of this to increase performance. These include:\\n\\nParent Document Retriever: This allows you to create multiple embeddings per parent document, allowing you to look up smaller chunks but return larger context.\\n\\nSelf Query Retriever: User questions often contain a reference to something that isn\\'t just semantic but rather expresses some logic that can best be represented as a metadata filter. Self-query allows you to parse out the semantic part of a query from other metadata filters present in the query.\\n\\n{Ensemble Retriever](https://python.langchain.com/docs/modules/data_connection/retrievers/ensemble): Sometimes you may want to retrieve documents from multiple different sources, or using multiple different algorithms. The ensemble retriever allows you to easily do this.\\n\\nAnd more!\\n\\nIndexing\\nThe LangChain Indexing API syncs your data from any source into a vector store, helping you:\\n- Avoid writing duplicated content into the vector store\\n- Avoid re-writing unchanged content\\n- Avoid re-computing embeddings over unchanged content\\n- All of which should save you time and money, as well as improve your vector search results.\\n\\nProject Map Main\\n\\nDocument loaders\\n\\nText Splitters\\n\\nText embedding models\\n\\nVector stores\\n\\nRetrievers\\n\\nIndexing\\n\\nDocument loaders.ipynb\\n-\\n\\nText Splitters.ipynb\\n-\\n\\nText embedding models.ipynb\\n-\\n\\nVector stores.ipynb\\n-\\n\\nRetrievers.ipynb\\n-\\n\\nindexing.ipynb\\n\\n-----------------------------------------------------------------------------------------------------------------------------\\n\\nDocument loaders\\n\\nDocument loaders.ipynb\\n\\n-----------------------------------------------------------------------------------------------------------------------------\\n\\nProjects Description:\\n\\nLangChain is a framework for developing applications powered by language models.\\n\\nIn this project: This project is a series of LangChain document loaders for LLMs tutorials on Jupyter Notebook.\\n\\nThe tutorials are a series LangChain Python code examples from the https://python.langchain.com/ website.\\n\\nSpecifically from the section Document loaders\\n\\n⚠️ Info: Head to Integrations for documentation on built-in document loader integrations with 3rd-party tools.\\n\\nUse document loaders to load data from a source as Document\\'s. A Document is a piece of text and associated metadata. For example, there are document loaders for loading a simple .txt file, for loading the text contents of any web page, or even for loading a transcript of a YouTube video.\\n\\nDocument loaders provide a \"load\" method for loading data as documents from a configured source. They optionally implement a \"lazy load\" as well for lazily loading data into memory.\\n\\nProject Map:\\n- API Key\\n- Getting started (.txt)\\n- CSV\\n    - Base Example\\n    - Customizing the CSV parsing and loading\\n    - Specify a column to identify the document source\\n- File Directory\\n    - Base Example\\n    - Show a progress bar\\n    - Use multithreading\\n    - Change loader class\\n        - Base Example\\n        - Load Python Source Code\\n    - Auto-detect file encodings with TextLoader\\n        - A. Default Behavior\\n        - B. Silent fail\\n        - C. Auto-detect encodings\\n\\nGo back to the Project Main Map\\n\\n-----------------------------------------------------------------------------------------------------------------------------\\n\\nText Splitters\\n\\nText Splitters.ipynb\\n\\n-----------------------------------------------------------------------------------------------------------------------------\\n\\nProjects Description:\\n\\nLangChain is a framework for developing applications powered by language models.\\n\\nIn this project: This project is a series of LangChain text tplitters for LLMs tutorials on Jupyter Notebook.\\n\\nThe tutorials are a series LangChain Python code examples from the https://python.langchain.com/ website\\n\\nSpecifically from the section Text Splitters.\\n\\nProject Map:\\n- API Key\\n\\nGo back to the Project Main Map\\n\\n-----------------------------------------------------------------------------------------------------------------------------\\n\\nText embedding models\\n\\nText embedding models.ipynb\\n\\n-----------------------------------------------------------------------------------------------------------------------------\\n\\nProjects Description:\\n\\nLangChain is a framework for developing applications powered by language models.\\n\\nIn this project: This project is a series of LangChain text embedding models for LLMs tutorials on Jupyter Notebook.\\n\\nThe tutorials are a series LangChain Python code examples from the https://python.langchain.com/ website.\\n\\nSpecifically from the section Text embedding models\\n\\n⚠️ Info: Head to Integrations for documentation on built-in integrations with text embedding model providers.\\n\\nProject Map:\\n- API Key\\n\\nGo back to the Project Main Map\\n\\n-----------------------------------------------------------------------------------------------------------------------------\\n\\nVector stores\\n\\nVector stores.ipynb\\n\\n-----------------------------------------------------------------------------------------------------------------------------\\n\\nProjects Description:\\n\\nLangChain is a framework for developing applications powered by language models.\\n\\nIn this project: This project is a series of LangChain Vector stores for LLMs tutorials on Jupyter Notebook.\\n\\nThe tutorials are a series LangChain Python code examples from the https://python.langchain.com/ website.\\n\\nSpecifically from the section Vector stores\\n\\n⚠️ Info: Head to Integrations for documentation on built-in integrations with 3rd-party vector stores.\\n\\nProject Map:\\n- API Key\\n\\nGo back to the Project Main Map\\n\\n-----------------------------------------------------------------------------------------------------------------------------\\n\\nRetrievers\\n\\nRetrievers.ipynb\\n\\n-----------------------------------------------------------------------------------------------------------------------------\\n\\nProjects Description:\\n\\nLangChain is a framework for developing applications powered by language models.\\n\\nIn this project: This project is a series of LangChain Retrievers for LLMs tutorials on Jupyter Notebook.\\n\\nThe tutorials are a series LangChain Python code examples from the https://python.langchain.com/ website.\\n\\nSpecifically from the section Retrievers.\\n\\nProject Map:\\n- API Key\\n\\nGo back to the Project Main Map\\n\\n-----------------------------------------------------------------------------------------------------------------------------\\n\\nIndexing\\n\\nindexing.ipynb\\n\\n-----------------------------------------------------------------------------------------------------------------------------\\n\\nProjects Description:\\n\\nLangChain is a framework for developing applications powered by language models.\\n\\nIn this project: This project is a series of LangChain Indexing for LLMs tutorials on Jupyter Notebook.\\n\\nThe tutorials are a series LangChain Python code examples from the https://python.langchain.com/ website.\\n\\nSpecifically from the section Indexing.\\n\\nProject Map:\\n- API Key\\n\\nGo back to the Project Main Map', metadata={'source': 'README.md'})]"
     },
     "execution_count": 78,
     "metadata": {},
     "output_type": "execute_result"
    }
   ],
   "source": [
    "from langchain_community.document_loaders import UnstructuredMarkdownLoader\n",
    "\n",
    "markdown_path = \"README.md\"\n",
    "loader = UnstructuredMarkdownLoader(markdown_path)\n",
    "\n",
    "data = loader.load()\n",
    "data"
   ],
   "metadata": {
    "collapsed": false,
    "ExecuteTime": {
     "end_time": "2024-02-02T14:59:13.506157800Z",
     "start_time": "2024-02-02T14:59:13.382984900Z"
    }
   },
   "id": "2ff76572b48fb16f",
   "execution_count": 78
  },
  {
   "cell_type": "markdown",
   "source": [
    "[Project Map](#project-map)\n",
    "\n",
    "---"
   ],
   "metadata": {
    "collapsed": false
   },
   "id": "3ac57ab3d095fd1b"
  },
  {
   "cell_type": "markdown",
   "source": [
    "---\n",
    "## PDF\n",
    "[Portable Document Format (PDF)](https://en.wikipedia.org/wiki/PDF), standardized as ISO 32000, is a file format developed by Adobe in 1992 to present documents, including text formatting and images, in a manner independent of application software, hardware, and operating systems.\n",
    "\n",
    "This covers how to load PDF documents into the Document format that we use downstream.\n",
    "\n",
    "<br>\n",
    "\n",
    "---\n",
    "\n"
   ],
   "metadata": {
    "collapsed": false
   },
   "id": "c91ac82b91642f4e"
  },
  {
   "cell_type": "markdown",
   "source": [
    "### Using PyPDF\n",
    "\n",
    "Load PDF using pypdf into array of documents, where each document contains the page content and metadata with page number."
   ],
   "metadata": {
    "collapsed": false
   },
   "id": "52bed7ea07939487"
  },
  {
   "cell_type": "code",
   "outputs": [
    {
     "data": {
      "text/plain": "Document(page_content='LayoutParser : A Uniﬁed Toolkit for Deep\\nLearning Based Document Image Analysis\\nZejiang Shen1( \\x00), Ruochen Zhang2, Melissa Dell3, Benjamin Charles Germain\\nLee4, Jacob Carlson3, and Weining Li5\\n1Allen Institute for AI\\nshannons@allenai.org\\n2Brown University\\nruochen zhang@brown.edu\\n3Harvard University\\n{melissadell,jacob carlson }@fas.harvard.edu\\n4University of Washington\\nbcgl@cs.washington.edu\\n5University of Waterloo\\nw422li@uwaterloo.ca\\nAbstract. Recent advances in document image analysis (DIA) have been\\nprimarily driven by the application of neural networks. Ideally, research\\noutcomes could be easily deployed in production and extended for further\\ninvestigation. However, various factors like loosely organized codebases\\nand sophisticated model conﬁgurations complicate the easy reuse of im-\\nportant innovations by a wide audience. Though there have been on-going\\neﬀorts to improve reusability and simplify deep learning (DL) model\\ndevelopment in disciplines like natural language processing and computer\\nvision, none of them are optimized for challenges in the domain of DIA.\\nThis represents a major gap in the existing toolkit, as DIA is central to\\nacademic research across a wide range of disciplines in the social sciences\\nand humanities. This paper introduces LayoutParser , an open-source\\nlibrary for streamlining the usage of DL in DIA research and applica-\\ntions. The core LayoutParser library comes with a set of simple and\\nintuitive interfaces for applying and customizing DL models for layout de-\\ntection, character recognition, and many other document processing tasks.\\nTo promote extensibility, LayoutParser also incorporates a community\\nplatform for sharing both pre-trained models and full document digiti-\\nzation pipelines. We demonstrate that LayoutParser is helpful for both\\nlightweight and large-scale digitization pipelines in real-word use cases.\\nThe library is publicly available at https://layout-parser.github.io .\\nKeywords: Document Image Analysis ·Deep Learning ·Layout Analysis\\n·Character Recognition ·Open Source library ·Toolkit.\\n1 Introduction\\nDeep Learning(DL)-based approaches are the state-of-the-art for a wide range of\\ndocument image analysis (DIA) tasks including document image classiﬁcation [ 11,arXiv:2103.15348v2  [cs.CV]  21 Jun 2021', metadata={'source': 'data/layout-parser-paper.pdf', 'page': 0})"
     },
     "execution_count": 79,
     "metadata": {},
     "output_type": "execute_result"
    }
   ],
   "source": [
    "from langchain_community.document_loaders import PyPDFLoader\n",
    "\n",
    "loader = PyPDFLoader(\"data/layout-parser-paper.pdf\")\n",
    "pages = loader.load_and_split()\n",
    "\n",
    "pages[0]"
   ],
   "metadata": {
    "collapsed": false,
    "ExecuteTime": {
     "end_time": "2024-02-02T14:59:14.768261500Z",
     "start_time": "2024-02-02T14:59:14.483347700Z"
    }
   },
   "id": "179ea9ee0d814a67",
   "execution_count": 79
  },
  {
   "cell_type": "markdown",
   "source": [
    "An advantage of this approach is that documents can be retrieved with page numbers.\n",
    "\n",
    "We want to use ```OpenAIEmbeddings``` so we have to get the OpenAI API Key.\n",
    "\n",
    "\n",
    "Note: FAISS (Facebook AI Similarity Search) is primarily developed for Unix-based systems.\n",
    "```FAISS.from_documents(pages, OpenAIEmbeddings())``` will generate an error on Windows OSes\n",
    "\n"
   ],
   "metadata": {
    "collapsed": false
   },
   "id": "317df5c867d809ed"
  },
  {
   "cell_type": "code",
   "outputs": [
    {
     "ename": "ImportError",
     "evalue": "Could not import faiss python package. Please install it with `pip install faiss-gpu` (for CUDA supported GPU) or `pip install faiss-cpu` (depending on Python version).",
     "output_type": "error",
     "traceback": [
      "\u001B[1;31m---------------------------------------------------------------------------\u001B[0m",
      "\u001B[1;31mModuleNotFoundError\u001B[0m                       Traceback (most recent call last)",
      "File \u001B[1;32mp:\\Projects\\LLM-Frameworks-Tutorials\\LangChain Tutorials\\Tutorials from Langchain\\.venv\\Lib\\site-packages\\langchain_community\\vectorstores\\faiss.py:55\u001B[0m, in \u001B[0;36mdependable_faiss_import\u001B[1;34m(no_avx2)\u001B[0m\n\u001B[0;32m     54\u001B[0m     \u001B[38;5;28;01melse\u001B[39;00m:\n\u001B[1;32m---> 55\u001B[0m         \u001B[38;5;28;01mimport\u001B[39;00m \u001B[38;5;21;01mfaiss\u001B[39;00m\n\u001B[0;32m     56\u001B[0m \u001B[38;5;28;01mexcept\u001B[39;00m \u001B[38;5;167;01mImportError\u001B[39;00m:\n",
      "\u001B[1;31mModuleNotFoundError\u001B[0m: No module named 'faiss'",
      "\nDuring handling of the above exception, another exception occurred:\n",
      "\u001B[1;31mImportError\u001B[0m                               Traceback (most recent call last)",
      "Cell \u001B[1;32mIn[80], line 4\u001B[0m\n\u001B[0;32m      1\u001B[0m \u001B[38;5;28;01mfrom\u001B[39;00m \u001B[38;5;21;01mlangchain_community\u001B[39;00m\u001B[38;5;21;01m.\u001B[39;00m\u001B[38;5;21;01mvectorstores\u001B[39;00m \u001B[38;5;28;01mimport\u001B[39;00m FAISS \n\u001B[0;32m      2\u001B[0m \u001B[38;5;28;01mfrom\u001B[39;00m \u001B[38;5;21;01mlangchain_openai\u001B[39;00m \u001B[38;5;28;01mimport\u001B[39;00m OpenAIEmbeddings\n\u001B[1;32m----> 4\u001B[0m faiss_index \u001B[38;5;241m=\u001B[39m \u001B[43mFAISS\u001B[49m\u001B[38;5;241;43m.\u001B[39;49m\u001B[43mfrom_documents\u001B[49m\u001B[43m(\u001B[49m\u001B[43mpages\u001B[49m\u001B[43m,\u001B[49m\u001B[43m \u001B[49m\u001B[43mOpenAIEmbeddings\u001B[49m\u001B[43m(\u001B[49m\u001B[43m)\u001B[49m\u001B[43m)\u001B[49m\n\u001B[0;32m      5\u001B[0m docs \u001B[38;5;241m=\u001B[39m faiss_index\u001B[38;5;241m.\u001B[39msimilarity_search(\u001B[38;5;124m\"\u001B[39m\u001B[38;5;124mHow will the community be engaged?\u001B[39m\u001B[38;5;124m\"\u001B[39m, k\u001B[38;5;241m=\u001B[39m\u001B[38;5;241m2\u001B[39m)\n\u001B[0;32m      6\u001B[0m \u001B[38;5;28;01mfor\u001B[39;00m doc \u001B[38;5;129;01min\u001B[39;00m docs:\n",
      "File \u001B[1;32mp:\\Projects\\LLM-Frameworks-Tutorials\\LangChain Tutorials\\Tutorials from Langchain\\.venv\\Lib\\site-packages\\langchain_core\\vectorstores.py:508\u001B[0m, in \u001B[0;36mVectorStore.from_documents\u001B[1;34m(cls, documents, embedding, **kwargs)\u001B[0m\n\u001B[0;32m    506\u001B[0m texts \u001B[38;5;241m=\u001B[39m [d\u001B[38;5;241m.\u001B[39mpage_content \u001B[38;5;28;01mfor\u001B[39;00m d \u001B[38;5;129;01min\u001B[39;00m documents]\n\u001B[0;32m    507\u001B[0m metadatas \u001B[38;5;241m=\u001B[39m [d\u001B[38;5;241m.\u001B[39mmetadata \u001B[38;5;28;01mfor\u001B[39;00m d \u001B[38;5;129;01min\u001B[39;00m documents]\n\u001B[1;32m--> 508\u001B[0m \u001B[38;5;28;01mreturn\u001B[39;00m \u001B[38;5;28;43mcls\u001B[39;49m\u001B[38;5;241;43m.\u001B[39;49m\u001B[43mfrom_texts\u001B[49m\u001B[43m(\u001B[49m\u001B[43mtexts\u001B[49m\u001B[43m,\u001B[49m\u001B[43m \u001B[49m\u001B[43membedding\u001B[49m\u001B[43m,\u001B[49m\u001B[43m \u001B[49m\u001B[43mmetadatas\u001B[49m\u001B[38;5;241;43m=\u001B[39;49m\u001B[43mmetadatas\u001B[49m\u001B[43m,\u001B[49m\u001B[43m \u001B[49m\u001B[38;5;241;43m*\u001B[39;49m\u001B[38;5;241;43m*\u001B[39;49m\u001B[43mkwargs\u001B[49m\u001B[43m)\u001B[49m\n",
      "File \u001B[1;32mp:\\Projects\\LLM-Frameworks-Tutorials\\LangChain Tutorials\\Tutorials from Langchain\\.venv\\Lib\\site-packages\\langchain_community\\vectorstores\\faiss.py:914\u001B[0m, in \u001B[0;36mFAISS.from_texts\u001B[1;34m(cls, texts, embedding, metadatas, ids, **kwargs)\u001B[0m\n\u001B[0;32m    895\u001B[0m \u001B[38;5;250m\u001B[39m\u001B[38;5;124;03m\"\"\"Construct FAISS wrapper from raw documents.\u001B[39;00m\n\u001B[0;32m    896\u001B[0m \n\u001B[0;32m    897\u001B[0m \u001B[38;5;124;03mThis is a user friendly interface that:\u001B[39;00m\n\u001B[1;32m   (...)\u001B[0m\n\u001B[0;32m    911\u001B[0m \u001B[38;5;124;03m        faiss = FAISS.from_texts(texts, embeddings)\u001B[39;00m\n\u001B[0;32m    912\u001B[0m \u001B[38;5;124;03m\"\"\"\u001B[39;00m\n\u001B[0;32m    913\u001B[0m embeddings \u001B[38;5;241m=\u001B[39m embedding\u001B[38;5;241m.\u001B[39membed_documents(texts)\n\u001B[1;32m--> 914\u001B[0m \u001B[38;5;28;01mreturn\u001B[39;00m \u001B[38;5;28;43mcls\u001B[39;49m\u001B[38;5;241;43m.\u001B[39;49m\u001B[43m__from\u001B[49m\u001B[43m(\u001B[49m\n\u001B[0;32m    915\u001B[0m \u001B[43m    \u001B[49m\u001B[43mtexts\u001B[49m\u001B[43m,\u001B[49m\n\u001B[0;32m    916\u001B[0m \u001B[43m    \u001B[49m\u001B[43membeddings\u001B[49m\u001B[43m,\u001B[49m\n\u001B[0;32m    917\u001B[0m \u001B[43m    \u001B[49m\u001B[43membedding\u001B[49m\u001B[43m,\u001B[49m\n\u001B[0;32m    918\u001B[0m \u001B[43m    \u001B[49m\u001B[43mmetadatas\u001B[49m\u001B[38;5;241;43m=\u001B[39;49m\u001B[43mmetadatas\u001B[49m\u001B[43m,\u001B[49m\n\u001B[0;32m    919\u001B[0m \u001B[43m    \u001B[49m\u001B[43mids\u001B[49m\u001B[38;5;241;43m=\u001B[39;49m\u001B[43mids\u001B[49m\u001B[43m,\u001B[49m\n\u001B[0;32m    920\u001B[0m \u001B[43m    \u001B[49m\u001B[38;5;241;43m*\u001B[39;49m\u001B[38;5;241;43m*\u001B[39;49m\u001B[43mkwargs\u001B[49m\u001B[43m,\u001B[49m\n\u001B[0;32m    921\u001B[0m \u001B[43m\u001B[49m\u001B[43m)\u001B[49m\n",
      "File \u001B[1;32mp:\\Projects\\LLM-Frameworks-Tutorials\\LangChain Tutorials\\Tutorials from Langchain\\.venv\\Lib\\site-packages\\langchain_community\\vectorstores\\faiss.py:868\u001B[0m, in \u001B[0;36mFAISS.__from\u001B[1;34m(cls, texts, embeddings, embedding, metadatas, ids, normalize_L2, distance_strategy, **kwargs)\u001B[0m\n\u001B[0;32m    856\u001B[0m \u001B[38;5;129m@classmethod\u001B[39m\n\u001B[0;32m    857\u001B[0m \u001B[38;5;28;01mdef\u001B[39;00m \u001B[38;5;21m__from\u001B[39m(\n\u001B[0;32m    858\u001B[0m     \u001B[38;5;28mcls\u001B[39m,\n\u001B[1;32m   (...)\u001B[0m\n\u001B[0;32m    866\u001B[0m     \u001B[38;5;241m*\u001B[39m\u001B[38;5;241m*\u001B[39mkwargs: Any,\n\u001B[0;32m    867\u001B[0m ) \u001B[38;5;241m-\u001B[39m\u001B[38;5;241m>\u001B[39m FAISS:\n\u001B[1;32m--> 868\u001B[0m     faiss \u001B[38;5;241m=\u001B[39m \u001B[43mdependable_faiss_import\u001B[49m\u001B[43m(\u001B[49m\u001B[43m)\u001B[49m\n\u001B[0;32m    869\u001B[0m     \u001B[38;5;28;01mif\u001B[39;00m distance_strategy \u001B[38;5;241m==\u001B[39m DistanceStrategy\u001B[38;5;241m.\u001B[39mMAX_INNER_PRODUCT:\n\u001B[0;32m    870\u001B[0m         index \u001B[38;5;241m=\u001B[39m faiss\u001B[38;5;241m.\u001B[39mIndexFlatIP(\u001B[38;5;28mlen\u001B[39m(embeddings[\u001B[38;5;241m0\u001B[39m]))\n",
      "File \u001B[1;32mp:\\Projects\\LLM-Frameworks-Tutorials\\LangChain Tutorials\\Tutorials from Langchain\\.venv\\Lib\\site-packages\\langchain_community\\vectorstores\\faiss.py:57\u001B[0m, in \u001B[0;36mdependable_faiss_import\u001B[1;34m(no_avx2)\u001B[0m\n\u001B[0;32m     55\u001B[0m         \u001B[38;5;28;01mimport\u001B[39;00m \u001B[38;5;21;01mfaiss\u001B[39;00m\n\u001B[0;32m     56\u001B[0m \u001B[38;5;28;01mexcept\u001B[39;00m \u001B[38;5;167;01mImportError\u001B[39;00m:\n\u001B[1;32m---> 57\u001B[0m     \u001B[38;5;28;01mraise\u001B[39;00m \u001B[38;5;167;01mImportError\u001B[39;00m(\n\u001B[0;32m     58\u001B[0m         \u001B[38;5;124m\"\u001B[39m\u001B[38;5;124mCould not import faiss python package. \u001B[39m\u001B[38;5;124m\"\u001B[39m\n\u001B[0;32m     59\u001B[0m         \u001B[38;5;124m\"\u001B[39m\u001B[38;5;124mPlease install it with `pip install faiss-gpu` (for CUDA supported GPU) \u001B[39m\u001B[38;5;124m\"\u001B[39m\n\u001B[0;32m     60\u001B[0m         \u001B[38;5;124m\"\u001B[39m\u001B[38;5;124mor `pip install faiss-cpu` (depending on Python version).\u001B[39m\u001B[38;5;124m\"\u001B[39m\n\u001B[0;32m     61\u001B[0m     )\n\u001B[0;32m     62\u001B[0m \u001B[38;5;28;01mreturn\u001B[39;00m faiss\n",
      "\u001B[1;31mImportError\u001B[0m: Could not import faiss python package. Please install it with `pip install faiss-gpu` (for CUDA supported GPU) or `pip install faiss-cpu` (depending on Python version)."
     ]
    }
   ],
   "source": [
    "from langchain_community.vectorstores import FAISS \n",
    "from langchain_openai import OpenAIEmbeddings\n",
    "\n",
    "faiss_index = FAISS.from_documents(pages, OpenAIEmbeddings())\n",
    "docs = faiss_index.similarity_search(\"How will the community be engaged?\", k=2)\n",
    "for doc in docs:\n",
    "    print(str(doc.metadata[\"page\"]) + \":\", doc.page_content[:300])"
   ],
   "metadata": {
    "collapsed": false,
    "ExecuteTime": {
     "end_time": "2024-02-02T14:59:16.077263100Z",
     "start_time": "2024-02-02T14:59:15.174217700Z"
    }
   },
   "id": "355e074478df9538",
   "execution_count": 80
  },
  {
   "cell_type": "markdown",
   "source": [
    "### Extracting images\n",
    "Using the ```rapidocr-onnxruntime``` package we can extract images as text as well:"
   ],
   "metadata": {
    "collapsed": false
   },
   "id": "f157385393a5bacb"
  },
  {
   "cell_type": "code",
   "outputs": [],
   "source": [
    "loader = PyPDFLoader(\"https://arxiv.org/pdf/2103.15348.pdf\", extract_images=True) # pip install rapidocr-onnxruntime\n",
    "pages = loader.load()\n",
    "pages[4].page_content"
   ],
   "metadata": {
    "collapsed": false,
    "ExecuteTime": {
     "start_time": "2024-02-02T14:59:16.038262700Z"
    }
   },
   "id": "7019f19de897ff21",
   "execution_count": null
  },
  {
   "cell_type": "markdown",
   "source": [
    "### Using MathPix\n",
    "you need a mathpix_api_key\n",
    "Inspired by Daniel Gross's https://gist.github.com/danielgross/3ab4104e14faccc12b49200843adab21"
   ],
   "metadata": {
    "collapsed": false
   },
   "id": "d808568ccab8810e"
  },
  {
   "cell_type": "code",
   "outputs": [
    {
     "ename": "ValueError",
     "evalue": "Did not find mathpix_api_key, please add an environment variable `MATHPIX_API_KEY` which contains it, or pass `mathpix_api_key` as a named parameter.",
     "output_type": "error",
     "traceback": [
      "\u001B[1;31m---------------------------------------------------------------------------\u001B[0m",
      "\u001B[1;31mValueError\u001B[0m                                Traceback (most recent call last)",
      "Cell \u001B[1;32mIn[81], line 3\u001B[0m\n\u001B[0;32m      1\u001B[0m \u001B[38;5;28;01mfrom\u001B[39;00m \u001B[38;5;21;01mlangchain_community\u001B[39;00m\u001B[38;5;21;01m.\u001B[39;00m\u001B[38;5;21;01mdocument_loaders\u001B[39;00m \u001B[38;5;28;01mimport\u001B[39;00m MathpixPDFLoader\n\u001B[1;32m----> 3\u001B[0m loader \u001B[38;5;241m=\u001B[39m \u001B[43mMathpixPDFLoader\u001B[49m\u001B[43m(\u001B[49m\u001B[38;5;124;43m\"\u001B[39;49m\u001B[38;5;124;43mdata/layout-parser-paper.pdf\u001B[39;49m\u001B[38;5;124;43m\"\u001B[39;49m\u001B[43m)\u001B[49m\n\u001B[0;32m      4\u001B[0m data \u001B[38;5;241m=\u001B[39m loader\u001B[38;5;241m.\u001B[39mload()\n",
      "File \u001B[1;32mp:\\Projects\\LLM-Frameworks-Tutorials\\LangChain Tutorials\\Tutorials from Langchain\\.venv\\Lib\\site-packages\\langchain_community\\document_loaders\\pdf.py:400\u001B[0m, in \u001B[0;36mMathpixPDFLoader.__init__\u001B[1;34m(self, file_path, processed_file_format, max_wait_time_seconds, should_clean_pdf, extra_request_data, **kwargs)\u001B[0m\n\u001B[0;32m    380\u001B[0m \u001B[38;5;28;01mdef\u001B[39;00m \u001B[38;5;21m__init__\u001B[39m(\n\u001B[0;32m    381\u001B[0m     \u001B[38;5;28mself\u001B[39m,\n\u001B[0;32m    382\u001B[0m     file_path: \u001B[38;5;28mstr\u001B[39m,\n\u001B[1;32m   (...)\u001B[0m\n\u001B[0;32m    387\u001B[0m     \u001B[38;5;241m*\u001B[39m\u001B[38;5;241m*\u001B[39mkwargs: Any,\n\u001B[0;32m    388\u001B[0m ) \u001B[38;5;241m-\u001B[39m\u001B[38;5;241m>\u001B[39m \u001B[38;5;28;01mNone\u001B[39;00m:\n\u001B[0;32m    389\u001B[0m \u001B[38;5;250m    \u001B[39m\u001B[38;5;124;03m\"\"\"Initialize with a file path.\u001B[39;00m\n\u001B[0;32m    390\u001B[0m \n\u001B[0;32m    391\u001B[0m \u001B[38;5;124;03m    Args:\u001B[39;00m\n\u001B[1;32m   (...)\u001B[0m\n\u001B[0;32m    398\u001B[0m \u001B[38;5;124;03m        **kwargs: additional keyword arguments.\u001B[39;00m\n\u001B[0;32m    399\u001B[0m \u001B[38;5;124;03m    \"\"\"\u001B[39;00m\n\u001B[1;32m--> 400\u001B[0m     \u001B[38;5;28mself\u001B[39m\u001B[38;5;241m.\u001B[39mmathpix_api_key \u001B[38;5;241m=\u001B[39m \u001B[43mget_from_dict_or_env\u001B[49m\u001B[43m(\u001B[49m\n\u001B[0;32m    401\u001B[0m \u001B[43m        \u001B[49m\u001B[43mkwargs\u001B[49m\u001B[43m,\u001B[49m\u001B[43m \u001B[49m\u001B[38;5;124;43m\"\u001B[39;49m\u001B[38;5;124;43mmathpix_api_key\u001B[39;49m\u001B[38;5;124;43m\"\u001B[39;49m\u001B[43m,\u001B[49m\u001B[43m \u001B[49m\u001B[38;5;124;43m\"\u001B[39;49m\u001B[38;5;124;43mMATHPIX_API_KEY\u001B[39;49m\u001B[38;5;124;43m\"\u001B[39;49m\n\u001B[0;32m    402\u001B[0m \u001B[43m    \u001B[49m\u001B[43m)\u001B[49m\n\u001B[0;32m    403\u001B[0m     \u001B[38;5;28mself\u001B[39m\u001B[38;5;241m.\u001B[39mmathpix_api_id \u001B[38;5;241m=\u001B[39m get_from_dict_or_env(\n\u001B[0;32m    404\u001B[0m         kwargs, \u001B[38;5;124m\"\u001B[39m\u001B[38;5;124mmathpix_api_id\u001B[39m\u001B[38;5;124m\"\u001B[39m, \u001B[38;5;124m\"\u001B[39m\u001B[38;5;124mMATHPIX_API_ID\u001B[39m\u001B[38;5;124m\"\u001B[39m\n\u001B[0;32m    405\u001B[0m     )\n\u001B[0;32m    407\u001B[0m     \u001B[38;5;66;03m# The base class isn't expecting these and doesn't collect **kwargs\u001B[39;00m\n",
      "File \u001B[1;32mp:\\Projects\\LLM-Frameworks-Tutorials\\LangChain Tutorials\\Tutorials from Langchain\\.venv\\Lib\\site-packages\\langchain_core\\utils\\env.py:31\u001B[0m, in \u001B[0;36mget_from_dict_or_env\u001B[1;34m(data, key, env_key, default)\u001B[0m\n\u001B[0;32m     29\u001B[0m     \u001B[38;5;28;01mreturn\u001B[39;00m data[key]\n\u001B[0;32m     30\u001B[0m \u001B[38;5;28;01melse\u001B[39;00m:\n\u001B[1;32m---> 31\u001B[0m     \u001B[38;5;28;01mreturn\u001B[39;00m \u001B[43mget_from_env\u001B[49m\u001B[43m(\u001B[49m\u001B[43mkey\u001B[49m\u001B[43m,\u001B[49m\u001B[43m \u001B[49m\u001B[43menv_key\u001B[49m\u001B[43m,\u001B[49m\u001B[43m \u001B[49m\u001B[43mdefault\u001B[49m\u001B[38;5;241;43m=\u001B[39;49m\u001B[43mdefault\u001B[49m\u001B[43m)\u001B[49m\n",
      "File \u001B[1;32mp:\\Projects\\LLM-Frameworks-Tutorials\\LangChain Tutorials\\Tutorials from Langchain\\.venv\\Lib\\site-packages\\langchain_core\\utils\\env.py:41\u001B[0m, in \u001B[0;36mget_from_env\u001B[1;34m(key, env_key, default)\u001B[0m\n\u001B[0;32m     39\u001B[0m     \u001B[38;5;28;01mreturn\u001B[39;00m default\n\u001B[0;32m     40\u001B[0m \u001B[38;5;28;01melse\u001B[39;00m:\n\u001B[1;32m---> 41\u001B[0m     \u001B[38;5;28;01mraise\u001B[39;00m \u001B[38;5;167;01mValueError\u001B[39;00m(\n\u001B[0;32m     42\u001B[0m         \u001B[38;5;124mf\u001B[39m\u001B[38;5;124m\"\u001B[39m\u001B[38;5;124mDid not find \u001B[39m\u001B[38;5;132;01m{\u001B[39;00mkey\u001B[38;5;132;01m}\u001B[39;00m\u001B[38;5;124m, please add an environment variable\u001B[39m\u001B[38;5;124m\"\u001B[39m\n\u001B[0;32m     43\u001B[0m         \u001B[38;5;124mf\u001B[39m\u001B[38;5;124m\"\u001B[39m\u001B[38;5;124m `\u001B[39m\u001B[38;5;132;01m{\u001B[39;00menv_key\u001B[38;5;132;01m}\u001B[39;00m\u001B[38;5;124m` which contains it, or pass\u001B[39m\u001B[38;5;124m\"\u001B[39m\n\u001B[0;32m     44\u001B[0m         \u001B[38;5;124mf\u001B[39m\u001B[38;5;124m\"\u001B[39m\u001B[38;5;124m `\u001B[39m\u001B[38;5;132;01m{\u001B[39;00mkey\u001B[38;5;132;01m}\u001B[39;00m\u001B[38;5;124m` as a named parameter.\u001B[39m\u001B[38;5;124m\"\u001B[39m\n\u001B[0;32m     45\u001B[0m     )\n",
      "\u001B[1;31mValueError\u001B[0m: Did not find mathpix_api_key, please add an environment variable `MATHPIX_API_KEY` which contains it, or pass `mathpix_api_key` as a named parameter."
     ]
    }
   ],
   "source": [
    "from langchain_community.document_loaders import MathpixPDFLoader\n",
    "\n",
    "loader = MathpixPDFLoader(\"data/layout-parser-paper.pdf\")\n",
    "data = loader.load()"
   ],
   "metadata": {
    "collapsed": false,
    "ExecuteTime": {
     "end_time": "2024-02-02T14:59:16.290185800Z",
     "start_time": "2024-02-02T14:59:16.262678700Z"
    }
   },
   "id": "e21c132b8ba8e19d",
   "execution_count": 81
  },
  {
   "cell_type": "markdown",
   "source": [
    "[Project Map](#project-map)\n",
    "\n",
    "---"
   ],
   "metadata": {
    "collapsed": false
   },
   "id": "29c906391bdf5837"
  },
  {
   "cell_type": "markdown",
   "source": [
    "### Using Unstructured"
   ],
   "metadata": {
    "collapsed": false
   },
   "id": "b30e3d3dea905ea9"
  },
  {
   "cell_type": "code",
   "outputs": [
    {
     "name": "stdout",
     "output_type": "stream",
     "text": [
      "Requirement already satisfied: pdf2image in p:\\projects\\llm-frameworks-tutorials\\langchain tutorials\\tutorials from langchain\\.venv\\lib\\site-packages (1.17.0)\n",
      "Requirement already satisfied: pillow in p:\\projects\\llm-frameworks-tutorials\\langchain tutorials\\tutorials from langchain\\.venv\\lib\\site-packages (from pdf2image) (10.2.0)\n",
      "Requirement already satisfied: pdfminer.six in p:\\projects\\llm-frameworks-tutorials\\langchain tutorials\\tutorials from langchain\\.venv\\lib\\site-packages (20231228)\n",
      "Requirement already satisfied: charset-normalizer>=2.0.0 in p:\\projects\\llm-frameworks-tutorials\\langchain tutorials\\tutorials from langchain\\.venv\\lib\\site-packages (from pdfminer.six) (3.3.2)\n",
      "Requirement already satisfied: cryptography>=36.0.0 in p:\\projects\\llm-frameworks-tutorials\\langchain tutorials\\tutorials from langchain\\.venv\\lib\\site-packages (from pdfminer.six) (42.0.2)\n",
      "Requirement already satisfied: cffi>=1.12 in p:\\projects\\llm-frameworks-tutorials\\langchain tutorials\\tutorials from langchain\\.venv\\lib\\site-packages (from cryptography>=36.0.0->pdfminer.six) (1.16.0)\n",
      "Requirement already satisfied: pycparser in p:\\projects\\llm-frameworks-tutorials\\langchain tutorials\\tutorials from langchain\\.venv\\lib\\site-packages (from cffi>=1.12->cryptography>=36.0.0->pdfminer.six) (2.21)\n"
     ]
    }
   ],
   "source": [
    "!pip install pdf2image\n",
    "!pip install pdfminer.six"
   ],
   "metadata": {
    "collapsed": false,
    "ExecuteTime": {
     "end_time": "2024-02-02T14:59:19.575155700Z",
     "start_time": "2024-02-02T14:59:17.132428900Z"
    }
   },
   "id": "7bcc5844ce4ad4b6",
   "execution_count": 82
  },
  {
   "cell_type": "code",
   "outputs": [
    {
     "ename": "ImportError",
     "evalue": "cannot import name 'open_filename' from 'pdfminer.utils' (p:\\Projects\\LLM-Frameworks-Tutorials\\LangChain Tutorials\\Tutorials from Langchain\\.venv\\Lib\\site-packages\\pdfminer\\utils.py)",
     "output_type": "error",
     "traceback": [
      "\u001B[1;31m---------------------------------------------------------------------------\u001B[0m",
      "\u001B[1;31mImportError\u001B[0m                               Traceback (most recent call last)",
      "Cell \u001B[1;32mIn[83], line 4\u001B[0m\n\u001B[0;32m      1\u001B[0m \u001B[38;5;28;01mfrom\u001B[39;00m \u001B[38;5;21;01mlangchain_community\u001B[39;00m\u001B[38;5;21;01m.\u001B[39;00m\u001B[38;5;21;01mdocument_loaders\u001B[39;00m \u001B[38;5;28;01mimport\u001B[39;00m UnstructuredPDFLoader\n\u001B[0;32m      3\u001B[0m loader \u001B[38;5;241m=\u001B[39m UnstructuredPDFLoader(\u001B[38;5;124m\"\u001B[39m\u001B[38;5;124mdata/layout-parser-paper.pdf\u001B[39m\u001B[38;5;124m\"\u001B[39m)\n\u001B[1;32m----> 4\u001B[0m data \u001B[38;5;241m=\u001B[39m \u001B[43mloader\u001B[49m\u001B[38;5;241;43m.\u001B[39;49m\u001B[43mload\u001B[49m\u001B[43m(\u001B[49m\u001B[43m)\u001B[49m\n\u001B[0;32m      5\u001B[0m data[\u001B[38;5;241m0\u001B[39m]\n",
      "File \u001B[1;32mp:\\Projects\\LLM-Frameworks-Tutorials\\LangChain Tutorials\\Tutorials from Langchain\\.venv\\Lib\\site-packages\\langchain_community\\document_loaders\\unstructured.py:87\u001B[0m, in \u001B[0;36mUnstructuredBaseLoader.load\u001B[1;34m(self)\u001B[0m\n\u001B[0;32m     85\u001B[0m \u001B[38;5;28;01mdef\u001B[39;00m \u001B[38;5;21mload\u001B[39m(\u001B[38;5;28mself\u001B[39m) \u001B[38;5;241m-\u001B[39m\u001B[38;5;241m>\u001B[39m List[Document]:\n\u001B[0;32m     86\u001B[0m \u001B[38;5;250m    \u001B[39m\u001B[38;5;124;03m\"\"\"Load file.\"\"\"\u001B[39;00m\n\u001B[1;32m---> 87\u001B[0m     elements \u001B[38;5;241m=\u001B[39m \u001B[38;5;28;43mself\u001B[39;49m\u001B[38;5;241;43m.\u001B[39;49m\u001B[43m_get_elements\u001B[49m\u001B[43m(\u001B[49m\u001B[43m)\u001B[49m\n\u001B[0;32m     88\u001B[0m     \u001B[38;5;28mself\u001B[39m\u001B[38;5;241m.\u001B[39m_post_process_elements(elements)\n\u001B[0;32m     89\u001B[0m     \u001B[38;5;28;01mif\u001B[39;00m \u001B[38;5;28mself\u001B[39m\u001B[38;5;241m.\u001B[39mmode \u001B[38;5;241m==\u001B[39m \u001B[38;5;124m\"\u001B[39m\u001B[38;5;124melements\u001B[39m\u001B[38;5;124m\"\u001B[39m:\n",
      "File \u001B[1;32mp:\\Projects\\LLM-Frameworks-Tutorials\\LangChain Tutorials\\Tutorials from Langchain\\.venv\\Lib\\site-packages\\langchain_community\\document_loaders\\pdf.py:57\u001B[0m, in \u001B[0;36mUnstructuredPDFLoader._get_elements\u001B[1;34m(self)\u001B[0m\n\u001B[0;32m     56\u001B[0m \u001B[38;5;28;01mdef\u001B[39;00m \u001B[38;5;21m_get_elements\u001B[39m(\u001B[38;5;28mself\u001B[39m) \u001B[38;5;241m-\u001B[39m\u001B[38;5;241m>\u001B[39m List:\n\u001B[1;32m---> 57\u001B[0m     \u001B[38;5;28;01mfrom\u001B[39;00m \u001B[38;5;21;01munstructured\u001B[39;00m\u001B[38;5;21;01m.\u001B[39;00m\u001B[38;5;21;01mpartition\u001B[39;00m\u001B[38;5;21;01m.\u001B[39;00m\u001B[38;5;21;01mpdf\u001B[39;00m \u001B[38;5;28;01mimport\u001B[39;00m partition_pdf\n\u001B[0;32m     59\u001B[0m     \u001B[38;5;28;01mreturn\u001B[39;00m partition_pdf(filename\u001B[38;5;241m=\u001B[39m\u001B[38;5;28mself\u001B[39m\u001B[38;5;241m.\u001B[39mfile_path, \u001B[38;5;241m*\u001B[39m\u001B[38;5;241m*\u001B[39m\u001B[38;5;28mself\u001B[39m\u001B[38;5;241m.\u001B[39munstructured_kwargs)\n",
      "File \u001B[1;32mp:\\Projects\\LLM-Frameworks-Tutorials\\LangChain Tutorials\\Tutorials from Langchain\\.venv\\Lib\\site-packages\\unstructured\\partition\\pdf.py:36\u001B[0m\n\u001B[0;32m     28\u001B[0m \u001B[38;5;28;01mfrom\u001B[39;00m \u001B[38;5;21;01mpdfminer\u001B[39;00m\u001B[38;5;21;01m.\u001B[39;00m\u001B[38;5;21;01mlayout\u001B[39;00m \u001B[38;5;28;01mimport\u001B[39;00m (\n\u001B[0;32m     29\u001B[0m     LTChar,\n\u001B[0;32m     30\u001B[0m     LTContainer,\n\u001B[1;32m   (...)\u001B[0m\n\u001B[0;32m     33\u001B[0m     LTTextBox,\n\u001B[0;32m     34\u001B[0m )\n\u001B[0;32m     35\u001B[0m \u001B[38;5;28;01mfrom\u001B[39;00m \u001B[38;5;21;01mpdfminer\u001B[39;00m\u001B[38;5;21;01m.\u001B[39;00m\u001B[38;5;21;01mpdftypes\u001B[39;00m \u001B[38;5;28;01mimport\u001B[39;00m PDFObjRef\n\u001B[1;32m---> 36\u001B[0m \u001B[38;5;28;01mfrom\u001B[39;00m \u001B[38;5;21;01mpdfminer\u001B[39;00m\u001B[38;5;21;01m.\u001B[39;00m\u001B[38;5;21;01mutils\u001B[39;00m \u001B[38;5;28;01mimport\u001B[39;00m open_filename\n\u001B[0;32m     37\u001B[0m \u001B[38;5;28;01mfrom\u001B[39;00m \u001B[38;5;21;01mPIL\u001B[39;00m \u001B[38;5;28;01mimport\u001B[39;00m Image \u001B[38;5;28;01mas\u001B[39;00m PILImage\n\u001B[0;32m     39\u001B[0m \u001B[38;5;28;01mfrom\u001B[39;00m \u001B[38;5;21;01munstructured\u001B[39;00m\u001B[38;5;21;01m.\u001B[39;00m\u001B[38;5;21;01mchunking\u001B[39;00m \u001B[38;5;28;01mimport\u001B[39;00m add_chunking_strategy\n",
      "\u001B[1;31mImportError\u001B[0m: cannot import name 'open_filename' from 'pdfminer.utils' (p:\\Projects\\LLM-Frameworks-Tutorials\\LangChain Tutorials\\Tutorials from Langchain\\.venv\\Lib\\site-packages\\pdfminer\\utils.py)"
     ]
    }
   ],
   "source": [
    "from langchain_community.document_loaders import UnstructuredPDFLoader\n",
    "\n",
    "loader = UnstructuredPDFLoader(\"data/layout-parser-paper.pdf\")\n",
    "data = loader.load()\n",
    "data[0]"
   ],
   "metadata": {
    "collapsed": false,
    "ExecuteTime": {
     "end_time": "2024-02-02T14:59:19.636403500Z",
     "start_time": "2024-02-02T14:59:19.574154900Z"
    }
   },
   "id": "e89b022eb8b8309a",
   "execution_count": 83
  },
  {
   "cell_type": "markdown",
   "source": [
    "### Using PyPDFium2"
   ],
   "metadata": {
    "collapsed": false
   },
   "id": "d9c39ad757252956"
  },
  {
   "cell_type": "code",
   "outputs": [],
   "source": [
    "!pip install pypdfium2"
   ],
   "metadata": {
    "collapsed": false,
    "ExecuteTime": {
     "start_time": "2024-02-02T14:59:19.632403800Z"
    }
   },
   "id": "37b1498a247d5cc3",
   "execution_count": null
  },
  {
   "cell_type": "code",
   "outputs": [],
   "source": [
    "from langchain_community.document_loaders import PyPDFium2Loader\n",
    "\n",
    "loader = PyPDFium2Loader(\"data/layout-parser-paper.pdf\")\n",
    "\n",
    "data = loader.load()"
   ],
   "metadata": {
    "collapsed": false,
    "ExecuteTime": {
     "start_time": "2024-02-02T14:59:19.633404100Z"
    }
   },
   "id": "1645c1dc1253e752",
   "execution_count": null
  },
  {
   "cell_type": "markdown",
   "source": [
    "[Project Map](#project-map)\n",
    "\n",
    "---"
   ],
   "metadata": {
    "collapsed": false
   },
   "id": "e860d30a926b9364"
  },
  {
   "cell_type": "markdown",
   "source": [
    "### Using PDFMiner"
   ],
   "metadata": {
    "collapsed": false
   },
   "id": "d49fa466b3a8b04c"
  },
  {
   "cell_type": "code",
   "outputs": [],
   "source": [
    "!pip install pdfminer.six"
   ],
   "metadata": {
    "collapsed": false,
    "ExecuteTime": {
     "start_time": "2024-02-02T14:59:19.634404600Z"
    }
   },
   "id": "dc9df306614f0f81",
   "execution_count": null
  },
  {
   "cell_type": "code",
   "outputs": [
    {
     "ename": "ImportError",
     "evalue": "`pdfminer` package not found, please install it with `pip install pdfminer.six`",
     "output_type": "error",
     "traceback": [
      "\u001B[1;31m---------------------------------------------------------------------------\u001B[0m",
      "\u001B[1;31mImportError\u001B[0m                               Traceback (most recent call last)",
      "File \u001B[1;32mp:\\Projects\\LLM-Frameworks-Tutorials\\LangChain Tutorials\\Tutorials from Langchain\\.venv\\Lib\\site-packages\\langchain_community\\document_loaders\\pdf.py:270\u001B[0m, in \u001B[0;36mPDFMinerLoader.__init__\u001B[1;34m(self, file_path, headers, extract_images, concatenate_pages)\u001B[0m\n\u001B[0;32m    269\u001B[0m \u001B[38;5;28;01mtry\u001B[39;00m:\n\u001B[1;32m--> 270\u001B[0m     \u001B[38;5;28;01mfrom\u001B[39;00m \u001B[38;5;21;01mpdfminer\u001B[39;00m\u001B[38;5;21;01m.\u001B[39;00m\u001B[38;5;21;01mhigh_level\u001B[39;00m \u001B[38;5;28;01mimport\u001B[39;00m extract_text  \u001B[38;5;66;03m# noqa:F401\u001B[39;00m\n\u001B[0;32m    271\u001B[0m \u001B[38;5;28;01mexcept\u001B[39;00m \u001B[38;5;167;01mImportError\u001B[39;00m:\n",
      "File \u001B[1;32mp:\\Projects\\LLM-Frameworks-Tutorials\\LangChain Tutorials\\Tutorials from Langchain\\.venv\\Lib\\site-packages\\pdfminer\\high_level.py:8\u001B[0m\n\u001B[0;32m      6\u001B[0m \u001B[38;5;28;01mfrom\u001B[39;00m \u001B[38;5;21;01mtyping\u001B[39;00m \u001B[38;5;28;01mimport\u001B[39;00m Any, BinaryIO, Container, Iterator, Optional, cast\n\u001B[1;32m----> 8\u001B[0m \u001B[38;5;28;01mfrom\u001B[39;00m \u001B[38;5;21;01m.\u001B[39;00m\u001B[38;5;21;01mconverter\u001B[39;00m \u001B[38;5;28;01mimport\u001B[39;00m (\n\u001B[0;32m      9\u001B[0m     XMLConverter,\n\u001B[0;32m     10\u001B[0m     HTMLConverter,\n\u001B[0;32m     11\u001B[0m     TextConverter,\n\u001B[0;32m     12\u001B[0m     PDFPageAggregator,\n\u001B[0;32m     13\u001B[0m     HOCRConverter,\n\u001B[0;32m     14\u001B[0m )\n\u001B[0;32m     15\u001B[0m \u001B[38;5;28;01mfrom\u001B[39;00m \u001B[38;5;21;01m.\u001B[39;00m\u001B[38;5;21;01mimage\u001B[39;00m \u001B[38;5;28;01mimport\u001B[39;00m ImageWriter\n",
      "File \u001B[1;32mp:\\Projects\\LLM-Frameworks-Tutorials\\LangChain Tutorials\\Tutorials from Langchain\\.venv\\Lib\\site-packages\\pdfminer\\converter.py:20\u001B[0m\n\u001B[0;32m     19\u001B[0m \u001B[38;5;28;01mfrom\u001B[39;00m \u001B[38;5;21;01m.\u001B[39;00m \u001B[38;5;28;01mimport\u001B[39;00m utils\n\u001B[1;32m---> 20\u001B[0m \u001B[38;5;28;01mfrom\u001B[39;00m \u001B[38;5;21;01m.\u001B[39;00m\u001B[38;5;21;01mimage\u001B[39;00m \u001B[38;5;28;01mimport\u001B[39;00m ImageWriter\n\u001B[0;32m     21\u001B[0m \u001B[38;5;28;01mfrom\u001B[39;00m \u001B[38;5;21;01m.\u001B[39;00m\u001B[38;5;21;01mlayout\u001B[39;00m \u001B[38;5;28;01mimport\u001B[39;00m LAParams, LTComponent, TextGroupElement\n",
      "File \u001B[1;32mp:\\Projects\\LLM-Frameworks-Tutorials\\LangChain Tutorials\\Tutorials from Langchain\\.venv\\Lib\\site-packages\\pdfminer\\image.py:18\u001B[0m\n\u001B[0;32m     17\u001B[0m \u001B[38;5;28;01mfrom\u001B[39;00m \u001B[38;5;21;01m.\u001B[39;00m\u001B[38;5;21;01mpdfcolor\u001B[39;00m \u001B[38;5;28;01mimport\u001B[39;00m LITERAL_DEVICE_RGB\n\u001B[1;32m---> 18\u001B[0m \u001B[38;5;28;01mfrom\u001B[39;00m \u001B[38;5;21;01m.\u001B[39;00m\u001B[38;5;21;01mpdftypes\u001B[39;00m \u001B[38;5;28;01mimport\u001B[39;00m (\n\u001B[0;32m     19\u001B[0m     LITERALS_DCT_DECODE,\n\u001B[0;32m     20\u001B[0m     LITERALS_JBIG2_DECODE,\n\u001B[0;32m     21\u001B[0m     LITERALS_JPX_DECODE,\n\u001B[0;32m     22\u001B[0m     LITERALS_FLATE_DECODE,\n\u001B[0;32m     23\u001B[0m )\n\u001B[0;32m     25\u001B[0m PIL_ERROR_MESSAGE \u001B[38;5;241m=\u001B[39m (\n\u001B[0;32m     26\u001B[0m     \u001B[38;5;124m\"\u001B[39m\u001B[38;5;124mCould not import Pillow. This dependency of pdfminer.six is not \u001B[39m\u001B[38;5;124m\"\u001B[39m\n\u001B[0;32m     27\u001B[0m     \u001B[38;5;124m\"\u001B[39m\u001B[38;5;124minstalled by default. You need it to to save jpg images to a file. Install it \u001B[39m\u001B[38;5;124m\"\u001B[39m\n\u001B[0;32m     28\u001B[0m     \u001B[38;5;124m\"\u001B[39m\u001B[38;5;124mwith `pip install \u001B[39m\u001B[38;5;124m'\u001B[39m\u001B[38;5;124mpdfminer.six[image]\u001B[39m\u001B[38;5;124m'\u001B[39m\u001B[38;5;124m`\u001B[39m\u001B[38;5;124m\"\u001B[39m\n\u001B[0;32m     29\u001B[0m )\n",
      "\u001B[1;31mImportError\u001B[0m: cannot import name 'LITERALS_JBIG2_DECODE' from 'pdfminer.pdftypes' (p:\\Projects\\LLM-Frameworks-Tutorials\\LangChain Tutorials\\Tutorials from Langchain\\.venv\\Lib\\site-packages\\pdfminer\\pdftypes.py)",
      "\nDuring handling of the above exception, another exception occurred:\n",
      "\u001B[1;31mImportError\u001B[0m                               Traceback (most recent call last)",
      "Cell \u001B[1;32mIn[84], line 3\u001B[0m\n\u001B[0;32m      1\u001B[0m \u001B[38;5;28;01mfrom\u001B[39;00m \u001B[38;5;21;01mlangchain_community\u001B[39;00m\u001B[38;5;21;01m.\u001B[39;00m\u001B[38;5;21;01mdocument_loaders\u001B[39;00m \u001B[38;5;28;01mimport\u001B[39;00m PDFMinerLoader\n\u001B[1;32m----> 3\u001B[0m loader \u001B[38;5;241m=\u001B[39m \u001B[43mPDFMinerLoader\u001B[49m\u001B[43m(\u001B[49m\u001B[38;5;124;43m\"\u001B[39;49m\u001B[38;5;124;43mdata/layout-parser-paper.pdf\u001B[39;49m\u001B[38;5;124;43m\"\u001B[39;49m\u001B[43m)\u001B[49m\n\u001B[0;32m      5\u001B[0m data \u001B[38;5;241m=\u001B[39m loader\u001B[38;5;241m.\u001B[39mload()\n",
      "File \u001B[1;32mp:\\Projects\\LLM-Frameworks-Tutorials\\LangChain Tutorials\\Tutorials from Langchain\\.venv\\Lib\\site-packages\\langchain_community\\document_loaders\\pdf.py:272\u001B[0m, in \u001B[0;36mPDFMinerLoader.__init__\u001B[1;34m(self, file_path, headers, extract_images, concatenate_pages)\u001B[0m\n\u001B[0;32m    270\u001B[0m     \u001B[38;5;28;01mfrom\u001B[39;00m \u001B[38;5;21;01mpdfminer\u001B[39;00m\u001B[38;5;21;01m.\u001B[39;00m\u001B[38;5;21;01mhigh_level\u001B[39;00m \u001B[38;5;28;01mimport\u001B[39;00m extract_text  \u001B[38;5;66;03m# noqa:F401\u001B[39;00m\n\u001B[0;32m    271\u001B[0m \u001B[38;5;28;01mexcept\u001B[39;00m \u001B[38;5;167;01mImportError\u001B[39;00m:\n\u001B[1;32m--> 272\u001B[0m     \u001B[38;5;28;01mraise\u001B[39;00m \u001B[38;5;167;01mImportError\u001B[39;00m(\n\u001B[0;32m    273\u001B[0m         \u001B[38;5;124m\"\u001B[39m\u001B[38;5;124m`pdfminer` package not found, please install it with \u001B[39m\u001B[38;5;124m\"\u001B[39m\n\u001B[0;32m    274\u001B[0m         \u001B[38;5;124m\"\u001B[39m\u001B[38;5;124m`pip install pdfminer.six`\u001B[39m\u001B[38;5;124m\"\u001B[39m\n\u001B[0;32m    275\u001B[0m     )\n\u001B[0;32m    277\u001B[0m \u001B[38;5;28msuper\u001B[39m()\u001B[38;5;241m.\u001B[39m\u001B[38;5;21m__init__\u001B[39m(file_path, headers\u001B[38;5;241m=\u001B[39mheaders)\n\u001B[0;32m    278\u001B[0m \u001B[38;5;28mself\u001B[39m\u001B[38;5;241m.\u001B[39mparser \u001B[38;5;241m=\u001B[39m PDFMinerParser(\n\u001B[0;32m    279\u001B[0m     extract_images\u001B[38;5;241m=\u001B[39mextract_images, concatenate_pages\u001B[38;5;241m=\u001B[39mconcatenate_pages\n\u001B[0;32m    280\u001B[0m )\n",
      "\u001B[1;31mImportError\u001B[0m: `pdfminer` package not found, please install it with `pip install pdfminer.six`"
     ]
    }
   ],
   "source": [
    "from langchain_community.document_loaders import PDFMinerLoader\n",
    "\n",
    "loader = PDFMinerLoader(\"data/layout-parser-paper.pdf\")\n",
    "\n",
    "data = loader.load()"
   ],
   "metadata": {
    "collapsed": false,
    "ExecuteTime": {
     "end_time": "2024-02-02T14:59:19.942412300Z",
     "start_time": "2024-02-02T14:59:19.861384300Z"
    }
   },
   "id": "b1f123693cb2cdd8",
   "execution_count": 84
  },
  {
   "cell_type": "markdown",
   "source": [
    "### Using PDFMiner to generate HTML text\n",
    "This can be helpful for chunking texts semantically into sections as the output html content can be parsed via BeautifulSoup to get more structured and rich information about font size, page numbers, PDF headers/footers, etc."
   ],
   "metadata": {
    "collapsed": false
   },
   "id": "1d30e07be9157f0a"
  },
  {
   "cell_type": "code",
   "outputs": [
    {
     "name": "stderr",
     "output_type": "stream",
     "text": [
      "<>:22: SyntaxWarning: invalid escape sequence '\\d'\n",
      "<>:22: SyntaxWarning: invalid escape sequence '\\d'\n",
      "C:\\Users\\User\\AppData\\Local\\Temp\\ipykernel_14592\\3095238879.py:22: SyntaxWarning: invalid escape sequence '\\d'\n",
      "  fs = re.findall('font-size:(\\d+)px',st)\n"
     ]
    },
    {
     "ename": "ImportError",
     "evalue": "`pdfminer` package not found, please install it with `pip install pdfminer.six`",
     "output_type": "error",
     "traceback": [
      "\u001B[1;31m---------------------------------------------------------------------------\u001B[0m",
      "\u001B[1;31mImportError\u001B[0m                               Traceback (most recent call last)",
      "File \u001B[1;32mp:\\Projects\\LLM-Frameworks-Tutorials\\LangChain Tutorials\\Tutorials from Langchain\\.venv\\Lib\\site-packages\\langchain_community\\document_loaders\\pdf.py:270\u001B[0m, in \u001B[0;36mPDFMinerLoader.__init__\u001B[1;34m(self, file_path, headers, extract_images, concatenate_pages)\u001B[0m\n\u001B[0;32m    269\u001B[0m \u001B[38;5;28;01mtry\u001B[39;00m:\n\u001B[1;32m--> 270\u001B[0m     \u001B[38;5;28;01mfrom\u001B[39;00m \u001B[38;5;21;01mpdfminer\u001B[39;00m\u001B[38;5;21;01m.\u001B[39;00m\u001B[38;5;21;01mhigh_level\u001B[39;00m \u001B[38;5;28;01mimport\u001B[39;00m extract_text  \u001B[38;5;66;03m# noqa:F401\u001B[39;00m\n\u001B[0;32m    271\u001B[0m \u001B[38;5;28;01mexcept\u001B[39;00m \u001B[38;5;167;01mImportError\u001B[39;00m:\n",
      "File \u001B[1;32mp:\\Projects\\LLM-Frameworks-Tutorials\\LangChain Tutorials\\Tutorials from Langchain\\.venv\\Lib\\site-packages\\pdfminer\\high_level.py:8\u001B[0m\n\u001B[0;32m      6\u001B[0m \u001B[38;5;28;01mfrom\u001B[39;00m \u001B[38;5;21;01mtyping\u001B[39;00m \u001B[38;5;28;01mimport\u001B[39;00m Any, BinaryIO, Container, Iterator, Optional, cast\n\u001B[1;32m----> 8\u001B[0m \u001B[38;5;28;01mfrom\u001B[39;00m \u001B[38;5;21;01m.\u001B[39;00m\u001B[38;5;21;01mconverter\u001B[39;00m \u001B[38;5;28;01mimport\u001B[39;00m (\n\u001B[0;32m      9\u001B[0m     XMLConverter,\n\u001B[0;32m     10\u001B[0m     HTMLConverter,\n\u001B[0;32m     11\u001B[0m     TextConverter,\n\u001B[0;32m     12\u001B[0m     PDFPageAggregator,\n\u001B[0;32m     13\u001B[0m     HOCRConverter,\n\u001B[0;32m     14\u001B[0m )\n\u001B[0;32m     15\u001B[0m \u001B[38;5;28;01mfrom\u001B[39;00m \u001B[38;5;21;01m.\u001B[39;00m\u001B[38;5;21;01mimage\u001B[39;00m \u001B[38;5;28;01mimport\u001B[39;00m ImageWriter\n",
      "File \u001B[1;32mp:\\Projects\\LLM-Frameworks-Tutorials\\LangChain Tutorials\\Tutorials from Langchain\\.venv\\Lib\\site-packages\\pdfminer\\converter.py:20\u001B[0m\n\u001B[0;32m     19\u001B[0m \u001B[38;5;28;01mfrom\u001B[39;00m \u001B[38;5;21;01m.\u001B[39;00m \u001B[38;5;28;01mimport\u001B[39;00m utils\n\u001B[1;32m---> 20\u001B[0m \u001B[38;5;28;01mfrom\u001B[39;00m \u001B[38;5;21;01m.\u001B[39;00m\u001B[38;5;21;01mimage\u001B[39;00m \u001B[38;5;28;01mimport\u001B[39;00m ImageWriter\n\u001B[0;32m     21\u001B[0m \u001B[38;5;28;01mfrom\u001B[39;00m \u001B[38;5;21;01m.\u001B[39;00m\u001B[38;5;21;01mlayout\u001B[39;00m \u001B[38;5;28;01mimport\u001B[39;00m LAParams, LTComponent, TextGroupElement\n",
      "File \u001B[1;32mp:\\Projects\\LLM-Frameworks-Tutorials\\LangChain Tutorials\\Tutorials from Langchain\\.venv\\Lib\\site-packages\\pdfminer\\image.py:18\u001B[0m\n\u001B[0;32m     17\u001B[0m \u001B[38;5;28;01mfrom\u001B[39;00m \u001B[38;5;21;01m.\u001B[39;00m\u001B[38;5;21;01mpdfcolor\u001B[39;00m \u001B[38;5;28;01mimport\u001B[39;00m LITERAL_DEVICE_RGB\n\u001B[1;32m---> 18\u001B[0m \u001B[38;5;28;01mfrom\u001B[39;00m \u001B[38;5;21;01m.\u001B[39;00m\u001B[38;5;21;01mpdftypes\u001B[39;00m \u001B[38;5;28;01mimport\u001B[39;00m (\n\u001B[0;32m     19\u001B[0m     LITERALS_DCT_DECODE,\n\u001B[0;32m     20\u001B[0m     LITERALS_JBIG2_DECODE,\n\u001B[0;32m     21\u001B[0m     LITERALS_JPX_DECODE,\n\u001B[0;32m     22\u001B[0m     LITERALS_FLATE_DECODE,\n\u001B[0;32m     23\u001B[0m )\n\u001B[0;32m     25\u001B[0m PIL_ERROR_MESSAGE \u001B[38;5;241m=\u001B[39m (\n\u001B[0;32m     26\u001B[0m     \u001B[38;5;124m\"\u001B[39m\u001B[38;5;124mCould not import Pillow. This dependency of pdfminer.six is not \u001B[39m\u001B[38;5;124m\"\u001B[39m\n\u001B[0;32m     27\u001B[0m     \u001B[38;5;124m\"\u001B[39m\u001B[38;5;124minstalled by default. You need it to to save jpg images to a file. Install it \u001B[39m\u001B[38;5;124m\"\u001B[39m\n\u001B[0;32m     28\u001B[0m     \u001B[38;5;124m\"\u001B[39m\u001B[38;5;124mwith `pip install \u001B[39m\u001B[38;5;124m'\u001B[39m\u001B[38;5;124mpdfminer.six[image]\u001B[39m\u001B[38;5;124m'\u001B[39m\u001B[38;5;124m`\u001B[39m\u001B[38;5;124m\"\u001B[39m\n\u001B[0;32m     29\u001B[0m )\n",
      "\u001B[1;31mImportError\u001B[0m: cannot import name 'LITERALS_JBIG2_DECODE' from 'pdfminer.pdftypes' (p:\\Projects\\LLM-Frameworks-Tutorials\\LangChain Tutorials\\Tutorials from Langchain\\.venv\\Lib\\site-packages\\pdfminer\\pdftypes.py)",
      "\nDuring handling of the above exception, another exception occurred:\n",
      "\u001B[1;31mImportError\u001B[0m                               Traceback (most recent call last)",
      "Cell \u001B[1;32mIn[85], line 3\u001B[0m\n\u001B[0;32m      1\u001B[0m \u001B[38;5;28;01mfrom\u001B[39;00m \u001B[38;5;21;01mlangchain_community\u001B[39;00m\u001B[38;5;21;01m.\u001B[39;00m\u001B[38;5;21;01mdocument_loaders\u001B[39;00m \u001B[38;5;28;01mimport\u001B[39;00m PDFMinerPDFasHTMLLoader\n\u001B[1;32m----> 3\u001B[0m loader \u001B[38;5;241m=\u001B[39m \u001B[43mPDFMinerLoader\u001B[49m\u001B[43m(\u001B[49m\u001B[38;5;124;43m\"\u001B[39;49m\u001B[38;5;124;43mdata/layout-parser-paper.pdf\u001B[39;49m\u001B[38;5;124;43m\"\u001B[39;49m\u001B[43m)\u001B[49m\n\u001B[0;32m      5\u001B[0m data \u001B[38;5;241m=\u001B[39m loader\u001B[38;5;241m.\u001B[39mload()[\u001B[38;5;241m0\u001B[39m]   \u001B[38;5;66;03m# entire PDF is loaded as a single Document\u001B[39;00m\n\u001B[0;32m      7\u001B[0m \u001B[38;5;28;01mfrom\u001B[39;00m \u001B[38;5;21;01mbs4\u001B[39;00m \u001B[38;5;28;01mimport\u001B[39;00m BeautifulSoup\n",
      "File \u001B[1;32mp:\\Projects\\LLM-Frameworks-Tutorials\\LangChain Tutorials\\Tutorials from Langchain\\.venv\\Lib\\site-packages\\langchain_community\\document_loaders\\pdf.py:272\u001B[0m, in \u001B[0;36mPDFMinerLoader.__init__\u001B[1;34m(self, file_path, headers, extract_images, concatenate_pages)\u001B[0m\n\u001B[0;32m    270\u001B[0m     \u001B[38;5;28;01mfrom\u001B[39;00m \u001B[38;5;21;01mpdfminer\u001B[39;00m\u001B[38;5;21;01m.\u001B[39;00m\u001B[38;5;21;01mhigh_level\u001B[39;00m \u001B[38;5;28;01mimport\u001B[39;00m extract_text  \u001B[38;5;66;03m# noqa:F401\u001B[39;00m\n\u001B[0;32m    271\u001B[0m \u001B[38;5;28;01mexcept\u001B[39;00m \u001B[38;5;167;01mImportError\u001B[39;00m:\n\u001B[1;32m--> 272\u001B[0m     \u001B[38;5;28;01mraise\u001B[39;00m \u001B[38;5;167;01mImportError\u001B[39;00m(\n\u001B[0;32m    273\u001B[0m         \u001B[38;5;124m\"\u001B[39m\u001B[38;5;124m`pdfminer` package not found, please install it with \u001B[39m\u001B[38;5;124m\"\u001B[39m\n\u001B[0;32m    274\u001B[0m         \u001B[38;5;124m\"\u001B[39m\u001B[38;5;124m`pip install pdfminer.six`\u001B[39m\u001B[38;5;124m\"\u001B[39m\n\u001B[0;32m    275\u001B[0m     )\n\u001B[0;32m    277\u001B[0m \u001B[38;5;28msuper\u001B[39m()\u001B[38;5;241m.\u001B[39m\u001B[38;5;21m__init__\u001B[39m(file_path, headers\u001B[38;5;241m=\u001B[39mheaders)\n\u001B[0;32m    278\u001B[0m \u001B[38;5;28mself\u001B[39m\u001B[38;5;241m.\u001B[39mparser \u001B[38;5;241m=\u001B[39m PDFMinerParser(\n\u001B[0;32m    279\u001B[0m     extract_images\u001B[38;5;241m=\u001B[39mextract_images, concatenate_pages\u001B[38;5;241m=\u001B[39mconcatenate_pages\n\u001B[0;32m    280\u001B[0m )\n",
      "\u001B[1;31mImportError\u001B[0m: `pdfminer` package not found, please install it with `pip install pdfminer.six`"
     ]
    }
   ],
   "source": [
    "from langchain_community.document_loaders import PDFMinerPDFasHTMLLoader\n",
    "\n",
    "loader = PDFMinerLoader(\"data/layout-parser-paper.pdf\")\n",
    "\n",
    "data = loader.load()[0]   # entire PDF is loaded as a single Document\n",
    "\n",
    "from bs4 import BeautifulSoup\n",
    "soup = BeautifulSoup(data.page_content,'html.parser')\n",
    "content = soup.find_all('div')\n",
    "\n",
    "import re\n",
    "cur_fs = None\n",
    "cur_text = ''\n",
    "snippets = []   # first collect all snippets that have the same font size\n",
    "for c in content:\n",
    "    sp = c.find('span')\n",
    "    if not sp:\n",
    "        continue\n",
    "    st = sp.get('style')\n",
    "    if not st:\n",
    "        continue\n",
    "    fs = re.findall('font-size:(\\d+)px',st)\n",
    "    if not fs:\n",
    "        continue\n",
    "    fs = int(fs[0])\n",
    "    if not cur_fs:\n",
    "        cur_fs = fs\n",
    "    if fs == cur_fs:\n",
    "        cur_text += c.text\n",
    "    else:\n",
    "        snippets.append((cur_text,cur_fs))\n",
    "        cur_fs = fs\n",
    "        cur_text = c.text\n",
    "snippets.append((cur_text,cur_fs))\n",
    "# Note: The above logic is very straightforward. One can also add more strategies such as removing duplicate snippets (as\n",
    "# headers/footers in a PDF appear on multiple pages so if we find duplicates it's safe to assume that it is redundant info)"
   ],
   "metadata": {
    "collapsed": false,
    "ExecuteTime": {
     "end_time": "2024-02-02T14:59:20.963137900Z",
     "start_time": "2024-02-02T14:59:20.877072900Z"
    }
   },
   "id": "33113e45ff65e73a",
   "execution_count": 85
  },
  {
   "cell_type": "code",
   "outputs": [
    {
     "ename": "NameError",
     "evalue": "name 'snippets' is not defined",
     "output_type": "error",
     "traceback": [
      "\u001B[1;31m---------------------------------------------------------------------------\u001B[0m",
      "\u001B[1;31mNameError\u001B[0m                                 Traceback (most recent call last)",
      "Cell \u001B[1;32mIn[86], line 5\u001B[0m\n\u001B[0;32m      3\u001B[0m semantic_snippets \u001B[38;5;241m=\u001B[39m []\n\u001B[0;32m      4\u001B[0m \u001B[38;5;66;03m# Assumption: headings have higher font size than their respective content\u001B[39;00m\n\u001B[1;32m----> 5\u001B[0m \u001B[38;5;28;01mfor\u001B[39;00m s \u001B[38;5;129;01min\u001B[39;00m \u001B[43msnippets\u001B[49m:\n\u001B[0;32m      6\u001B[0m     \u001B[38;5;66;03m# if current snippet's font size > previous section's heading => it is a new heading\u001B[39;00m\n\u001B[0;32m      7\u001B[0m     \u001B[38;5;28;01mif\u001B[39;00m \u001B[38;5;129;01mnot\u001B[39;00m semantic_snippets \u001B[38;5;129;01mor\u001B[39;00m s[\u001B[38;5;241m1\u001B[39m] \u001B[38;5;241m>\u001B[39m semantic_snippets[cur_idx]\u001B[38;5;241m.\u001B[39mmetadata[\u001B[38;5;124m'\u001B[39m\u001B[38;5;124mheading_font\u001B[39m\u001B[38;5;124m'\u001B[39m]:\n\u001B[0;32m      8\u001B[0m         metadata\u001B[38;5;241m=\u001B[39m{\u001B[38;5;124m'\u001B[39m\u001B[38;5;124mheading\u001B[39m\u001B[38;5;124m'\u001B[39m:s[\u001B[38;5;241m0\u001B[39m], \u001B[38;5;124m'\u001B[39m\u001B[38;5;124mcontent_font\u001B[39m\u001B[38;5;124m'\u001B[39m: \u001B[38;5;241m0\u001B[39m, \u001B[38;5;124m'\u001B[39m\u001B[38;5;124mheading_font\u001B[39m\u001B[38;5;124m'\u001B[39m: s[\u001B[38;5;241m1\u001B[39m]}\n",
      "\u001B[1;31mNameError\u001B[0m: name 'snippets' is not defined"
     ]
    }
   ],
   "source": [
    "from langchain.docstore.document import Document\n",
    "cur_idx = -1\n",
    "semantic_snippets = []\n",
    "# Assumption: headings have higher font size than their respective content\n",
    "for s in snippets:\n",
    "    # if current snippet's font size > previous section's heading => it is a new heading\n",
    "    if not semantic_snippets or s[1] > semantic_snippets[cur_idx].metadata['heading_font']:\n",
    "        metadata={'heading':s[0], 'content_font': 0, 'heading_font': s[1]}\n",
    "        metadata.update(data.metadata)\n",
    "        semantic_snippets.append(Document(page_content='',metadata=metadata))\n",
    "        cur_idx += 1\n",
    "        continue\n",
    "\n",
    "    # if current snippet's font size <= previous section's content => content belongs to the same section (one can also create\n",
    "    # a tree like structure for sub sections if needed but that may require some more thinking and may be data specific)\n",
    "    if not semantic_snippets[cur_idx].metadata['content_font'] or s[1] <= semantic_snippets[cur_idx].metadata['content_font']:\n",
    "        semantic_snippets[cur_idx].page_content += s[0]\n",
    "        semantic_snippets[cur_idx].metadata['content_font'] = max(s[1], semantic_snippets[cur_idx].metadata['content_font'])\n",
    "        continue\n",
    "\n",
    "    # if current snippet's font size > previous section's content but less than previous section's heading than also make a new\n",
    "    # section (e.g. title of a PDF will have the highest font size but we don't want it to subsume all sections)\n",
    "    metadata={'heading':s[0], 'content_font': 0, 'heading_font': s[1]}\n",
    "    metadata.update(data.metadata)\n",
    "    semantic_snippets.append(Document(page_content='',metadata=metadata))\n",
    "    cur_idx += 1"
   ],
   "metadata": {
    "collapsed": false,
    "ExecuteTime": {
     "end_time": "2024-02-02T14:59:21.418255500Z",
     "start_time": "2024-02-02T14:59:21.405747200Z"
    }
   },
   "id": "c403ec6d2d945c8a",
   "execution_count": 86
  },
  {
   "cell_type": "markdown",
   "source": [
    "[Project Map](#project-map)\n",
    "\n",
    "---"
   ],
   "metadata": {
    "collapsed": false
   },
   "id": "8d07b30acf912ce9"
  },
  {
   "cell_type": "markdown",
   "source": [
    "### PyPDF Directory\n",
    "Load PDFs from directory"
   ],
   "metadata": {
    "collapsed": false
   },
   "id": "5218741a5a1d4f19"
  },
  {
   "cell_type": "code",
   "outputs": [
    {
     "data": {
      "text/plain": "[Document(page_content='LayoutParser : A Uniﬁed Toolkit for Deep\\nLearning Based Document Image Analysis\\nZejiang Shen1( \\x00), Ruochen Zhang2, Melissa Dell3, Benjamin Charles Germain\\nLee4, Jacob Carlson3, and Weining Li5\\n1Allen Institute for AI\\nshannons@allenai.org\\n2Brown University\\nruochen zhang@brown.edu\\n3Harvard University\\n{melissadell,jacob carlson }@fas.harvard.edu\\n4University of Washington\\nbcgl@cs.washington.edu\\n5University of Waterloo\\nw422li@uwaterloo.ca\\nAbstract. Recent advances in document image analysis (DIA) have been\\nprimarily driven by the application of neural networks. Ideally, research\\noutcomes could be easily deployed in production and extended for further\\ninvestigation. However, various factors like loosely organized codebases\\nand sophisticated model conﬁgurations complicate the easy reuse of im-\\nportant innovations by a wide audience. Though there have been on-going\\neﬀorts to improve reusability and simplify deep learning (DL) model\\ndevelopment in disciplines like natural language processing and computer\\nvision, none of them are optimized for challenges in the domain of DIA.\\nThis represents a major gap in the existing toolkit, as DIA is central to\\nacademic research across a wide range of disciplines in the social sciences\\nand humanities. This paper introduces LayoutParser , an open-source\\nlibrary for streamlining the usage of DL in DIA research and applica-\\ntions. The core LayoutParser library comes with a set of simple and\\nintuitive interfaces for applying and customizing DL models for layout de-\\ntection, character recognition, and many other document processing tasks.\\nTo promote extensibility, LayoutParser also incorporates a community\\nplatform for sharing both pre-trained models and full document digiti-\\nzation pipelines. We demonstrate that LayoutParser is helpful for both\\nlightweight and large-scale digitization pipelines in real-word use cases.\\nThe library is publicly available at https://layout-parser.github.io .\\nKeywords: Document Image Analysis ·Deep Learning ·Layout Analysis\\n·Character Recognition ·Open Source library ·Toolkit.\\n1 Introduction\\nDeep Learning(DL)-based approaches are the state-of-the-art for a wide range of\\ndocument image analysis (DIA) tasks including document image classiﬁcation [ 11,arXiv:2103.15348v2  [cs.CV]  21 Jun 2021', metadata={'source': 'data\\\\layout-parser-paper.pdf', 'page': 0}),\n Document(page_content='2 Z. Shen et al.\\n37], layout detection [ 38,22], table detection [ 26], and scene text detection [ 4].\\nA generalized learning-based framework dramatically reduces the need for the\\nmanual speciﬁcation of complicated rules, which is the status quo with traditional\\nmethods. DL has the potential to transform DIA pipelines and beneﬁt a broad\\nspectrum of large-scale document digitization projects.\\nHowever, there are several practical diﬃculties for taking advantages of re-\\ncent advances in DL-based methods: 1) DL models are notoriously convoluted\\nfor reuse and extension. Existing models are developed using distinct frame-\\nworks like TensorFlow [ 1] or PyTorch [ 24], and the high-level parameters can\\nbe obfuscated by implementation details [ 8]. It can be a time-consuming and\\nfrustrating experience to debug, reproduce, and adapt existing models for DIA,\\nand many researchers who would beneﬁt the most from using these methods lack\\nthe technical background to implement them from scratch. 2) Document images\\ncontain diverse and disparate patterns across domains, and customized training\\nis often required to achieve a desirable detection accuracy. Currently there is no\\nfull-ﬂedged infrastructure for easily curating the target document image datasets\\nand ﬁne-tuning or re-training the models. 3) DIA usually requires a sequence of\\nmodels and other processing to obtain the ﬁnal outputs. Often research teams use\\nDL models and then perform further document analyses in separate processes,\\nand these pipelines are not documented in any central location (and often not\\ndocumented at all). This makes it diﬃcult for research teams to learn about how\\nfull pipelines are implemented and leads them to invest signiﬁcant resources in\\nreinventing the DIA wheel .\\nLayoutParser provides a uniﬁed toolkit to support DL-based document image\\nanalysis and processing. To address the aforementioned challenges, LayoutParser\\nis built with the following components:\\n1.An oﬀ-the-shelf toolkit for applying DL models for layout detection, character\\nrecognition, and other DIA tasks (Section 3)\\n2.A rich repository of pre-trained neural network models (Model Zoo) that\\nunderlies the oﬀ-the-shelf usage\\n3.Comprehensive tools for eﬃcient document image data annotation and model\\ntuning to support diﬀerent levels of customization\\n4.A DL model hub and community platform for the easy sharing, distribu-\\ntion, and discussion of DIA models and pipelines, to promote reusability,\\nreproducibility, and extensibility (Section 4)\\nThe library implements simple and intuitive Python APIs without sacriﬁcing\\ngeneralizability and versatility, and can be easily installed via pip. Its convenient\\nfunctions for handling document image data can be seamlessly integrated with\\nexisting DIA pipelines. With detailed documentations and carefully curated\\ntutorials, we hope this tool will beneﬁt a variety of end-users, and will lead to\\nadvances in applications in both industry and academic research.\\nLayoutParser is well aligned with recent eﬀorts for improving DL model\\nreusability in other disciplines like natural language processing [ 8,34] and com-\\nputer vision [ 35], but with a focus on unique challenges in DIA. We show\\nLayoutParser can be applied in sophisticated and large-scale digitization projects', metadata={'source': 'data\\\\layout-parser-paper.pdf', 'page': 1}),\n Document(page_content='LayoutParser : A Uniﬁed Toolkit for DL-Based DIA 3\\nthat require precision, eﬃciency, and robustness, as well as simple and light-\\nweight document processing tasks focusing on eﬃcacy and ﬂexibility (Section 5).\\nLayoutParser is being actively maintained, and support for more deep learning\\nmodels and novel methods in text-based layout analysis methods [ 37,34] is\\nplanned.\\nThe rest of the paper is organized as follows. Section 2 provides an overview\\nof related work. The core LayoutParser library, DL Model Zoo, and customized\\nmodel training are described in Section 3, and the DL model hub and commu-\\nnity platform are detailed in Section 4. Section 5 shows two examples of how\\nLayoutParser can be used in practical DIA projects, and Section 6 concludes.\\n2 Related Work\\nRecently, various DL models and datasets have been developed for layout analysis\\ntasks. The dhSegment [ 22] utilizes fully convolutional networks [ 20] for segmen-\\ntation tasks on historical documents. Object detection-based methods like Faster\\nR-CNN [ 28] and Mask R-CNN [ 12] are used for identifying document elements [ 38]\\nand detecting tables [ 30,26]. Most recently, Graph Neural Networks [ 29] have also\\nbeen used in table detection [ 27]. However, these models are usually implemented\\nindividually and there is no uniﬁed framework to load and use such models.\\nThere has been a surge of interest in creating open-source tools for document\\nimage processing: a search of document image analysis in Github leads to 5M\\nrelevant code pieces6; yet most of them rely on traditional rule-based methods\\nor provide limited functionalities. The closest prior research to our work is the\\nOCR-D project7, which also tries to build a complete toolkit for DIA. However,\\nsimilar to the platform developed by Neudecker et al. [ 21], it is designed for\\nanalyzing historical documents, and provides no supports for recent DL models.\\nThe DocumentLayoutAnalysis project8focuses on processing born-digital PDF\\ndocuments via analyzing the stored PDF data. Repositories like DeepLayout9\\nand Detectron2-PubLayNet10are individual deep learning models trained on\\nlayout analysis datasets without support for the full DIA pipeline. The Document\\nAnalysis and Exploitation (DAE) platform [ 15] and the DeepDIVA project [ 2]\\naim to improve the reproducibility of DIA methods (or DL models), yet they\\nare not actively maintained. OCR engines like Tesseract [14],easyOCR11and\\npaddleOCR12usually do not come with comprehensive functionalities for other\\nDIA tasks like layout analysis.\\nRecent years have also seen numerous eﬀorts to create libraries for promoting\\nreproducibility and reusability in the ﬁeld of DL. Libraries like Dectectron2 [ 35],\\n6The number shown is obtained by specifying the search type as ‘code’.\\n7https://ocr-d.de/en/about\\n8https://github.com/BobLd/DocumentLayoutAnalysis\\n9https://github.com/leonlulu/DeepLayout\\n10https://github.com/hpanwar08/detectron2\\n11https://github.com/JaidedAI/EasyOCR\\n12https://github.com/PaddlePaddle/PaddleOCR', metadata={'source': 'data\\\\layout-parser-paper.pdf', 'page': 2}),\n Document(page_content='4 Z. Shen et al.\\nEfficient Data AnnotationC u s t o m i z e d  M o d e l  T r a i n i n gModel Cust omizationDI A Model HubDI A Pipeline SharingCommunity PlatformLa y out Detection ModelsDocument Images \\nT h e  C o r e  L a y o u t P a r s e r  L i b r a r yOCR ModuleSt or age & VisualizationLa y out Data Structur e\\nFig. 1: The overall architecture of LayoutParser . For an input document image,\\nthe core LayoutParser library provides a set of oﬀ-the-shelf tools for layout\\ndetection, OCR, visualization, and storage, backed by a carefully designed layout\\ndata structure. LayoutParser also supports high level customization via eﬃcient\\nlayout annotation and model training functions. These improve model accuracy\\non the target samples. The community platform enables the easy sharing of DIA\\nmodels and whole digitization pipelines to promote reusability and reproducibility.\\nA collection of detailed documentation, tutorials and exemplar projects make\\nLayoutParser easy to learn and use.\\nAllenNLP [ 8] and transformers [ 34] have provided the community with complete\\nDL-based support for developing and deploying models for general computer\\nvision and natural language processing problems. LayoutParser , on the other\\nhand, specializes speciﬁcally in DIA tasks. LayoutParser is also equipped with a\\ncommunity platform inspired by established model hubs such as Torch Hub [23]\\nandTensorFlow Hub [1]. It enables the sharing of pretrained models as well as\\nfull document processing pipelines that are unique to DIA tasks.\\nThere have been a variety of document data collections to facilitate the\\ndevelopment of DL models. Some examples include PRImA [ 3](magazine layouts),\\nPubLayNet [ 38](academic paper layouts), Table Bank [ 18](tables in academic\\npapers), Newspaper Navigator Dataset [ 16,17](newspaper ﬁgure layouts) and\\nHJDataset [31](historical Japanese document layouts). A spectrum of models\\ntrained on these datasets are currently available in the LayoutParser model zoo\\nto support diﬀerent use cases.\\n3 The Core LayoutParser Library\\nAt the core of LayoutParser is an oﬀ-the-shelf toolkit that streamlines DL-\\nbased document image analysis. Five components support a simple interface\\nwith comprehensive functionalities: 1) The layout detection models enable using\\npre-trained or self-trained DL models for layout detection with just four lines\\nof code. 2) The detected layout information is stored in carefully engineered', metadata={'source': 'data\\\\layout-parser-paper.pdf', 'page': 3}),\n Document(page_content='LayoutParser : A Uniﬁed Toolkit for DL-Based DIA 5\\nTable 1: Current layout detection models in the LayoutParser model zoo\\nDataset Base Model1Large Model Notes\\nPubLayNet [38] F / M M Layouts of modern scientiﬁc documents\\nPRImA [3] M - Layouts of scanned modern magazines and scientiﬁc reports\\nNewspaper [17] F - Layouts of scanned US newspapers from the 20th century\\nTableBank [18] F F Table region on modern scientiﬁc and business document\\nHJDataset [31] F / M - Layouts of history Japanese documents\\n1For each dataset, we train several models of diﬀerent sizes for diﬀerent needs (the trade-oﬀ between accuracy\\nvs. computational cost). For “base model” and “large model”, we refer to using the ResNet 50 or ResNet 101\\nbackbones [ 13], respectively. One can train models of diﬀerent architectures, like Faster R-CNN [ 28] (F) and Mask\\nR-CNN [ 12] (M). For example, an F in the Large Model column indicates it has a Faster R-CNN model trained\\nusing the ResNet 101 backbone. The platform is maintained and a number of additions will be made to the model\\nzoo in coming months.\\nlayout data structures , which are optimized for eﬃciency and versatility. 3) When\\nnecessary, users can employ existing or customized OCR models via the uniﬁed\\nAPI provided in the OCR module . 4)LayoutParser comes with a set of utility\\nfunctions for the visualization and storage of the layout data. 5) LayoutParser\\nis also highly customizable, via its integration with functions for layout data\\nannotation and model training . We now provide detailed descriptions for each\\ncomponent.\\n3.1 Layout Detection Models\\nInLayoutParser , a layout model takes a document image as an input and\\ngenerates a list of rectangular boxes for the target content regions. Diﬀerent\\nfrom traditional methods, it relies on deep convolutional neural networks rather\\nthan manually curated rules to identify content regions. It is formulated as an\\nobject detection problem and state-of-the-art models like Faster R-CNN [ 28] and\\nMask R-CNN [ 12] are used. This yields prediction results of high accuracy and\\nmakes it possible to build a concise, generalized interface for layout detection.\\nLayoutParser , built upon Detectron2 [ 35], provides a minimal API that can\\nperform layout detection with only four lines of code in Python:\\n1import layoutparser as lp\\n2image = cv2. imread (\" image_file \") # load images\\n3model = lp. Detectron2LayoutModel (\\n4 \"lp :// PubLayNet / faster_rcnn_R_50_FPN_3x / config \")\\n5layout = model . detect ( image )\\nLayoutParser provides a wealth of pre-trained model weights using various\\ndatasets covering diﬀerent languages, time periods, and document types. Due to\\ndomain shift [ 7], the prediction performance can notably drop when models are ap-\\nplied to target samples that are signiﬁcantly diﬀerent from the training dataset. As\\ndocument structures and layouts vary greatly in diﬀerent domains, it is important\\nto select models trained on a dataset similar to the test samples. A semantic syntax\\nis used for initializing the model weights in LayoutParser , using both the dataset\\nname and model name lp://<dataset-name>/<model-architecture-name> .', metadata={'source': 'data\\\\layout-parser-paper.pdf', 'page': 4}),\n Document(page_content='6 Z. Shen et al.\\nFig. 2: The relationship between the three types of layout data structures.\\nCoordinate supports three kinds of variation; TextBlock consists of the co-\\nordinate information and extra features like block text, types, and reading orders;\\naLayout object is a list of all possible layout elements, including other Layout\\nobjects. They all support the same set of transformation and operation APIs for\\nmaximum ﬂexibility.\\nShown in Table 1, LayoutParser currently hosts 9 pre-trained models trained\\non 5 diﬀerent datasets. Description of the training dataset is provided alongside\\nwith the trained models such that users can quickly identify the most suitable\\nmodels for their tasks. Additionally, when such a model is not readily available,\\nLayoutParser also supports training customized layout models and community\\nsharing of the models (detailed in Section 3.5).\\n3.2 Layout Data Structures\\nA critical feature of LayoutParser is the implementation of a series of data\\nstructures and operations that can be used to eﬃciently process and manipulate\\nthe layout elements. In document image analysis pipelines, various post-processing\\non the layout analysis model outputs is usually required to obtain the ﬁnal\\noutputs. Traditionally, this requires exporting DL model outputs and then loading\\nthe results into other pipelines. All model outputs from LayoutParser will be\\nstored in carefully engineered data types optimized for further processing, which\\nmakes it possible to build an end-to-end document digitization pipeline within\\nLayoutParser . There are three key components in the data structure, namely\\ntheCoordinate system, the TextBlock , and the Layout . They provide diﬀerent\\nlevels of abstraction for the layout data, and a set of APIs are supported for\\ntransformations or operations on these classes.', metadata={'source': 'data\\\\layout-parser-paper.pdf', 'page': 5}),\n Document(page_content='LayoutParser : A Uniﬁed Toolkit for DL-Based DIA 7\\nCoordinates are the cornerstones for storing layout information. Currently,\\nthree types of Coordinate data structures are provided in LayoutParser , shown\\nin Figure 2. Interval and Rectangle are the most common data types and\\nsupport specifying 1D or 2D regions within a document. They are parameterized\\nwith 2 and 4 parameters. A Quadrilateral class is also implemented to support\\na more generalized representation of rectangular regions when the document\\nis skewed or distorted, where the 4 corner points can be speciﬁed and a total\\nof 8 degrees of freedom are supported. A wide collection of transformations\\nlikeshift ,pad, and scale , and operations like intersect ,union , and is_in ,\\nare supported for these classes. Notably, it is common to separate a segment\\nof the image and analyze it individually. LayoutParser provides full support\\nfor this scenario via image cropping operations crop_image and coordinate\\ntransformations like relative_to andcondition_on that transform coordinates\\nto and from their relative representations. We refer readers to Table 2 for a more\\ndetailed description of these operations13.\\nBased on Coordinate s, we implement the TextBlock class that stores both\\nthe positional and extra features of individual layout elements. It also supports\\nspecifying the reading orders via setting the parent ﬁeld to the index of the parent\\nobject. A Layout class is built that takes in a list of TextBlock s and supports\\nprocessing the elements in batch. Layout can also be nested to support hierarchical\\nlayout structures. They support the same operations and transformations as the\\nCoordinate classes, minimizing both learning and deployment eﬀort.\\n3.3 OCR\\nLayoutParser provides a uniﬁed interface for existing OCR tools. Though there\\nare many OCR tools available, they are usually conﬁgured diﬀerently with distinct\\nAPIs or protocols for using them. It can be ineﬃcient to add new OCR tools into\\nan existing pipeline, and diﬃcult to make direct comparisons among the available\\ntools to ﬁnd the best option for a particular project. To this end, LayoutParser\\nbuilds a series of wrappers among existing OCR engines, and provides nearly\\nthe same syntax for using them. It supports a plug-and-play style of using OCR\\nengines, making it eﬀortless to switch, evaluate, and compare diﬀerent OCR\\nmodules:\\n1ocr_agent = lp. TesseractAgent ()\\n2# Can be easily switched to other OCR software\\n3tokens = ocr_agent . detect ( image )\\nThe OCR outputs will also be stored in the aforementioned layout data\\nstructures and can be seamlessly incorporated into the digitization pipeline.\\nCurrently LayoutParser supports the Tesseract and Google Cloud Vision OCR\\nengines.\\nLayoutParser also comes with a DL-based CNN-RNN OCR model [ 6] trained\\nwith the Connectionist Temporal Classiﬁcation (CTC) loss [ 10]. It can be used\\nlike the other OCR modules, and can be easily trained on customized datasets.\\n13This is also available in the LayoutParser documentation pages.', metadata={'source': 'data\\\\layout-parser-paper.pdf', 'page': 6}),\n Document(page_content='8 Z. Shen et al.\\nTable 2: All operations supported by the layout elements. The same APIs are\\nsupported across diﬀerent layout element classes including Coordinate types,\\nTextBlock andLayout .\\nOperation Name Description\\nblock.pad(top, bottom, right, left) Enlarge the current block according to the input\\nblock.scale(fx, fy)Scale the current block given the ratio\\nin x and y direction\\nblock.shift(dx, dy)Move the current block with the shift\\ndistances in x and y direction\\nblock1.is in(block2) Whether block1 is inside of block2\\nblock1.intersect(block2)Return the intersection region of block1 and block2.\\nCoordinate type to be determined based on the inputs.\\nblock1.union(block2)Return the union region of block1 and block2.\\nCoordinate type to be determined based on the inputs.\\nblock1.relative to(block2)Convert the absolute coordinates of block1 to\\nrelative coordinates to block2\\nblock1.condition on(block2)Calculate the absolute coordinates of block1 given\\nthe canvas block2’s absolute coordinates\\nblock.crop image(image) Obtain the image segments in the block region\\n3.4 Storage and visualization\\nThe end goal of DIA is to transform the image-based document data into a\\nstructured database. LayoutParser supports exporting layout data into diﬀerent\\nformats like JSON,csv, and will add the support for the METS/ALTO XML\\nformat14. It can also load datasets from layout analysis-speciﬁc formats like\\nCOCO [38] and the Page Format [25] for training layout models (Section 3.5).\\nVisualization of the layout detection results is critical for both presentation\\nand debugging. LayoutParser is built with an integrated API for displaying the\\nlayout information along with the original document image. Shown in Figure 3, it\\nenables presenting layout data with rich meta information and features in diﬀerent\\nmodes. More detailed information can be found in the online LayoutParser\\ndocumentation page.\\n3.5 Customized Model Training\\nBesides the oﬀ-the-shelf library, LayoutParser is also highly customizable with\\nsupports for highly unique and challenging document analysis tasks. Target\\ndocument images can be vastly diﬀerent from the existing datasets for train-\\ning layout models, which leads to low layout detection accuracy. Training data\\n14https://altoxml.github.io', metadata={'source': 'data\\\\layout-parser-paper.pdf', 'page': 7}),\n Document(page_content='LayoutParser : A Uniﬁed Toolkit for DL-Based DIA 9\\nFig. 3: Layout detection and OCR results visualization generated by the\\nLayoutParser APIs. Mode I directly overlays the layout region bounding boxes\\nand categories over the original image. Mode II recreates the original document\\nvia drawing the OCR’d texts at their corresponding positions on the image\\ncanvas. In this ﬁgure, tokens in textual regions are ﬁltered using the API and\\nthen displayed.\\ncan also be highly sensitive and not sharable publicly. To overcome these chal-\\nlenges, LayoutParser is built with rich features for eﬃcient data annotation and\\ncustomized model training.\\nLayoutParser incorporates a toolkit optimized for annotating document lay-\\nouts using object-level active learning [ 32]. With the help from a layout detection\\nmodel trained along with labeling, only the most important layout objects within\\neach image, rather than the whole image, are required for labeling. The rest of\\nthe regions are automatically annotated with high conﬁdence predictions from\\nthe layout detection model. This allows a layout dataset to be created more\\neﬃciently with only around 60% of the labeling budget.\\nAfter the training dataset is curated, LayoutParser supports diﬀerent modes\\nfor training the layout models. Fine-tuning can be used for training models on a\\nsmall newly-labeled dataset by initializing the model with existing pre-trained\\nweights. Training from scratch can be helpful when the source dataset and\\ntarget are signiﬁcantly diﬀerent and a large training set is available. However, as\\nsuggested in Studer et al.’s work[ 33], loading pre-trained weights on large-scale\\ndatasets like ImageNet [ 5], even from totally diﬀerent domains, can still boost\\nmodel performance. Through the integrated API provided by LayoutParser ,\\nusers can easily compare model performances on the benchmark datasets.', metadata={'source': 'data\\\\layout-parser-paper.pdf', 'page': 8}),\n Document(page_content='10 Z. Shen et al.\\nFig. 4: Illustration of (a) the original historical Japanese document with layout\\ndetection results and (b) a recreated version of the document image that achieves\\nmuch better character recognition recall. The reorganization algorithm rearranges\\nthe tokens based on the their detected bounding boxes given a maximum allowed\\nheight.\\n4LayoutParser Community Platform\\nAnother focus of LayoutParser is promoting the reusability of layout detection\\nmodels and full digitization pipelines. Similar to many existing deep learning\\nlibraries, LayoutParser comes with a community model hub for distributing\\nlayout models. End-users can upload their self-trained models to the model hub,\\nand these models can be loaded into a similar interface as the currently available\\nLayoutParser pre-trained models. For example, the model trained on the News\\nNavigator dataset [17] has been incorporated in the model hub.\\nBeyond DL models, LayoutParser also promotes the sharing of entire doc-\\nument digitization pipelines. For example, sometimes the pipeline requires the\\ncombination of multiple DL models to achieve better accuracy. Currently, pipelines\\nare mainly described in academic papers and implementations are often not pub-\\nlicly available. To this end, the LayoutParser community platform also enables\\nthe sharing of layout pipelines to promote the discussion and reuse of techniques.\\nFor each shared pipeline, it has a dedicated project page, with links to the source\\ncode, documentation, and an outline of the approaches. A discussion panel is\\nprovided for exchanging ideas. Combined with the core LayoutParser library,\\nusers can easily build reusable components based on the shared pipelines and\\napply them to solve their unique problems.\\n5 Use Cases\\nThe core objective of LayoutParser is to make it easier to create both large-scale\\nand light-weight document digitization pipelines. Large-scale document processing', metadata={'source': 'data\\\\layout-parser-paper.pdf', 'page': 9}),\n Document(page_content='LayoutParser : A Uniﬁed Toolkit for DL-Based DIA 11\\nfocuses on precision, eﬃciency, and robustness. The target documents may have\\ncomplicated structures, and may require training multiple layout detection models\\nto achieve the optimal accuracy. Light-weight pipelines are built for relatively\\nsimple documents, with an emphasis on development ease, speed and ﬂexibility.\\nIdeally one only needs to use existing resources, and model training should be\\navoided. Through two exemplar projects, we show how practitioners in both\\nacademia and industry can easily build such pipelines using LayoutParser and\\nextract high-quality structured document data for their downstream tasks. The\\nsource code for these projects will be publicly available in the LayoutParser\\ncommunity hub.\\n5.1 A Comprehensive Historical Document Digitization Pipeline\\nThe digitization of historical documents can unlock valuable data that can shed\\nlight on many important social, economic, and historical questions. Yet due to\\nscan noises, page wearing, and the prevalence of complicated layout structures, ob-\\ntaining a structured representation of historical document scans is often extremely\\ncomplicated.\\nFig. 5: Illustration of how LayoutParser\\nhelps with the historical document digi-\\ntization pipeline.In this example, LayoutParser was\\nused to develop a comprehensive\\npipeline, shown in Figure 5, to gener-\\nate high-quality structured data from\\nhistorical Japanese ﬁrm ﬁnancial ta-\\nbles with complicated layouts. The\\npipeline applies two layout models to\\nidentify diﬀerent levels of document\\nstructures and two customized OCR\\nengines for optimized character recog-\\nnition accuracy.\\nAs shown in Figure 4 (a), the\\ndocument contains columns of text\\nwritten vertically15, a common style\\nin Japanese. Due to scanning noise\\nand archaic printing technology, the\\ncolumns can be skewed or have vari-\\nable widths, and hence cannot be eas-\\nily identiﬁed via rule-based methods.\\nWithin each column, words are sepa-\\nrated by white spaces of variable size,\\nand the vertical positions of objects\\ncan be an indicator of their layout\\ntype.\\n15A document page consists of eight rows like this. For simplicity we skip the row\\nsegmentation discussion and refer readers to the source code when available.', metadata={'source': 'data\\\\layout-parser-paper.pdf', 'page': 10}),\n Document(page_content='12 Z. Shen et al.\\nTo decipher the complicated layout\\nstructure, two object detection models have been trained to recognize individual\\ncolumns and tokens, respectively. A small training set (400 images with approxi-\\nmately 100 annotations each) is curated via the active learning based annotation\\ntool [ 32] inLayoutParser . The models learn to identify both the categories and\\nregions for each token or column via their distinct visual features. The layout\\ndata structure enables easy grouping of the tokens within each column, and\\nrearranging columns to achieve the correct reading orders based on the horizontal\\nposition. Errors are identiﬁed and rectiﬁed via checking the consistency of the\\nmodel predictions. Therefore, though trained on a small dataset, the pipeline\\nachieves a high level of layout detection accuracy: it achieves a 96.97 AP [ 19]\\nscore across 5 categories for the column detection model, and a 89.23 AP across\\n4 categories for the token detection model.\\nA combination of character recognition methods is developed to tackle the\\nunique challenges in this document. In our experiments, we found that irregular\\nspacing between the tokens led to a low character recognition recall rate, whereas\\nexisting OCR models tend to perform better on densely-arranged texts. To\\novercome this challenge, we create a document reorganization algorithm that\\nrearranges the text based on the token bounding boxes detected in the layout\\nanalysis step. Figure 4 (b) illustrates the generated image of dense text, which is\\nsent to the OCR APIs as a whole to reduce the transaction costs. The ﬂexible\\ncoordinate system in LayoutParser is used to transform the OCR results relative\\nto their original positions on the page.\\nAdditionally, it is common for historical documents to use unique fonts\\nwith diﬀerent glyphs, which signiﬁcantly degrades the accuracy of OCR models\\ntrained on modern texts. In this document, a special ﬂat font is used for printing\\nnumbers and could not be detected by oﬀ-the-shelf OCR engines. Using the highly\\nﬂexible functionalities from LayoutParser , a pipeline approach is constructed\\nthat achieves a high recognition accuracy with minimal eﬀort. As the characters\\nhave unique visual structures and are usually clustered together, we train the\\nlayout model to identify number regions with a dedicated category. Subsequently,\\nLayoutParser crops images within these regions, and identiﬁes characters within\\nthem using a self-trained OCR model based on a CNN-RNN [ 6]. The model\\ndetects a total of 15 possible categories, and achieves a 0.98 Jaccard score16and\\na 0.17 average Levinstein distances17for token prediction on the test set.\\nOverall, it is possible to create an intricate and highly accurate digitization\\npipeline for large-scale digitization using LayoutParser . The pipeline avoids\\nspecifying the complicated rules used in traditional methods, is straightforward\\nto develop, and is robust to outliers. The DL models also generate ﬁne-grained\\nresults that enable creative approaches like page reorganization for OCR.\\n16This measures the overlap between the detected and ground-truth characters, and\\nthe maximum is 1.\\n17This measures the number of edits from the ground-truth text to the predicted text,\\nand lower is better.', metadata={'source': 'data\\\\layout-parser-paper.pdf', 'page': 11}),\n Document(page_content='LayoutParser : A Uniﬁed Toolkit for DL-Based DIA 13\\nFig. 6: This lightweight table detector can identify tables (outlined in red) and\\ncells (shaded in blue) in diﬀerent locations on a page. In very few cases (d), it\\nmight generate minor error predictions, e.g, failing to capture the top text line of\\na table.\\n5.2 A light-weight Visual Table Extractor\\nDetecting tables and parsing their structures (table extraction) are of central im-\\nportance for many document digitization tasks. Many previous works [ 26,30,27]\\nand tools18have been developed to identify and parse table structures. Yet they\\nmight require training complicated models from scratch, or are only applicable\\nfor born-digital PDF documents. In this section, we show how LayoutParser can\\nhelp build a light-weight accurate visual table extractor for legal docket tables\\nusing the existing resources with minimal eﬀort.\\nThe extractor uses a pre-trained layout detection model for identifying the\\ntable regions and some simple rules for pairing the rows and the columns in the\\nPDF image. Mask R-CNN [ 12] trained on the PubLayNet dataset [ 38] from the\\nLayoutParser Model Zoo can be used for detecting table regions. By ﬁltering\\nout model predictions of low conﬁdence and removing overlapping predictions,\\nLayoutParser can identify the tabular regions on each page, which signiﬁcantly\\nsimpliﬁes the subsequent steps. By applying the line detection functions within\\nthe tabular segments, provided in the utility module from LayoutParser , the\\npipeline can identify the three distinct columns in the tables. A row clustering\\nmethod is then applied via analyzing the y coordinates of token bounding boxes in\\nthe left-most column, which are obtained from the OCR engines. A non-maximal\\nsuppression algorithm is used to remove duplicated rows with extremely small\\ngaps. Shown in Figure 6, the built pipeline can detect tables at diﬀerent positions\\non a page accurately. Continued tables from diﬀerent pages are concatenated,\\nand a structured table representation has been easily created.\\n18https://github.com/atlanhq/camelot, https://github.com/tabulapdf/tabula', metadata={'source': 'data\\\\layout-parser-paper.pdf', 'page': 12}),\n Document(page_content='14 Z. Shen et al.\\n6 Conclusion\\nLayoutParser provides a comprehensive toolkit for deep learning-based document\\nimage analysis. The oﬀ-the-shelf library is easy to install, and can be used to\\nbuild ﬂexible and accurate pipelines for processing documents with complicated\\nstructures. It also supports high-level customization and enables easy labeling and\\ntraining of DL models on unique document image datasets. The LayoutParser\\ncommunity platform facilitates sharing DL models and DIA pipelines, inviting\\ndiscussion and promoting code reproducibility and reusability. The LayoutParser\\nteam is committed to keeping the library updated continuously and bringing\\nthe most recent advances in DL-based DIA, such as multi-modal document\\nmodeling [37, 36, 9] (an upcoming priority), to a diverse audience of end-users.\\nAcknowledgements We thank the anonymous reviewers for their comments\\nand suggestions. This project is supported in part by NSF Grant OIA-2033558\\nand funding from the Harvard Data Science Initiative and Harvard Catalyst.\\nZejiang Shen thanks Doug Downey for suggestions.\\nReferences\\n[1]Abadi, M., Agarwal, A., Barham, P., Brevdo, E., Chen, Z., Citro, C., Corrado,\\nG.S., Davis, A., Dean, J., Devin, M., Ghemawat, S., Goodfellow, I., Harp, A.,\\nIrving, G., Isard, M., Jia, Y., Jozefowicz, R., Kaiser, L., Kudlur, M., Levenberg,\\nJ., Man´ e, D., Monga, R., Moore, S., Murray, D., Olah, C., Schuster, M., Shlens, J.,\\nSteiner, B., Sutskever, I., Talwar, K., Tucker, P., Vanhoucke, V., Vasudevan, V.,\\nVi´ egas, F., Vinyals, O., Warden, P., Wattenberg, M., Wicke, M., Yu, Y., Zheng,\\nX.: TensorFlow: Large-scale machine learning on heterogeneous systems (2015),\\nhttps://www.tensorflow.org/ , software available from tensorﬂow.org\\n[2]Alberti, M., Pondenkandath, V., W¨ ursch, M., Ingold, R., Liwicki, M.: Deepdiva: a\\nhighly-functional python framework for reproducible experiments. In: 2018 16th\\nInternational Conference on Frontiers in Handwriting Recognition (ICFHR). pp.\\n423–428. IEEE (2018)\\n[3]Antonacopoulos, A., Bridson, D., Papadopoulos, C., Pletschacher, S.: A realistic\\ndataset for performance evaluation of document layout analysis. In: 2009 10th\\nInternational Conference on Document Analysis and Recognition. pp. 296–300.\\nIEEE (2009)\\n[4]Baek, Y., Lee, B., Han, D., Yun, S., Lee, H.: Character region awareness for text\\ndetection. In: Proceedings of the IEEE/CVF Conference on Computer Vision and\\nPattern Recognition. pp. 9365–9374 (2019)\\n[5]Deng, J., Dong, W., Socher, R., Li, L.J., Li, K., Fei-Fei, L.: ImageNet: A Large-Scale\\nHierarchical Image Database. In: CVPR09 (2009)\\n[6]Deng, Y., Kanervisto, A., Ling, J., Rush, A.M.: Image-to-markup generation with\\ncoarse-to-ﬁne attention. In: International Conference on Machine Learning. pp.\\n980–989. PMLR (2017)\\n[7]Ganin, Y., Lempitsky, V.: Unsupervised domain adaptation by backpropagation.\\nIn: International conference on machine learning. pp. 1180–1189. PMLR (2015)', metadata={'source': 'data\\\\layout-parser-paper.pdf', 'page': 13}),\n Document(page_content='LayoutParser : A Uniﬁed Toolkit for DL-Based DIA 15\\n[8]Gardner, M., Grus, J., Neumann, M., Tafjord, O., Dasigi, P., Liu, N., Peters,\\nM., Schmitz, M., Zettlemoyer, L.: Allennlp: A deep semantic natural language\\nprocessing platform. arXiv preprint arXiv:1803.07640 (2018)\\n[9]  L ukasz Garncarek, Powalski, R., Stanis lawek, T., Topolski, B., Halama, P.,\\nGrali´ nski, F.: Lambert: Layout-aware (language) modeling using bert for in-\\nformation extraction (2020)\\n[10]Graves, A., Fern´ andez, S., Gomez, F., Schmidhuber, J.: Connectionist temporal\\nclassiﬁcation: labelling unsegmented sequence data with recurrent neural networks.\\nIn: Proceedings of the 23rd international conference on Machine learning. pp.\\n369–376 (2006)\\n[11] Harley, A.W., Ufkes, A., Derpanis, K.G.: Evaluation of deep convolutional nets for\\ndocument image classiﬁcation and retrieval. In: 2015 13th International Conference\\non Document Analysis and Recognition (ICDAR). pp. 991–995. IEEE (2015)\\n[12] He, K., Gkioxari, G., Doll´ ar, P., Girshick, R.: Mask r-cnn. In: Proceedings of the\\nIEEE international conference on computer vision. pp. 2961–2969 (2017)\\n[13] He, K., Zhang, X., Ren, S., Sun, J.: Deep residual learning for image recognition.\\nIn: Proceedings of the IEEE conference on computer vision and pattern recognition.\\npp. 770–778 (2016)\\n[14] Kay, A.: Tesseract: An open-source optical character recognition engine. Linux J.\\n2007 (159), 2 (Jul 2007)\\n[15] Lamiroy, B., Lopresti, D.: An open architecture for end-to-end document analysis\\nbenchmarking. In: 2011 International Conference on Document Analysis and\\nRecognition. pp. 42–47. IEEE (2011)\\n[16]Lee, B.C., Weld, D.S.: Newspaper navigator: Open faceted search for 1.5\\nmillion images. In: Adjunct Publication of the 33rd Annual ACM Sym-\\nposium on User Interface Software and Technology. p. 120–122. UIST\\n’20 Adjunct, Association for Computing Machinery, New York, NY, USA\\n(2020). https://doi.org/10.1145/3379350.3416143, https://doi-org.offcampus.\\nlib.washington.edu/10.1145/3379350.3416143\\n[17]Lee, B.C.G., Mears, J., Jakeway, E., Ferriter, M., Adams, C., Yarasavage, N.,\\nThomas, D., Zwaard, K., Weld, D.S.: The Newspaper Navigator Dataset: Extracting\\nHeadlines and Visual Content from 16 Million Historic Newspaper Pages in\\nChronicling America, p. 3055–3062. Association for Computing Machinery, New\\nYork, NY, USA (2020), https://doi.org/10.1145/3340531.3412767\\n[18] Li, M., Cui, L., Huang, S., Wei, F., Zhou, M., Li, Z.: Tablebank: Table benchmark\\nfor image-based table detection and recognition. arXiv preprint arXiv:1903.01949\\n(2019)\\n[19] Lin, T.Y., Maire, M., Belongie, S., Hays, J., Perona, P., Ramanan, D., Doll´ ar, P.,\\nZitnick, C.L.: Microsoft coco: Common objects in context. In: European conference\\non computer vision. pp. 740–755. Springer (2014)\\n[20]Long, J., Shelhamer, E., Darrell, T.: Fully convolutional networks for semantic\\nsegmentation. In: Proceedings of the IEEE conference on computer vision and\\npattern recognition. pp. 3431–3440 (2015)\\n[21] Neudecker, C., Schlarb, S., Dogan, Z.M., Missier, P., Suﬁ, S., Williams, A., Wolsten-\\ncroft, K.: An experimental workﬂow development platform for historical document\\ndigitisation and analysis. In: Proceedings of the 2011 workshop on historical\\ndocument imaging and processing. pp. 161–168 (2011)\\n[22] Oliveira, S.A., Seguin, B., Kaplan, F.: dhsegment: A generic deep-learning approach\\nfor document segmentation. In: 2018 16th International Conference on Frontiers\\nin Handwriting Recognition (ICFHR). pp. 7–12. IEEE (2018)', metadata={'source': 'data\\\\layout-parser-paper.pdf', 'page': 14}),\n Document(page_content='16 Z. Shen et al.\\n[23]Paszke, A., Gross, S., Chintala, S., Chanan, G., Yang, E., DeVito, Z., Lin, Z.,\\nDesmaison, A., Antiga, L., Lerer, A.: Automatic diﬀerentiation in pytorch (2017)\\n[24]Paszke, A., Gross, S., Massa, F., Lerer, A., Bradbury, J., Chanan, G., Killeen,\\nT., Lin, Z., Gimelshein, N., Antiga, L., et al.: Pytorch: An imperative style,\\nhigh-performance deep learning library. arXiv preprint arXiv:1912.01703 (2019)\\n[25] Pletschacher, S., Antonacopoulos, A.: The page (page analysis and ground-truth\\nelements) format framework. In: 2010 20th International Conference on Pattern\\nRecognition. pp. 257–260. IEEE (2010)\\n[26] Prasad, D., Gadpal, A., Kapadni, K., Visave, M., Sultanpure, K.: Cascadetabnet:\\nAn approach for end to end table detection and structure recognition from image-\\nbased documents. In: Proceedings of the IEEE/CVF Conference on Computer\\nVision and Pattern Recognition Workshops. pp. 572–573 (2020)\\n[27] Qasim, S.R., Mahmood, H., Shafait, F.: Rethinking table recognition using graph\\nneural networks. In: 2019 International Conference on Document Analysis and\\nRecognition (ICDAR). pp. 142–147. IEEE (2019)\\n[28]Ren, S., He, K., Girshick, R., Sun, J.: Faster r-cnn: Towards real-time object\\ndetection with region proposal networks. In: Advances in neural information\\nprocessing systems. pp. 91–99 (2015)\\n[29] Scarselli, F., Gori, M., Tsoi, A.C., Hagenbuchner, M., Monfardini, G.: The graph\\nneural network model. IEEE transactions on neural networks 20(1), 61–80 (2008)\\n[30] Schreiber, S., Agne, S., Wolf, I., Dengel, A., Ahmed, S.: Deepdesrt: Deep learning\\nfor detection and structure recognition of tables in document images. In: 2017 14th\\nIAPR international conference on document analysis and recognition (ICDAR).\\nvol. 1, pp. 1162–1167. IEEE (2017)\\n[31]Shen, Z., Zhang, K., Dell, M.: A large dataset of historical japanese documents\\nwith complex layouts. In: Proceedings of the IEEE/CVF Conference on Computer\\nVision and Pattern Recognition Workshops. pp. 548–549 (2020)\\n[32]Shen, Z., Zhao, J., Dell, M., Yu, Y., Li, W.: Olala: Object-level active learning\\nbased layout annotation. arXiv preprint arXiv:2010.01762 (2020)\\n[33]Studer, L., Alberti, M., Pondenkandath, V., Goktepe, P., Kolonko, T., Fischer,\\nA., Liwicki, M., Ingold, R.: A comprehensive study of imagenet pre-training for\\nhistorical document image analysis. In: 2019 International Conference on Document\\nAnalysis and Recognition (ICDAR). pp. 720–725. IEEE (2019)\\n[34]Wolf, T., Debut, L., Sanh, V., Chaumond, J., Delangue, C., Moi, A., Cistac, P.,\\nRault, T., Louf, R., Funtowicz, M., et al.: Huggingface’s transformers: State-of-\\nthe-art natural language processing. arXiv preprint arXiv:1910.03771 (2019)\\n[35]Wu, Y., Kirillov, A., Massa, F., Lo, W.Y., Girshick, R.: Detectron2. https://\\ngithub.com/facebookresearch/detectron2 (2019)\\n[36] Xu, Y., Xu, Y., Lv, T., Cui, L., Wei, F., Wang, G., Lu, Y., Florencio, D., Zhang, C.,\\nChe, W., et al.: Layoutlmv2: Multi-modal pre-training for visually-rich document\\nunderstanding. arXiv preprint arXiv:2012.14740 (2020)\\n[37] Xu, Y., Li, M., Cui, L., Huang, S., Wei, F., Zhou, M.: Layoutlm: Pre-training of\\ntext and layout for document image understanding (2019)\\n[38]Zhong, X., Tang, J., Yepes, A.J.: Publaynet: largest dataset ever for doc-\\nument layout analysis. In: 2019 International Conference on Document\\nAnalysis and Recognition (ICDAR). pp. 1015–1022. IEEE (Sep 2019).\\nhttps://doi.org/10.1109/ICDAR.2019.00166', metadata={'source': 'data\\\\layout-parser-paper.pdf', 'page': 15})]"
     },
     "execution_count": 87,
     "metadata": {},
     "output_type": "execute_result"
    }
   ],
   "source": [
    "from langchain_community.document_loaders import PyPDFDirectoryLoader\n",
    "\n",
    "loader = PyPDFDirectoryLoader(\"data/\")\n",
    "\n",
    "docs = loader.load()\n",
    "docs"
   ],
   "metadata": {
    "collapsed": false,
    "ExecuteTime": {
     "end_time": "2024-02-02T14:59:23.282550800Z",
     "start_time": "2024-02-02T14:59:23.133470800Z"
    }
   },
   "id": "971060acbb2f29ab",
   "execution_count": 87
  },
  {
   "cell_type": "markdown",
   "source": [
    "### Using PDFPlumber\n",
    "Like PyMuPDF, the output Documents contain detailed metadata about the PDF and its pages, and returns one document per page."
   ],
   "metadata": {
    "collapsed": false
   },
   "id": "8d9d1be79e3d4edf"
  },
  {
   "cell_type": "code",
   "outputs": [
    {
     "data": {
      "text/plain": "Document(page_content='LayoutParser: A Unified Toolkit for Deep\\r\\nLearning Based Document Image Analysis\\r\\nZejiang Shen\\r\\n1\\r\\n(\\r\\n\\ufffe), Ruochen Zhang\\r\\n2\\r\\n, Melissa Dell\\r\\n3\\r\\n, Benjamin Charles Germain\\r\\nLee\\r\\n4\\r\\n, Jacob Carlson\\r\\n3\\r\\n, and Weining Li\\r\\n5\\r\\n1 Allen Institute for AI\\r\\nshannons@allenai.org 2 Brown University\\r\\nruochen zhang@brown.edu 3 Harvard University\\r\\n{melissadell,jacob carlson\\r\\n}@fas.harvard.edu\\r\\n4 University of Washington\\r\\nbcgl@cs.washington.edu 5 University of Waterloo\\r\\nw422li@uwaterloo.ca\\r\\nAbstract. Recent advances in document image analysis (DIA) have been\\r\\nprimarily driven by the application of neural networks. Ideally, research\\r\\noutcomes could be easily deployed in production and extended for further\\r\\ninvestigation. However, various factors like loosely organized codebases\\r\\nand sophisticated model configurations complicate the easy reuse of im\\ufffeportant innovations by a wide audience. Though there have been on-going\\r\\nefforts to improve reusability and simplify deep learning (DL) model\\r\\ndevelopment in disciplines like natural language processing and computer\\r\\nvision, none of them are optimized for challenges in the domain of DIA.\\r\\nThis represents a major gap in the existing toolkit, as DIA is central to\\r\\nacademic research across a wide range of disciplines in the social sciences\\r\\nand humanities. This paper introduces LayoutParser, an open-source\\r\\nlibrary for streamlining the usage of DL in DIA research and applica\\ufffetions. The core LayoutParser library comes with a set of simple and\\r\\nintuitive interfaces for applying and customizing DL models for layout de\\ufffetection, character recognition, and many other document processing tasks.\\r\\nTo promote extensibility, LayoutParser also incorporates a community\\r\\nplatform for sharing both pre-trained models and full document digiti\\ufffezation pipelines. We demonstrate that LayoutParser is helpful for both\\r\\nlightweight and large-scale digitization pipelines in real-word use cases.\\r\\nThe library is publicly available at https://layout-parser.github.io\\r\\n.\\r\\nKeywords: Document Image Analysis\\r\\n· Deep Learning\\r\\n· Layout Analysis\\r\\n· Character Recognition\\r\\n· Open Source library\\r\\n· Toolkit.\\r\\n1 Introduction\\r\\nDeep Learning(DL)-based approaches are the state-of-the-art for a wide range of\\r\\ndocument image analysis (DIA) tasks including document image classification [11\\r\\n,\\r\\narXiv:2103.15348v2 [cs.CV] 21 Jun 202\\n', metadata={'source': 'data/layout-parser-paper.pdf', 'page': 0})"
     },
     "execution_count": 88,
     "metadata": {},
     "output_type": "execute_result"
    }
   ],
   "source": [
    "from langchain_community.document_loaders import PDFPlumberLoader\n",
    "\n",
    "loader = PyPDFium2Loader(\"data/layout-parser-paper.pdf\")\n",
    "\n",
    "data = loader.load()\n",
    "data[0]"
   ],
   "metadata": {
    "collapsed": false,
    "ExecuteTime": {
     "end_time": "2024-02-02T14:59:23.814653900Z",
     "start_time": "2024-02-02T14:59:23.748863100Z"
    }
   },
   "id": "e57b0ed9477ad981",
   "execution_count": 88
  },
  {
   "cell_type": "markdown",
   "source": [
    "[Project Map](#project-map)\n",
    "\n",
    "---"
   ],
   "metadata": {
    "collapsed": false
   },
   "id": "83ad3612e52c490a"
  },
  {
   "cell_type": "markdown",
   "source": [
    "### Using AmazonTextractPDFParser\n",
    "The ```AmazonTextractPDFLoad``` calls the [Amazon Textract Service](https://aws.amazon.com/textract/) to convert PDFs into a Document structure. The loader does pure OCR at the moment, with more features like layout support planned, depending on demand. Single and multi-page documents are supported with up to 3000 pages and 512 MB of size.\n",
    "\n",
    "For the call to be successful an AWS account is required, similar to the [AWS CLI](https://docs.aws.amazon.com/cli/latest/userguide/cli-chap-configure.html) requirements.\n",
    "\n",
    "Besides the AWS configuration, it is very similar to the other PDF loaders, while also supporting JPEG, PNG and TIFF and non-native PDF formats."
   ],
   "metadata": {
    "collapsed": false
   },
   "id": "3f4a680c3d64c18d"
  },
  {
   "cell_type": "code",
   "outputs": [
    {
     "name": "stdout",
     "output_type": "stream",
     "text": [
      "Requirement already satisfied: amazon-textract-caller in p:\\projects\\llm-frameworks-tutorials\\langchain tutorials\\tutorials from langchain\\.venv\\lib\\site-packages (0.2.1)\n",
      "Requirement already satisfied: boto3>=1.26.35 in p:\\projects\\llm-frameworks-tutorials\\langchain tutorials\\tutorials from langchain\\.venv\\lib\\site-packages (from amazon-textract-caller) (1.34.33)\n",
      "Requirement already satisfied: botocore in p:\\projects\\llm-frameworks-tutorials\\langchain tutorials\\tutorials from langchain\\.venv\\lib\\site-packages (from amazon-textract-caller) (1.34.33)\n",
      "Requirement already satisfied: amazon-textract-response-parser>=0.1.39 in p:\\projects\\llm-frameworks-tutorials\\langchain tutorials\\tutorials from langchain\\.venv\\lib\\site-packages (from amazon-textract-caller) (1.0.2)\n",
      "Requirement already satisfied: marshmallow<4,>=3.14 in p:\\projects\\llm-frameworks-tutorials\\langchain tutorials\\tutorials from langchain\\.venv\\lib\\site-packages (from amazon-textract-response-parser>=0.1.39->amazon-textract-caller) (3.20.2)\n",
      "Requirement already satisfied: jmespath<2.0.0,>=0.7.1 in p:\\projects\\llm-frameworks-tutorials\\langchain tutorials\\tutorials from langchain\\.venv\\lib\\site-packages (from boto3>=1.26.35->amazon-textract-caller) (1.0.1)\n",
      "Requirement already satisfied: s3transfer<0.11.0,>=0.10.0 in p:\\projects\\llm-frameworks-tutorials\\langchain tutorials\\tutorials from langchain\\.venv\\lib\\site-packages (from boto3>=1.26.35->amazon-textract-caller) (0.10.0)\n",
      "Requirement already satisfied: python-dateutil<3.0.0,>=2.1 in p:\\projects\\llm-frameworks-tutorials\\langchain tutorials\\tutorials from langchain\\.venv\\lib\\site-packages (from botocore->amazon-textract-caller) (2.8.2)\n",
      "Requirement already satisfied: urllib3<2.1,>=1.25.4 in p:\\projects\\llm-frameworks-tutorials\\langchain tutorials\\tutorials from langchain\\.venv\\lib\\site-packages (from botocore->amazon-textract-caller) (2.0.7)\n",
      "Requirement already satisfied: packaging>=17.0 in p:\\projects\\llm-frameworks-tutorials\\langchain tutorials\\tutorials from langchain\\.venv\\lib\\site-packages (from marshmallow<4,>=3.14->amazon-textract-response-parser>=0.1.39->amazon-textract-caller) (23.2)\n",
      "Requirement already satisfied: six>=1.5 in p:\\projects\\llm-frameworks-tutorials\\langchain tutorials\\tutorials from langchain\\.venv\\lib\\site-packages (from python-dateutil<3.0.0,>=2.1->botocore->amazon-textract-caller) (1.16.0)\n"
     ]
    }
   ],
   "source": [
    "!pip install amazon-textract-caller"
   ],
   "metadata": {
    "collapsed": false,
    "ExecuteTime": {
     "end_time": "2024-02-02T14:59:26.610119400Z",
     "start_time": "2024-02-02T14:59:25.373078700Z"
    }
   },
   "id": "9ad7ab9ea4a64c76",
   "execution_count": 89
  },
  {
   "cell_type": "code",
   "outputs": [
    {
     "ename": "ImportError",
     "evalue": "Could not import amazon-textract-caller or amazon-textract-textractor python package. Please install it with `pip install amazon-textract-caller` & `pip install amazon-textract-textractor`.",
     "output_type": "error",
     "traceback": [
      "\u001B[1;31m---------------------------------------------------------------------------\u001B[0m",
      "\u001B[1;31mModuleNotFoundError\u001B[0m                       Traceback (most recent call last)",
      "File \u001B[1;32mp:\\Projects\\LLM-Frameworks-Tutorials\\LangChain Tutorials\\Tutorials from Langchain\\.venv\\Lib\\site-packages\\langchain_community\\document_loaders\\parsers\\pdf.py:469\u001B[0m, in \u001B[0;36mAmazonTextractPDFParser.__init__\u001B[1;34m(self, textract_features, client)\u001B[0m\n\u001B[0;32m    468\u001B[0m \u001B[38;5;28;01mimport\u001B[39;00m \u001B[38;5;21;01mtextractcaller\u001B[39;00m \u001B[38;5;28;01mas\u001B[39;00m \u001B[38;5;21;01mtc\u001B[39;00m\n\u001B[1;32m--> 469\u001B[0m \u001B[38;5;28;01mimport\u001B[39;00m \u001B[38;5;21;01mtextractor\u001B[39;00m\u001B[38;5;21;01m.\u001B[39;00m\u001B[38;5;21;01mentities\u001B[39;00m\u001B[38;5;21;01m.\u001B[39;00m\u001B[38;5;21;01mdocument\u001B[39;00m \u001B[38;5;28;01mas\u001B[39;00m \u001B[38;5;21;01mtextractor\u001B[39;00m\n\u001B[0;32m    471\u001B[0m \u001B[38;5;28mself\u001B[39m\u001B[38;5;241m.\u001B[39mtc \u001B[38;5;241m=\u001B[39m tc\n",
      "\u001B[1;31mModuleNotFoundError\u001B[0m: No module named 'textractor'",
      "\nDuring handling of the above exception, another exception occurred:\n",
      "\u001B[1;31mImportError\u001B[0m                               Traceback (most recent call last)",
      "Cell \u001B[1;32mIn[90], line 2\u001B[0m\n\u001B[0;32m      1\u001B[0m \u001B[38;5;28;01mfrom\u001B[39;00m \u001B[38;5;21;01mlangchain_community\u001B[39;00m\u001B[38;5;21;01m.\u001B[39;00m\u001B[38;5;21;01mdocument_loaders\u001B[39;00m \u001B[38;5;28;01mimport\u001B[39;00m AmazonTextractPDFLoader\n\u001B[1;32m----> 2\u001B[0m loader \u001B[38;5;241m=\u001B[39m \u001B[43mAmazonTextractPDFLoader\u001B[49m\u001B[43m(\u001B[49m\u001B[38;5;124;43m\"\u001B[39;49m\u001B[38;5;124;43mdata/images.jpg\u001B[39;49m\u001B[38;5;124;43m\"\u001B[39;49m\u001B[43m)\u001B[49m\n\u001B[0;32m      3\u001B[0m documents \u001B[38;5;241m=\u001B[39m loader\u001B[38;5;241m.\u001B[39mload()\n",
      "File \u001B[1;32mp:\\Projects\\LLM-Frameworks-Tutorials\\LangChain Tutorials\\Tutorials from Langchain\\.venv\\Lib\\site-packages\\langchain_community\\document_loaders\\pdf.py:653\u001B[0m, in \u001B[0;36mAmazonTextractPDFLoader.__init__\u001B[1;34m(self, file_path, textract_features, client, credentials_profile_name, region_name, endpoint_url, headers)\u001B[0m\n\u001B[0;32m    647\u001B[0m     \u001B[38;5;28;01mexcept\u001B[39;00m \u001B[38;5;167;01mException\u001B[39;00m \u001B[38;5;28;01mas\u001B[39;00m e:\n\u001B[0;32m    648\u001B[0m         \u001B[38;5;28;01mraise\u001B[39;00m \u001B[38;5;167;01mValueError\u001B[39;00m(\n\u001B[0;32m    649\u001B[0m             \u001B[38;5;124m\"\u001B[39m\u001B[38;5;124mCould not load credentials to authenticate with AWS client. \u001B[39m\u001B[38;5;124m\"\u001B[39m\n\u001B[0;32m    650\u001B[0m             \u001B[38;5;124m\"\u001B[39m\u001B[38;5;124mPlease check that credentials in the specified \u001B[39m\u001B[38;5;124m\"\u001B[39m\n\u001B[0;32m    651\u001B[0m             \u001B[38;5;124m\"\u001B[39m\u001B[38;5;124mprofile name are valid.\u001B[39m\u001B[38;5;124m\"\u001B[39m\n\u001B[0;32m    652\u001B[0m         ) \u001B[38;5;28;01mfrom\u001B[39;00m \u001B[38;5;21;01me\u001B[39;00m\n\u001B[1;32m--> 653\u001B[0m \u001B[38;5;28mself\u001B[39m\u001B[38;5;241m.\u001B[39mparser \u001B[38;5;241m=\u001B[39m \u001B[43mAmazonTextractPDFParser\u001B[49m\u001B[43m(\u001B[49m\u001B[43mtextract_features\u001B[49m\u001B[38;5;241;43m=\u001B[39;49m\u001B[43mfeatures\u001B[49m\u001B[43m,\u001B[49m\u001B[43m \u001B[49m\u001B[43mclient\u001B[49m\u001B[38;5;241;43m=\u001B[39;49m\u001B[43mclient\u001B[49m\u001B[43m)\u001B[49m\n",
      "File \u001B[1;32mp:\\Projects\\LLM-Frameworks-Tutorials\\LangChain Tutorials\\Tutorials from Langchain\\.venv\\Lib\\site-packages\\langchain_community\\document_loaders\\parsers\\pdf.py:481\u001B[0m, in \u001B[0;36mAmazonTextractPDFParser.__init__\u001B[1;34m(self, textract_features, client)\u001B[0m\n\u001B[0;32m    479\u001B[0m         \u001B[38;5;28mself\u001B[39m\u001B[38;5;241m.\u001B[39mtextract_features \u001B[38;5;241m=\u001B[39m []\n\u001B[0;32m    480\u001B[0m \u001B[38;5;28;01mexcept\u001B[39;00m \u001B[38;5;167;01mImportError\u001B[39;00m:\n\u001B[1;32m--> 481\u001B[0m     \u001B[38;5;28;01mraise\u001B[39;00m \u001B[38;5;167;01mImportError\u001B[39;00m(\n\u001B[0;32m    482\u001B[0m         \u001B[38;5;124m\"\u001B[39m\u001B[38;5;124mCould not import amazon-textract-caller or \u001B[39m\u001B[38;5;124m\"\u001B[39m\n\u001B[0;32m    483\u001B[0m         \u001B[38;5;124m\"\u001B[39m\u001B[38;5;124mamazon-textract-textractor python package. Please install it \u001B[39m\u001B[38;5;124m\"\u001B[39m\n\u001B[0;32m    484\u001B[0m         \u001B[38;5;124m\"\u001B[39m\u001B[38;5;124mwith `pip install amazon-textract-caller` & \u001B[39m\u001B[38;5;124m\"\u001B[39m\n\u001B[0;32m    485\u001B[0m         \u001B[38;5;124m\"\u001B[39m\u001B[38;5;124m`pip install amazon-textract-textractor`.\u001B[39m\u001B[38;5;124m\"\u001B[39m\n\u001B[0;32m    486\u001B[0m     )\n\u001B[0;32m    488\u001B[0m \u001B[38;5;28;01mif\u001B[39;00m \u001B[38;5;129;01mnot\u001B[39;00m client:\n\u001B[0;32m    489\u001B[0m     \u001B[38;5;28;01mtry\u001B[39;00m:\n",
      "\u001B[1;31mImportError\u001B[0m: Could not import amazon-textract-caller or amazon-textract-textractor python package. Please install it with `pip install amazon-textract-caller` & `pip install amazon-textract-textractor`."
     ]
    }
   ],
   "source": [
    "from langchain_community.document_loaders import AmazonTextractPDFLoader\n",
    "loader = AmazonTextractPDFLoader(\"data/images.jpg\")\n",
    "documents = loader.load()"
   ],
   "metadata": {
    "collapsed": false,
    "ExecuteTime": {
     "end_time": "2024-02-02T14:59:26.629190900Z",
     "start_time": "2024-02-02T14:59:26.610119400Z"
    }
   },
   "id": "1eb009d2dd1b4cb7",
   "execution_count": 90
  },
  {
   "cell_type": "markdown",
   "source": [
    "[Project Map](#project-map)\n"
   ],
   "metadata": {
    "collapsed": false
   },
   "id": "a9379c4e9dd839ac"
  }
 ],
 "metadata": {
  "kernelspec": {
   "display_name": "Python 3",
   "language": "python",
   "name": "python3"
  },
  "language_info": {
   "codemirror_mode": {
    "name": "ipython",
    "version": 2
   },
   "file_extension": ".py",
   "mimetype": "text/x-python",
   "name": "python",
   "nbconvert_exporter": "python",
   "pygments_lexer": "ipython2",
   "version": "2.7.6"
  }
 },
 "nbformat": 4,
 "nbformat_minor": 5
}
