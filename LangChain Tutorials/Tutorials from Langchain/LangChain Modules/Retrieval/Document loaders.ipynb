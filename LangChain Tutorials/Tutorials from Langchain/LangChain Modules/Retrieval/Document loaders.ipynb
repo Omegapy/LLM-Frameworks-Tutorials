{
 "cells": [
  {
   "cell_type": "markdown",
   "source": [
    "# Document loaders\n",
    "\n",
    "---\n",
    "\n",
    "Alejandro Ricciardi (Omegapy)  \n",
    "created date: 01/23/2024   \n",
    "[GitHub](https://github.com/Omegapy)  \n",
    "\n",
    "Credit: [LangChain](https://python.langchain.com/docs/expression_language/)\n",
    "\n",
    "<br>\n",
    "\n",
    "--- "
   ],
   "metadata": {
    "collapsed": false
   },
   "id": "56c667153f33f793"
  },
  {
   "cell_type": "markdown",
   "source": [
    " \n",
    "Projects Description:  \n",
    "**LangChain** is a framework for developing applications powered by language models.  \n",
    "**In this project:** This project is a series of LangChain document loaders for LLMs tutorials on Jupyter Notebook.  \n",
    "The tutorials are a series LangChain Python code examples from the https://python.langchain.com/ website.\n",
    "\n",
    "Specifically from the section [Document loaders](https://python.langchain.com/docs/modules/data_connection/document_loaders/).\n",
    "\n",
    "⚠️ **Info**: Head to [Integrations]( https://python.langchain.com/docs/integrations/document_loaders/) for documentation on built-in document loader integrations with 3rd-party tools.\n",
    "\n",
    "Use document loaders to load data from a source as Document's. A ```Document``` is a piece of text and associated metadata. For example, there are document loaders for loading a simple ```.txt``` file, for loading the text contents of any web page, or even for loading a transcript of a YouTube video.\n",
    "\n",
    "Document loaders provide a \"load\" method for loading data as documents from a configured source. They optionally implement a \"lazy load\" as well for lazily loading data into memory.\n",
    "\n",
    "<p></p>\n",
    "<b style=\"font-size:15;\">\n",
    "⚠️ This project requires an OpenAI key.\n",
    "</b>\n"
   ],
   "metadata": {
    "collapsed": false
   },
   "id": "23d747506242aa53"
  },
  {
   "cell_type": "markdown",
   "source": [
    "##### Project Map  \n",
    "- [API Keys](#api-keys)  \n",
    "- [Getting started (.txt)](@getting-started)\n",
    "- [CSV](#csv)\n",
    "    - [Base Example](#base-example-csv)\n",
    "    - [Customizing the CSV parsing and loading](#customizing-the-csv-parsing-and-loading)\n",
    "    - [Specify a column to identify the document source](#specify-a-column-to-identify-the-document-source)\n",
    "- [File Directory](#file-directory)\n",
    "    - [Base Example](#base-example-file-directory)\n",
    "    - [Show a progress bar](#show-a-progress-bar)\n",
    "    - [Use multithreading](#use-multithreading)\n",
    "    - [Change loader class](#change-loader-class)\n",
    "        - [Base Example](#base-example-change-loader-class)\n",
    "        - [Load Python Source Code](#load-python-source-code)\n",
    "    - [Auto-detect file encodings with TextLoader](#auto-detect-file-encodings-with-textloader)\n",
    "        - [A. Default Behavior](#a-default-behavior)\n",
    "        - [B. Silent fail](#b-silent-fail)\n",
    "        - [C. Auto detect encodings](#c-auto-detect-encodings)\n",
    "- [HTML](#html)\n",
    "\n",
    "\n",
    "<br>\n",
    "\n",
    "---\n"
   ],
   "metadata": {
    "collapsed": false
   },
   "id": "6d812a5237c2ffca"
  },
  {
   "cell_type": "markdown",
   "source": [
    "#### API Keys"
   ],
   "metadata": {
    "collapsed": false
   },
   "id": "4aadd2d6d518060f"
  },
  {
   "cell_type": "code",
   "outputs": [],
   "source": [
    "import os\n",
    "from dotenv import load_dotenv,find_dotenv\n",
    "load_dotenv(find_dotenv())\n",
    "OPENAI_API_KEY = os.environ.get(\"OPEN_AI_KEY\")"
   ],
   "metadata": {
    "collapsed": false,
    "ExecuteTime": {
     "end_time": "2024-01-24T23:20:32.470189900Z",
     "start_time": "2024-01-24T23:20:32.466018500Z"
    }
   },
   "id": "9f0bea1dbc415b2",
   "execution_count": 6
  },
  {
   "cell_type": "markdown",
   "source": [
    "---\n",
    "## Getting started\n",
    "\n",
    "\n",
    "<br>\n",
    "\n",
    "---"
   ],
   "metadata": {
    "collapsed": false
   },
   "id": "c0fc6fd5480d3b4d"
  },
  {
   "cell_type": "code",
   "outputs": [
    {
     "data": {
      "text/plain": "[Document(page_content=\"\\n\\n\\n\\nPortfolio: Solutions for a Business Enterprise-Wide Upgrade\\nAlejandro Ricciardi\\nColorado State University Global\\nCSC300: Operating Systems and Architecture\\nJoe Rangitsch\\nAugust 6, 2023\\n\\n\\n\\n      Portfolio: Solutions for a Business Enterprise-Wide Upgrade\\n      In a rapidly advancing technological landscape, to remain competitive, businesses need to adapt by modernizing their systems. In this portfolio essay, I take on the role of a consultant for a local business, that was asked to propose an enterprise-wide upgrade solution that includes operating systems, mass storage, virtualization, and security for a company. The company currently has a mix of operating systems, including several legacy machines. Additionally, the company does not currently use virtual machines but is strongly considering them. Furthermore, the company's core business is software testing, but it is considering offering a storage solution. In this paper, I outline the advantages for the company in upgrading to a single corporate operating system and list the benefits of upgrading from Windows 8.1 to Windows 10. I also list the benefits of implementing virtualization, recommend a Linux-based Network-Attached Storage (NAS) over a Windows-based NSA as a storage solution, and discuss the strategies to prevent, avoid, and recover from deadlocks. Additionally, I list several recommended security measures. I hope this proposal will not only improve the efficiency, security, and competitiveness of the company but also will create opportunities for the company to explore new business ventures.\\nUpgrading Corporate Operating Systems from Windows 8.1 to Windows 10\\n      The company currently has a mix of operating systems. Upgrading to a single, corporate operating system will allow employees to work in a more uniform environment, be more synchronized and add the same accountability and support. Furthermore, Microsoft added several new and improved features to Windows 10, and upgrading the existing systems from Windows 8.1 to Windows 10 can provide substantial benefits to the company. Below is a list of these new and improved features.\\n1. User Interface and Functionality: Windows 10 offers a more intuitive and user-friendly interface. For example, the Windows 8 Start Screen is replaced with an improved Start Menu feature. The Start Menu is located on the bottom-left corner of the screen, it lists the most-used programs down the left-hand side, along with a link to an A-Z listing of all installed apps (Collins, 2022). Additionally, Windows 10 provides new features, such as the digital assistant Cortana, Virtual Desktop, and Task View, which can greatly improve productivity.\\n2. Improved Security: Windows 10 has more robust security features than Windows 8.1. Such an improved feature is Secure Boot, allowing PC manufacturers to prevent users from disabling it. This prevents the user from having dual-boot Operating Systems (OSes). The dual-boot OSes feature in business machines will only ever boot into one OS. Additionally, this prevents almost any chance of malicious rootkits or other low-level malware infecting the boot process. For software testing purposes, virtual machines can be used to create different environments utilizing different operating systems. Additionally, the Windows Hello feature allows users to log onto their computers using fingerprint or facial recognition. Furthermore, Windows Defender, which is Windows anti-malware feature, has been significantly improved.\\n3. Support and Regular Updates: Microsoft ended support for Windows 8.1 on January 10, 2023 (Microsoft Support, n.d.). As a result, it will no longer receive updates or patches. Window 10, on the other hand, updates and patches are provided regularly allowing systems to stay updated. This can help prevent security incidents, where outdated software with known vulnerabilities can be exploited.\\n4. Enhanced Compatibility: Windows 10 supports more devices and hardware than Windows 8.1. Additionally, Windows 10 is compatible with Universal Windows Platform (UWP), which allows applications to run across personal computers, tablets, and phones (Microsoft Learn, 2023). \\nTherefore, upgrading to a single, corporate operating system, and upgrading the existing systems from Windows 8.1 to Windows 10 would be very beneficial to the company. A corporate operating system brings a more uniform environment to the company employees allowing them to be more productive. Additionally, Windows 10 brings a more intuitive and user-friendly interface, improved security, better support, regular updates and patches, and enhanced compatibility allowing the employees to be more efficient.\\nVirtualization and Security\\n      Virtualization or virtual machine (VM) is a technology that allows system hardware to be shared between multiple virtual environments (Amazon, n.d.). In other words, hardware can be shared by multiple virtual machines, allowing these machines to operate simultaneously on a physical system. It also allows OSes to run simulatability on one hardware system. Additionally, VM plays a substantial role by providing a wide range of benefits. Such as efficient resource utilization, security and isolation, ideal for development and testing, disaster recovery, scalability and flexibility, and support for legacy applications. The company's core business is software testing, and virtualization can provide an environment that is ideal for software testing. Thus, it is essential for the company to implement virtualization. This will optimize the cost and hardware resources. Below is a list of VM’s benefits.\\n1. Efficient Resource Utilization: By allowing multiple VMs to run on a single physical system, organizations can make optimal use of their hardware resources (Carklin, 2021). This improves efficiency and cost savings.\\n2. Security and Isolation: VMs operate in isolation from one another, even when running on the same physical host (Sheldon & Kirsch, 2023). For example, if a VM encounters an issue, such as a system crash or a security breach, the problem is confined to that VM and doesn't impact the other VMs running in the same system and the host system. \\n3. Ideal for Development and Testing: VMs offer an excellent environment for testing and development. They can be created, used, and deleted without any impact on the primary operating system. They also allow multiple OSes to run on the same hardware. This optimizes cost and hardware resources by removing the need to have several physical machines for each OSes that software may need to be tested on.\\n4. Disaster Recovery: VMs can be easily replicated and restored in the event of a disaster. They can also be migrated between different physical machines or locations, providing support for business continuity and disaster recovery.\\n5. Scalability and Flexibility: VMs are easy to create, delete, and migrate, they allow for a flexible and scalable system infrastructure. \\n6. Support for Legacy Applications: VMs can run different operating systems, which makes them ideal for running older applications that may not be compatible with newer systems. The company owns several legacy machines, that can be replaced by VMs, if it is a need to run legacy applications. This optimizes cost and hardware resources.\\nTherefore, the benefits of virtualization are efficient resource utilization, security and isolation. VM is also ideal for software testing which is the core business of the company, disaster recovery, scalability and flexibility, support for legacy applications, and optimizing cost and hardware resources.\\nLinux Preferred Operating System for Network-Attached Storage (NAS)\\n      The company is considering offering a storage solution. A solution for storage is Network-Attached Storage (NAS). “NAS is a dedicated file storage that enables multiple users and heterogeneous client devices to retrieve data from a centralized disk capacity. Users on a local area network (LAN) access the shared storage via a standard Ethernet connection” (Bigelow, S. J et al., 2022). Every NAS server comes from a vendor with an embedded OS (Vista Storage, n.d.). The company should consider the embedded OS when ordering a NAS server from the vendor. Even though the company's recommended corporate operating system is Windows 10, I recommend using a Linux-based OS over a Windows-based OS. It is a common misconception among some IT administrators that a Microsoft OS-based solution is necessary for a Windows environment. However, this assumption may not always hold true. Besides significant cost benefits, the open architecture of the Linux OS offers a level of flexibility that dedicated Microsoft products may not match. With features like native RAID functionality, heterogeneous client support, optimized file systems, and advanced diagnostics, Linux-based NAS solutions often emerge as the preferred choice for current and future network file-sharing requirements. Therefore, for the company storage solution, I recommended a Linux-based NAS storage.\\nPreventing and Recovering from Deadlocks\\n      Deadlock is a critical issue that can occur in multiprocessing systems when two or more processes or threads are running simultaneously, and each process needs access to a resource that another process is using (Zimmer, 2016). Deadlocks can cause a system to become unresponsive, waste system resources as processes are stuck waiting for resources that they can never acquire, and potentially result in system crashes (Prepbytes, 2023). Thus, it is crucial to implement strategies to prevent or avoid the occurrence of deadlocks. Such strategies are deadlock prevention and deadlock avoidance. Deadlock prevention limits access to resources or directly prevents the circular wait condition, to impede the occurrence of a deadlock. Deadlock avoidance, on the other hand, carefully manages resource allocation by having knowledge of future process requests, freeing process execution from any synchronization requirements, and having a fixed number of resources to allocate. Examples of deadlock prevention and avoidance However, both strategies come with trade-offs that need to be evaluated further in the context of the company's needs. Furthermore, deadlock is not always preventable or avoidable. Thus, strategies need to be in place for deadlock recovery. “Deadlock recovery involves breaking the deadlock by releasing the resources held by the processes” (Chakraborty, 2023, Conclusion). Examples of deadlock recovery methods are process termination, priority inversion, and rollback. Therefore, it is crucial to implement strategies to avoid, prevent, and recover from deadlocks, while also striking a balance between managing the deadlock issue, the company’s needs, and the trade-offs associated with these strategies.\\nSecurity\\n      In today's technological landscape, where information and computing play a critical role in the functionality and efficiency of virtually every business. Furthermore, various types of malware exist, and each can affect a system in uniquely destructive ways. From viruses that replicate themselves and ransomware that encrypts crucial data to spyware that monitors and steals sensitive information, it is essential for the company to understand and implement cybersecurity measures in the form of countermeasures to safeguard the company’s computer systems functionality and the integrity of the information stored in it. Below is a list of countermeasures that can be implemented.\\n1. Antivirus/Antimalware Software detects and neutralizes threats like viruses, worms, and spyware. They work by comparing files on a computer to a database of known threats.\\n2. Firewalls are a barrier between a trusted network and an untrusted network. They can block unauthorized access to a network. Furthermore, they can detect and block many types of attacks.\\n3. Intrusion Detection System (IDS) is a system that monitors network traffic and system activities for malicious activities or policy violations and generates an alert when such activity occurs (Lutkevich, 2021).\\n4. Intrusion Prevention System (IPS) is an IDS that detects potential threats but also takes actions to prevent them from causing harm.\\n5. Patch Management is the action to manage software or systems patches. It is important to regularly update and patch systems, it can help prevent security incidents.\\n6. Penetration Testing and Vulnerability Assessments. A vulnerability assessment identifies and measures security weaknesses in a system. A penetration test is a simulated cyber attack designed to identify vulnerabilities in an organization's security system (Escobar, 2021).\\n7. Security Awareness Training: Educating users about the signs of a security incident can prevent many attacks. Users should be trained in recognizing phishing attempts and malware behavior. \\n8. Access Controls and User Permissions, it is important to implement controls monitoring data and application access to only authorized users.\\n9. Encryption, which involves encoding sensitive data. Furthermore, the data should be only decrypted by authorized applications and users.\\n10. Systems Event Management (SIEM) is a security solution that helps organizations recognize and address potential security threats and vulnerabilities before they have a chance to disrupt business operations (IBM, n.d.).\\nTherefore, it is essential for the company to implement countermeasures or security controls to prevent security incidents. That is to prevent malware from accessing a computer system's functionality and data. The Federal Information Processing Standard (FIPS) defines security controls as “the management, operational, and technical controls (i.e., safeguards or, countermeasures) prescribed for an information system to protect the confidentiality, integrity, and availability of the system and its information” (FIPS 199, n.d.).\\n      Conclusion\\n      To summarize, upgrading to a single corporate operating system has the advantage of allowing employees to work in a more uniform environment, be more synchronized and add the same accountability and support. Upgrading from Windows 8.1 to Windows 10 has substantial benefits for the company. Microsoft added a vast number of new and improved features to Windows 10 boosting security and productivity. Implementing virtualization will provide substantial benefits for the company, such as efficient resource utilization, security and isolation. VM is also ideal for software testing which is the core business of the company, disaster recovery, scalability and flexibility, support for legacy applications, and optimizing cost and hardware resources. A storage solution for the company is NAS, with a Linux-based NAS environment.  Additionally, it is crucial for the company to implement strategies to avoid, prevent, and recover from deadlocks, while also striking a balance between managing the deadlock issue, the company’s needs, and the trade-offs associated with these strategies. Furthermore, it is essential for the company to implement countermeasures or security controls to prevent security incidents. Finally, implementing the previous suggestions could have a significant impact on the company's efficiency, security, and competitive edge in the rapidly advancing technological landscape. I hope these proposals can not only improve operational efficiency, security, and competitiveness but also create opportunities for the company to explore new business ventures.\\n\\n      \\n      \\n      \\n\\n\\n      \\nReferences\\nAmazon. (n.d.). What is virtualization? Amazon.com. https://aws.amazon.com/what-is/virtualization/#:~:text=Virtualization%20is%20a%20process%20that,%2C%20processing%20power%2C%20and%20storage.\\nCarklin, N. (2021, June 1). What are the benefits of virtual machines? Parallels Remote Application Server Blog - Application virtualization, mobility and VDI. https://www.parallels.com/blogs/ras/benefits-virtual-machines/\\nChakraborty, A. (2023, April 6). Deadlock detection and recovery. Tutorialspoint. https://www.tutorialspoint.com/deadlock-detection-and-recovery#:~:text=Deadlock%20recovery%20involves%20breaking%20the,%2C%20priority%20inversion%2C%20and%20rollback.\\nCollins, B. (2019, March 22). Windows 10 vs Windows 8.1: Which was the best operating system? ITPro. https://www.itpro.com/operating-systems/25123/windows-10-vs-windows-81-which-is-best-for-you-1.\\nBigelow, S. J., Lutkevich, B., & Kranz, G. (2022, September 30). What is network-attached storage (NAS)? A complete guide. TechTarget. https://www.techtarget.com/searchstorage/definition/network-attached-storage?Offer=abt_pubpro_AI-Insider\\nScobar, E. (2021, August 19). Vulnerability assessments versus penetration tests. Secureworks. https://www.secureworks.com/blog/vulnerability-assessments-versus-penetration-tests\\nFIPS 199, standards for security categorization of federal ... - NIST. (n.d.). National Institute of Standards and Technology. Retrieve from: https://nvlpubs.nist.gov/nistpubs/FIPS/NIST.FIPS.199.pdf\\nIBM (n.d.). What is Security Information and Event Management (SIEM)? Ibm.com. https://www.ibm.com/topics/siem\\nLutkevich, B. (2021, October 7). What is an intrusion detection system (IDS)? Techtarget.com. https://www.techtarget.com/searchsecurity/definition/intrusion-detection-system?Offer=abt_pubpro_AI-Insider\\nMicrosoft Learn. (2023, April 4). What’s a universal Windows platform (UWP) app? - UWP applications. https://learn.microsoft.com/en-us/windows/uwp/get-started/universal-application-platform-guide.\\nMicrosoft Support. (n.d.). Windows 8.1 support ended on January 10, 2023. Microsoft. https://support.microsoft.com/en-us/windows/windows-8-1-support-ended-on-january-10-2023-3cfd4cde-f611-496a-8057-923fba401e93.\\nPrepbytes (2023, January 31). Deadlock in OS. PrepBytes Blog. https://www.prepbytes.com/blog/operating-system/deadlock-in-os/#:~:text=Deadlock%20can%20cause%20a%20system,cause%20the%20system%20to%20crash\\nSheldon, R., & Kirsch, B. (2023, May 1). What is a virtual machine and how does it work?. IT Operations. https://www.techtarget.com/searchitoperations/definition/virtual-machine-VM?Offer=abt_pubpro_AI-Insider\\nVista Storage (n.d.). The advantage of Linux-based NAS over Windows-based NAS [PDF]. Premises Networks.com. Retrieved from: http://vertassets.blob.core.windows.net/download/df81caf2/df81caf2-9df9-4a7b-bbe0-5d20c0f3358f/vistastoragelinuxnas.pdf.\\nZimmer, S. (2016, May 1). Applied science: computer science. Salem Press.\\n\\n\\n\\n\\n\\n\", metadata={'source': './data/Portfolio Solutions for a Business Enterprise-Wide Upgrade.txt'})]"
     },
     "execution_count": 21,
     "metadata": {},
     "output_type": "execute_result"
    }
   ],
   "source": [
    "from langchain_community.document_loaders import TextLoader\n",
    "\n",
    "loader = TextLoader(\"./data/Portfolio Solutions for a Business Enterprise-Wide Upgrade.txt\")\n",
    "loader.load()"
   ],
   "metadata": {
    "collapsed": false,
    "ExecuteTime": {
     "end_time": "2024-01-24T23:41:38.897063600Z",
     "start_time": "2024-01-24T23:41:38.890942100Z"
    }
   },
   "id": "250f1704be50da56",
   "execution_count": 21
  },
  {
   "cell_type": "markdown",
   "source": [
    "[Project Map](#project-map)\n",
    "\n",
    "---"
   ],
   "metadata": {
    "collapsed": false
   },
   "id": "9c0f050905d2169f"
  },
  {
   "cell_type": "markdown",
   "source": [
    "---\n",
    "## CSV\n",
    "A comma-separated values (CSV) file is a delimited text file that uses a comma to separate values. Each line of the file is a data record. Each record consists of one or more fields, separated by commas.\n",
    "\n",
    "<br>\n",
    "\n",
    "---"
   ],
   "metadata": {
    "collapsed": false
   },
   "id": "ff58326b5f3797d4"
  },
  {
   "cell_type": "markdown",
   "source": [
    "### Base Example (CSV)"
   ],
   "metadata": {
    "collapsed": false
   },
   "id": "cbaa8a8863eba2f"
  },
  {
   "cell_type": "code",
   "outputs": [
    {
     "data": {
      "text/plain": "[Document(page_content='Team: Nationals\\n\"Payroll (millions)\": 81.34\\n\"Wins\": 98', metadata={'source': './data/mlb_teams_2012.csv', 'row': 0}),\n Document(page_content='Team: Reds\\n\"Payroll (millions)\": 82.20\\n\"Wins\": 97', metadata={'source': './data/mlb_teams_2012.csv', 'row': 1}),\n Document(page_content='Team: Yankees\\n\"Payroll (millions)\": 197.96\\n\"Wins\": 95', metadata={'source': './data/mlb_teams_2012.csv', 'row': 2}),\n Document(page_content='Team: Giants\\n\"Payroll (millions)\": 117.62\\n\"Wins\": 94', metadata={'source': './data/mlb_teams_2012.csv', 'row': 3}),\n Document(page_content='Team: Braves\\n\"Payroll (millions)\": 83.31\\n\"Wins\": 94', metadata={'source': './data/mlb_teams_2012.csv', 'row': 4}),\n Document(page_content='Team: Athletics\\n\"Payroll (millions)\": 55.37\\n\"Wins\": 94', metadata={'source': './data/mlb_teams_2012.csv', 'row': 5}),\n Document(page_content='Team: Rangers\\n\"Payroll (millions)\": 120.51\\n\"Wins\": 93', metadata={'source': './data/mlb_teams_2012.csv', 'row': 6}),\n Document(page_content='Team: Orioles\\n\"Payroll (millions)\": 81.43\\n\"Wins\": 93', metadata={'source': './data/mlb_teams_2012.csv', 'row': 7}),\n Document(page_content='Team: Rays\\n\"Payroll (millions)\": 64.17\\n\"Wins\": 90', metadata={'source': './data/mlb_teams_2012.csv', 'row': 8}),\n Document(page_content='Team: Angels\\n\"Payroll (millions)\": 154.49\\n\"Wins\": 89', metadata={'source': './data/mlb_teams_2012.csv', 'row': 9}),\n Document(page_content='Team: Tigers\\n\"Payroll (millions)\": 132.30\\n\"Wins\": 88', metadata={'source': './data/mlb_teams_2012.csv', 'row': 10}),\n Document(page_content='Team: Cardinals\\n\"Payroll (millions)\": 110.30\\n\"Wins\": 88', metadata={'source': './data/mlb_teams_2012.csv', 'row': 11}),\n Document(page_content='Team: Dodgers\\n\"Payroll (millions)\": 95.14\\n\"Wins\": 86', metadata={'source': './data/mlb_teams_2012.csv', 'row': 12}),\n Document(page_content='Team: White Sox\\n\"Payroll (millions)\": 96.92\\n\"Wins\": 85', metadata={'source': './data/mlb_teams_2012.csv', 'row': 13}),\n Document(page_content='Team: Brewers\\n\"Payroll (millions)\": 97.65\\n\"Wins\": 83', metadata={'source': './data/mlb_teams_2012.csv', 'row': 14}),\n Document(page_content='Team: Phillies\\n\"Payroll (millions)\": 174.54\\n\"Wins\": 81', metadata={'source': './data/mlb_teams_2012.csv', 'row': 15}),\n Document(page_content='Team: Diamondbacks\\n\"Payroll (millions)\": 74.28\\n\"Wins\": 81', metadata={'source': './data/mlb_teams_2012.csv', 'row': 16}),\n Document(page_content='Team: Pirates\\n\"Payroll (millions)\": 63.43\\n\"Wins\": 79', metadata={'source': './data/mlb_teams_2012.csv', 'row': 17}),\n Document(page_content='Team: Padres\\n\"Payroll (millions)\": 55.24\\n\"Wins\": 76', metadata={'source': './data/mlb_teams_2012.csv', 'row': 18}),\n Document(page_content='Team: Mariners\\n\"Payroll (millions)\": 81.97\\n\"Wins\": 75', metadata={'source': './data/mlb_teams_2012.csv', 'row': 19}),\n Document(page_content='Team: Mets\\n\"Payroll (millions)\": 93.35\\n\"Wins\": 74', metadata={'source': './data/mlb_teams_2012.csv', 'row': 20}),\n Document(page_content='Team: Blue Jays\\n\"Payroll (millions)\": 75.48\\n\"Wins\": 73', metadata={'source': './data/mlb_teams_2012.csv', 'row': 21}),\n Document(page_content='Team: Royals\\n\"Payroll (millions)\": 60.91\\n\"Wins\": 72', metadata={'source': './data/mlb_teams_2012.csv', 'row': 22}),\n Document(page_content='Team: Marlins\\n\"Payroll (millions)\": 118.07\\n\"Wins\": 69', metadata={'source': './data/mlb_teams_2012.csv', 'row': 23}),\n Document(page_content='Team: Red Sox\\n\"Payroll (millions)\": 173.18\\n\"Wins\": 69', metadata={'source': './data/mlb_teams_2012.csv', 'row': 24}),\n Document(page_content='Team: Indians\\n\"Payroll (millions)\": 78.43\\n\"Wins\": 68', metadata={'source': './data/mlb_teams_2012.csv', 'row': 25}),\n Document(page_content='Team: Twins\\n\"Payroll (millions)\": 94.08\\n\"Wins\": 66', metadata={'source': './data/mlb_teams_2012.csv', 'row': 26}),\n Document(page_content='Team: Rockies\\n\"Payroll (millions)\": 78.06\\n\"Wins\": 64', metadata={'source': './data/mlb_teams_2012.csv', 'row': 27}),\n Document(page_content='Team: Cubs\\n\"Payroll (millions)\": 88.19\\n\"Wins\": 61', metadata={'source': './data/mlb_teams_2012.csv', 'row': 28}),\n Document(page_content='Team: Astros\\n\"Payroll (millions)\": 60.65\\n\"Wins\": 55', metadata={'source': './data/mlb_teams_2012.csv', 'row': 29})]"
     },
     "execution_count": 19,
     "metadata": {},
     "output_type": "execute_result"
    }
   ],
   "source": [
    "from langchain_community.document_loaders.csv_loader import CSVLoader\n",
    "\n",
    "\n",
    "loader = CSVLoader(file_path='./data/mlb_teams_2012.csv')\n",
    "data = loader.load()\n",
    "data"
   ],
   "metadata": {
    "collapsed": false,
    "ExecuteTime": {
     "end_time": "2024-01-24T23:41:21.026293100Z",
     "start_time": "2024-01-24T23:41:20.991674Z"
    }
   },
   "id": "12cb86e18aec4492",
   "execution_count": 19
  },
  {
   "cell_type": "markdown",
   "source": [
    "### Customizing the CSV parsing and loading\n",
    "\n",
    "See the [csv module](https://docs.python.org/3/library/csv.html) documentation for more information of what csv args are supported."
   ],
   "metadata": {
    "collapsed": false
   },
   "id": "ebfe54b1b18e8275"
  },
  {
   "cell_type": "code",
   "outputs": [
    {
     "data": {
      "text/plain": "[Document(page_content='MLB Team: Team\\nPayroll in millions: \"Payroll (millions)\"\\nWins: \"Wins\"', metadata={'source': './data/mlb_teams_2012.csv', 'row': 0}),\n Document(page_content='MLB Team: Nationals\\nPayroll in millions: 81.34\\nWins: 98', metadata={'source': './data/mlb_teams_2012.csv', 'row': 1}),\n Document(page_content='MLB Team: Reds\\nPayroll in millions: 82.20\\nWins: 97', metadata={'source': './data/mlb_teams_2012.csv', 'row': 2}),\n Document(page_content='MLB Team: Yankees\\nPayroll in millions: 197.96\\nWins: 95', metadata={'source': './data/mlb_teams_2012.csv', 'row': 3}),\n Document(page_content='MLB Team: Giants\\nPayroll in millions: 117.62\\nWins: 94', metadata={'source': './data/mlb_teams_2012.csv', 'row': 4}),\n Document(page_content='MLB Team: Braves\\nPayroll in millions: 83.31\\nWins: 94', metadata={'source': './data/mlb_teams_2012.csv', 'row': 5}),\n Document(page_content='MLB Team: Athletics\\nPayroll in millions: 55.37\\nWins: 94', metadata={'source': './data/mlb_teams_2012.csv', 'row': 6}),\n Document(page_content='MLB Team: Rangers\\nPayroll in millions: 120.51\\nWins: 93', metadata={'source': './data/mlb_teams_2012.csv', 'row': 7}),\n Document(page_content='MLB Team: Orioles\\nPayroll in millions: 81.43\\nWins: 93', metadata={'source': './data/mlb_teams_2012.csv', 'row': 8}),\n Document(page_content='MLB Team: Rays\\nPayroll in millions: 64.17\\nWins: 90', metadata={'source': './data/mlb_teams_2012.csv', 'row': 9}),\n Document(page_content='MLB Team: Angels\\nPayroll in millions: 154.49\\nWins: 89', metadata={'source': './data/mlb_teams_2012.csv', 'row': 10}),\n Document(page_content='MLB Team: Tigers\\nPayroll in millions: 132.30\\nWins: 88', metadata={'source': './data/mlb_teams_2012.csv', 'row': 11}),\n Document(page_content='MLB Team: Cardinals\\nPayroll in millions: 110.30\\nWins: 88', metadata={'source': './data/mlb_teams_2012.csv', 'row': 12}),\n Document(page_content='MLB Team: Dodgers\\nPayroll in millions: 95.14\\nWins: 86', metadata={'source': './data/mlb_teams_2012.csv', 'row': 13}),\n Document(page_content='MLB Team: White Sox\\nPayroll in millions: 96.92\\nWins: 85', metadata={'source': './data/mlb_teams_2012.csv', 'row': 14}),\n Document(page_content='MLB Team: Brewers\\nPayroll in millions: 97.65\\nWins: 83', metadata={'source': './data/mlb_teams_2012.csv', 'row': 15}),\n Document(page_content='MLB Team: Phillies\\nPayroll in millions: 174.54\\nWins: 81', metadata={'source': './data/mlb_teams_2012.csv', 'row': 16}),\n Document(page_content='MLB Team: Diamondbacks\\nPayroll in millions: 74.28\\nWins: 81', metadata={'source': './data/mlb_teams_2012.csv', 'row': 17}),\n Document(page_content='MLB Team: Pirates\\nPayroll in millions: 63.43\\nWins: 79', metadata={'source': './data/mlb_teams_2012.csv', 'row': 18}),\n Document(page_content='MLB Team: Padres\\nPayroll in millions: 55.24\\nWins: 76', metadata={'source': './data/mlb_teams_2012.csv', 'row': 19}),\n Document(page_content='MLB Team: Mariners\\nPayroll in millions: 81.97\\nWins: 75', metadata={'source': './data/mlb_teams_2012.csv', 'row': 20}),\n Document(page_content='MLB Team: Mets\\nPayroll in millions: 93.35\\nWins: 74', metadata={'source': './data/mlb_teams_2012.csv', 'row': 21}),\n Document(page_content='MLB Team: Blue Jays\\nPayroll in millions: 75.48\\nWins: 73', metadata={'source': './data/mlb_teams_2012.csv', 'row': 22}),\n Document(page_content='MLB Team: Royals\\nPayroll in millions: 60.91\\nWins: 72', metadata={'source': './data/mlb_teams_2012.csv', 'row': 23}),\n Document(page_content='MLB Team: Marlins\\nPayroll in millions: 118.07\\nWins: 69', metadata={'source': './data/mlb_teams_2012.csv', 'row': 24}),\n Document(page_content='MLB Team: Red Sox\\nPayroll in millions: 173.18\\nWins: 69', metadata={'source': './data/mlb_teams_2012.csv', 'row': 25}),\n Document(page_content='MLB Team: Indians\\nPayroll in millions: 78.43\\nWins: 68', metadata={'source': './data/mlb_teams_2012.csv', 'row': 26}),\n Document(page_content='MLB Team: Twins\\nPayroll in millions: 94.08\\nWins: 66', metadata={'source': './data/mlb_teams_2012.csv', 'row': 27}),\n Document(page_content='MLB Team: Rockies\\nPayroll in millions: 78.06\\nWins: 64', metadata={'source': './data/mlb_teams_2012.csv', 'row': 28}),\n Document(page_content='MLB Team: Cubs\\nPayroll in millions: 88.19\\nWins: 61', metadata={'source': './data/mlb_teams_2012.csv', 'row': 29}),\n Document(page_content='MLB Team: Astros\\nPayroll in millions: 60.65\\nWins: 55', metadata={'source': './data/mlb_teams_2012.csv', 'row': 30})]"
     },
     "execution_count": 24,
     "metadata": {},
     "output_type": "execute_result"
    }
   ],
   "source": [
    "loader = CSVLoader(file_path='./data/mlb_teams_2012.csv', csv_args={\n",
    "    'delimiter': ',',\n",
    "    'quotechar': '\"',\n",
    "    'fieldnames': ['MLB Team', 'Payroll in millions', 'Wins']\n",
    "})\n",
    "\n",
    "data = loader.load()\n",
    "data\n"
   ],
   "metadata": {
    "collapsed": false,
    "ExecuteTime": {
     "end_time": "2024-01-24T23:42:28.644497300Z",
     "start_time": "2024-01-24T23:42:28.621471500Z"
    }
   },
   "id": "abfe0dde4b6dccff",
   "execution_count": 24
  },
  {
   "cell_type": "markdown",
   "source": [
    "### Specify a column to identify the document source\n",
    "Use the ```source_column``` argument to specify a source for the document created from each row. Otherwise file_path will be used as the source for all documents created from the CSV file.\n",
    "\n",
    "This is useful when using documents loaded from CSV files for chains that answer questions using sources."
   ],
   "metadata": {
    "collapsed": false
   },
   "id": "5b4c077996d58c53"
  },
  {
   "cell_type": "code",
   "outputs": [
    {
     "data": {
      "text/plain": "[Document(page_content='Team: Nationals\\n\"Payroll (millions)\": 81.34\\n\"Wins\": 98', metadata={'source': 'Nationals', 'row': 0}),\n Document(page_content='Team: Reds\\n\"Payroll (millions)\": 82.20\\n\"Wins\": 97', metadata={'source': 'Reds', 'row': 1}),\n Document(page_content='Team: Yankees\\n\"Payroll (millions)\": 197.96\\n\"Wins\": 95', metadata={'source': 'Yankees', 'row': 2}),\n Document(page_content='Team: Giants\\n\"Payroll (millions)\": 117.62\\n\"Wins\": 94', metadata={'source': 'Giants', 'row': 3}),\n Document(page_content='Team: Braves\\n\"Payroll (millions)\": 83.31\\n\"Wins\": 94', metadata={'source': 'Braves', 'row': 4}),\n Document(page_content='Team: Athletics\\n\"Payroll (millions)\": 55.37\\n\"Wins\": 94', metadata={'source': 'Athletics', 'row': 5}),\n Document(page_content='Team: Rangers\\n\"Payroll (millions)\": 120.51\\n\"Wins\": 93', metadata={'source': 'Rangers', 'row': 6}),\n Document(page_content='Team: Orioles\\n\"Payroll (millions)\": 81.43\\n\"Wins\": 93', metadata={'source': 'Orioles', 'row': 7}),\n Document(page_content='Team: Rays\\n\"Payroll (millions)\": 64.17\\n\"Wins\": 90', metadata={'source': 'Rays', 'row': 8}),\n Document(page_content='Team: Angels\\n\"Payroll (millions)\": 154.49\\n\"Wins\": 89', metadata={'source': 'Angels', 'row': 9}),\n Document(page_content='Team: Tigers\\n\"Payroll (millions)\": 132.30\\n\"Wins\": 88', metadata={'source': 'Tigers', 'row': 10}),\n Document(page_content='Team: Cardinals\\n\"Payroll (millions)\": 110.30\\n\"Wins\": 88', metadata={'source': 'Cardinals', 'row': 11}),\n Document(page_content='Team: Dodgers\\n\"Payroll (millions)\": 95.14\\n\"Wins\": 86', metadata={'source': 'Dodgers', 'row': 12}),\n Document(page_content='Team: White Sox\\n\"Payroll (millions)\": 96.92\\n\"Wins\": 85', metadata={'source': 'White Sox', 'row': 13}),\n Document(page_content='Team: Brewers\\n\"Payroll (millions)\": 97.65\\n\"Wins\": 83', metadata={'source': 'Brewers', 'row': 14}),\n Document(page_content='Team: Phillies\\n\"Payroll (millions)\": 174.54\\n\"Wins\": 81', metadata={'source': 'Phillies', 'row': 15}),\n Document(page_content='Team: Diamondbacks\\n\"Payroll (millions)\": 74.28\\n\"Wins\": 81', metadata={'source': 'Diamondbacks', 'row': 16}),\n Document(page_content='Team: Pirates\\n\"Payroll (millions)\": 63.43\\n\"Wins\": 79', metadata={'source': 'Pirates', 'row': 17}),\n Document(page_content='Team: Padres\\n\"Payroll (millions)\": 55.24\\n\"Wins\": 76', metadata={'source': 'Padres', 'row': 18}),\n Document(page_content='Team: Mariners\\n\"Payroll (millions)\": 81.97\\n\"Wins\": 75', metadata={'source': 'Mariners', 'row': 19}),\n Document(page_content='Team: Mets\\n\"Payroll (millions)\": 93.35\\n\"Wins\": 74', metadata={'source': 'Mets', 'row': 20}),\n Document(page_content='Team: Blue Jays\\n\"Payroll (millions)\": 75.48\\n\"Wins\": 73', metadata={'source': 'Blue Jays', 'row': 21}),\n Document(page_content='Team: Royals\\n\"Payroll (millions)\": 60.91\\n\"Wins\": 72', metadata={'source': 'Royals', 'row': 22}),\n Document(page_content='Team: Marlins\\n\"Payroll (millions)\": 118.07\\n\"Wins\": 69', metadata={'source': 'Marlins', 'row': 23}),\n Document(page_content='Team: Red Sox\\n\"Payroll (millions)\": 173.18\\n\"Wins\": 69', metadata={'source': 'Red Sox', 'row': 24}),\n Document(page_content='Team: Indians\\n\"Payroll (millions)\": 78.43\\n\"Wins\": 68', metadata={'source': 'Indians', 'row': 25}),\n Document(page_content='Team: Twins\\n\"Payroll (millions)\": 94.08\\n\"Wins\": 66', metadata={'source': 'Twins', 'row': 26}),\n Document(page_content='Team: Rockies\\n\"Payroll (millions)\": 78.06\\n\"Wins\": 64', metadata={'source': 'Rockies', 'row': 27}),\n Document(page_content='Team: Cubs\\n\"Payroll (millions)\": 88.19\\n\"Wins\": 61', metadata={'source': 'Cubs', 'row': 28}),\n Document(page_content='Team: Astros\\n\"Payroll (millions)\": 60.65\\n\"Wins\": 55', metadata={'source': 'Astros', 'row': 29})]"
     },
     "execution_count": 26,
     "metadata": {},
     "output_type": "execute_result"
    }
   ],
   "source": [
    "loader = CSVLoader(file_path='./data/mlb_teams_2012.csv', source_column=\"Team\")\n",
    "\n",
    "data = loader.load()\n",
    "data"
   ],
   "metadata": {
    "collapsed": false,
    "ExecuteTime": {
     "end_time": "2024-01-24T23:43:40.943544300Z",
     "start_time": "2024-01-24T23:43:40.934629600Z"
    }
   },
   "id": "f8bf13567cb851e7",
   "execution_count": 26
  },
  {
   "cell_type": "markdown",
   "source": [
    "[Project Map](#project-map)\n",
    "\n",
    "---"
   ],
   "metadata": {
    "collapsed": false
   },
   "id": "1281fe38e2dc90d7"
  },
  {
   "cell_type": "markdown",
   "source": [
    "---\n",
    "## File Directory\n",
    "This covers how to load all documents in a directory.\n",
    "\n",
    "Under the hood, by default this uses the [UnstructuredLoader](https://python.langchain.com/docs/integrations/document_loaders/unstructured_file).\n",
    "\n",
    "<br>\n",
    "\n",
    "---"
   ],
   "metadata": {
    "collapsed": false
   },
   "id": "a54f10b49a354e22"
  },
  {
   "cell_type": "markdown",
   "source": [
    "### Base Example (File Directory)"
   ],
   "metadata": {
    "collapsed": false
   },
   "id": "d6818856ed429a16"
  },
  {
   "cell_type": "code",
   "outputs": [],
   "source": [
    "from langchain_community.document_loaders import DirectoryLoader"
   ],
   "metadata": {
    "collapsed": false,
    "ExecuteTime": {
     "end_time": "2024-01-24T23:50:11.435340500Z",
     "start_time": "2024-01-24T23:50:11.415299Z"
    }
   },
   "id": "bf9f77f70e549d71",
   "execution_count": 33
  },
  {
   "cell_type": "markdown",
   "source": [
    "We can use the ```glob``` parameter to control which files to load. \n",
    "Note that here it doesn't load the ```.rst``` file or the .```html``` files."
   ],
   "metadata": {
    "collapsed": false
   },
   "id": "a94f781452ea3ad1"
  },
  {
   "cell_type": "code",
   "outputs": [
    {
     "data": {
      "text/plain": "3"
     },
     "execution_count": 42,
     "metadata": {},
     "output_type": "execute_result"
    }
   ],
   "source": [
    "loader = DirectoryLoader('../', glob=\"**/*.txt\") \n",
    "\n",
    "docs = loader.load() # pip install unstructured, note pip install \"unstructured[md]\" not available on Window Pro PC\n",
    "\n",
    "len(docs)"
   ],
   "metadata": {
    "collapsed": false,
    "ExecuteTime": {
     "end_time": "2024-01-25T00:21:34.044494Z",
     "start_time": "2024-01-25T00:21:33.616326Z"
    }
   },
   "id": "591358a0424557f7",
   "execution_count": 42
  },
  {
   "cell_type": "markdown",
   "source": [
    "[Project Map](#project-map)\n",
    "\n",
    "---"
   ],
   "metadata": {
    "collapsed": false
   },
   "id": "ab31aa832d297491"
  },
  {
   "cell_type": "markdown",
   "source": [
    "### Show a progress bar\n",
    "\n",
    "**By default a progress bar will not be shown.** \n",
    "To show a progress bar, install the tqdm library (e.g. ```pip install tqdm```), and set the show_progress parameter to ```True```."
   ],
   "metadata": {
    "collapsed": false
   },
   "id": "78aaf74567dab65"
  },
  {
   "cell_type": "code",
   "outputs": [
    {
     "name": "stderr",
     "output_type": "stream",
     "text": [
      "\n",
      "  0%|          | 0/3 [00:00<?, ?it/s]\u001B[A\n",
      "100%|██████████| 3/3 [00:00<00:00, 15.07it/s]\u001B[A\n"
     ]
    }
   ],
   "source": [
    "loader = DirectoryLoader('../', glob=\"**/*.txt\", show_progress=True)\n",
    "docs = loader.load()"
   ],
   "metadata": {
    "collapsed": false,
    "ExecuteTime": {
     "end_time": "2024-01-25T00:30:19.758123700Z",
     "start_time": "2024-01-25T00:30:19.553075Z"
    }
   },
   "id": "fbaf11c58d96340f",
   "execution_count": 45
  },
  {
   "cell_type": "markdown",
   "source": [
    "[Project Map](#project-map)\n",
    "\n",
    "---"
   ],
   "metadata": {
    "collapsed": false
   },
   "id": "eec0f8d92f47f907"
  },
  {
   "cell_type": "markdown",
   "source": [
    "### Use multithreading\n",
    "\n",
    "By default the loading happens in one thread. In order to utilize several threads set the ```use_multithreading``` flag to ```true```."
   ],
   "metadata": {
    "collapsed": false
   },
   "id": "60950b06e0f7445e"
  },
  {
   "cell_type": "markdown",
   "source": [
    "No multithreading"
   ],
   "metadata": {
    "collapsed": false
   },
   "id": "7b6bb0aa8dc3c583"
  },
  {
   "cell_type": "code",
   "outputs": [
    {
     "name": "stdout",
     "output_type": "stream",
     "text": [
      "197 ms ± 4.88 ms per loop (mean ± std. dev. of 7 runs, 1 loop each)\n"
     ]
    }
   ],
   "source": [
    "%%timeit\n",
    "loader = DirectoryLoader('../', glob=\"**/*.txt\")\n",
    "docs = loader.load()"
   ],
   "metadata": {
    "collapsed": false,
    "ExecuteTime": {
     "end_time": "2024-01-25T00:34:57.941103700Z",
     "start_time": "2024-01-25T00:34:56.335751900Z"
    }
   },
   "id": "cea6640b411d86af",
   "execution_count": 48
  },
  {
   "cell_type": "markdown",
   "source": [
    " Multithreading"
   ],
   "metadata": {
    "collapsed": false
   },
   "id": "2c8c6435679aec23"
  },
  {
   "cell_type": "code",
   "outputs": [
    {
     "name": "stdout",
     "output_type": "stream",
     "text": [
      "183 ms ± 2.28 ms per loop (mean ± std. dev. of 7 runs, 10 loops each)\n"
     ]
    }
   ],
   "source": [
    "%%timeit\n",
    "loader = DirectoryLoader('../', glob=\"**/*.txt\", use_multithreading=True)\n",
    "docs = loader.load()"
   ],
   "metadata": {
    "collapsed": false,
    "ExecuteTime": {
     "end_time": "2024-01-25T00:35:27.406675500Z",
     "start_time": "2024-01-25T00:35:12.595368300Z"
    }
   },
   "id": "7c0bf6e9cda61903",
   "execution_count": 49
  },
  {
   "cell_type": "markdown",
   "source": [
    "[Project Map](#project-map)\n",
    "\n",
    "---"
   ],
   "metadata": {
    "collapsed": false
   },
   "id": "f9d6abd31e13d7a5"
  },
  {
   "cell_type": "markdown",
   "source": [
    "### Change loader class\n",
    "By default this uses the ```UnstructuredLoader``` class. However, you can change up the type of loader pretty easily."
   ],
   "metadata": {
    "collapsed": false
   },
   "id": "53c1b20a7a9594fd"
  },
  {
   "cell_type": "markdown",
   "source": [
    "##### Base Example (Change loader class)"
   ],
   "metadata": {
    "collapsed": false
   },
   "id": "6f1dc1330b53bdc8"
  },
  {
   "cell_type": "code",
   "outputs": [
    {
     "data": {
      "text/plain": "3"
     },
     "execution_count": 52,
     "metadata": {},
     "output_type": "execute_result"
    }
   ],
   "source": [
    "from langchain_community.document_loaders import TextLoader\n",
    "\n",
    "loader = DirectoryLoader('../', glob=\"**/*.txt\", loader_cls=TextLoader)\n",
    "\n",
    "docs = loader.load()\n",
    "\n",
    "len(docs)"
   ],
   "metadata": {
    "collapsed": false,
    "ExecuteTime": {
     "end_time": "2024-01-25T00:37:32.231893400Z",
     "start_time": "2024-01-25T00:37:32.222482700Z"
    }
   },
   "id": "6d0fbc37c3985af5",
   "execution_count": 52
  },
  {
   "cell_type": "markdown",
   "source": [
    "##### Load Python Source Code\n",
    "If you need to load Python source code files, use the ```PythonLoader```."
   ],
   "metadata": {
    "collapsed": false
   },
   "id": "d23c32ac3f54f103"
  },
  {
   "cell_type": "code",
   "outputs": [
    {
     "data": {
      "text/plain": "15"
     },
     "execution_count": 53,
     "metadata": {},
     "output_type": "execute_result"
    }
   ],
   "source": [
    "from langchain_community.document_loaders import PythonLoader\n",
    "\n",
    "loader = DirectoryLoader('../../../../../', glob=\"**/*.py\", loader_cls=PythonLoader)\n",
    "\n",
    "docs = loader.load()\n",
    "\n",
    "len(docs)"
   ],
   "metadata": {
    "collapsed": false,
    "ExecuteTime": {
     "end_time": "2024-01-25T00:40:18.968117800Z",
     "start_time": "2024-01-25T00:40:18.393538900Z"
    }
   },
   "id": "50a25eb1edcea980",
   "execution_count": 53
  },
  {
   "cell_type": "markdown",
   "source": [
    "[Project Map](#project-map)\n",
    "\n",
    "---"
   ],
   "metadata": {
    "collapsed": false
   },
   "id": "3891047355a6f783"
  },
  {
   "cell_type": "markdown",
   "source": [
    "### Auto-detect file encodings with TextLoader\n",
    "\n",
    "In this example we will see some strategies that can be useful when loading a large list of arbitrary files from a directory using the ```TextLoader``` class.\n",
    "\n",
    "First to illustrate the problem, let's try to load multiple texts with arbitrary encodings."
   ],
   "metadata": {
    "collapsed": false
   },
   "id": "97aefcc59664f0d5"
  },
  {
   "cell_type": "code",
   "outputs": [],
   "source": [
    "path = './data'\n",
    "loader = DirectoryLoader(path, glob=\"**/*.txt\", loader_cls=TextLoader)"
   ],
   "metadata": {
    "collapsed": false,
    "ExecuteTime": {
     "end_time": "2024-01-25T00:44:06.470057800Z",
     "start_time": "2024-01-25T00:44:06.452957100Z"
    }
   },
   "id": "cda2d9bda63c388d",
   "execution_count": 56
  },
  {
   "cell_type": "markdown",
   "source": [
    "##### A. Default Behavior"
   ],
   "metadata": {
    "collapsed": false
   },
   "id": "7651acb0a4a885e5"
  },
  {
   "cell_type": "code",
   "outputs": [
    {
     "ename": "RuntimeError",
     "evalue": "Error loading data\\example-non-utf8.txt",
     "output_type": "error",
     "traceback": [
      "\u001B[1;31m---------------------------------------------------------------------------\u001B[0m",
      "\u001B[1;31mUnicodeDecodeError\u001B[0m                        Traceback (most recent call last)",
      "File \u001B[1;32mp:\\Projects\\LLM-Frameworks-Tutorials\\LangChain Tutorials\\Tutorials from Langchain\\.venv\\Lib\\site-packages\\langchain_community\\document_loaders\\text.py:42\u001B[0m, in \u001B[0;36mTextLoader.load\u001B[1;34m(self)\u001B[0m\n\u001B[0;32m     41\u001B[0m     \u001B[38;5;28;01mwith\u001B[39;00m \u001B[38;5;28mopen\u001B[39m(\u001B[38;5;28mself\u001B[39m\u001B[38;5;241m.\u001B[39mfile_path, encoding\u001B[38;5;241m=\u001B[39m\u001B[38;5;28mself\u001B[39m\u001B[38;5;241m.\u001B[39mencoding) \u001B[38;5;28;01mas\u001B[39;00m f:\n\u001B[1;32m---> 42\u001B[0m         text \u001B[38;5;241m=\u001B[39m \u001B[43mf\u001B[49m\u001B[38;5;241;43m.\u001B[39;49m\u001B[43mread\u001B[49m\u001B[43m(\u001B[49m\u001B[43m)\u001B[49m\n\u001B[0;32m     43\u001B[0m \u001B[38;5;28;01mexcept\u001B[39;00m \u001B[38;5;167;01mUnicodeDecodeError\u001B[39;00m \u001B[38;5;28;01mas\u001B[39;00m e:\n",
      "File \u001B[1;32m~\\AppData\\Local\\Programs\\Python\\Python312\\Lib\\encodings\\cp1252.py:23\u001B[0m, in \u001B[0;36mIncrementalDecoder.decode\u001B[1;34m(self, input, final)\u001B[0m\n\u001B[0;32m     22\u001B[0m \u001B[38;5;28;01mdef\u001B[39;00m \u001B[38;5;21mdecode\u001B[39m(\u001B[38;5;28mself\u001B[39m, \u001B[38;5;28minput\u001B[39m, final\u001B[38;5;241m=\u001B[39m\u001B[38;5;28;01mFalse\u001B[39;00m):\n\u001B[1;32m---> 23\u001B[0m     \u001B[38;5;28;01mreturn\u001B[39;00m \u001B[43mcodecs\u001B[49m\u001B[38;5;241;43m.\u001B[39;49m\u001B[43mcharmap_decode\u001B[49m\u001B[43m(\u001B[49m\u001B[38;5;28;43minput\u001B[39;49m\u001B[43m,\u001B[49m\u001B[38;5;28;43mself\u001B[39;49m\u001B[38;5;241;43m.\u001B[39;49m\u001B[43merrors\u001B[49m\u001B[43m,\u001B[49m\u001B[43mdecoding_table\u001B[49m\u001B[43m)\u001B[49m[\u001B[38;5;241m0\u001B[39m]\n",
      "\u001B[1;31mUnicodeDecodeError\u001B[0m: 'charmap' codec can't decode byte 0x90 in position 4362: character maps to <undefined>",
      "\nThe above exception was the direct cause of the following exception:\n",
      "\u001B[1;31mRuntimeError\u001B[0m                              Traceback (most recent call last)",
      "Cell \u001B[1;32mIn[59], line 1\u001B[0m\n\u001B[1;32m----> 1\u001B[0m \u001B[43mloader\u001B[49m\u001B[38;5;241;43m.\u001B[39;49m\u001B[43mload\u001B[49m\u001B[43m(\u001B[49m\u001B[43m)\u001B[49m\n",
      "File \u001B[1;32mp:\\Projects\\LLM-Frameworks-Tutorials\\LangChain Tutorials\\Tutorials from Langchain\\.venv\\Lib\\site-packages\\langchain_community\\document_loaders\\directory.py:157\u001B[0m, in \u001B[0;36mDirectoryLoader.load\u001B[1;34m(self)\u001B[0m\n\u001B[0;32m    155\u001B[0m \u001B[38;5;28;01melse\u001B[39;00m:\n\u001B[0;32m    156\u001B[0m     \u001B[38;5;28;01mfor\u001B[39;00m i \u001B[38;5;129;01min\u001B[39;00m items:\n\u001B[1;32m--> 157\u001B[0m         \u001B[38;5;28;43mself\u001B[39;49m\u001B[38;5;241;43m.\u001B[39;49m\u001B[43mload_file\u001B[49m\u001B[43m(\u001B[49m\u001B[43mi\u001B[49m\u001B[43m,\u001B[49m\u001B[43m \u001B[49m\u001B[43mp\u001B[49m\u001B[43m,\u001B[49m\u001B[43m \u001B[49m\u001B[43mdocs\u001B[49m\u001B[43m,\u001B[49m\u001B[43m \u001B[49m\u001B[43mpbar\u001B[49m\u001B[43m)\u001B[49m\n\u001B[0;32m    159\u001B[0m \u001B[38;5;28;01mif\u001B[39;00m pbar:\n\u001B[0;32m    160\u001B[0m     pbar\u001B[38;5;241m.\u001B[39mclose()\n",
      "File \u001B[1;32mp:\\Projects\\LLM-Frameworks-Tutorials\\LangChain Tutorials\\Tutorials from Langchain\\.venv\\Lib\\site-packages\\langchain_community\\document_loaders\\directory.py:106\u001B[0m, in \u001B[0;36mDirectoryLoader.load_file\u001B[1;34m(self, item, path, docs, pbar)\u001B[0m\n\u001B[0;32m    104\u001B[0m         logger\u001B[38;5;241m.\u001B[39mwarning(\u001B[38;5;124mf\u001B[39m\u001B[38;5;124m\"\u001B[39m\u001B[38;5;124mError loading file \u001B[39m\u001B[38;5;132;01m{\u001B[39;00m\u001B[38;5;28mstr\u001B[39m(item)\u001B[38;5;132;01m}\u001B[39;00m\u001B[38;5;124m: \u001B[39m\u001B[38;5;132;01m{\u001B[39;00me\u001B[38;5;132;01m}\u001B[39;00m\u001B[38;5;124m\"\u001B[39m)\n\u001B[0;32m    105\u001B[0m     \u001B[38;5;28;01melse\u001B[39;00m:\n\u001B[1;32m--> 106\u001B[0m         \u001B[38;5;28;01mraise\u001B[39;00m e\n\u001B[0;32m    107\u001B[0m \u001B[38;5;28;01mfinally\u001B[39;00m:\n\u001B[0;32m    108\u001B[0m     \u001B[38;5;28;01mif\u001B[39;00m pbar:\n",
      "File \u001B[1;32mp:\\Projects\\LLM-Frameworks-Tutorials\\LangChain Tutorials\\Tutorials from Langchain\\.venv\\Lib\\site-packages\\langchain_community\\document_loaders\\directory.py:100\u001B[0m, in \u001B[0;36mDirectoryLoader.load_file\u001B[1;34m(self, item, path, docs, pbar)\u001B[0m\n\u001B[0;32m     98\u001B[0m \u001B[38;5;28;01mtry\u001B[39;00m:\n\u001B[0;32m     99\u001B[0m     logger\u001B[38;5;241m.\u001B[39mdebug(\u001B[38;5;124mf\u001B[39m\u001B[38;5;124m\"\u001B[39m\u001B[38;5;124mProcessing file: \u001B[39m\u001B[38;5;132;01m{\u001B[39;00m\u001B[38;5;28mstr\u001B[39m(item)\u001B[38;5;132;01m}\u001B[39;00m\u001B[38;5;124m\"\u001B[39m)\n\u001B[1;32m--> 100\u001B[0m     sub_docs \u001B[38;5;241m=\u001B[39m \u001B[38;5;28;43mself\u001B[39;49m\u001B[38;5;241;43m.\u001B[39;49m\u001B[43mloader_cls\u001B[49m\u001B[43m(\u001B[49m\u001B[38;5;28;43mstr\u001B[39;49m\u001B[43m(\u001B[49m\u001B[43mitem\u001B[49m\u001B[43m)\u001B[49m\u001B[43m,\u001B[49m\u001B[43m \u001B[49m\u001B[38;5;241;43m*\u001B[39;49m\u001B[38;5;241;43m*\u001B[39;49m\u001B[38;5;28;43mself\u001B[39;49m\u001B[38;5;241;43m.\u001B[39;49m\u001B[43mloader_kwargs\u001B[49m\u001B[43m)\u001B[49m\u001B[38;5;241;43m.\u001B[39;49m\u001B[43mload\u001B[49m\u001B[43m(\u001B[49m\u001B[43m)\u001B[49m\n\u001B[0;32m    101\u001B[0m     docs\u001B[38;5;241m.\u001B[39mextend(sub_docs)\n\u001B[0;32m    102\u001B[0m \u001B[38;5;28;01mexcept\u001B[39;00m \u001B[38;5;167;01mException\u001B[39;00m \u001B[38;5;28;01mas\u001B[39;00m e:\n",
      "File \u001B[1;32mp:\\Projects\\LLM-Frameworks-Tutorials\\LangChain Tutorials\\Tutorials from Langchain\\.venv\\Lib\\site-packages\\langchain_community\\document_loaders\\text.py:55\u001B[0m, in \u001B[0;36mTextLoader.load\u001B[1;34m(self)\u001B[0m\n\u001B[0;32m     53\u001B[0m                 \u001B[38;5;28;01mcontinue\u001B[39;00m\n\u001B[0;32m     54\u001B[0m     \u001B[38;5;28;01melse\u001B[39;00m:\n\u001B[1;32m---> 55\u001B[0m         \u001B[38;5;28;01mraise\u001B[39;00m \u001B[38;5;167;01mRuntimeError\u001B[39;00m(\u001B[38;5;124mf\u001B[39m\u001B[38;5;124m\"\u001B[39m\u001B[38;5;124mError loading \u001B[39m\u001B[38;5;132;01m{\u001B[39;00m\u001B[38;5;28mself\u001B[39m\u001B[38;5;241m.\u001B[39mfile_path\u001B[38;5;132;01m}\u001B[39;00m\u001B[38;5;124m\"\u001B[39m) \u001B[38;5;28;01mfrom\u001B[39;00m \u001B[38;5;21;01me\u001B[39;00m\n\u001B[0;32m     56\u001B[0m \u001B[38;5;28;01mexcept\u001B[39;00m \u001B[38;5;167;01mException\u001B[39;00m \u001B[38;5;28;01mas\u001B[39;00m e:\n\u001B[0;32m     57\u001B[0m     \u001B[38;5;28;01mraise\u001B[39;00m \u001B[38;5;167;01mRuntimeError\u001B[39;00m(\u001B[38;5;124mf\u001B[39m\u001B[38;5;124m\"\u001B[39m\u001B[38;5;124mError loading \u001B[39m\u001B[38;5;132;01m{\u001B[39;00m\u001B[38;5;28mself\u001B[39m\u001B[38;5;241m.\u001B[39mfile_path\u001B[38;5;132;01m}\u001B[39;00m\u001B[38;5;124m\"\u001B[39m) \u001B[38;5;28;01mfrom\u001B[39;00m \u001B[38;5;21;01me\u001B[39;00m\n",
      "\u001B[1;31mRuntimeError\u001B[0m: Error loading data\\example-non-utf8.txt"
     ]
    }
   ],
   "source": [
    "loader.load()"
   ],
   "metadata": {
    "collapsed": false,
    "ExecuteTime": {
     "end_time": "2024-01-25T00:53:18.191923300Z",
     "start_time": "2024-01-25T00:53:18.161120700Z"
    }
   },
   "id": "62282ab16f343a1b",
   "execution_count": 59
  },
  {
   "cell_type": "markdown",
   "source": [
    "The file example-non-utf8.txt uses a different encoding, so the load() function fails with a helpful message indicating which file failed decoding.\n",
    "\n",
    "With the default behavior of TextLoader any failure to load any of the documents will fail the whole loading process and no documents are loaded."
   ],
   "metadata": {
    "collapsed": false
   },
   "id": "c8ffc2c8a47f8621"
  },
  {
   "cell_type": "markdown",
   "source": [
    "##### B. Silent fail\n",
    "We can pass the parameter ```silent_errors``` to the ```DirectoryLoader``` to skip the files which could not be loaded and continue the load process.\n",
    "\n",
    "The example-non-utf8.txt will not be loaded in docs"
   ],
   "metadata": {
    "collapsed": false
   },
   "id": "12e778a264c60c41"
  },
  {
   "cell_type": "code",
   "outputs": [
    {
     "name": "stderr",
     "output_type": "stream",
     "text": [
      "Error loading file data\\example-non-utf8.txt: Error loading data\\example-non-utf8.txt\n"
     ]
    }
   ],
   "source": [
    "loader = DirectoryLoader(path, glob=\"**/*.txt\", loader_cls=TextLoader, silent_errors=True)\n",
    "docs = loader.load()\n",
    "\n",
    "# the example-non-utf8.txt will not be loaded in docs"
   ],
   "metadata": {
    "collapsed": false,
    "ExecuteTime": {
     "end_time": "2024-01-25T00:57:05.268580300Z",
     "start_time": "2024-01-25T00:57:05.256504300Z"
    }
   },
   "id": "f362b43c04681e54",
   "execution_count": 61
  },
  {
   "cell_type": "code",
   "outputs": [
    {
     "data": {
      "text/plain": "['data\\\\An Overview of Thread Implementation in Multi-Threaded Computer Systems.txt',\n 'data\\\\Portfolio Solutions for a Business Enterprise-Wide Upgrade.txt',\n 'data\\\\whatsapp_chat.txt',\n 'data\\\\fake_discord_data\\\\output.txt']"
     },
     "execution_count": 62,
     "metadata": {},
     "output_type": "execute_result"
    }
   ],
   "source": [
    "doc_sources = [doc.metadata['source']  for doc in docs]\n",
    "doc_sources"
   ],
   "metadata": {
    "collapsed": false,
    "ExecuteTime": {
     "end_time": "2024-01-25T00:58:08.922713500Z",
     "start_time": "2024-01-25T00:58:08.886121500Z"
    }
   },
   "id": "37db042ff73c5dca",
   "execution_count": 62
  },
  {
   "cell_type": "markdown",
   "source": [
    "[Project Map](#project-map)\n",
    "\n",
    "---"
   ],
   "metadata": {
    "collapsed": false
   },
   "id": "f3d7a31637967f67"
  },
  {
   "cell_type": "markdown",
   "source": [
    "##### C. Auto detect encodings\n",
    "We can also ask ```TextLoader``` to auto detect the file encoding before failing, by passing the ```autodetect_encoding``` to the loader class.\n",
    "\n",
    "This will load example-non-utf8.txt without generating an error"
   ],
   "metadata": {
    "collapsed": false
   },
   "id": "b7449e296370a40"
  },
  {
   "cell_type": "code",
   "outputs": [],
   "source": [
    "text_loader_kwargs={'autodetect_encoding': True}\n",
    "loader = DirectoryLoader(path, glob=\"**/*.txt\", loader_cls=TextLoader, loader_kwargs=text_loader_kwargs)\n",
    "docs = loader.load()"
   ],
   "metadata": {
    "collapsed": false,
    "ExecuteTime": {
     "end_time": "2024-01-25T01:00:34.504577400Z",
     "start_time": "2024-01-25T01:00:34.475149700Z"
    }
   },
   "id": "e6c5e5017a77e8f5",
   "execution_count": 63
  },
  {
   "cell_type": "code",
   "outputs": [
    {
     "data": {
      "text/plain": "['data\\\\An Overview of Thread Implementation in Multi-Threaded Computer Systems.txt',\n 'data\\\\example-non-utf8.txt',\n 'data\\\\Portfolio Solutions for a Business Enterprise-Wide Upgrade.txt',\n 'data\\\\whatsapp_chat.txt',\n 'data\\\\fake_discord_data\\\\output.txt']"
     },
     "execution_count": 64,
     "metadata": {},
     "output_type": "execute_result"
    }
   ],
   "source": [
    "doc_sources = [doc.metadata['source']  for doc in docs]\n",
    "doc_sources"
   ],
   "metadata": {
    "collapsed": false,
    "ExecuteTime": {
     "end_time": "2024-01-25T01:00:57.259401Z",
     "start_time": "2024-01-25T01:00:57.235008900Z"
    }
   },
   "id": "825fbc4428703826",
   "execution_count": 64
  },
  {
   "cell_type": "markdown",
   "source": [
    "[Project Map](#project-map)\n",
    "\n",
    "---"
   ],
   "metadata": {
    "collapsed": false
   },
   "id": "2ad5d4052e512cfe"
  },
  {
   "cell_type": "markdown",
   "source": [
    "---\n",
    "## HTML\n",
    "The HyperText Markup Language or HTML is the standard markup language for documents designed to be displayed in a web browser.\n",
    "\n",
    "This covers how to load HTML documents into a document format that we can use downstream.\n",
    "\n",
    "<br>\n",
    "\n",
    "---"
   ],
   "metadata": {
    "collapsed": false
   },
   "id": "3426e784fedde5a4"
  },
  {
   "cell_type": "code",
   "outputs": [],
   "source": [],
   "metadata": {
    "collapsed": false
   },
   "id": "9a32d8cac1d6f040"
  }
 ],
 "metadata": {
  "kernelspec": {
   "display_name": "Python 3",
   "language": "python",
   "name": "python3"
  },
  "language_info": {
   "codemirror_mode": {
    "name": "ipython",
    "version": 2
   },
   "file_extension": ".py",
   "mimetype": "text/x-python",
   "name": "python",
   "nbconvert_exporter": "python",
   "pygments_lexer": "ipython2",
   "version": "2.7.6"
  }
 },
 "nbformat": 4,
 "nbformat_minor": 5
}
