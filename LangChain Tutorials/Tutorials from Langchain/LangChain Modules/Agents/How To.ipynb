{
 "cells": [
  {
   "cell_type": "markdown",
   "source": [
    "# How To\n",
    "\n",
    "---\n",
    "\n",
    "AAlejandro Ricciardi (Omegapy)  \n",
    "created date: 02/04/2024   \n",
    "[GitHub](https://github.com/Omegapy)  \n",
    "\n",
    "Credit: [LangChain](https://python.langchain.com/docs/get_started/introduction)\n",
    "\n",
    "<br>\n",
    "\n",
    "--- "
   ],
   "metadata": {
    "collapsed": false
   },
   "id": "56c667153f33f793"
  },
  {
   "cell_type": "markdown",
   "source": [
    " \n",
    "Projects Description:  \n",
    "**LangChain** is a framework for developing applications powered by language models.  \n",
    "**In this project:** This project is a series of LangChain document loaders for LLMs tutorials on Jupyter Notebook.  \n",
    "The tutorials are a series LangChain Python code examples from the https://python.langchain.com/ website.\n",
    "\n",
    "Specifically from the section How To:\n",
    "-\t[Building a custom agent](https://python.langchain.com/docs/modules/agents/how_to/custom_agent)\n",
    "-\t[Streaming (of both intermediate steps and tokens](https://python.langchain.com/docs/modules/agents/how_to/streaming)\n",
    "-\t[Building an agent that returns structured output](https://python.langchain.com/docs/modules/agents/how_to/agent_structured) \n",
    "-\tLots of functionality around using AgentExecutor, including: \n",
    "\t    - [using it as an iterator](https://python.langchain.com/docs/modules/agents/how_to/agent_iter)\n",
    "        - [handle parsing errors](https://python.langchain.com/docs/modules/agents/how_to/handle_parsing_errors)\n",
    "        - [returning intermediate steps](https://python.langchain.com/docs/modules/agents/how_to/intermediate_steps)\n",
    "        - [capping the max number of iterations](https://python.langchain.com/docs/modules/agents/how_to/max_iterations)\n",
    "        - [timeouts for agents]( https://python.langchain.com/docs/modules/agents/how_to/max_time_limit)\n",
    "\n",
    "\n",
    "<p></p>\n",
    "<b style=\"font-size:15;\">\n",
    "⚠️ This project requires an OpenAI key.\n",
    "</b>\n"
   ],
   "metadata": {
    "collapsed": false
   },
   "id": "23d747506242aa53"
  },
  {
   "cell_type": "markdown",
   "source": [
    "##### Project Map  \n",
    "- [API Keys](#api-keys)  \n",
    "- []()\n",
    "\n",
    "\n",
    "<br>\n",
    "\n",
    "---\n"
   ],
   "metadata": {
    "collapsed": false
   },
   "id": "6d812a5237c2ffca"
  },
  {
   "cell_type": "markdown",
   "source": [
    "#### API Keys"
   ],
   "metadata": {
    "collapsed": false
   },
   "id": "4aadd2d6d518060f"
  },
  {
   "cell_type": "code",
   "outputs": [],
   "source": [
    "import os\n",
    "from dotenv import load_dotenv,find_dotenv\n",
    "load_dotenv(find_dotenv())\n",
    "OPENAI_API_KEY = os.environ.get(\"OPEN_AI_KEY\")"
   ],
   "metadata": {
    "collapsed": false,
    "ExecuteTime": {
     "end_time": "2024-01-22T23:44:13.024361500Z",
     "start_time": "2024-01-22T23:44:13.017854800Z"
    }
   },
   "id": "9f0bea1dbc415b2",
   "execution_count": 2
  },
  {
   "cell_type": "markdown",
   "source": [
    "---\n",
    "## Get started\n",
    "\n",
    "\n",
    "\n",
    "<br>\n",
    "\n",
    "---"
   ],
   "metadata": {
    "collapsed": false
   },
   "id": "c0fc6fd5480d3b4d"
  },
  {
   "cell_type": "markdown",
   "source": [
    "[Project Map](#project-map)\n",
    "\n",
    "---"
   ],
   "metadata": {
    "collapsed": false
   },
   "id": "9c0f050905d2169f"
  }
 ],
 "metadata": {
  "kernelspec": {
   "display_name": "Python 3",
   "language": "python",
   "name": "python3"
  },
  "language_info": {
   "codemirror_mode": {
    "name": "ipython",
    "version": 2
   },
   "file_extension": ".py",
   "mimetype": "text/x-python",
   "name": "python",
   "nbconvert_exporter": "python",
   "pygments_lexer": "ipython2",
   "version": "2.7.6"
  }
 },
 "nbformat": 4,
 "nbformat_minor": 5
}
