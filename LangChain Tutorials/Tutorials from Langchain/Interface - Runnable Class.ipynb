{
 "cells": [
  {
   "cell_type": "markdown",
   "source": [
    "# Interface - The Runnable Class\n",
    "### LangChain Expression Language (LCEL)\n",
    "\n",
    "---\n",
    "\n",
    "Alejandro Ricciardi (Omegapy)  \n",
    "created date: 01/18/2024   \n",
    "[GitHub](https://github.com/Omegapy)  \n",
    "\n",
    "Credit: [LangChain](https://python.langchain.com/docs/expression_language/) \n",
    "\n",
    "<br>\n",
    "\n",
    "---"
   ],
   "metadata": {
    "collapsed": false
   },
   "id": "8a6a0f4aaf276e84"
  },
  {
   "cell_type": "markdown",
   "source": [
    "Projects Description:  \n",
    "**LangChain** is a framework for developing applications powered by language models. \n",
    "\n",
    "**In this project:**  \n",
    "I explore the concept of the [Runnable](https://api.python.langchain.com/en/stable/runnables/langchain_core.runnables.base.Runnable.html#langchain_core.runnables.base.Runnable) protocol. \n",
    "\n",
    "```class langchain_core.runnables.base.Runnable``` \n",
    "\n",
    "A unit of work that can be invoked, batched, streamed, transformed and composed.\n",
    "- ```invoke```/```ainvoke```: Transforms a single input into an output.\n",
    "- ```batch```/```abatch```: Efficiently transforms multiple inputs into outputs.\n",
    "- ```stream```/```astream```: Streams output from a single input as it’s produced.\n",
    "- ```astream_log```: ```Streams``` output and selected intermediate results from an input.\n",
    "\n",
    "Note: [Pydantic](https://docs.pydantic.dev/latest/) is used to output the schemas, this project uses ```pydantic==1.10.8```\n",
    "\n",
    "<p></p>\n",
    "<b style=\"font-size:15;\">\n",
    "⚠️ This project requires an OpenAi key.\n",
    "</b>"
   ],
   "metadata": {
    "collapsed": false
   },
   "id": "3cb4dd576baadf44"
  },
  {
   "cell_type": "markdown",
   "source": [
    "The input type and output type varies by component:\n",
    "\n",
    "**Table of Inputs - Outputs**\n",
    "<table border=\"1\">\n",
    "  <tr>\n",
    "    <th>Component</th>\n",
    "    <th>Input Type</th>\n",
    "    <th>Output Type</th>\n",
    "  </tr>\n",
    "  <tr>\n",
    "    <td>Prompt</td>\n",
    "    <td>Dictionary</td>\n",
    "    <td>PromptValue</td>\n",
    "  </tr>\n",
    "  <tr>\n",
    "    <td>ChatModel</td>\n",
    "    <td>Single string, list of chat messages or a PromptValue</td>\n",
    "    <td>ChatMessage</td>\n",
    "  </tr>\n",
    "  <tr>\n",
    "    <td>LLM</td>\n",
    "    <td>Single string, list of chat messages or a PromptValue</td>\n",
    "    <td>String</td>\n",
    "  </tr>\n",
    "  <tr>\n",
    "    <td>OutputParser</td>\n",
    "    <td>The output of an LLM or ChatModel</td>\n",
    "    <td>Depends on the parser</td>\n",
    "  </tr>\n",
    "  <tr>\n",
    "    <td>Retriever</td>\n",
    "    <td>Single string</td>\n",
    "    <td>List of Documents</td>\n",
    "  </tr>\n",
    "  <tr>\n",
    "    <td>Tool</td>\n",
    "    <td>Single string or dictionary, depending on the tool</td>\n",
    "    <td>Depends on the tool</td>\n",
    "  </tr>\n",
    "</table>\n",
    "\n",
    "All runnables expose input and output **schemas**. \n",
    "To inspect the inputs and outputs: \n",
    "- input_schema: an input Pydantic model auto-generated from the structure of the Runnable \n",
    "- output_schema: an output Pydantic model auto-generated from the structure of the Runnable"
   ],
   "metadata": {
    "collapsed": false
   },
   "id": "15cbb847847d6119"
  },
  {
   "cell_type": "markdown",
   "source": [
    "### Project map:\n",
    "- [API Key](#api-key)\n",
    "- [Base Example](#base-example)\n",
    "- [Input Schema](#input-schema)\n",
    "    - [Chain Schema](#chain-schema-input)\n",
    "    - [Prompt Schema](#prompt-schema-input)\n",
    "    - [Model Schema](#model-schema-input)\n",
    "- [Output Schema](#input-schema)\n",
    "    - [Chain Schema](#chain-schema-output)\n",
    "    - [Prompt Schema](#prompt-schema-output)\n",
    "    - [Model Schema](#model-schema-output)\n",
    "- [Batch](#batch)\n",
    "- [Async](async)\n",
    "    - [Async Stream](async-stream)\n",
    "    - [Async Invoke](async-invoke)\n",
    "    - [Async Batch](async-batch)\n",
    "- [Parallelism](parallelism)\n",
    "    - [Chains NOT ran in parallel](#chains-not-ran-in-parallel)\n",
    "    - [Chains ran in parallel](#chains-ran-in-parallel)\n",
    "- [Parallelism on batches](parallelism-on-batches)\n",
    "    - [Batches NOT ran in parallel](#batches-not-ran-in-parallel)\n",
    "    - [Batches ran in parallel](#batches-ran-in-parallel)\n",
    "\n",
    "<br>\n",
    "\n",
    "---"
   ],
   "metadata": {
    "collapsed": false
   },
   "id": "e4830b6970faa197"
  },
  {
   "cell_type": "markdown",
   "source": [
    "### API Key"
   ],
   "metadata": {
    "collapsed": false
   },
   "id": "1fac1911adcd0b50"
  },
  {
   "cell_type": "code",
   "outputs": [],
   "source": [
    "import os\n",
    "from dotenv import load_dotenv,find_dotenv\n",
    "load_dotenv(find_dotenv())\n",
    "OPENAI_API_KEY = os.environ.get(\"OPEN_AI_KEY\")"
   ],
   "metadata": {
    "collapsed": false,
    "ExecuteTime": {
     "end_time": "2024-01-20T16:13:49.245936600Z",
     "start_time": "2024-01-20T16:13:49.142133600Z"
    }
   },
   "id": "a574772b1da015f5",
   "execution_count": 89
  },
  {
   "cell_type": "markdown",
   "source": [
    "[Project Map](#project-map)\n",
    "\n",
    "---"
   ],
   "metadata": {
    "collapsed": false
   },
   "id": "9bf9ba413ba45976"
  },
  {
   "cell_type": "markdown",
   "source": [
    "### Base Example"
   ],
   "metadata": {
    "collapsed": false
   },
   "id": "bca01f5adea1d842"
  },
  {
   "cell_type": "code",
   "outputs": [
    {
     "data": {
      "text/plain": "AIMessage(content=\"Why don't bears wear shoes? \\n\\nBecause they have bear feet!\")"
     },
     "execution_count": 90,
     "metadata": {},
     "output_type": "execute_result"
    }
   ],
   "source": [
    "from langchain_core.prompts import ChatPromptTemplate\n",
    "from langchain_openai import ChatOpenAI\n",
    "\n",
    "model = ChatOpenAI()\n",
    "prompt = ChatPromptTemplate.from_template(\"tell me a joke about {topic}\")\n",
    "chain = prompt | model\n",
    "\n",
    "chain.invoke({ \"topic\": \"bears\" })"
   ],
   "metadata": {
    "collapsed": false,
    "ExecuteTime": {
     "end_time": "2024-01-20T16:13:50.724904700Z",
     "start_time": "2024-01-20T16:13:49.248926200Z"
    }
   },
   "id": "3ccf13c9f906d357",
   "execution_count": 90
  },
  {
   "cell_type": "markdown",
   "source": [
    "[Project Map](#project-map)\n",
    "\n",
    "---"
   ],
   "metadata": {
    "collapsed": false
   },
   "id": "33e1087bb8ba2815"
  },
  {
   "cell_type": "markdown",
   "source": [
    "### Input Schema\n",
    "A description of the inputs accepted by a Runnable. This is a Pydantic model dynamically generated from the structure of any Runnable. You can call ```.schema()``` on it to obtain a JSONSchema representation."
   ],
   "metadata": {
    "collapsed": false
   },
   "id": "a33eda78949bc6cd"
  },
  {
   "cell_type": "markdown",
   "source": [
    "##### Chain Schema (Input)"
   ],
   "metadata": {
    "collapsed": false
   },
   "id": "6828a38497a84f7e"
  },
  {
   "cell_type": "code",
   "outputs": [
    {
     "data": {
      "text/plain": "{'title': 'PromptInput',\n 'type': 'object',\n 'properties': {'topic': {'title': 'Topic', 'type': 'string'}}}"
     },
     "execution_count": 91,
     "metadata": {},
     "output_type": "execute_result"
    }
   ],
   "source": [
    "# The input schema of the chain is the input schema of its first part, the prompt.\n",
    "chain.input_schema.schema()"
   ],
   "metadata": {
    "collapsed": false,
    "ExecuteTime": {
     "end_time": "2024-01-20T16:13:50.745142600Z",
     "start_time": "2024-01-20T16:13:50.724904700Z"
    }
   },
   "id": "929239c87f626a6d",
   "execution_count": 91
  },
  {
   "cell_type": "markdown",
   "source": [
    "##### Prompt Schema (Input)"
   ],
   "metadata": {
    "collapsed": false
   },
   "id": "d4ba8f2609227b9b"
  },
  {
   "cell_type": "code",
   "outputs": [
    {
     "data": {
      "text/plain": "{'title': 'PromptInput',\n 'type': 'object',\n 'properties': {'topic': {'title': 'Topic', 'type': 'string'}}}"
     },
     "execution_count": 92,
     "metadata": {},
     "output_type": "execute_result"
    }
   ],
   "source": [
    "prompt.input_schema.schema()"
   ],
   "metadata": {
    "collapsed": false,
    "ExecuteTime": {
     "end_time": "2024-01-20T16:13:50.746661400Z",
     "start_time": "2024-01-20T16:13:50.728051200Z"
    }
   },
   "id": "f9c16d73bcb4cf9d",
   "execution_count": 92
  },
  {
   "cell_type": "markdown",
   "source": [
    "##### Model Schema (Input)"
   ],
   "metadata": {
    "collapsed": false
   },
   "id": "16feb9a3d8dbd03"
  },
  {
   "cell_type": "code",
   "outputs": [
    {
     "data": {
      "text/plain": "{'title': 'ChatOpenAIInput',\n 'anyOf': [{'type': 'string'},\n  {'$ref': '#/definitions/StringPromptValue'},\n  {'$ref': '#/definitions/ChatPromptValueConcrete'},\n  {'type': 'array',\n   'items': {'anyOf': [{'$ref': '#/definitions/AIMessage'},\n     {'$ref': '#/definitions/HumanMessage'},\n     {'$ref': '#/definitions/ChatMessage'},\n     {'$ref': '#/definitions/SystemMessage'},\n     {'$ref': '#/definitions/FunctionMessage'},\n     {'$ref': '#/definitions/ToolMessage'}]}}],\n 'definitions': {'StringPromptValue': {'title': 'StringPromptValue',\n   'description': 'String prompt value.',\n   'type': 'object',\n   'properties': {'text': {'title': 'Text', 'type': 'string'},\n    'type': {'title': 'Type',\n     'default': 'StringPromptValue',\n     'enum': ['StringPromptValue'],\n     'type': 'string'}},\n   'required': ['text']},\n  'AIMessage': {'title': 'AIMessage',\n   'description': 'A Message from an AI.',\n   'type': 'object',\n   'properties': {'content': {'title': 'Content',\n     'anyOf': [{'type': 'string'},\n      {'type': 'array',\n       'items': {'anyOf': [{'type': 'string'}, {'type': 'object'}]}}]},\n    'additional_kwargs': {'title': 'Additional Kwargs', 'type': 'object'},\n    'type': {'title': 'Type',\n     'default': 'ai',\n     'enum': ['ai'],\n     'type': 'string'},\n    'example': {'title': 'Example', 'default': False, 'type': 'boolean'}},\n   'required': ['content']},\n  'HumanMessage': {'title': 'HumanMessage',\n   'description': 'A Message from a human.',\n   'type': 'object',\n   'properties': {'content': {'title': 'Content',\n     'anyOf': [{'type': 'string'},\n      {'type': 'array',\n       'items': {'anyOf': [{'type': 'string'}, {'type': 'object'}]}}]},\n    'additional_kwargs': {'title': 'Additional Kwargs', 'type': 'object'},\n    'type': {'title': 'Type',\n     'default': 'human',\n     'enum': ['human'],\n     'type': 'string'},\n    'example': {'title': 'Example', 'default': False, 'type': 'boolean'}},\n   'required': ['content']},\n  'ChatMessage': {'title': 'ChatMessage',\n   'description': 'A Message that can be assigned an arbitrary speaker (i.e. role).',\n   'type': 'object',\n   'properties': {'content': {'title': 'Content',\n     'anyOf': [{'type': 'string'},\n      {'type': 'array',\n       'items': {'anyOf': [{'type': 'string'}, {'type': 'object'}]}}]},\n    'additional_kwargs': {'title': 'Additional Kwargs', 'type': 'object'},\n    'type': {'title': 'Type',\n     'default': 'chat',\n     'enum': ['chat'],\n     'type': 'string'},\n    'role': {'title': 'Role', 'type': 'string'}},\n   'required': ['content', 'role']},\n  'SystemMessage': {'title': 'SystemMessage',\n   'description': 'A Message for priming AI behavior, usually passed in as the first of a sequence\\nof input messages.',\n   'type': 'object',\n   'properties': {'content': {'title': 'Content',\n     'anyOf': [{'type': 'string'},\n      {'type': 'array',\n       'items': {'anyOf': [{'type': 'string'}, {'type': 'object'}]}}]},\n    'additional_kwargs': {'title': 'Additional Kwargs', 'type': 'object'},\n    'type': {'title': 'Type',\n     'default': 'system',\n     'enum': ['system'],\n     'type': 'string'}},\n   'required': ['content']},\n  'FunctionMessage': {'title': 'FunctionMessage',\n   'description': 'A Message for passing the result of executing a function back to a model.',\n   'type': 'object',\n   'properties': {'content': {'title': 'Content',\n     'anyOf': [{'type': 'string'},\n      {'type': 'array',\n       'items': {'anyOf': [{'type': 'string'}, {'type': 'object'}]}}]},\n    'additional_kwargs': {'title': 'Additional Kwargs', 'type': 'object'},\n    'type': {'title': 'Type',\n     'default': 'function',\n     'enum': ['function'],\n     'type': 'string'},\n    'name': {'title': 'Name', 'type': 'string'}},\n   'required': ['content', 'name']},\n  'ToolMessage': {'title': 'ToolMessage',\n   'description': 'A Message for passing the result of executing a tool back to a model.',\n   'type': 'object',\n   'properties': {'content': {'title': 'Content',\n     'anyOf': [{'type': 'string'},\n      {'type': 'array',\n       'items': {'anyOf': [{'type': 'string'}, {'type': 'object'}]}}]},\n    'additional_kwargs': {'title': 'Additional Kwargs', 'type': 'object'},\n    'type': {'title': 'Type',\n     'default': 'tool',\n     'enum': ['tool'],\n     'type': 'string'},\n    'tool_call_id': {'title': 'Tool Call Id', 'type': 'string'}},\n   'required': ['content', 'tool_call_id']},\n  'ChatPromptValueConcrete': {'title': 'ChatPromptValueConcrete',\n   'description': 'Chat prompt value which explicitly lists out the message types it accepts.\\nFor use in external schemas.',\n   'type': 'object',\n   'properties': {'messages': {'title': 'Messages',\n     'type': 'array',\n     'items': {'anyOf': [{'$ref': '#/definitions/AIMessage'},\n       {'$ref': '#/definitions/HumanMessage'},\n       {'$ref': '#/definitions/ChatMessage'},\n       {'$ref': '#/definitions/SystemMessage'},\n       {'$ref': '#/definitions/FunctionMessage'},\n       {'$ref': '#/definitions/ToolMessage'}]}},\n    'type': {'title': 'Type',\n     'default': 'ChatPromptValueConcrete',\n     'enum': ['ChatPromptValueConcrete'],\n     'type': 'string'}},\n   'required': ['messages']}}}"
     },
     "execution_count": 93,
     "metadata": {},
     "output_type": "execute_result"
    }
   ],
   "source": [
    "model.input_schema.schema()"
   ],
   "metadata": {
    "collapsed": false,
    "ExecuteTime": {
     "end_time": "2024-01-20T16:13:50.749162200Z",
     "start_time": "2024-01-20T16:13:50.736654200Z"
    }
   },
   "id": "7cb0484670791135",
   "execution_count": 93
  },
  {
   "cell_type": "markdown",
   "source": [
    "[Project Map](#project-map)\n",
    "\n",
    "---"
   ],
   "metadata": {
    "collapsed": false
   },
   "id": "202ca9152dbc562f"
  },
  {
   "cell_type": "markdown",
   "source": [
    "### Output Schema\n",
    "A description of the outputs produced by a Runnable. This is a Pydantic model dynamically generated from the structure of any Runnable. You can call ```.schema()``` on it to obtain a JSONSchema representation."
   ],
   "metadata": {
    "collapsed": false
   },
   "id": "54e82e6988129f79"
  },
  {
   "cell_type": "markdown",
   "source": [
    "##### Chain Schema (Output)"
   ],
   "metadata": {
    "collapsed": false
   },
   "id": "c2943ea3de79f621"
  },
  {
   "cell_type": "code",
   "outputs": [
    {
     "data": {
      "text/plain": "{'title': 'ChatOpenAIOutput',\n 'anyOf': [{'$ref': '#/definitions/AIMessage'},\n  {'$ref': '#/definitions/HumanMessage'},\n  {'$ref': '#/definitions/ChatMessage'},\n  {'$ref': '#/definitions/SystemMessage'},\n  {'$ref': '#/definitions/FunctionMessage'},\n  {'$ref': '#/definitions/ToolMessage'}],\n 'definitions': {'AIMessage': {'title': 'AIMessage',\n   'description': 'A Message from an AI.',\n   'type': 'object',\n   'properties': {'content': {'title': 'Content',\n     'anyOf': [{'type': 'string'},\n      {'type': 'array',\n       'items': {'anyOf': [{'type': 'string'}, {'type': 'object'}]}}]},\n    'additional_kwargs': {'title': 'Additional Kwargs', 'type': 'object'},\n    'type': {'title': 'Type',\n     'default': 'ai',\n     'enum': ['ai'],\n     'type': 'string'},\n    'example': {'title': 'Example', 'default': False, 'type': 'boolean'}},\n   'required': ['content']},\n  'HumanMessage': {'title': 'HumanMessage',\n   'description': 'A Message from a human.',\n   'type': 'object',\n   'properties': {'content': {'title': 'Content',\n     'anyOf': [{'type': 'string'},\n      {'type': 'array',\n       'items': {'anyOf': [{'type': 'string'}, {'type': 'object'}]}}]},\n    'additional_kwargs': {'title': 'Additional Kwargs', 'type': 'object'},\n    'type': {'title': 'Type',\n     'default': 'human',\n     'enum': ['human'],\n     'type': 'string'},\n    'example': {'title': 'Example', 'default': False, 'type': 'boolean'}},\n   'required': ['content']},\n  'ChatMessage': {'title': 'ChatMessage',\n   'description': 'A Message that can be assigned an arbitrary speaker (i.e. role).',\n   'type': 'object',\n   'properties': {'content': {'title': 'Content',\n     'anyOf': [{'type': 'string'},\n      {'type': 'array',\n       'items': {'anyOf': [{'type': 'string'}, {'type': 'object'}]}}]},\n    'additional_kwargs': {'title': 'Additional Kwargs', 'type': 'object'},\n    'type': {'title': 'Type',\n     'default': 'chat',\n     'enum': ['chat'],\n     'type': 'string'},\n    'role': {'title': 'Role', 'type': 'string'}},\n   'required': ['content', 'role']},\n  'SystemMessage': {'title': 'SystemMessage',\n   'description': 'A Message for priming AI behavior, usually passed in as the first of a sequence\\nof input messages.',\n   'type': 'object',\n   'properties': {'content': {'title': 'Content',\n     'anyOf': [{'type': 'string'},\n      {'type': 'array',\n       'items': {'anyOf': [{'type': 'string'}, {'type': 'object'}]}}]},\n    'additional_kwargs': {'title': 'Additional Kwargs', 'type': 'object'},\n    'type': {'title': 'Type',\n     'default': 'system',\n     'enum': ['system'],\n     'type': 'string'}},\n   'required': ['content']},\n  'FunctionMessage': {'title': 'FunctionMessage',\n   'description': 'A Message for passing the result of executing a function back to a model.',\n   'type': 'object',\n   'properties': {'content': {'title': 'Content',\n     'anyOf': [{'type': 'string'},\n      {'type': 'array',\n       'items': {'anyOf': [{'type': 'string'}, {'type': 'object'}]}}]},\n    'additional_kwargs': {'title': 'Additional Kwargs', 'type': 'object'},\n    'type': {'title': 'Type',\n     'default': 'function',\n     'enum': ['function'],\n     'type': 'string'},\n    'name': {'title': 'Name', 'type': 'string'}},\n   'required': ['content', 'name']},\n  'ToolMessage': {'title': 'ToolMessage',\n   'description': 'A Message for passing the result of executing a tool back to a model.',\n   'type': 'object',\n   'properties': {'content': {'title': 'Content',\n     'anyOf': [{'type': 'string'},\n      {'type': 'array',\n       'items': {'anyOf': [{'type': 'string'}, {'type': 'object'}]}}]},\n    'additional_kwargs': {'title': 'Additional Kwargs', 'type': 'object'},\n    'type': {'title': 'Type',\n     'default': 'tool',\n     'enum': ['tool'],\n     'type': 'string'},\n    'tool_call_id': {'title': 'Tool Call Id', 'type': 'string'}},\n   'required': ['content', 'tool_call_id']}}}"
     },
     "execution_count": 94,
     "metadata": {},
     "output_type": "execute_result"
    }
   ],
   "source": [
    "# The input schema of the chain is the input schema of its first part, the prompt.\n",
    "chain.output_schema.schema()"
   ],
   "metadata": {
    "collapsed": false,
    "ExecuteTime": {
     "end_time": "2024-01-20T16:13:50.858017900Z",
     "start_time": "2024-01-20T16:13:50.748165700Z"
    }
   },
   "id": "7b4a943c852046e2",
   "execution_count": 94
  },
  {
   "cell_type": "markdown",
   "source": [
    "##### Prompt Schema (Output)"
   ],
   "metadata": {
    "collapsed": false
   },
   "id": "b0357edef6615b8e"
  },
  {
   "cell_type": "code",
   "outputs": [
    {
     "data": {
      "text/plain": "{'title': 'ChatPromptTemplateOutput',\n 'anyOf': [{'$ref': '#/definitions/StringPromptValue'},\n  {'$ref': '#/definitions/ChatPromptValueConcrete'}],\n 'definitions': {'StringPromptValue': {'title': 'StringPromptValue',\n   'description': 'String prompt value.',\n   'type': 'object',\n   'properties': {'text': {'title': 'Text', 'type': 'string'},\n    'type': {'title': 'Type',\n     'default': 'StringPromptValue',\n     'enum': ['StringPromptValue'],\n     'type': 'string'}},\n   'required': ['text']},\n  'AIMessage': {'title': 'AIMessage',\n   'description': 'A Message from an AI.',\n   'type': 'object',\n   'properties': {'content': {'title': 'Content',\n     'anyOf': [{'type': 'string'},\n      {'type': 'array',\n       'items': {'anyOf': [{'type': 'string'}, {'type': 'object'}]}}]},\n    'additional_kwargs': {'title': 'Additional Kwargs', 'type': 'object'},\n    'type': {'title': 'Type',\n     'default': 'ai',\n     'enum': ['ai'],\n     'type': 'string'},\n    'example': {'title': 'Example', 'default': False, 'type': 'boolean'}},\n   'required': ['content']},\n  'HumanMessage': {'title': 'HumanMessage',\n   'description': 'A Message from a human.',\n   'type': 'object',\n   'properties': {'content': {'title': 'Content',\n     'anyOf': [{'type': 'string'},\n      {'type': 'array',\n       'items': {'anyOf': [{'type': 'string'}, {'type': 'object'}]}}]},\n    'additional_kwargs': {'title': 'Additional Kwargs', 'type': 'object'},\n    'type': {'title': 'Type',\n     'default': 'human',\n     'enum': ['human'],\n     'type': 'string'},\n    'example': {'title': 'Example', 'default': False, 'type': 'boolean'}},\n   'required': ['content']},\n  'ChatMessage': {'title': 'ChatMessage',\n   'description': 'A Message that can be assigned an arbitrary speaker (i.e. role).',\n   'type': 'object',\n   'properties': {'content': {'title': 'Content',\n     'anyOf': [{'type': 'string'},\n      {'type': 'array',\n       'items': {'anyOf': [{'type': 'string'}, {'type': 'object'}]}}]},\n    'additional_kwargs': {'title': 'Additional Kwargs', 'type': 'object'},\n    'type': {'title': 'Type',\n     'default': 'chat',\n     'enum': ['chat'],\n     'type': 'string'},\n    'role': {'title': 'Role', 'type': 'string'}},\n   'required': ['content', 'role']},\n  'SystemMessage': {'title': 'SystemMessage',\n   'description': 'A Message for priming AI behavior, usually passed in as the first of a sequence\\nof input messages.',\n   'type': 'object',\n   'properties': {'content': {'title': 'Content',\n     'anyOf': [{'type': 'string'},\n      {'type': 'array',\n       'items': {'anyOf': [{'type': 'string'}, {'type': 'object'}]}}]},\n    'additional_kwargs': {'title': 'Additional Kwargs', 'type': 'object'},\n    'type': {'title': 'Type',\n     'default': 'system',\n     'enum': ['system'],\n     'type': 'string'}},\n   'required': ['content']},\n  'FunctionMessage': {'title': 'FunctionMessage',\n   'description': 'A Message for passing the result of executing a function back to a model.',\n   'type': 'object',\n   'properties': {'content': {'title': 'Content',\n     'anyOf': [{'type': 'string'},\n      {'type': 'array',\n       'items': {'anyOf': [{'type': 'string'}, {'type': 'object'}]}}]},\n    'additional_kwargs': {'title': 'Additional Kwargs', 'type': 'object'},\n    'type': {'title': 'Type',\n     'default': 'function',\n     'enum': ['function'],\n     'type': 'string'},\n    'name': {'title': 'Name', 'type': 'string'}},\n   'required': ['content', 'name']},\n  'ToolMessage': {'title': 'ToolMessage',\n   'description': 'A Message for passing the result of executing a tool back to a model.',\n   'type': 'object',\n   'properties': {'content': {'title': 'Content',\n     'anyOf': [{'type': 'string'},\n      {'type': 'array',\n       'items': {'anyOf': [{'type': 'string'}, {'type': 'object'}]}}]},\n    'additional_kwargs': {'title': 'Additional Kwargs', 'type': 'object'},\n    'type': {'title': 'Type',\n     'default': 'tool',\n     'enum': ['tool'],\n     'type': 'string'},\n    'tool_call_id': {'title': 'Tool Call Id', 'type': 'string'}},\n   'required': ['content', 'tool_call_id']},\n  'ChatPromptValueConcrete': {'title': 'ChatPromptValueConcrete',\n   'description': 'Chat prompt value which explicitly lists out the message types it accepts.\\nFor use in external schemas.',\n   'type': 'object',\n   'properties': {'messages': {'title': 'Messages',\n     'type': 'array',\n     'items': {'anyOf': [{'$ref': '#/definitions/AIMessage'},\n       {'$ref': '#/definitions/HumanMessage'},\n       {'$ref': '#/definitions/ChatMessage'},\n       {'$ref': '#/definitions/SystemMessage'},\n       {'$ref': '#/definitions/FunctionMessage'},\n       {'$ref': '#/definitions/ToolMessage'}]}},\n    'type': {'title': 'Type',\n     'default': 'ChatPromptValueConcrete',\n     'enum': ['ChatPromptValueConcrete'],\n     'type': 'string'}},\n   'required': ['messages']}}}"
     },
     "execution_count": 95,
     "metadata": {},
     "output_type": "execute_result"
    }
   ],
   "source": [
    "prompt.output_schema.schema()"
   ],
   "metadata": {
    "collapsed": false,
    "ExecuteTime": {
     "end_time": "2024-01-20T16:13:50.858017900Z",
     "start_time": "2024-01-20T16:13:50.757567100Z"
    }
   },
   "id": "24b589c815d83cd4",
   "execution_count": 95
  },
  {
   "cell_type": "markdown",
   "source": [
    "##### Model Schema (Output)"
   ],
   "metadata": {
    "collapsed": false
   },
   "id": "bd8e25b828d293f8"
  },
  {
   "cell_type": "code",
   "outputs": [
    {
     "data": {
      "text/plain": "{'title': 'ChatOpenAIOutput',\n 'anyOf': [{'$ref': '#/definitions/AIMessage'},\n  {'$ref': '#/definitions/HumanMessage'},\n  {'$ref': '#/definitions/ChatMessage'},\n  {'$ref': '#/definitions/SystemMessage'},\n  {'$ref': '#/definitions/FunctionMessage'},\n  {'$ref': '#/definitions/ToolMessage'}],\n 'definitions': {'AIMessage': {'title': 'AIMessage',\n   'description': 'A Message from an AI.',\n   'type': 'object',\n   'properties': {'content': {'title': 'Content',\n     'anyOf': [{'type': 'string'},\n      {'type': 'array',\n       'items': {'anyOf': [{'type': 'string'}, {'type': 'object'}]}}]},\n    'additional_kwargs': {'title': 'Additional Kwargs', 'type': 'object'},\n    'type': {'title': 'Type',\n     'default': 'ai',\n     'enum': ['ai'],\n     'type': 'string'},\n    'example': {'title': 'Example', 'default': False, 'type': 'boolean'}},\n   'required': ['content']},\n  'HumanMessage': {'title': 'HumanMessage',\n   'description': 'A Message from a human.',\n   'type': 'object',\n   'properties': {'content': {'title': 'Content',\n     'anyOf': [{'type': 'string'},\n      {'type': 'array',\n       'items': {'anyOf': [{'type': 'string'}, {'type': 'object'}]}}]},\n    'additional_kwargs': {'title': 'Additional Kwargs', 'type': 'object'},\n    'type': {'title': 'Type',\n     'default': 'human',\n     'enum': ['human'],\n     'type': 'string'},\n    'example': {'title': 'Example', 'default': False, 'type': 'boolean'}},\n   'required': ['content']},\n  'ChatMessage': {'title': 'ChatMessage',\n   'description': 'A Message that can be assigned an arbitrary speaker (i.e. role).',\n   'type': 'object',\n   'properties': {'content': {'title': 'Content',\n     'anyOf': [{'type': 'string'},\n      {'type': 'array',\n       'items': {'anyOf': [{'type': 'string'}, {'type': 'object'}]}}]},\n    'additional_kwargs': {'title': 'Additional Kwargs', 'type': 'object'},\n    'type': {'title': 'Type',\n     'default': 'chat',\n     'enum': ['chat'],\n     'type': 'string'},\n    'role': {'title': 'Role', 'type': 'string'}},\n   'required': ['content', 'role']},\n  'SystemMessage': {'title': 'SystemMessage',\n   'description': 'A Message for priming AI behavior, usually passed in as the first of a sequence\\nof input messages.',\n   'type': 'object',\n   'properties': {'content': {'title': 'Content',\n     'anyOf': [{'type': 'string'},\n      {'type': 'array',\n       'items': {'anyOf': [{'type': 'string'}, {'type': 'object'}]}}]},\n    'additional_kwargs': {'title': 'Additional Kwargs', 'type': 'object'},\n    'type': {'title': 'Type',\n     'default': 'system',\n     'enum': ['system'],\n     'type': 'string'}},\n   'required': ['content']},\n  'FunctionMessage': {'title': 'FunctionMessage',\n   'description': 'A Message for passing the result of executing a function back to a model.',\n   'type': 'object',\n   'properties': {'content': {'title': 'Content',\n     'anyOf': [{'type': 'string'},\n      {'type': 'array',\n       'items': {'anyOf': [{'type': 'string'}, {'type': 'object'}]}}]},\n    'additional_kwargs': {'title': 'Additional Kwargs', 'type': 'object'},\n    'type': {'title': 'Type',\n     'default': 'function',\n     'enum': ['function'],\n     'type': 'string'},\n    'name': {'title': 'Name', 'type': 'string'}},\n   'required': ['content', 'name']},\n  'ToolMessage': {'title': 'ToolMessage',\n   'description': 'A Message for passing the result of executing a tool back to a model.',\n   'type': 'object',\n   'properties': {'content': {'title': 'Content',\n     'anyOf': [{'type': 'string'},\n      {'type': 'array',\n       'items': {'anyOf': [{'type': 'string'}, {'type': 'object'}]}}]},\n    'additional_kwargs': {'title': 'Additional Kwargs', 'type': 'object'},\n    'type': {'title': 'Type',\n     'default': 'tool',\n     'enum': ['tool'],\n     'type': 'string'},\n    'tool_call_id': {'title': 'Tool Call Id', 'type': 'string'}},\n   'required': ['content', 'tool_call_id']}}}"
     },
     "execution_count": 96,
     "metadata": {},
     "output_type": "execute_result"
    }
   ],
   "source": [
    "model.output_schema.schema()"
   ],
   "metadata": {
    "collapsed": false,
    "ExecuteTime": {
     "end_time": "2024-01-20T16:13:50.860011100Z",
     "start_time": "2024-01-20T16:13:50.767201700Z"
    }
   },
   "id": "150e29d0591f6e83",
   "execution_count": 96
  },
  {
   "cell_type": "markdown",
   "source": [
    "[Project Map](#project-map)\n",
    "\n",
    "---"
   ],
   "metadata": {
    "collapsed": false
   },
   "id": "6c0600dbf5e1f663"
  },
  {
   "cell_type": "markdown",
   "source": [
    "### Batch"
   ],
   "metadata": {
    "collapsed": false
   },
   "id": "a1cd80405f19d357"
  },
  {
   "cell_type": "markdown",
   "source": [
    "Batch Base code Line"
   ],
   "metadata": {
    "collapsed": false
   },
   "id": "6142af9c7167554c"
  },
  {
   "cell_type": "code",
   "outputs": [
    {
     "data": {
      "text/plain": "[AIMessage(content=\"Why don't bears wear shoes?\\n\\nBecause they have bear feet!\"),\n AIMessage(content=\"Sure, here's a cat joke for you:\\n\\nWhy was the cat sitting on the computer?\\n\\nBecause it wanted to keep an eye on the mouse!\")]"
     },
     "execution_count": 97,
     "metadata": {},
     "output_type": "execute_result"
    }
   ],
   "source": [
    "chain.batch([{\"topic\": \"bears\"}, {\"topic\": \"cats\"}])"
   ],
   "metadata": {
    "collapsed": false,
    "ExecuteTime": {
     "end_time": "2024-01-20T16:13:52.917264600Z",
     "start_time": "2024-01-20T16:13:50.780020200Z"
    }
   },
   "id": "ad7af2bca474fd5d",
   "execution_count": 97
  },
  {
   "cell_type": "markdown",
   "source": [
    "You can set the number of concurrent requests by using the ```max_concurrency``` parameter ( Max of time that the request can be made to the LLM API server, i.e, if the LLM server does not respond after 'max_concurrency' attends the request will stop )"
   ],
   "metadata": {
    "collapsed": false
   },
   "id": "c4f1547cff570c5b"
  },
  {
   "cell_type": "code",
   "outputs": [
    {
     "data": {
      "text/plain": "[AIMessage(content=\"Why don't bears wear shoes?\\n\\nBecause they have bear feet!\"),\n AIMessage(content=\"Sure, here's a cat joke for you:\\n\\nWhy don't cats play poker in the wild?\\n\\nToo many cheetahs!\")]"
     },
     "execution_count": 98,
     "metadata": {},
     "output_type": "execute_result"
    }
   ],
   "source": [
    "chain.batch([{\"topic\": \"bears\"}, {\"topic\": \"cats\"}], config={\"max_concurrency\": 5})"
   ],
   "metadata": {
    "collapsed": false,
    "ExecuteTime": {
     "end_time": "2024-01-20T16:13:54.816286800Z",
     "start_time": "2024-01-20T16:13:52.907274500Z"
    }
   },
   "id": "1ecc140aaf9f956f",
   "execution_count": 98
  },
  {
   "cell_type": "markdown",
   "source": [
    "[Project Map](#project-map)\n",
    "\n",
    "---"
   ],
   "metadata": {
    "collapsed": false
   },
   "id": "d314b02c85b1ffeb"
  },
  {
   "cell_type": "markdown",
   "source": [
    "### Async"
   ],
   "metadata": {
    "collapsed": false
   },
   "id": "f8912a0a4112413d"
  },
  {
   "cell_type": "markdown",
   "source": [
    "##### Async Stream"
   ],
   "metadata": {
    "collapsed": false
   },
   "id": "5743242a5d2a6cf4"
  },
  {
   "cell_type": "code",
   "outputs": [
    {
     "name": "stdout",
     "output_type": "stream",
     "text": [
      "Why don't bears wear shoes?\n",
      "\n",
      "Because they have bear feet!"
     ]
    }
   ],
   "source": [
    "async for s in chain.astream({\"topic\": \"bears\"}):\n",
    "    print(s.content, end=\"\", flush=True)"
   ],
   "metadata": {
    "collapsed": false,
    "ExecuteTime": {
     "end_time": "2024-01-20T16:13:55.906435700Z",
     "start_time": "2024-01-20T16:13:54.806304900Z"
    }
   },
   "id": "8dfc107f73461c1d",
   "execution_count": 99
  },
  {
   "cell_type": "markdown",
   "source": [
    "##### Async Invoke"
   ],
   "metadata": {
    "collapsed": false
   },
   "id": "8ce944d400833cef"
  },
  {
   "cell_type": "code",
   "outputs": [
    {
     "data": {
      "text/plain": "AIMessage(content=\"Why don't bears ever wear shoes?\\n\\nBecause they have bear feet!\")"
     },
     "execution_count": 100,
     "metadata": {},
     "output_type": "execute_result"
    }
   ],
   "source": [
    "await chain.ainvoke({\"topic\": \"bears\"})"
   ],
   "metadata": {
    "collapsed": false,
    "ExecuteTime": {
     "end_time": "2024-01-20T16:13:56.956183600Z",
     "start_time": "2024-01-20T16:13:55.899949300Z"
    }
   },
   "id": "6f93f16ed46b5f7f",
   "execution_count": 100
  },
  {
   "cell_type": "markdown",
   "source": [
    "##### Async Batch"
   ],
   "metadata": {
    "collapsed": false
   },
   "id": "e3414c6b7e5ac7d8"
  },
  {
   "cell_type": "code",
   "outputs": [
    {
     "data": {
      "text/plain": "[AIMessage(content=\"Why don't bears wear shoes?\\n\\nBecause they have bear feet!\")]"
     },
     "execution_count": 101,
     "metadata": {},
     "output_type": "execute_result"
    }
   ],
   "source": [
    "await chain.abatch([{\"topic\": \"bears\"}])"
   ],
   "metadata": {
    "collapsed": false,
    "ExecuteTime": {
     "end_time": "2024-01-20T16:13:58.153069400Z",
     "start_time": "2024-01-20T16:13:56.942698Z"
    }
   },
   "id": "a0f9b203a78b4e62",
   "execution_count": 101
  },
  {
   "cell_type": "markdown",
   "source": [
    "[Project Map](#project-map)\n",
    "\n",
    "---"
   ],
   "metadata": {
    "collapsed": false
   },
   "id": "559b811ecec256d3"
  },
  {
   "cell_type": "markdown",
   "source": [
    "### Parallelism\n",
    "Let’s take a look at how LangChain Expression Language supports parallel requests. For example, when using a RunnableParallel (often written as a dictionary) it executes each element in parallel."
   ],
   "metadata": {
    "collapsed": false
   },
   "id": "93a21e8cd78fb97f"
  },
  {
   "cell_type": "code",
   "outputs": [],
   "source": [
    "from langchain_core.runnables import RunnableParallel\n",
    "\n",
    "chain1 = ChatPromptTemplate.from_template(\"tell me a joke about {topic}\") | model\n",
    "chain2 = (\n",
    "    ChatPromptTemplate.from_template(\"write a short (2 line) poem about {topic}\")\n",
    "    | model\n",
    ")\n",
    "combined = RunnableParallel(joke=chain1, poem=chain2)"
   ],
   "metadata": {
    "collapsed": false,
    "ExecuteTime": {
     "end_time": "2024-01-20T16:13:58.153069400Z",
     "start_time": "2024-01-20T16:13:58.137600700Z"
    }
   },
   "id": "1f7169d43994e5ca",
   "execution_count": 102
  },
  {
   "cell_type": "markdown",
   "source": [
    "##### Chains NOT ran in parallel"
   ],
   "metadata": {
    "collapsed": false
   },
   "id": "fd939d256cf8bcc0"
  },
  {
   "cell_type": "code",
   "outputs": [
    {
     "name": "stdout",
     "output_type": "stream",
     "text": [
      "CPU times: total: 0 ns\n",
      "Wall time: 1.23 s\n"
     ]
    },
    {
     "data": {
      "text/plain": "AIMessage(content=\"Why don't bears like fast food?\\n\\nBecause they can't catch it!\")"
     },
     "execution_count": 103,
     "metadata": {},
     "output_type": "execute_result"
    }
   ],
   "source": [
    "%%time\n",
    "chain1.invoke({\"topic\": \"bears\"})"
   ],
   "metadata": {
    "collapsed": false,
    "ExecuteTime": {
     "end_time": "2024-01-20T16:13:59.394233400Z",
     "start_time": "2024-01-20T16:13:58.140595100Z"
    }
   },
   "id": "520e6de286c0f260",
   "execution_count": 103
  },
  {
   "cell_type": "code",
   "outputs": [
    {
     "name": "stdout",
     "output_type": "stream",
     "text": [
      "CPU times: total: 0 ns\n",
      "Wall time: 1.22 s\n"
     ]
    },
    {
     "data": {
      "text/plain": "AIMessage(content=\"In the wild's embrace,\\nGentle giants leave no trace.\")"
     },
     "execution_count": 104,
     "metadata": {},
     "output_type": "execute_result"
    }
   ],
   "source": [
    "%%time\n",
    "chain2.invoke({\"topic\": \"bears\"})"
   ],
   "metadata": {
    "collapsed": false,
    "ExecuteTime": {
     "end_time": "2024-01-20T16:14:00.601264200Z",
     "start_time": "2024-01-20T16:13:59.384008400Z"
    }
   },
   "id": "3da5aa2598bfff2a",
   "execution_count": 104
  },
  {
   "cell_type": "markdown",
   "source": [
    "##### Chains ran in parallel"
   ],
   "metadata": {
    "collapsed": false
   },
   "id": "2a75e3934252caad"
  },
  {
   "cell_type": "code",
   "outputs": [
    {
     "name": "stdout",
     "output_type": "stream",
     "text": [
      "CPU times: total: 0 ns\n",
      "Wall time: 1.28 s\n"
     ]
    },
    {
     "data": {
      "text/plain": "{'joke': AIMessage(content=\"Why don't bears wear shoes?\\n\\nBecause they have bear feet!\"),\n 'poem': AIMessage(content=\"Gentle giants roam,\\nNature's strength, grace, and home.\")}"
     },
     "execution_count": 105,
     "metadata": {},
     "output_type": "execute_result"
    }
   ],
   "source": [
    "%%time\n",
    "combined.invoke({\"topic\": \"bears\"})"
   ],
   "metadata": {
    "collapsed": false,
    "ExecuteTime": {
     "end_time": "2024-01-20T16:14:01.884734400Z",
     "start_time": "2024-01-20T16:14:00.602765600Z"
    }
   },
   "id": "eebdcdfd64c6ba7a",
   "execution_count": 105
  },
  {
   "cell_type": "markdown",
   "source": [
    "[Project Map](#project-map)\n",
    "\n",
    "---"
   ],
   "metadata": {
    "collapsed": false
   },
   "id": "940033d192a822f0"
  },
  {
   "cell_type": "markdown",
   "source": [
    "### Parallelism on batches\n",
    "Parallelism can be combined with other runnables. Let’s try to use parallelism with batches."
   ],
   "metadata": {
    "collapsed": false
   },
   "id": "d64ed1cee8ad1b4f"
  },
  {
   "cell_type": "markdown",
   "source": [
    "##### Batches NOT ran in parallel"
   ],
   "metadata": {
    "collapsed": false
   },
   "id": "edc9d8eed00afb27"
  },
  {
   "cell_type": "code",
   "outputs": [
    {
     "name": "stdout",
     "output_type": "stream",
     "text": [
      "CPU times: total: 0 ns\n",
      "Wall time: 1.39 s\n"
     ]
    },
    {
     "data": {
      "text/plain": "[AIMessage(content=\"Why don't bears wear shoes?\\n\\nBecause they have bear feet!\"),\n AIMessage(content='Why was the cat sitting on the computer?\\n\\nBecause it wanted to keep an eye on the mouse!')]"
     },
     "execution_count": 106,
     "metadata": {},
     "output_type": "execute_result"
    }
   ],
   "source": [
    "%%time\n",
    "chain1.batch([{\"topic\": \"bears\"}, {\"topic\": \"cats\"}])"
   ],
   "metadata": {
    "collapsed": false,
    "ExecuteTime": {
     "end_time": "2024-01-20T16:14:03.283007400Z",
     "start_time": "2024-01-20T16:14:01.885732700Z"
    }
   },
   "id": "8f26f716f0618fdd",
   "execution_count": 106
  },
  {
   "cell_type": "code",
   "outputs": [
    {
     "name": "stdout",
     "output_type": "stream",
     "text": [
      "CPU times: total: 0 ns\n",
      "Wall time: 1.6 s\n"
     ]
    },
    {
     "data": {
      "text/plain": "[AIMessage(content=\"In forest's embrace,\\nMajestic bears find solace and grace.\"),\n AIMessage(content=\"Whiskers dance, soft paws roam,\\nMysterious grace, a feline's home.\")]"
     },
     "execution_count": 107,
     "metadata": {},
     "output_type": "execute_result"
    }
   ],
   "source": [
    "%%time\n",
    "chain2.batch([{\"topic\": \"bears\"}, {\"topic\": \"cats\"}])"
   ],
   "metadata": {
    "collapsed": false,
    "ExecuteTime": {
     "end_time": "2024-01-20T16:14:04.901455200Z",
     "start_time": "2024-01-20T16:14:03.283007400Z"
    }
   },
   "id": "8f231ea2be0f3af7",
   "execution_count": 107
  },
  {
   "cell_type": "markdown",
   "source": [
    "##### Batches ran in parallel"
   ],
   "metadata": {
    "collapsed": false
   },
   "id": "793b4d0f00be8556"
  },
  {
   "cell_type": "code",
   "outputs": [
    {
     "name": "stdout",
     "output_type": "stream",
     "text": [
      "CPU times: total: 0 ns\n",
      "Wall time: 1.5 s\n"
     ]
    },
    {
     "data": {
      "text/plain": "[{'joke': AIMessage(content=\"Why don't bears wear shoes?\\n\\nBecause they have bear feet!\"),\n  'poem': AIMessage(content='In forests they roam,\\nMajestic bears find their home.')},\n {'joke': AIMessage(content=\"Why don't cats play poker in the wild?\\n\\nToo many cheetahs!\"),\n  'poem': AIMessage(content='Whiskers dance with grace,\\nPurring hearts in a feline embrace.')}]"
     },
     "execution_count": 108,
     "metadata": {},
     "output_type": "execute_result"
    }
   ],
   "source": [
    "%%time\n",
    "combined.batch([{\"topic\": \"bears\"}, {\"topic\": \"cats\"}])"
   ],
   "metadata": {
    "collapsed": false,
    "ExecuteTime": {
     "end_time": "2024-01-20T16:14:06.398553400Z",
     "start_time": "2024-01-20T16:14:04.892976600Z"
    }
   },
   "id": "8acad94c9ff7a93a",
   "execution_count": 108
  }
 ],
 "metadata": {
  "kernelspec": {
   "display_name": "Python 3",
   "language": "python",
   "name": "python3"
  },
  "language_info": {
   "codemirror_mode": {
    "name": "ipython",
    "version": 2
   },
   "file_extension": ".py",
   "mimetype": "text/x-python",
   "name": "python",
   "nbconvert_exporter": "python",
   "pygments_lexer": "ipython2",
   "version": "2.7.6"
  }
 },
 "nbformat": 4,
 "nbformat_minor": 5
}
